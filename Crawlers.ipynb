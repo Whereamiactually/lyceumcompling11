{
  "nbformat": 4,
  "nbformat_minor": 0,
  "metadata": {
    "colab": {
      "provenance": [],
      "include_colab_link": true
    },
    "kernelspec": {
      "name": "python3",
      "display_name": "Python 3"
    },
    "language_info": {
      "name": "python"
    }
  },
  "cells": [
    {
      "cell_type": "markdown",
      "metadata": {
        "id": "view-in-github",
        "colab_type": "text"
      },
      "source": [
        "<a href=\"https://colab.research.google.com/github/Whereamiactually/lyceumcompling11/blob/main/Crawlers.ipynb\" target=\"_parent\"><img src=\"https://colab.research.google.com/assets/colab-badge.svg\" alt=\"Open In Colab\"/></a>"
      ]
    },
    {
      "cell_type": "markdown",
      "source": [
        "# Обкачивание интернета\n",
        "(Основано на тетрадке Тани Казаковой.)\n",
        "\n",
        "Сегодня мы немного посмотрим на модуль [requests](https://realpython.com/python-requests/), который позволят выгружать .html странички с просторов Интернета.\n",
        "\n",
        "Конечно, есть специальный [учебник](https://www.w3schools.com). Там не только про работу с .html, но ещё есть и про многие другие базовые вещи.\n"
      ],
      "metadata": {
        "id": "fYywIr2Z_AX6"
      }
    },
    {
      "cell_type": "code",
      "execution_count": 1,
      "metadata": {
        "id": "uOwpwZplC97N"
      },
      "outputs": [],
      "source": [
        "import requests"
      ]
    },
    {
      "cell_type": "code",
      "source": [
        "response = requests.get(\"https://www.moscowzoo.ru/about-zoo/news/novosti-zooparka/v-moskovskom-zooparke-poselilis-marabu/\", verify = False)"
      ],
      "metadata": {
        "id": "Ktnhb0JpKfzJ"
      },
      "execution_count": null,
      "outputs": []
    },
    {
      "cell_type": "markdown",
      "source": [
        "В `response` теперь лежит ответ сервера. В нем не просто содержится html-код страницы, но еще и информация о том, как все прошло."
      ],
      "metadata": {
        "id": "U-IkRMH6__Px"
      }
    },
    {
      "cell_type": "code",
      "source": [
        "response"
      ],
      "metadata": {
        "id": "s-4_rqv2Kkyw"
      },
      "execution_count": null,
      "outputs": []
    },
    {
      "cell_type": "markdown",
      "source": [
        "Вот список возможных кодов с их приблизительными значениями:\n",
        "\n",
        "* 1XX — информация,\n",
        "* 2XX — успешно,\n",
        "* 3XX — перенаправление,\n",
        "* 4XX — ошибка клиента (ошибка на вашей стороне),\n",
        "* 5XX — ошибка сервера (ошибка на их стороне)."
      ],
      "metadata": {
        "id": "ZQBVhl83Uhhz"
      }
    },
    {
      "cell_type": "code",
      "source": [
        "response.status_code"
      ],
      "metadata": {
        "id": "_QV-ZP7JK4Hw"
      },
      "execution_count": null,
      "outputs": []
    },
    {
      "cell_type": "markdown",
      "source": [
        "Можем попросить выдать заголовки, где содержится техническая информация о нашем запросе и о содержании страницы.\n",
        "\n",
        "Обычно требуется заголовок Content-Type, поскольку он показывает формат данных, например HTML, JSON, PDF, обычный текст и т. д."
      ],
      "metadata": {
        "id": "tP8AQ0liVUCd"
      }
    },
    {
      "cell_type": "code",
      "source": [
        "response.headers"
      ],
      "metadata": {
        "colab": {
          "base_uri": "https://localhost:8080/"
        },
        "id": "4iLImkitVDl4",
        "outputId": "02e94eb4-a8c5-4b26-ef45-147d1ab11b68"
      },
      "execution_count": 5,
      "outputs": [
        {
          "output_type": "execute_result",
          "data": {
            "text/plain": [
              "{'Server': 'nginx/1.24.0', 'Date': 'Fri, 27 Oct 2023 08:40:27 GMT', 'Content-Type': 'text/html; charset=UTF-8', 'Transfer-Encoding': 'chunked', 'Connection': 'keep-alive', 'Vary': 'Accept-Encoding', 'P3P': 'policyref=\"/bitrix/p3p.xml\", CP=\"NON DSP COR CUR ADM DEV PSA PSD OUR UNR BUS UNI COM NAV INT DEM STA\"', 'X-Powered-CMS': 'Bitrix Site Manager (fbee37191be309d4ddfe59f62a792d4f)', 'Set-Cookie': 'PHPSESSID=9e42e02975db56f2bcc1673695f9ae2c; path=/; HttpOnly', 'Expires': 'Thu, 19 Nov 1981 08:52:00 GMT', 'Cache-Control': 'no-store, no-cache, must-revalidate', 'Pragma': 'no-cache', 'Content-Encoding': 'gzip'}"
            ]
          },
          "metadata": {},
          "execution_count": 5
        }
      ]
    },
    {
      "cell_type": "code",
      "source": [
        "# выводим html-код страницы\n",
        "print(response.text)"
      ],
      "metadata": {
        "id": "DQy6dsT_K4tx"
      },
      "execution_count": null,
      "outputs": []
    },
    {
      "cell_type": "markdown",
      "source": [
        "Если сайт защищается от краулеров на Python'e, можно представиться законным браузером, например, Мозиллой."
      ],
      "metadata": {
        "id": "QjVXYZO8BL7a"
      }
    },
    {
      "cell_type": "code",
      "source": [
        "url = 'https://www.moscowzoo.ru/about-zoo/news/novosti-zooparka/v-moskovskom-zooparke-poselilis-marabu/'  # адрес страницы, которую мы хотим скачать\n",
        "user_agent = 'Mozilla/5.0 (Windows NT 6.1; Win64; x64)'  # хотим притворяться браузером\n",
        "\n",
        "response = requests.get(url, headers = {'User-Agent': user_agent}, verify = False)"
      ],
      "metadata": {
        "id": "gWMd6GBrK_UB"
      },
      "execution_count": null,
      "outputs": []
    },
    {
      "cell_type": "markdown",
      "source": [
        "Или использовать специальную библиотеку."
      ],
      "metadata": {
        "id": "VNdvicGoBYol"
      }
    },
    {
      "cell_type": "code",
      "source": [
        "!pip install fake-useragent"
      ],
      "metadata": {
        "id": "WZib0tqxMigz"
      },
      "execution_count": null,
      "outputs": []
    },
    {
      "cell_type": "code",
      "source": [
        "from fake_useragent import UserAgent"
      ],
      "metadata": {
        "id": "GLd99b4pLCfD"
      },
      "execution_count": 8,
      "outputs": []
    },
    {
      "cell_type": "code",
      "source": [
        "user_agent = UserAgent().chrome # хотим притворяться браузером\n",
        "user_agent"
      ],
      "metadata": {
        "id": "5bibnHRjLEfC"
      },
      "execution_count": null,
      "outputs": []
    },
    {
      "cell_type": "code",
      "source": [
        "response = requests.get(\"https://www.moscowzoo.ru/about-zoo/news/novosti-zooparka/v-moskovskom-zooparke-poselilis-marabu/\",\n",
        "                        headers={'User-Agent': user_agent},\n",
        "                        verify = False)"
      ],
      "metadata": {
        "id": "FBB20VwfLG19"
      },
      "execution_count": null,
      "outputs": []
    },
    {
      "cell_type": "markdown",
      "source": [
        "Также `response` содержит ссылку, по которой мы получили данные. Если наш запрос был перенаправлен с одного сайта на другой, то ссылки в запросе и в выдаче будут отличаться."
      ],
      "metadata": {
        "id": "DMtOj8QZeZjk"
      }
    },
    {
      "cell_type": "code",
      "source": [
        "response.url"
      ],
      "metadata": {
        "id": "r9WjpAVTLRBq"
      },
      "execution_count": null,
      "outputs": []
    },
    {
      "cell_type": "markdown",
      "source": [
        "Чтобы достать что-то из определенного тега (например, заголовок), можно использовать специальные библиотеки Python'a, например, **BeautifulSoup** или **lxml**.\n"
      ],
      "metadata": {
        "id": "u0eOPE4kLVY-"
      }
    },
    {
      "cell_type": "code",
      "source": [
        "pip install bs4"
      ],
      "metadata": {
        "id": "0yGhcpQ5fobf"
      },
      "execution_count": null,
      "outputs": []
    },
    {
      "cell_type": "code",
      "source": [
        "from bs4 import BeautifulSoup"
      ],
      "metadata": {
        "id": "Plyfqjj6LbUu"
      },
      "execution_count": 16,
      "outputs": []
    },
    {
      "cell_type": "markdown",
      "source": [
        "Вначале нам нужно создать суп из полученного html-кода страницы."
      ],
      "metadata": {
        "id": "05NNqAsCf_tw"
      }
    },
    {
      "cell_type": "code",
      "source": [
        "soup = BeautifulSoup(response.text, 'html.parser') # надо прописать парсер\n",
        "print(soup.prettify())  # печатаем приукрашенный суп"
      ],
      "metadata": {
        "id": "X0KZwMnlLb_P"
      },
      "execution_count": null,
      "outputs": []
    },
    {
      "cell_type": "markdown",
      "source": [
        "По виду этот суп почти не отличается от того, что мы видели до этого. Но теперь мы можем искать напрямую по названию тегов то, что нам нужно.\n",
        "\n",
        "Например, если мы хотим вывести заголовок, нужно посмотреть, какими тегами он оформляется. На сайте Московского зоопарка заголовки лежат внутри тегов `cp-banner`. Так и найдем."
      ],
      "metadata": {
        "id": "I_aRES2gkKKv"
      }
    },
    {
      "cell_type": "code",
      "source": [
        "name = soup.find('cp-banner')\n",
        "print(name.prettify())"
      ],
      "metadata": {
        "id": "i6pUDHujDjy8"
      },
      "execution_count": null,
      "outputs": []
    },
    {
      "cell_type": "markdown",
      "source": [
        "А внутри этого раздела текст заголовка лежит внутри первого тега `template`."
      ],
      "metadata": {
        "id": "AyIWW4_fqhNU"
      }
    },
    {
      "cell_type": "code",
      "source": [
        "name2 = name.find('template')\n",
        "print(name2.prettify())"
      ],
      "metadata": {
        "id": "YMDCapPOFK_2"
      },
      "execution_count": null,
      "outputs": []
    },
    {
      "cell_type": "markdown",
      "source": [
        "Нас интересует только текст, поэтому используем `get_text`."
      ],
      "metadata": {
        "id": "NN5ADB3Oq3fK"
      }
    },
    {
      "cell_type": "code",
      "source": [
        "print(name2.get_text())"
      ],
      "metadata": {
        "id": "F17TqugpFW6N"
      },
      "execution_count": null,
      "outputs": []
    },
    {
      "cell_type": "markdown",
      "source": [
        "Если бы мы изначально искали по `template`, так бы не сработало, потому что такой тег есть еще в некоторых местах. То есть вначале нам нужно однозначно определить теги, которые соответствуют **только** заголовкам.\n",
        "\n",
        "Но можно ту же самую операцию выполнить и за одну строку года. Следующий код ищет теги `template` только внутри тегов `cp-banner`."
      ],
      "metadata": {
        "id": "m3PunNcLyUif"
      }
    },
    {
      "cell_type": "code",
      "source": [
        "soup.select('cp-banner > template')"
      ],
      "metadata": {
        "colab": {
          "base_uri": "https://localhost:8080/"
        },
        "id": "rhljFiwGzEn_",
        "outputId": "8f991a4a-3b09-412b-f2bc-bfb08cbf6c91"
      },
      "execution_count": 24,
      "outputs": [
        {
          "output_type": "execute_result",
          "data": {
            "text/plain": [
              "[<template #title=\"\">В Московском зоопарке поселились марабу</template>,\n",
              " <template #description=\"\"></template>]"
            ]
          },
          "metadata": {},
          "execution_count": 24
        }
      ]
    },
    {
      "cell_type": "code",
      "source": [
        "# заголовок находится в первом из найденных тегов,\n",
        "# поэтому мы можем его вывести\n",
        "print(soup.select('cp-banner > template')[0])\n",
        "\n",
        "# также мы можем вывести его содержание\n",
        "print('Содержание тега:')\n",
        "print(soup.select('cp-banner > template')[0].get_text())"
      ],
      "metadata": {
        "colab": {
          "base_uri": "https://localhost:8080/"
        },
        "id": "Cm2ecie42AS5",
        "outputId": "811df9ed-6ac3-47c8-b3f3-aedb61776b61"
      },
      "execution_count": null,
      "outputs": [
        {
          "output_type": "stream",
          "name": "stdout",
          "text": [
            "<template #title=\"\">ПЕРВЫЙ В РОССИИ ДЕТЕНЫШ БОЛЬШОЙ ПАНДЫ</template>\n",
            "Содержание тега:\n",
            "ПЕРВЫЙ В РОССИИ ДЕТЕНЫШ БОЛЬШОЙ ПАНДЫ\n"
          ]
        }
      ]
    },
    {
      "cell_type": "markdown",
      "source": [
        "А теперь найдём текст новости.\n",
        "\n",
        "В каком теге он лежит?\n",
        "\n",
        "Он лежит в теге `<div class=\"dp-content-inner\" style=\"color:#fff;\">`\n",
        "\n",
        "Так как тегов `div` очень много, то нам нужно специфицировать атрибуты, по которым мы сможем однозначно определить местоположения текста новости.\n",
        "\n",
        "А именно: `class: \"dp-content-inner\"`."
      ],
      "metadata": {
        "id": "XEGa2yGZ-nPY"
      }
    },
    {
      "cell_type": "code",
      "source": [
        "post = soup.find('div', {'class':\"dp-content-inner\"})  # вот так можно указать атрибут тега\n",
        "print(post.prettify())"
      ],
      "metadata": {
        "id": "m3jmWqZ2Lmqu"
      },
      "execution_count": null,
      "outputs": []
    },
    {
      "cell_type": "code",
      "source": [
        "text = post.get_text()  # получаем текст\n",
        "print(text)"
      ],
      "metadata": {
        "id": "yqphtp2aGvAa"
      },
      "execution_count": null,
      "outputs": []
    },
    {
      "cell_type": "markdown",
      "source": [
        "Вот здесь можно [посмотреть часть документации BeautifulSoup](https://www.crummy.com/software/BeautifulSoup/bs4/doc.ru/bs4ru.html).\n",
        "\n",
        "Теперь с этим текстом можно делать все то, что мы проходили ранее: искать именованные сущности, проводить морфологический анализ, определять тему текста и пр.\n",
        "\n",
        "И все это мы можем потом вернуть пользователю, если он попросит.\n",
        "\n",
        "Но теперь, одна новость - это, конечно, хорошо, но нам бы хотелось побольше... Как нам это сделать?\n",
        "\n",
        "Можем зайти на сайт и посмотреть его структуру. Также мы можем скачать html-код страницы с новостями."
      ],
      "metadata": {
        "id": "XTkUT9bqG16z"
      }
    },
    {
      "cell_type": "code",
      "source": [
        "response = requests.get(\"https://www.moscowzoo.ru/about-zoo/news/novosti-zooparka/\",\n",
        "                        headers={'User-Agent': user_agent},\n",
        "                        verify = False)"
      ],
      "metadata": {
        "id": "QdHP2AzClLFR"
      },
      "execution_count": null,
      "outputs": []
    },
    {
      "cell_type": "code",
      "source": [
        "soup = BeautifulSoup(response.text, 'html.parser') # надо прописать парсер\n",
        "print(soup.prettify())"
      ],
      "metadata": {
        "id": "wkgX4tLxl0FB"
      },
      "execution_count": null,
      "outputs": []
    },
    {
      "cell_type": "markdown",
      "source": [
        "Так мы можем скачать все, что находится в нужных нам тегах."
      ],
      "metadata": {
        "id": "impT5666nAwl"
      }
    },
    {
      "cell_type": "code",
      "source": [
        "post = soup.find_all('div', {'class':\"article-item\"})\n",
        "print(post)"
      ],
      "metadata": {
        "id": "zQ6VB0ULmU64"
      },
      "execution_count": null,
      "outputs": []
    },
    {
      "cell_type": "markdown",
      "source": [
        "Теперь вытянем из каждой новости ссылку на ее отдельную страницу, аналогичную той, которую мы уже видели.\n",
        "\n",
        "Ссылки содержатся в теге `a` в его атрибуте `href`. Достанем их!"
      ],
      "metadata": {
        "id": "uON8EI6fnHto"
      }
    },
    {
      "cell_type": "code",
      "source": [
        "all_links = []\n",
        "for news in post:\n",
        "  link = news.find('a', class_='article-item-link').get('href')\n",
        "  all_links.append(link)"
      ],
      "metadata": {
        "id": "mwam04gem2DX"
      },
      "execution_count": 43,
      "outputs": []
    },
    {
      "cell_type": "code",
      "source": [
        "print(all_links)"
      ],
      "metadata": {
        "id": "cUD9OjNhrFrj"
      },
      "execution_count": null,
      "outputs": []
    },
    {
      "cell_type": "markdown",
      "source": [
        "Теперь перейдем по каждой ссылке и выкачаем из нее заголовок и текст новости!"
      ],
      "metadata": {
        "id": "_4S-XKe-n5h0"
      }
    },
    {
      "cell_type": "code",
      "source": [
        "headers_news = {}\n",
        "host = \"https://www.moscowzoo.ru\" # нам нужно отдельно задать адрес главного сайта\n",
        "for link in all_links:\n",
        "  whole_link = host + link\n",
        "  print(whole_link)\n",
        "  news_item = requests.get(whole_link, headers={'User-Agent': user_agent}, verify = False)\n",
        "  soup = BeautifulSoup(news_item.text, 'html.parser')\n",
        "  header = soup.select('cp-banner > template')[0].get_text()\n",
        "  headers_news[header] = soup.find('div', {'class':\"dp-content-inner\"}).get_text()"
      ],
      "metadata": {
        "id": "e7ZnRmVUoBM6"
      },
      "execution_count": null,
      "outputs": []
    },
    {
      "cell_type": "code",
      "source": [
        "import re"
      ],
      "metadata": {
        "id": "5Nm5HzSDsJKZ"
      },
      "execution_count": 55,
      "outputs": []
    },
    {
      "cell_type": "code",
      "source": [
        "for key, value in headers_news.items():\n",
        "  headers_news[key] = re.sub('[\\n\\r\\t]', '', value).strip()"
      ],
      "metadata": {
        "id": "Fzq0aILErz6W"
      },
      "execution_count": 59,
      "outputs": []
    },
    {
      "cell_type": "code",
      "source": [
        "headers_news"
      ],
      "metadata": {
        "id": "rCOsVOHRseAj"
      },
      "execution_count": null,
      "outputs": []
    },
    {
      "cell_type": "markdown",
      "source": [
        "Хотим еще больше данных!\n",
        "\n",
        "Тогда давайте смотреть на все страницы...\n",
        "\n",
        "Вначале посмотрим, как оформляется ссылки на разные страницы.\n",
        "\n",
        "Ага! Значит, она выглядит вот так: `https://www.moscowzoo.ru/about-zoo/news/novosti-zooparka/?PAGEN_1=X`, где X это номер страницы.\n",
        "\n",
        "Значит, мы можем завести переменную, которая с каждой новой страницей увеличивается на один и подставляется в ссылку.\n",
        "\n",
        "Давайте выведем новости с первых двух страниц."
      ],
      "metadata": {
        "id": "_d79etNasuZC"
      }
    },
    {
      "cell_type": "code",
      "source": [
        "headers_news_2_pages = {}\n",
        "main_link = \"https://www.moscowzoo.ru/about-zoo/news/novosti-zooparka/?PAGEN_1=\"\n",
        "for i in range(1, 3):\n",
        "  print(main_link + str(i))\n",
        "  response = requests.get(main_link + str(i),\n",
        "                          headers={'User-Agent': user_agent},\n",
        "                          verify = False)\n",
        "  soup = BeautifulSoup(response.text, 'html.parser')\n",
        "  post = soup.find_all('div', {'class':\"article-item\"})\n",
        "  all_links = []\n",
        "  for news in post:\n",
        "    link = news.find('a', class_='article-item-link').get('href')\n",
        "    all_links.append(link)\n",
        "  host = \"https://www.moscowzoo.ru\" # нам нужно отдельно задать адрес сайта\n",
        "  for link in all_links:\n",
        "    whole_link = host + link\n",
        "    print(whole_link)\n",
        "    news_item = requests.get(whole_link, headers={'User-Agent': user_agent}, verify = False)\n",
        "    soup = BeautifulSoup(news_item.text, 'html.parser')\n",
        "    header = soup.select('cp-banner > template')[0].get_text()\n",
        "    headers_news_2_pages[header] = soup.find('div', {'class':\"dp-content-inner\"}).get_text()"
      ],
      "metadata": {
        "id": "jcro0AUksytY"
      },
      "execution_count": null,
      "outputs": []
    },
    {
      "cell_type": "code",
      "source": [
        "for key, value in headers_news_2_pages.items():\n",
        "  headers_news_2_pages[key] = re.sub('[\\n\\r\\t]', '', value).strip()"
      ],
      "metadata": {
        "id": "_OGOkSQOvcdf"
      },
      "execution_count": 68,
      "outputs": []
    },
    {
      "cell_type": "code",
      "source": [
        "headers_news_2_pages"
      ],
      "metadata": {
        "id": "kQgWE75wvfAH"
      },
      "execution_count": null,
      "outputs": []
    },
    {
      "cell_type": "markdown",
      "source": [
        "Для красоты представим это в виде датафрейма."
      ],
      "metadata": {
        "id": "SzJWPjOjv0GZ"
      }
    },
    {
      "cell_type": "code",
      "source": [
        "import pandas as pd"
      ],
      "metadata": {
        "id": "47zp80gZwIt4"
      },
      "execution_count": 71,
      "outputs": []
    },
    {
      "cell_type": "code",
      "source": [
        "lst1 = list(headers_news_2_pages.keys())\n",
        "lst2 = list(headers_news_2_pages.values())\n",
        "df = pd.DataFrame(\n",
        "    {'Header': lst1,\n",
        "     'Content': lst2\n",
        "    })\n",
        "df"
      ],
      "metadata": {
        "colab": {
          "base_uri": "https://localhost:8080/",
          "height": 300
        },
        "id": "lHdlXMnJwG9m",
        "outputId": "2737e2bd-0811-4084-c02f-1f16904d68b8"
      },
      "execution_count": 93,
      "outputs": [
        {
          "output_type": "execute_result",
          "data": {
            "text/plain": [
              "                                              Header  \\\n",
              "0                        Выставка: Зоопарк в пустыне   \n",
              "1                           Остерегайтесь мошенников   \n",
              "2  С 16 октября Московский зоопарк немного коррек...   \n",
              "3            В Московском зоопарке поселились марабу   \n",
              "4  Временно закрыт дополнительный вход у метро Ба...   \n",
              "5  Миллионы лет назад: старт нового сезона в Детс...   \n",
              "6                                Спасём жизнь вместе   \n",
              "7          Зоопарк переходит на осенний режим работы   \n",
              "\n",
              "                                             Content  \n",
              "0  В Доме Клюева до 12 ноября проходит выставка и...  \n",
              "1                                                     \n",
              "2  Гулять по Зоопарку можно будет с 09:00 до 18:0...  \n",
              "3  Два аиста марабу приехали в Московский зоопарк...  \n",
              "4  Уважаемые посетители! По техническим причинам ...  \n",
              "5  Детский лекторий Московского зоопарка запускае...  \n",
              "6                                                     \n",
              "7  Световой день становится короче, и Московский ...  "
            ],
            "text/html": [
              "\n",
              "  <div id=\"df-4a6ad909-039e-4e9a-af0e-6671469a5cb3\" class=\"colab-df-container\">\n",
              "    <div>\n",
              "<style scoped>\n",
              "    .dataframe tbody tr th:only-of-type {\n",
              "        vertical-align: middle;\n",
              "    }\n",
              "\n",
              "    .dataframe tbody tr th {\n",
              "        vertical-align: top;\n",
              "    }\n",
              "\n",
              "    .dataframe thead th {\n",
              "        text-align: right;\n",
              "    }\n",
              "</style>\n",
              "<table border=\"1\" class=\"dataframe\">\n",
              "  <thead>\n",
              "    <tr style=\"text-align: right;\">\n",
              "      <th></th>\n",
              "      <th>Header</th>\n",
              "      <th>Content</th>\n",
              "    </tr>\n",
              "  </thead>\n",
              "  <tbody>\n",
              "    <tr>\n",
              "      <th>0</th>\n",
              "      <td>Выставка: Зоопарк в пустыне</td>\n",
              "      <td>В Доме Клюева до 12 ноября проходит выставка и...</td>\n",
              "    </tr>\n",
              "    <tr>\n",
              "      <th>1</th>\n",
              "      <td>Остерегайтесь мошенников</td>\n",
              "      <td></td>\n",
              "    </tr>\n",
              "    <tr>\n",
              "      <th>2</th>\n",
              "      <td>С 16 октября Московский зоопарк немного коррек...</td>\n",
              "      <td>Гулять по Зоопарку можно будет с 09:00 до 18:0...</td>\n",
              "    </tr>\n",
              "    <tr>\n",
              "      <th>3</th>\n",
              "      <td>В Московском зоопарке поселились марабу</td>\n",
              "      <td>Два аиста марабу приехали в Московский зоопарк...</td>\n",
              "    </tr>\n",
              "    <tr>\n",
              "      <th>4</th>\n",
              "      <td>Временно закрыт дополнительный вход у метро Ба...</td>\n",
              "      <td>Уважаемые посетители! По техническим причинам ...</td>\n",
              "    </tr>\n",
              "    <tr>\n",
              "      <th>5</th>\n",
              "      <td>Миллионы лет назад: старт нового сезона в Детс...</td>\n",
              "      <td>Детский лекторий Московского зоопарка запускае...</td>\n",
              "    </tr>\n",
              "    <tr>\n",
              "      <th>6</th>\n",
              "      <td>Спасём жизнь вместе</td>\n",
              "      <td></td>\n",
              "    </tr>\n",
              "    <tr>\n",
              "      <th>7</th>\n",
              "      <td>Зоопарк переходит на осенний режим работы</td>\n",
              "      <td>Световой день становится короче, и Московский ...</td>\n",
              "    </tr>\n",
              "  </tbody>\n",
              "</table>\n",
              "</div>\n",
              "    <div class=\"colab-df-buttons\">\n",
              "\n",
              "  <div class=\"colab-df-container\">\n",
              "    <button class=\"colab-df-convert\" onclick=\"convertToInteractive('df-4a6ad909-039e-4e9a-af0e-6671469a5cb3')\"\n",
              "            title=\"Convert this dataframe to an interactive table.\"\n",
              "            style=\"display:none;\">\n",
              "\n",
              "  <svg xmlns=\"http://www.w3.org/2000/svg\" height=\"24px\" viewBox=\"0 -960 960 960\">\n",
              "    <path d=\"M120-120v-720h720v720H120Zm60-500h600v-160H180v160Zm220 220h160v-160H400v160Zm0 220h160v-160H400v160ZM180-400h160v-160H180v160Zm440 0h160v-160H620v160ZM180-180h160v-160H180v160Zm440 0h160v-160H620v160Z\"/>\n",
              "  </svg>\n",
              "    </button>\n",
              "\n",
              "  <style>\n",
              "    .colab-df-container {\n",
              "      display:flex;\n",
              "      gap: 12px;\n",
              "    }\n",
              "\n",
              "    .colab-df-convert {\n",
              "      background-color: #E8F0FE;\n",
              "      border: none;\n",
              "      border-radius: 50%;\n",
              "      cursor: pointer;\n",
              "      display: none;\n",
              "      fill: #1967D2;\n",
              "      height: 32px;\n",
              "      padding: 0 0 0 0;\n",
              "      width: 32px;\n",
              "    }\n",
              "\n",
              "    .colab-df-convert:hover {\n",
              "      background-color: #E2EBFA;\n",
              "      box-shadow: 0px 1px 2px rgba(60, 64, 67, 0.3), 0px 1px 3px 1px rgba(60, 64, 67, 0.15);\n",
              "      fill: #174EA6;\n",
              "    }\n",
              "\n",
              "    .colab-df-buttons div {\n",
              "      margin-bottom: 4px;\n",
              "    }\n",
              "\n",
              "    [theme=dark] .colab-df-convert {\n",
              "      background-color: #3B4455;\n",
              "      fill: #D2E3FC;\n",
              "    }\n",
              "\n",
              "    [theme=dark] .colab-df-convert:hover {\n",
              "      background-color: #434B5C;\n",
              "      box-shadow: 0px 1px 3px 1px rgba(0, 0, 0, 0.15);\n",
              "      filter: drop-shadow(0px 1px 2px rgba(0, 0, 0, 0.3));\n",
              "      fill: #FFFFFF;\n",
              "    }\n",
              "  </style>\n",
              "\n",
              "    <script>\n",
              "      const buttonEl =\n",
              "        document.querySelector('#df-4a6ad909-039e-4e9a-af0e-6671469a5cb3 button.colab-df-convert');\n",
              "      buttonEl.style.display =\n",
              "        google.colab.kernel.accessAllowed ? 'block' : 'none';\n",
              "\n",
              "      async function convertToInteractive(key) {\n",
              "        const element = document.querySelector('#df-4a6ad909-039e-4e9a-af0e-6671469a5cb3');\n",
              "        const dataTable =\n",
              "          await google.colab.kernel.invokeFunction('convertToInteractive',\n",
              "                                                    [key], {});\n",
              "        if (!dataTable) return;\n",
              "\n",
              "        const docLinkHtml = 'Like what you see? Visit the ' +\n",
              "          '<a target=\"_blank\" href=https://colab.research.google.com/notebooks/data_table.ipynb>data table notebook</a>'\n",
              "          + ' to learn more about interactive tables.';\n",
              "        element.innerHTML = '';\n",
              "        dataTable['output_type'] = 'display_data';\n",
              "        await google.colab.output.renderOutput(dataTable, element);\n",
              "        const docLink = document.createElement('div');\n",
              "        docLink.innerHTML = docLinkHtml;\n",
              "        element.appendChild(docLink);\n",
              "      }\n",
              "    </script>\n",
              "  </div>\n",
              "\n",
              "\n",
              "<div id=\"df-c8c14019-ba65-4d2f-a73c-f67870544a64\">\n",
              "  <button class=\"colab-df-quickchart\" onclick=\"quickchart('df-c8c14019-ba65-4d2f-a73c-f67870544a64')\"\n",
              "            title=\"Suggest charts.\"\n",
              "            style=\"display:none;\">\n",
              "\n",
              "<svg xmlns=\"http://www.w3.org/2000/svg\" height=\"24px\"viewBox=\"0 0 24 24\"\n",
              "     width=\"24px\">\n",
              "    <g>\n",
              "        <path d=\"M19 3H5c-1.1 0-2 .9-2 2v14c0 1.1.9 2 2 2h14c1.1 0 2-.9 2-2V5c0-1.1-.9-2-2-2zM9 17H7v-7h2v7zm4 0h-2V7h2v10zm4 0h-2v-4h2v4z\"/>\n",
              "    </g>\n",
              "</svg>\n",
              "  </button>\n",
              "\n",
              "<style>\n",
              "  .colab-df-quickchart {\n",
              "      --bg-color: #E8F0FE;\n",
              "      --fill-color: #1967D2;\n",
              "      --hover-bg-color: #E2EBFA;\n",
              "      --hover-fill-color: #174EA6;\n",
              "      --disabled-fill-color: #AAA;\n",
              "      --disabled-bg-color: #DDD;\n",
              "  }\n",
              "\n",
              "  [theme=dark] .colab-df-quickchart {\n",
              "      --bg-color: #3B4455;\n",
              "      --fill-color: #D2E3FC;\n",
              "      --hover-bg-color: #434B5C;\n",
              "      --hover-fill-color: #FFFFFF;\n",
              "      --disabled-bg-color: #3B4455;\n",
              "      --disabled-fill-color: #666;\n",
              "  }\n",
              "\n",
              "  .colab-df-quickchart {\n",
              "    background-color: var(--bg-color);\n",
              "    border: none;\n",
              "    border-radius: 50%;\n",
              "    cursor: pointer;\n",
              "    display: none;\n",
              "    fill: var(--fill-color);\n",
              "    height: 32px;\n",
              "    padding: 0;\n",
              "    width: 32px;\n",
              "  }\n",
              "\n",
              "  .colab-df-quickchart:hover {\n",
              "    background-color: var(--hover-bg-color);\n",
              "    box-shadow: 0 1px 2px rgba(60, 64, 67, 0.3), 0 1px 3px 1px rgba(60, 64, 67, 0.15);\n",
              "    fill: var(--button-hover-fill-color);\n",
              "  }\n",
              "\n",
              "  .colab-df-quickchart-complete:disabled,\n",
              "  .colab-df-quickchart-complete:disabled:hover {\n",
              "    background-color: var(--disabled-bg-color);\n",
              "    fill: var(--disabled-fill-color);\n",
              "    box-shadow: none;\n",
              "  }\n",
              "\n",
              "  .colab-df-spinner {\n",
              "    border: 2px solid var(--fill-color);\n",
              "    border-color: transparent;\n",
              "    border-bottom-color: var(--fill-color);\n",
              "    animation:\n",
              "      spin 1s steps(1) infinite;\n",
              "  }\n",
              "\n",
              "  @keyframes spin {\n",
              "    0% {\n",
              "      border-color: transparent;\n",
              "      border-bottom-color: var(--fill-color);\n",
              "      border-left-color: var(--fill-color);\n",
              "    }\n",
              "    20% {\n",
              "      border-color: transparent;\n",
              "      border-left-color: var(--fill-color);\n",
              "      border-top-color: var(--fill-color);\n",
              "    }\n",
              "    30% {\n",
              "      border-color: transparent;\n",
              "      border-left-color: var(--fill-color);\n",
              "      border-top-color: var(--fill-color);\n",
              "      border-right-color: var(--fill-color);\n",
              "    }\n",
              "    40% {\n",
              "      border-color: transparent;\n",
              "      border-right-color: var(--fill-color);\n",
              "      border-top-color: var(--fill-color);\n",
              "    }\n",
              "    60% {\n",
              "      border-color: transparent;\n",
              "      border-right-color: var(--fill-color);\n",
              "    }\n",
              "    80% {\n",
              "      border-color: transparent;\n",
              "      border-right-color: var(--fill-color);\n",
              "      border-bottom-color: var(--fill-color);\n",
              "    }\n",
              "    90% {\n",
              "      border-color: transparent;\n",
              "      border-bottom-color: var(--fill-color);\n",
              "    }\n",
              "  }\n",
              "</style>\n",
              "\n",
              "  <script>\n",
              "    async function quickchart(key) {\n",
              "      const quickchartButtonEl =\n",
              "        document.querySelector('#' + key + ' button');\n",
              "      quickchartButtonEl.disabled = true;  // To prevent multiple clicks.\n",
              "      quickchartButtonEl.classList.add('colab-df-spinner');\n",
              "      try {\n",
              "        const charts = await google.colab.kernel.invokeFunction(\n",
              "            'suggestCharts', [key], {});\n",
              "      } catch (error) {\n",
              "        console.error('Error during call to suggestCharts:', error);\n",
              "      }\n",
              "      quickchartButtonEl.classList.remove('colab-df-spinner');\n",
              "      quickchartButtonEl.classList.add('colab-df-quickchart-complete');\n",
              "    }\n",
              "    (() => {\n",
              "      let quickchartButtonEl =\n",
              "        document.querySelector('#df-c8c14019-ba65-4d2f-a73c-f67870544a64 button');\n",
              "      quickchartButtonEl.style.display =\n",
              "        google.colab.kernel.accessAllowed ? 'block' : 'none';\n",
              "    })();\n",
              "  </script>\n",
              "</div>\n",
              "    </div>\n",
              "  </div>\n"
            ]
          },
          "metadata": {},
          "execution_count": 93
        }
      ]
    },
    {
      "cell_type": "markdown",
      "source": [],
      "metadata": {
        "id": "0x69bTRe02MZ"
      }
    },
    {
      "cell_type": "code",
      "source": [
        "import time\n",
        "import datetime"
      ],
      "metadata": {
        "id": "b3ESEgzn1SG9"
      },
      "execution_count": 96,
      "outputs": []
    },
    {
      "cell_type": "markdown",
      "source": [
        "Бывают сайты, которые, если слишком часто и быстро к ним обращаться, заподазривают неладное и блокируют к ним доступ. Чтобы этого избежать, можно внести намеренную задержку в работу цикла (пару секунд будет достаточно для большинства таких сайтов)."
      ],
      "metadata": {
        "id": "Q0EsafVj13yQ"
      }
    },
    {
      "cell_type": "code",
      "source": [
        "for i in range(4):\n",
        "  now = datetime.datetime.now()\n",
        "  date_time = now.strftime(\"%d/%m/%Y %H:%M:%S\")\n",
        "  print(date_time)\n",
        "  time.sleep(15)"
      ],
      "metadata": {
        "colab": {
          "base_uri": "https://localhost:8080/"
        },
        "id": "DLUbiJNp1bI5",
        "outputId": "3822b67d-4faf-4462-bda9-b43012e44f99"
      },
      "execution_count": 97,
      "outputs": [
        {
          "output_type": "stream",
          "name": "stdout",
          "text": [
            "27/10/2023 11:13:45\n",
            "27/10/2023 11:14:00\n",
            "27/10/2023 11:14:15\n",
            "27/10/2023 11:14:30\n"
          ]
        }
      ]
    }
  ]
}