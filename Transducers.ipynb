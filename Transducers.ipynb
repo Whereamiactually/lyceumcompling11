{
  "nbformat": 4,
  "nbformat_minor": 0,
  "metadata": {
    "colab": {
      "provenance": [],
      "authorship_tag": "ABX9TyO//Op9H1PBauaT0lxUi1ZN",
      "include_colab_link": true
    },
    "kernelspec": {
      "name": "python3",
      "display_name": "Python 3"
    },
    "language_info": {
      "name": "python"
    }
  },
  "cells": [
    {
      "cell_type": "markdown",
      "metadata": {
        "id": "view-in-github",
        "colab_type": "text"
      },
      "source": [
        "<a href=\"https://colab.research.google.com/github/Whereamiactually/lyceumcompling11/blob/main/Transducers.ipynb\" target=\"_parent\"><img src=\"https://colab.research.google.com/assets/colab-badge.svg\" alt=\"Open In Colab\"/></a>"
      ]
    },
    {
      "cell_type": "markdown",
      "source": [
        "# Анализаторы\n",
        "\n",
        "*   **pymorphy2** - морфологический анализатор для русского и украинского языков, при работе использует словарь [OpenCorpora](https://opencorpora.org/), но если слово незнакомое, он строит гипотезу;\n",
        "*   **mystem**\n",
        "*   **spacy**\n",
        "\n"
      ],
      "metadata": {
        "id": "tgmYOdzWhImj"
      }
    },
    {
      "cell_type": "markdown",
      "source": [
        "### Pymorphy2"
      ],
      "metadata": {
        "id": "9iEFk0ZtjxA4"
      }
    },
    {
      "cell_type": "code",
      "execution_count": 1,
      "metadata": {
        "colab": {
          "base_uri": "https://localhost:8080/"
        },
        "id": "4lIyOtUVIuOm",
        "outputId": "dc33e053-66f3-4121-e8b6-3552b1a21dde"
      },
      "outputs": [
        {
          "output_type": "stream",
          "name": "stdout",
          "text": [
            "Collecting pymorphy2\n",
            "  Downloading pymorphy2-0.9.1-py3-none-any.whl (55 kB)\n",
            "\u001b[?25l     \u001b[90m━━━━━━━━━━━━━━━━━━━━━━━━━━━━━━━━━━━━━━━━\u001b[0m \u001b[32m0.0/55.5 kB\u001b[0m \u001b[31m?\u001b[0m eta \u001b[36m-:--:--\u001b[0m\r\u001b[2K     \u001b[90m━━━━━━━━━━━━━━━━━━━━━━━━━━━━━━━━━━━━━━━━\u001b[0m \u001b[32m55.5/55.5 kB\u001b[0m \u001b[31m1.6 MB/s\u001b[0m eta \u001b[36m0:00:00\u001b[0m\n",
            "\u001b[?25hCollecting dawg-python>=0.7.1 (from pymorphy2)\n",
            "  Downloading DAWG_Python-0.7.2-py2.py3-none-any.whl (11 kB)\n",
            "Collecting pymorphy2-dicts-ru<3.0,>=2.4 (from pymorphy2)\n",
            "  Downloading pymorphy2_dicts_ru-2.4.417127.4579844-py2.py3-none-any.whl (8.2 MB)\n",
            "\u001b[2K     \u001b[90m━━━━━━━━━━━━━━━━━━━━━━━━━━━━━━━━━━━━━━━━\u001b[0m \u001b[32m8.2/8.2 MB\u001b[0m \u001b[31m55.8 MB/s\u001b[0m eta \u001b[36m0:00:00\u001b[0m\n",
            "\u001b[?25hCollecting docopt>=0.6 (from pymorphy2)\n",
            "  Downloading docopt-0.6.2.tar.gz (25 kB)\n",
            "  Preparing metadata (setup.py) ... \u001b[?25l\u001b[?25hdone\n",
            "Building wheels for collected packages: docopt\n",
            "  Building wheel for docopt (setup.py) ... \u001b[?25l\u001b[?25hdone\n",
            "  Created wheel for docopt: filename=docopt-0.6.2-py2.py3-none-any.whl size=13705 sha256=c996885da7e99d3273a33d25e4cd19ca4de7425af4da9a8d9a3b01daee3a66d8\n",
            "  Stored in directory: /root/.cache/pip/wheels/fc/ab/d4/5da2067ac95b36618c629a5f93f809425700506f72c9732fac\n",
            "Successfully built docopt\n",
            "Installing collected packages: pymorphy2-dicts-ru, docopt, dawg-python, pymorphy2\n",
            "Successfully installed dawg-python-0.7.2 docopt-0.6.2 pymorphy2-0.9.1 pymorphy2-dicts-ru-2.4.417127.4579844\n"
          ]
        }
      ],
      "source": [
        "pip install pymorphy2"
      ]
    },
    {
      "cell_type": "code",
      "source": [
        "from pymorphy2 import MorphAnalyzer\n",
        "morph = MorphAnalyzer()"
      ],
      "metadata": {
        "id": "3SKlOWAIimiJ"
      },
      "execution_count": 3,
      "outputs": []
    },
    {
      "cell_type": "code",
      "source": [
        "from pprint import pprint\n",
        "import string"
      ],
      "metadata": {
        "id": "KKSsUMX5kZM5"
      },
      "execution_count": 13,
      "outputs": []
    },
    {
      "cell_type": "code",
      "source": [
        "sentence = \"Я лгал; но мне хотелось его побесить. У меня врожденная страсть противоречить.\"\n",
        "for word in sentence.split():\n",
        "  print(word.strip(string.punctuation))\n",
        "  pprint(morph.parse(word.strip(string.punctuation)))"
      ],
      "metadata": {
        "colab": {
          "base_uri": "https://localhost:8080/"
        },
        "id": "ySPX-20olFKr",
        "outputId": "83931272-fedd-44d6-c963-bd3cac295417"
      },
      "execution_count": 25,
      "outputs": [
        {
          "output_type": "stream",
          "name": "stdout",
          "text": [
            "Я\n",
            "[Parse(word='я', tag=OpencorporaTag('NPRO,1per sing,nomn'), normal_form='я', score=0.2941176470588234, methods_stack=((DictionaryAnalyzer(), 'я', 3246, 0),)),\n",
            " Parse(word='я', tag=OpencorporaTag('NOUN,anim,masc,Sgtm,Name,Fixd,Abbr,Init sing,nomn'), normal_form='я', score=0.02941176470588234, methods_stack=((AbbreviatedFirstNameAnalyzer(letters='АБВГДЕЁЖЗИЙКЛМНОПРСТУФХЦЧШЩЭЮЯ', score=0.1, tag_pattern='NOUN,anim,%(gender)s,Sgtm,Name,Fixd,Abbr,Init sing,%(case)s'), 'Я'),)),\n",
            " Parse(word='я', tag=OpencorporaTag('NOUN,anim,masc,Sgtm,Name,Fixd,Abbr,Init sing,gent'), normal_form='я', score=0.02941176470588234, methods_stack=((AbbreviatedFirstNameAnalyzer(letters='АБВГДЕЁЖЗИЙКЛМНОПРСТУФХЦЧШЩЭЮЯ', score=0.1, tag_pattern='NOUN,anim,%(gender)s,Sgtm,Name,Fixd,Abbr,Init sing,%(case)s'), 'Я'),)),\n",
            " Parse(word='я', tag=OpencorporaTag('NOUN,anim,masc,Sgtm,Name,Fixd,Abbr,Init sing,datv'), normal_form='я', score=0.02941176470588234, methods_stack=((AbbreviatedFirstNameAnalyzer(letters='АБВГДЕЁЖЗИЙКЛМНОПРСТУФХЦЧШЩЭЮЯ', score=0.1, tag_pattern='NOUN,anim,%(gender)s,Sgtm,Name,Fixd,Abbr,Init sing,%(case)s'), 'Я'),)),\n",
            " Parse(word='я', tag=OpencorporaTag('NOUN,anim,masc,Sgtm,Name,Fixd,Abbr,Init sing,accs'), normal_form='я', score=0.02941176470588234, methods_stack=((AbbreviatedFirstNameAnalyzer(letters='АБВГДЕЁЖЗИЙКЛМНОПРСТУФХЦЧШЩЭЮЯ', score=0.1, tag_pattern='NOUN,anim,%(gender)s,Sgtm,Name,Fixd,Abbr,Init sing,%(case)s'), 'Я'),)),\n",
            " Parse(word='я', tag=OpencorporaTag('NOUN,anim,masc,Sgtm,Name,Fixd,Abbr,Init sing,ablt'), normal_form='я', score=0.02941176470588234, methods_stack=((AbbreviatedFirstNameAnalyzer(letters='АБВГДЕЁЖЗИЙКЛМНОПРСТУФХЦЧШЩЭЮЯ', score=0.1, tag_pattern='NOUN,anim,%(gender)s,Sgtm,Name,Fixd,Abbr,Init sing,%(case)s'), 'Я'),)),\n",
            " Parse(word='я', tag=OpencorporaTag('NOUN,anim,masc,Sgtm,Name,Fixd,Abbr,Init sing,loct'), normal_form='я', score=0.02941176470588234, methods_stack=((AbbreviatedFirstNameAnalyzer(letters='АБВГДЕЁЖЗИЙКЛМНОПРСТУФХЦЧШЩЭЮЯ', score=0.1, tag_pattern='NOUN,anim,%(gender)s,Sgtm,Name,Fixd,Abbr,Init sing,%(case)s'), 'Я'),)),\n",
            " Parse(word='я', tag=OpencorporaTag('NOUN,anim,femn,Sgtm,Name,Fixd,Abbr,Init sing,nomn'), normal_form='я', score=0.02941176470588234, methods_stack=((AbbreviatedFirstNameAnalyzer(letters='АБВГДЕЁЖЗИЙКЛМНОПРСТУФХЦЧШЩЭЮЯ', score=0.1, tag_pattern='NOUN,anim,%(gender)s,Sgtm,Name,Fixd,Abbr,Init sing,%(case)s'), 'Я'),)),\n",
            " Parse(word='я', tag=OpencorporaTag('NOUN,anim,femn,Sgtm,Name,Fixd,Abbr,Init sing,gent'), normal_form='я', score=0.02941176470588234, methods_stack=((AbbreviatedFirstNameAnalyzer(letters='АБВГДЕЁЖЗИЙКЛМНОПРСТУФХЦЧШЩЭЮЯ', score=0.1, tag_pattern='NOUN,anim,%(gender)s,Sgtm,Name,Fixd,Abbr,Init sing,%(case)s'), 'Я'),)),\n",
            " Parse(word='я', tag=OpencorporaTag('NOUN,anim,femn,Sgtm,Name,Fixd,Abbr,Init sing,datv'), normal_form='я', score=0.02941176470588234, methods_stack=((AbbreviatedFirstNameAnalyzer(letters='АБВГДЕЁЖЗИЙКЛМНОПРСТУФХЦЧШЩЭЮЯ', score=0.1, tag_pattern='NOUN,anim,%(gender)s,Sgtm,Name,Fixd,Abbr,Init sing,%(case)s'), 'Я'),)),\n",
            " Parse(word='я', tag=OpencorporaTag('NOUN,anim,femn,Sgtm,Name,Fixd,Abbr,Init sing,accs'), normal_form='я', score=0.02941176470588234, methods_stack=((AbbreviatedFirstNameAnalyzer(letters='АБВГДЕЁЖЗИЙКЛМНОПРСТУФХЦЧШЩЭЮЯ', score=0.1, tag_pattern='NOUN,anim,%(gender)s,Sgtm,Name,Fixd,Abbr,Init sing,%(case)s'), 'Я'),)),\n",
            " Parse(word='я', tag=OpencorporaTag('NOUN,anim,femn,Sgtm,Name,Fixd,Abbr,Init sing,ablt'), normal_form='я', score=0.02941176470588234, methods_stack=((AbbreviatedFirstNameAnalyzer(letters='АБВГДЕЁЖЗИЙКЛМНОПРСТУФХЦЧШЩЭЮЯ', score=0.1, tag_pattern='NOUN,anim,%(gender)s,Sgtm,Name,Fixd,Abbr,Init sing,%(case)s'), 'Я'),)),\n",
            " Parse(word='я', tag=OpencorporaTag('NOUN,anim,femn,Sgtm,Name,Fixd,Abbr,Init sing,loct'), normal_form='я', score=0.02941176470588234, methods_stack=((AbbreviatedFirstNameAnalyzer(letters='АБВГДЕЁЖЗИЙКЛМНОПРСТУФХЦЧШЩЭЮЯ', score=0.1, tag_pattern='NOUN,anim,%(gender)s,Sgtm,Name,Fixd,Abbr,Init sing,%(case)s'), 'Я'),)),\n",
            " Parse(word='я', tag=OpencorporaTag('NOUN,anim,masc,Sgtm,Patr,Fixd,Abbr,Init sing,nomn'), normal_form='я', score=0.02941176470588234, methods_stack=((AbbreviatedPatronymicAnalyzer(letters='АБВГДЕЁЖЗИЙКЛМНОПРСТУФХЦЧШЩЭЮЯ', score=0.1, tag_pattern='NOUN,anim,%(gender)s,Sgtm,Patr,Fixd,Abbr,Init sing,%(case)s'), 'Я'),)),\n",
            " Parse(word='я', tag=OpencorporaTag('NOUN,anim,masc,Sgtm,Patr,Fixd,Abbr,Init sing,gent'), normal_form='я', score=0.02941176470588234, methods_stack=((AbbreviatedPatronymicAnalyzer(letters='АБВГДЕЁЖЗИЙКЛМНОПРСТУФХЦЧШЩЭЮЯ', score=0.1, tag_pattern='NOUN,anim,%(gender)s,Sgtm,Patr,Fixd,Abbr,Init sing,%(case)s'), 'Я'),)),\n",
            " Parse(word='я', tag=OpencorporaTag('NOUN,anim,masc,Sgtm,Patr,Fixd,Abbr,Init sing,datv'), normal_form='я', score=0.02941176470588234, methods_stack=((AbbreviatedPatronymicAnalyzer(letters='АБВГДЕЁЖЗИЙКЛМНОПРСТУФХЦЧШЩЭЮЯ', score=0.1, tag_pattern='NOUN,anim,%(gender)s,Sgtm,Patr,Fixd,Abbr,Init sing,%(case)s'), 'Я'),)),\n",
            " Parse(word='я', tag=OpencorporaTag('NOUN,anim,masc,Sgtm,Patr,Fixd,Abbr,Init sing,accs'), normal_form='я', score=0.02941176470588234, methods_stack=((AbbreviatedPatronymicAnalyzer(letters='АБВГДЕЁЖЗИЙКЛМНОПРСТУФХЦЧШЩЭЮЯ', score=0.1, tag_pattern='NOUN,anim,%(gender)s,Sgtm,Patr,Fixd,Abbr,Init sing,%(case)s'), 'Я'),)),\n",
            " Parse(word='я', tag=OpencorporaTag('NOUN,anim,masc,Sgtm,Patr,Fixd,Abbr,Init sing,ablt'), normal_form='я', score=0.02941176470588234, methods_stack=((AbbreviatedPatronymicAnalyzer(letters='АБВГДЕЁЖЗИЙКЛМНОПРСТУФХЦЧШЩЭЮЯ', score=0.1, tag_pattern='NOUN,anim,%(gender)s,Sgtm,Patr,Fixd,Abbr,Init sing,%(case)s'), 'Я'),)),\n",
            " Parse(word='я', tag=OpencorporaTag('NOUN,anim,masc,Sgtm,Patr,Fixd,Abbr,Init sing,loct'), normal_form='я', score=0.02941176470588234, methods_stack=((AbbreviatedPatronymicAnalyzer(letters='АБВГДЕЁЖЗИЙКЛМНОПРСТУФХЦЧШЩЭЮЯ', score=0.1, tag_pattern='NOUN,anim,%(gender)s,Sgtm,Patr,Fixd,Abbr,Init sing,%(case)s'), 'Я'),)),\n",
            " Parse(word='я', tag=OpencorporaTag('NOUN,anim,femn,Sgtm,Patr,Fixd,Abbr,Init sing,nomn'), normal_form='я', score=0.02941176470588234, methods_stack=((AbbreviatedPatronymicAnalyzer(letters='АБВГДЕЁЖЗИЙКЛМНОПРСТУФХЦЧШЩЭЮЯ', score=0.1, tag_pattern='NOUN,anim,%(gender)s,Sgtm,Patr,Fixd,Abbr,Init sing,%(case)s'), 'Я'),)),\n",
            " Parse(word='я', tag=OpencorporaTag('NOUN,anim,femn,Sgtm,Patr,Fixd,Abbr,Init sing,gent'), normal_form='я', score=0.02941176470588234, methods_stack=((AbbreviatedPatronymicAnalyzer(letters='АБВГДЕЁЖЗИЙКЛМНОПРСТУФХЦЧШЩЭЮЯ', score=0.1, tag_pattern='NOUN,anim,%(gender)s,Sgtm,Patr,Fixd,Abbr,Init sing,%(case)s'), 'Я'),)),\n",
            " Parse(word='я', tag=OpencorporaTag('NOUN,anim,femn,Sgtm,Patr,Fixd,Abbr,Init sing,datv'), normal_form='я', score=0.02941176470588234, methods_stack=((AbbreviatedPatronymicAnalyzer(letters='АБВГДЕЁЖЗИЙКЛМНОПРСТУФХЦЧШЩЭЮЯ', score=0.1, tag_pattern='NOUN,anim,%(gender)s,Sgtm,Patr,Fixd,Abbr,Init sing,%(case)s'), 'Я'),)),\n",
            " Parse(word='я', tag=OpencorporaTag('NOUN,anim,femn,Sgtm,Patr,Fixd,Abbr,Init sing,accs'), normal_form='я', score=0.02941176470588234, methods_stack=((AbbreviatedPatronymicAnalyzer(letters='АБВГДЕЁЖЗИЙКЛМНОПРСТУФХЦЧШЩЭЮЯ', score=0.1, tag_pattern='NOUN,anim,%(gender)s,Sgtm,Patr,Fixd,Abbr,Init sing,%(case)s'), 'Я'),)),\n",
            " Parse(word='я', tag=OpencorporaTag('NOUN,anim,femn,Sgtm,Patr,Fixd,Abbr,Init sing,ablt'), normal_form='я', score=0.02941176470588234, methods_stack=((AbbreviatedPatronymicAnalyzer(letters='АБВГДЕЁЖЗИЙКЛМНОПРСТУФХЦЧШЩЭЮЯ', score=0.1, tag_pattern='NOUN,anim,%(gender)s,Sgtm,Patr,Fixd,Abbr,Init sing,%(case)s'), 'Я'),)),\n",
            " Parse(word='я', tag=OpencorporaTag('NOUN,anim,femn,Sgtm,Patr,Fixd,Abbr,Init sing,loct'), normal_form='я', score=0.02941176470588234, methods_stack=((AbbreviatedPatronymicAnalyzer(letters='АБВГДЕЁЖЗИЙКЛМНОПРСТУФХЦЧШЩЭЮЯ', score=0.1, tag_pattern='NOUN,anim,%(gender)s,Sgtm,Patr,Fixd,Abbr,Init sing,%(case)s'), 'Я'),))]\n",
            "лгал\n",
            "[Parse(word='лгал', tag=OpencorporaTag('VERB,impf,intr masc,sing,past,indc'), normal_form='лгать', score=1.0, methods_stack=((DictionaryAnalyzer(), 'лгал', 1929, 7),))]\n",
            "но\n",
            "[Parse(word='но', tag=OpencorporaTag('CONJ'), normal_form='но', score=0.999185, methods_stack=((DictionaryAnalyzer(), 'но', 20, 0),)),\n",
            " Parse(word='но', tag=OpencorporaTag('INTJ'), normal_form='но', score=0.000814, methods_stack=((DictionaryAnalyzer(), 'но', 21, 0),))]\n",
            "мне\n",
            "[Parse(word='мне', tag=OpencorporaTag('NPRO,1per sing,datv'), normal_form='я', score=0.975393, methods_stack=((DictionaryAnalyzer(), 'мне', 3246, 2),)),\n",
            " Parse(word='мне', tag=OpencorporaTag('NPRO,1per sing,loct'), normal_form='я', score=0.024606, methods_stack=((DictionaryAnalyzer(), 'мне', 3246, 6),))]\n",
            "хотелось\n",
            "[Parse(word='хотелось', tag=OpencorporaTag('VERB,impf,intr,Impe neut,sing,past,indc'), normal_form='хотеться', score=1.0, methods_stack=((DictionaryAnalyzer(), 'хотелось', 3137, 1),))]\n",
            "его\n",
            "[Parse(word='его', tag=OpencorporaTag('NPRO,masc,3per,Anph sing,accs'), normal_form='он', score=0.23913, methods_stack=((DictionaryAnalyzer(), 'его', 2304, 5),)),\n",
            " Parse(word='его', tag=OpencorporaTag('NPRO,neut,3per,Anph sing,accs'), normal_form='оно', score=0.065217, methods_stack=((DictionaryAnalyzer(), 'его', 2307, 5),)),\n",
            " Parse(word='его', tag=OpencorporaTag('ADJF,Fixd,Apro,Anph femn,sing,gent'), normal_form='его', score=0.043478, methods_stack=((DictionaryAnalyzer(), 'его', 1440, 7),)),\n",
            " Parse(word='его', tag=OpencorporaTag('ADJF,Fixd,Apro,Anph neut,sing,gent'), normal_form='его', score=0.043478, methods_stack=((DictionaryAnalyzer(), 'его', 1440, 13),)),\n",
            " Parse(word='его', tag=OpencorporaTag('ADJF,Fixd,Apro,Anph plur,nomn'), normal_form='его', score=0.043478, methods_stack=((DictionaryAnalyzer(), 'его', 1440, 18),)),\n",
            " Parse(word='его', tag=OpencorporaTag('ADJF,Fixd,Apro,Anph plur,datv'), normal_form='его', score=0.043478, methods_stack=((DictionaryAnalyzer(), 'его', 1440, 20),)),\n",
            " Parse(word='его', tag=OpencorporaTag('NPRO,masc,3per,Anph sing,gent'), normal_form='он', score=0.043478, methods_stack=((DictionaryAnalyzer(), 'его', 2304, 1),)),\n",
            " Parse(word='его', tag=OpencorporaTag('NPRO,neut,3per,Anph sing,gent'), normal_form='оно', score=0.043478, methods_stack=((DictionaryAnalyzer(), 'его', 2307, 1),)),\n",
            " Parse(word='его', tag=OpencorporaTag('ADJF,Fixd,Apro,Anph masc,sing,nomn'), normal_form='его', score=0.021739, methods_stack=((DictionaryAnalyzer(), 'его', 1440, 0),)),\n",
            " Parse(word='его', tag=OpencorporaTag('ADJF,Fixd,Apro,Anph masc,sing,gent'), normal_form='его', score=0.021739, methods_stack=((DictionaryAnalyzer(), 'его', 1440, 1),)),\n",
            " Parse(word='его', tag=OpencorporaTag('ADJF,Fixd,Apro,Anph masc,sing,datv'), normal_form='его', score=0.021739, methods_stack=((DictionaryAnalyzer(), 'его', 1440, 2),)),\n",
            " Parse(word='его', tag=OpencorporaTag('ADJF,Fixd,Apro,Anph masc,sing,accs'), normal_form='его', score=0.021739, methods_stack=((DictionaryAnalyzer(), 'его', 1440, 3),)),\n",
            " Parse(word='его', tag=OpencorporaTag('ADJF,Fixd,Apro,Anph masc,sing,ablt'), normal_form='его', score=0.021739, methods_stack=((DictionaryAnalyzer(), 'его', 1440, 4),)),\n",
            " Parse(word='его', tag=OpencorporaTag('ADJF,Fixd,Apro,Anph masc,sing,loct'), normal_form='его', score=0.021739, methods_stack=((DictionaryAnalyzer(), 'его', 1440, 5),)),\n",
            " Parse(word='его', tag=OpencorporaTag('ADJF,Fixd,Apro,Anph femn,sing,nomn'), normal_form='его', score=0.021739, methods_stack=((DictionaryAnalyzer(), 'его', 1440, 6),)),\n",
            " Parse(word='его', tag=OpencorporaTag('ADJF,Fixd,Apro,Anph femn,sing,datv'), normal_form='его', score=0.021739, methods_stack=((DictionaryAnalyzer(), 'его', 1440, 8),)),\n",
            " Parse(word='его', tag=OpencorporaTag('ADJF,Fixd,Apro,Anph femn,sing,accs'), normal_form='его', score=0.021739, methods_stack=((DictionaryAnalyzer(), 'его', 1440, 9),)),\n",
            " Parse(word='его', tag=OpencorporaTag('ADJF,Fixd,Apro,Anph femn,sing,ablt'), normal_form='его', score=0.021739, methods_stack=((DictionaryAnalyzer(), 'его', 1440, 10),)),\n",
            " Parse(word='его', tag=OpencorporaTag('ADJF,Fixd,Apro,Anph femn,sing,loct'), normal_form='его', score=0.021739, methods_stack=((DictionaryAnalyzer(), 'его', 1440, 11),)),\n",
            " Parse(word='его', tag=OpencorporaTag('ADJF,Fixd,Apro,Anph neut,sing,nomn'), normal_form='его', score=0.021739, methods_stack=((DictionaryAnalyzer(), 'его', 1440, 12),)),\n",
            " Parse(word='его', tag=OpencorporaTag('ADJF,Fixd,Apro,Anph neut,sing,datv'), normal_form='его', score=0.021739, methods_stack=((DictionaryAnalyzer(), 'его', 1440, 14),)),\n",
            " Parse(word='его', tag=OpencorporaTag('ADJF,Fixd,Apro,Anph neut,sing,accs'), normal_form='его', score=0.021739, methods_stack=((DictionaryAnalyzer(), 'его', 1440, 15),)),\n",
            " Parse(word='его', tag=OpencorporaTag('ADJF,Fixd,Apro,Anph neut,sing,ablt'), normal_form='его', score=0.021739, methods_stack=((DictionaryAnalyzer(), 'его', 1440, 16),)),\n",
            " Parse(word='его', tag=OpencorporaTag('ADJF,Fixd,Apro,Anph neut,sing,loct'), normal_form='его', score=0.021739, methods_stack=((DictionaryAnalyzer(), 'его', 1440, 17),)),\n",
            " Parse(word='его', tag=OpencorporaTag('ADJF,Fixd,Apro,Anph plur,gent'), normal_form='его', score=0.021739, methods_stack=((DictionaryAnalyzer(), 'его', 1440, 19),)),\n",
            " Parse(word='его', tag=OpencorporaTag('ADJF,Fixd,Apro,Anph plur,accs'), normal_form='его', score=0.021739, methods_stack=((DictionaryAnalyzer(), 'его', 1440, 21),)),\n",
            " Parse(word='его', tag=OpencorporaTag('ADJF,Fixd,Apro,Anph plur,ablt'), normal_form='его', score=0.021739, methods_stack=((DictionaryAnalyzer(), 'его', 1440, 22),)),\n",
            " Parse(word='его', tag=OpencorporaTag('ADJF,Fixd,Apro,Anph plur,loct'), normal_form='его', score=0.021739, methods_stack=((DictionaryAnalyzer(), 'его', 1440, 23),))]\n",
            "побесить\n",
            "[Parse(word='побесить', tag=OpencorporaTag('INFN,perf,tran'), normal_form='побесить', score=1.0, methods_stack=((DictionaryAnalyzer(), 'побесить', 2265, 0),))]\n",
            "У\n",
            "[Parse(word='у', tag=OpencorporaTag('PREP'), normal_form='у', score=0.9959, methods_stack=((DictionaryAnalyzer(), 'у', 24, 0),)),\n",
            " Parse(word='у', tag=OpencorporaTag('INTJ'), normal_form='у', score=0.003552, methods_stack=((DictionaryAnalyzer(), 'у', 21, 0),)),\n",
            " Parse(word='у', tag=OpencorporaTag('NOUN,anim,masc,Sgtm,Name,Fixd,Abbr,Init sing,nomn'), normal_form='у', score=0.0, methods_stack=((AbbreviatedFirstNameAnalyzer(letters='АБВГДЕЁЖЗИЙКЛМНОПРСТУФХЦЧШЩЭЮЯ', score=0.1, tag_pattern='NOUN,anim,%(gender)s,Sgtm,Name,Fixd,Abbr,Init sing,%(case)s'), 'У'),)),\n",
            " Parse(word='у', tag=OpencorporaTag('NOUN,anim,masc,Sgtm,Name,Fixd,Abbr,Init sing,gent'), normal_form='у', score=0.0, methods_stack=((AbbreviatedFirstNameAnalyzer(letters='АБВГДЕЁЖЗИЙКЛМНОПРСТУФХЦЧШЩЭЮЯ', score=0.1, tag_pattern='NOUN,anim,%(gender)s,Sgtm,Name,Fixd,Abbr,Init sing,%(case)s'), 'У'),)),\n",
            " Parse(word='у', tag=OpencorporaTag('NOUN,anim,masc,Sgtm,Name,Fixd,Abbr,Init sing,datv'), normal_form='у', score=0.0, methods_stack=((AbbreviatedFirstNameAnalyzer(letters='АБВГДЕЁЖЗИЙКЛМНОПРСТУФХЦЧШЩЭЮЯ', score=0.1, tag_pattern='NOUN,anim,%(gender)s,Sgtm,Name,Fixd,Abbr,Init sing,%(case)s'), 'У'),)),\n",
            " Parse(word='у', tag=OpencorporaTag('NOUN,anim,masc,Sgtm,Name,Fixd,Abbr,Init sing,accs'), normal_form='у', score=0.0, methods_stack=((AbbreviatedFirstNameAnalyzer(letters='АБВГДЕЁЖЗИЙКЛМНОПРСТУФХЦЧШЩЭЮЯ', score=0.1, tag_pattern='NOUN,anim,%(gender)s,Sgtm,Name,Fixd,Abbr,Init sing,%(case)s'), 'У'),)),\n",
            " Parse(word='у', tag=OpencorporaTag('NOUN,anim,masc,Sgtm,Name,Fixd,Abbr,Init sing,ablt'), normal_form='у', score=0.0, methods_stack=((AbbreviatedFirstNameAnalyzer(letters='АБВГДЕЁЖЗИЙКЛМНОПРСТУФХЦЧШЩЭЮЯ', score=0.1, tag_pattern='NOUN,anim,%(gender)s,Sgtm,Name,Fixd,Abbr,Init sing,%(case)s'), 'У'),)),\n",
            " Parse(word='у', tag=OpencorporaTag('NOUN,anim,masc,Sgtm,Name,Fixd,Abbr,Init sing,loct'), normal_form='у', score=0.0, methods_stack=((AbbreviatedFirstNameAnalyzer(letters='АБВГДЕЁЖЗИЙКЛМНОПРСТУФХЦЧШЩЭЮЯ', score=0.1, tag_pattern='NOUN,anim,%(gender)s,Sgtm,Name,Fixd,Abbr,Init sing,%(case)s'), 'У'),)),\n",
            " Parse(word='у', tag=OpencorporaTag('NOUN,anim,femn,Sgtm,Name,Fixd,Abbr,Init sing,nomn'), normal_form='у', score=0.0, methods_stack=((AbbreviatedFirstNameAnalyzer(letters='АБВГДЕЁЖЗИЙКЛМНОПРСТУФХЦЧШЩЭЮЯ', score=0.1, tag_pattern='NOUN,anim,%(gender)s,Sgtm,Name,Fixd,Abbr,Init sing,%(case)s'), 'У'),)),\n",
            " Parse(word='у', tag=OpencorporaTag('NOUN,anim,femn,Sgtm,Name,Fixd,Abbr,Init sing,gent'), normal_form='у', score=0.0, methods_stack=((AbbreviatedFirstNameAnalyzer(letters='АБВГДЕЁЖЗИЙКЛМНОПРСТУФХЦЧШЩЭЮЯ', score=0.1, tag_pattern='NOUN,anim,%(gender)s,Sgtm,Name,Fixd,Abbr,Init sing,%(case)s'), 'У'),)),\n",
            " Parse(word='у', tag=OpencorporaTag('NOUN,anim,femn,Sgtm,Name,Fixd,Abbr,Init sing,datv'), normal_form='у', score=0.0, methods_stack=((AbbreviatedFirstNameAnalyzer(letters='АБВГДЕЁЖЗИЙКЛМНОПРСТУФХЦЧШЩЭЮЯ', score=0.1, tag_pattern='NOUN,anim,%(gender)s,Sgtm,Name,Fixd,Abbr,Init sing,%(case)s'), 'У'),)),\n",
            " Parse(word='у', tag=OpencorporaTag('NOUN,anim,femn,Sgtm,Name,Fixd,Abbr,Init sing,accs'), normal_form='у', score=0.0, methods_stack=((AbbreviatedFirstNameAnalyzer(letters='АБВГДЕЁЖЗИЙКЛМНОПРСТУФХЦЧШЩЭЮЯ', score=0.1, tag_pattern='NOUN,anim,%(gender)s,Sgtm,Name,Fixd,Abbr,Init sing,%(case)s'), 'У'),)),\n",
            " Parse(word='у', tag=OpencorporaTag('NOUN,anim,femn,Sgtm,Name,Fixd,Abbr,Init sing,ablt'), normal_form='у', score=0.0, methods_stack=((AbbreviatedFirstNameAnalyzer(letters='АБВГДЕЁЖЗИЙКЛМНОПРСТУФХЦЧШЩЭЮЯ', score=0.1, tag_pattern='NOUN,anim,%(gender)s,Sgtm,Name,Fixd,Abbr,Init sing,%(case)s'), 'У'),)),\n",
            " Parse(word='у', tag=OpencorporaTag('NOUN,anim,femn,Sgtm,Name,Fixd,Abbr,Init sing,loct'), normal_form='у', score=0.0, methods_stack=((AbbreviatedFirstNameAnalyzer(letters='АБВГДЕЁЖЗИЙКЛМНОПРСТУФХЦЧШЩЭЮЯ', score=0.1, tag_pattern='NOUN,anim,%(gender)s,Sgtm,Name,Fixd,Abbr,Init sing,%(case)s'), 'У'),)),\n",
            " Parse(word='у', tag=OpencorporaTag('NOUN,anim,masc,Sgtm,Patr,Fixd,Abbr,Init sing,nomn'), normal_form='у', score=0.0, methods_stack=((AbbreviatedPatronymicAnalyzer(letters='АБВГДЕЁЖЗИЙКЛМНОПРСТУФХЦЧШЩЭЮЯ', score=0.1, tag_pattern='NOUN,anim,%(gender)s,Sgtm,Patr,Fixd,Abbr,Init sing,%(case)s'), 'У'),)),\n",
            " Parse(word='у', tag=OpencorporaTag('NOUN,anim,masc,Sgtm,Patr,Fixd,Abbr,Init sing,gent'), normal_form='у', score=0.0, methods_stack=((AbbreviatedPatronymicAnalyzer(letters='АБВГДЕЁЖЗИЙКЛМНОПРСТУФХЦЧШЩЭЮЯ', score=0.1, tag_pattern='NOUN,anim,%(gender)s,Sgtm,Patr,Fixd,Abbr,Init sing,%(case)s'), 'У'),)),\n",
            " Parse(word='у', tag=OpencorporaTag('NOUN,anim,masc,Sgtm,Patr,Fixd,Abbr,Init sing,datv'), normal_form='у', score=0.0, methods_stack=((AbbreviatedPatronymicAnalyzer(letters='АБВГДЕЁЖЗИЙКЛМНОПРСТУФХЦЧШЩЭЮЯ', score=0.1, tag_pattern='NOUN,anim,%(gender)s,Sgtm,Patr,Fixd,Abbr,Init sing,%(case)s'), 'У'),)),\n",
            " Parse(word='у', tag=OpencorporaTag('NOUN,anim,masc,Sgtm,Patr,Fixd,Abbr,Init sing,accs'), normal_form='у', score=0.0, methods_stack=((AbbreviatedPatronymicAnalyzer(letters='АБВГДЕЁЖЗИЙКЛМНОПРСТУФХЦЧШЩЭЮЯ', score=0.1, tag_pattern='NOUN,anim,%(gender)s,Sgtm,Patr,Fixd,Abbr,Init sing,%(case)s'), 'У'),)),\n",
            " Parse(word='у', tag=OpencorporaTag('NOUN,anim,masc,Sgtm,Patr,Fixd,Abbr,Init sing,ablt'), normal_form='у', score=0.0, methods_stack=((AbbreviatedPatronymicAnalyzer(letters='АБВГДЕЁЖЗИЙКЛМНОПРСТУФХЦЧШЩЭЮЯ', score=0.1, tag_pattern='NOUN,anim,%(gender)s,Sgtm,Patr,Fixd,Abbr,Init sing,%(case)s'), 'У'),)),\n",
            " Parse(word='у', tag=OpencorporaTag('NOUN,anim,masc,Sgtm,Patr,Fixd,Abbr,Init sing,loct'), normal_form='у', score=0.0, methods_stack=((AbbreviatedPatronymicAnalyzer(letters='АБВГДЕЁЖЗИЙКЛМНОПРСТУФХЦЧШЩЭЮЯ', score=0.1, tag_pattern='NOUN,anim,%(gender)s,Sgtm,Patr,Fixd,Abbr,Init sing,%(case)s'), 'У'),)),\n",
            " Parse(word='у', tag=OpencorporaTag('NOUN,anim,femn,Sgtm,Patr,Fixd,Abbr,Init sing,nomn'), normal_form='у', score=0.0, methods_stack=((AbbreviatedPatronymicAnalyzer(letters='АБВГДЕЁЖЗИЙКЛМНОПРСТУФХЦЧШЩЭЮЯ', score=0.1, tag_pattern='NOUN,anim,%(gender)s,Sgtm,Patr,Fixd,Abbr,Init sing,%(case)s'), 'У'),)),\n",
            " Parse(word='у', tag=OpencorporaTag('NOUN,anim,femn,Sgtm,Patr,Fixd,Abbr,Init sing,gent'), normal_form='у', score=0.0, methods_stack=((AbbreviatedPatronymicAnalyzer(letters='АБВГДЕЁЖЗИЙКЛМНОПРСТУФХЦЧШЩЭЮЯ', score=0.1, tag_pattern='NOUN,anim,%(gender)s,Sgtm,Patr,Fixd,Abbr,Init sing,%(case)s'), 'У'),)),\n",
            " Parse(word='у', tag=OpencorporaTag('NOUN,anim,femn,Sgtm,Patr,Fixd,Abbr,Init sing,datv'), normal_form='у', score=0.0, methods_stack=((AbbreviatedPatronymicAnalyzer(letters='АБВГДЕЁЖЗИЙКЛМНОПРСТУФХЦЧШЩЭЮЯ', score=0.1, tag_pattern='NOUN,anim,%(gender)s,Sgtm,Patr,Fixd,Abbr,Init sing,%(case)s'), 'У'),)),\n",
            " Parse(word='у', tag=OpencorporaTag('NOUN,anim,femn,Sgtm,Patr,Fixd,Abbr,Init sing,accs'), normal_form='у', score=0.0, methods_stack=((AbbreviatedPatronymicAnalyzer(letters='АБВГДЕЁЖЗИЙКЛМНОПРСТУФХЦЧШЩЭЮЯ', score=0.1, tag_pattern='NOUN,anim,%(gender)s,Sgtm,Patr,Fixd,Abbr,Init sing,%(case)s'), 'У'),)),\n",
            " Parse(word='у', tag=OpencorporaTag('NOUN,anim,femn,Sgtm,Patr,Fixd,Abbr,Init sing,ablt'), normal_form='у', score=0.0, methods_stack=((AbbreviatedPatronymicAnalyzer(letters='АБВГДЕЁЖЗИЙКЛМНОПРСТУФХЦЧШЩЭЮЯ', score=0.1, tag_pattern='NOUN,anim,%(gender)s,Sgtm,Patr,Fixd,Abbr,Init sing,%(case)s'), 'У'),)),\n",
            " Parse(word='у', tag=OpencorporaTag('NOUN,anim,femn,Sgtm,Patr,Fixd,Abbr,Init sing,loct'), normal_form='у', score=0.0, methods_stack=((AbbreviatedPatronymicAnalyzer(letters='АБВГДЕЁЖЗИЙКЛМНОПРСТУФХЦЧШЩЭЮЯ', score=0.1, tag_pattern='NOUN,anim,%(gender)s,Sgtm,Patr,Fixd,Abbr,Init sing,%(case)s'), 'У'),))]\n",
            "меня\n",
            "[Parse(word='меня', tag=OpencorporaTag('NPRO,1per sing,accs'), normal_form='я', score=0.536184, methods_stack=((DictionaryAnalyzer(), 'меня', 3246, 3),)),\n",
            " Parse(word='меня', tag=OpencorporaTag('NPRO,1per sing,gent'), normal_form='я', score=0.463815, methods_stack=((DictionaryAnalyzer(), 'меня', 3246, 1),))]\n",
            "врожденная\n",
            "[Parse(word='врождённая', tag=OpencorporaTag('ADJF,Qual femn,sing,nomn'), normal_form='врождённый', score=1.0, methods_stack=((DictionaryAnalyzer(), 'врождённая', 976, 7),))]\n",
            "страсть\n",
            "[Parse(word='страсть', tag=OpencorporaTag('ADVB'), normal_form='страсть', score=0.5, methods_stack=((DictionaryAnalyzer(), 'страсть', 3, 0),)),\n",
            " Parse(word='страсть', tag=OpencorporaTag('NOUN,inan,femn sing,nomn'), normal_form='страсть', score=0.333333, methods_stack=((DictionaryAnalyzer(), 'страсть', 2683, 0),)),\n",
            " Parse(word='страсть', tag=OpencorporaTag('NOUN,inan,femn sing,accs'), normal_form='страсть', score=0.166666, methods_stack=((DictionaryAnalyzer(), 'страсть', 2683, 3),))]\n",
            "противоречить\n",
            "[Parse(word='противоречить', tag=OpencorporaTag('INFN,impf,intr'), normal_form='противоречить', score=1.0, methods_stack=((DictionaryAnalyzer(), 'противоречить', 371, 0),))]\n"
          ]
        }
      ]
    },
    {
      "cell_type": "code",
      "source": [
        "strange_sentence = \"Глокая куздра штеко будланула бокра и курдячит бокрёнка.\"\n",
        "for word in strange_sentence.split():\n",
        "  print(word.strip(string.punctuation))\n",
        "  pprint(morph.parse(word.strip(string.punctuation)))"
      ],
      "metadata": {
        "colab": {
          "base_uri": "https://localhost:8080/"
        },
        "id": "p5-13OH0jvgV",
        "outputId": "cf6bf4c6-662d-4749-80cf-7596330b5bd2"
      },
      "execution_count": 34,
      "outputs": [
        {
          "output_type": "stream",
          "name": "stdout",
          "text": [
            "Глокая\n",
            "[Parse(word='глокая', tag=OpencorporaTag('GRND,impf,intr pres'), normal_form='глокать', score=0.27950310559006214, methods_stack=((DictionaryAnalyzer(), 'окая', 15, 67), (UnknownPrefixAnalyzer(score_multiplier=0.5), 'гл'))),\n",
            " Parse(word='глокая', tag=OpencorporaTag('NOUN,anim,masc,Name sing,gent'), normal_form='глокай', score=0.27950310559006214, methods_stack=((DictionaryAnalyzer(), 'кая', 42, 1), (UnknownPrefixAnalyzer(score_multiplier=0.5), 'гло'))),\n",
            " Parse(word='глокая', tag=OpencorporaTag('NOUN,anim,masc,Name sing,accs'), normal_form='глокай', score=0.27950310559006214, methods_stack=((DictionaryAnalyzer(), 'кая', 42, 3), (UnknownPrefixAnalyzer(score_multiplier=0.5), 'гло'))),\n",
            " Parse(word='глокая', tag=OpencorporaTag('ADJF femn,sing,nomn'), normal_form='глокий', score=0.14906832298136646, methods_stack=((FakeDictionary(), 'глокая', 395, 7), (KnownSuffixAnalyzer(min_word_length=4, score_multiplier=0.5), 'окая'))),\n",
            " Parse(word='глокая', tag=OpencorporaTag('NOUN,inan,masc,Sgtm,Geox sing,gent'), normal_form='глокай', score=0.006211180124223603, methods_stack=((FakeDictionary(), 'глокая', 43, 1), (KnownSuffixAnalyzer(min_word_length=4, score_multiplier=0.5), 'окая'))),\n",
            " Parse(word='глокая', tag=OpencorporaTag('NOUN,inan,masc sing,gent'), normal_form='глокай', score=0.006211180124223603, methods_stack=((FakeDictionary(), 'глокая', 1217, 1), (KnownSuffixAnalyzer(min_word_length=4, score_multiplier=0.5), 'окая')))]\n",
            "куздра\n",
            "[Parse(word='куздра', tag=OpencorporaTag('NOUN,inan,femn,Sgtm,Fixd,Abbr,Geox sing,nomn'), normal_form='куздра', score=0.15000000000000002, methods_stack=((DictionaryAnalyzer(), 'дра', 268, 0), (UnknownPrefixAnalyzer(score_multiplier=0.5), 'куз'))),\n",
            " Parse(word='куздра', tag=OpencorporaTag('NOUN,inan,femn,Sgtm,Fixd,Abbr,Geox sing,gent'), normal_form='куздра', score=0.15000000000000002, methods_stack=((DictionaryAnalyzer(), 'дра', 268, 1), (UnknownPrefixAnalyzer(score_multiplier=0.5), 'куз'))),\n",
            " Parse(word='куздра', tag=OpencorporaTag('NOUN,inan,femn,Sgtm,Fixd,Abbr,Geox sing,datv'), normal_form='куздра', score=0.15000000000000002, methods_stack=((DictionaryAnalyzer(), 'дра', 268, 2), (UnknownPrefixAnalyzer(score_multiplier=0.5), 'куз'))),\n",
            " Parse(word='куздра', tag=OpencorporaTag('NOUN,inan,femn,Sgtm,Fixd,Abbr,Geox sing,accs'), normal_form='куздра', score=0.15000000000000002, methods_stack=((DictionaryAnalyzer(), 'дра', 268, 3), (UnknownPrefixAnalyzer(score_multiplier=0.5), 'куз'))),\n",
            " Parse(word='куздра', tag=OpencorporaTag('NOUN,inan,femn,Sgtm,Fixd,Abbr,Geox sing,ablt'), normal_form='куздра', score=0.15000000000000002, methods_stack=((DictionaryAnalyzer(), 'дра', 268, 4), (UnknownPrefixAnalyzer(score_multiplier=0.5), 'куз'))),\n",
            " Parse(word='куздра', tag=OpencorporaTag('NOUN,inan,femn,Sgtm,Fixd,Abbr,Geox sing,loct'), normal_form='куздра', score=0.15000000000000002, methods_stack=((DictionaryAnalyzer(), 'дра', 268, 5), (UnknownPrefixAnalyzer(score_multiplier=0.5), 'куз'))),\n",
            " Parse(word='куздра', tag=OpencorporaTag('NOUN,inan,femn,Sgtm sing,nomn'), normal_form='куздра', score=0.05, methods_stack=((FakeDictionary(), 'куздра', 30, 0), (KnownSuffixAnalyzer(min_word_length=4, score_multiplier=0.5), 'здра'))),\n",
            " Parse(word='куздра', tag=OpencorporaTag('NOUN,inan,femn,Sgtm,Geox sing,nomn'), normal_form='куздра', score=0.05, methods_stack=((FakeDictionary(), 'куздра', 36, 0), (KnownSuffixAnalyzer(min_word_length=4, score_multiplier=0.5), 'здра')))]\n",
            "штеко\n",
            "[Parse(word='штёко', tag=OpencorporaTag('ADJS neut,sing'), normal_form='штёкий', score=0.2499999999999999, methods_stack=((FakeDictionary(), 'штёко', 395, 29), (KnownSuffixAnalyzer(min_word_length=4, score_multiplier=0.5), 'ёко'))),\n",
            " Parse(word='штеко', tag=OpencorporaTag('ADVB'), normal_form='штеко', score=0.04166666666666665, methods_stack=((FakeDictionary(), 'штеко', 3, 0), (KnownSuffixAnalyzer(min_word_length=4, score_multiplier=0.5), 'еко'))),\n",
            " Parse(word='штеко', tag=OpencorporaTag('NOUN,anim,masc,Sgtm,Fixd,Name sing,nomn'), normal_form='штеко', score=0.04166666666666665, methods_stack=((FakeDictionary(), 'штеко', 25, 0), (KnownSuffixAnalyzer(min_word_length=4, score_multiplier=0.5), 'еко'))),\n",
            " Parse(word='штеко', tag=OpencorporaTag('NOUN,anim,masc,Sgtm,Fixd,Name sing,gent'), normal_form='штеко', score=0.04166666666666665, methods_stack=((FakeDictionary(), 'штеко', 25, 1), (KnownSuffixAnalyzer(min_word_length=4, score_multiplier=0.5), 'еко'))),\n",
            " Parse(word='штеко', tag=OpencorporaTag('NOUN,anim,masc,Sgtm,Fixd,Name sing,datv'), normal_form='штеко', score=0.04166666666666665, methods_stack=((FakeDictionary(), 'штеко', 25, 2), (KnownSuffixAnalyzer(min_word_length=4, score_multiplier=0.5), 'еко'))),\n",
            " Parse(word='штеко', tag=OpencorporaTag('NOUN,anim,masc,Sgtm,Fixd,Name sing,accs'), normal_form='штеко', score=0.04166666666666665, methods_stack=((FakeDictionary(), 'штеко', 25, 3), (KnownSuffixAnalyzer(min_word_length=4, score_multiplier=0.5), 'еко'))),\n",
            " Parse(word='штеко', tag=OpencorporaTag('NOUN,anim,masc,Sgtm,Fixd,Name sing,ablt'), normal_form='штеко', score=0.04166666666666665, methods_stack=((FakeDictionary(), 'штеко', 25, 4), (KnownSuffixAnalyzer(min_word_length=4, score_multiplier=0.5), 'еко'))),\n",
            " Parse(word='штеко', tag=OpencorporaTag('NOUN,anim,masc,Sgtm,Fixd,Name sing,loct'), normal_form='штеко', score=0.04166666666666665, methods_stack=((FakeDictionary(), 'штеко', 25, 5), (KnownSuffixAnalyzer(min_word_length=4, score_multiplier=0.5), 'еко'))),\n",
            " Parse(word='штеко', tag=OpencorporaTag('NOUN,inan,masc,Sgtm,Fixd,Geox sing,nomn'), normal_form='штеко', score=0.04166666666666665, methods_stack=((FakeDictionary(), 'штеко', 31, 0), (KnownSuffixAnalyzer(min_word_length=4, score_multiplier=0.5), 'еко'))),\n",
            " Parse(word='штеко', tag=OpencorporaTag('NOUN,inan,masc,Sgtm,Fixd,Geox sing,gent'), normal_form='штеко', score=0.04166666666666665, methods_stack=((FakeDictionary(), 'штеко', 31, 1), (KnownSuffixAnalyzer(min_word_length=4, score_multiplier=0.5), 'еко'))),\n",
            " Parse(word='штеко', tag=OpencorporaTag('NOUN,inan,masc,Sgtm,Fixd,Geox sing,datv'), normal_form='штеко', score=0.04166666666666665, methods_stack=((FakeDictionary(), 'штеко', 31, 2), (KnownSuffixAnalyzer(min_word_length=4, score_multiplier=0.5), 'еко'))),\n",
            " Parse(word='штеко', tag=OpencorporaTag('NOUN,inan,masc,Sgtm,Fixd,Geox sing,accs'), normal_form='штеко', score=0.04166666666666665, methods_stack=((FakeDictionary(), 'штеко', 31, 3), (KnownSuffixAnalyzer(min_word_length=4, score_multiplier=0.5), 'еко'))),\n",
            " Parse(word='штеко', tag=OpencorporaTag('NOUN,inan,masc,Sgtm,Fixd,Geox sing,ablt'), normal_form='штеко', score=0.04166666666666665, methods_stack=((FakeDictionary(), 'штеко', 31, 4), (KnownSuffixAnalyzer(min_word_length=4, score_multiplier=0.5), 'еко'))),\n",
            " Parse(word='штеко', tag=OpencorporaTag('NOUN,inan,masc,Sgtm,Fixd,Geox sing,loct'), normal_form='штеко', score=0.04166666666666665, methods_stack=((FakeDictionary(), 'штеко', 31, 5), (KnownSuffixAnalyzer(min_word_length=4, score_multiplier=0.5), 'еко'))),\n",
            " Parse(word='штеко', tag=OpencorporaTag('NOUN,inan,neut,Sgtm sing,nomn'), normal_form='штеко', score=0.04166666666666665, methods_stack=((FakeDictionary(), 'штеко', 110, 0), (KnownSuffixAnalyzer(min_word_length=4, score_multiplier=0.5), 'еко'))),\n",
            " Parse(word='штеко', tag=OpencorporaTag('NOUN,inan,neut,Sgtm sing,accs'), normal_form='штеко', score=0.04166666666666665, methods_stack=((FakeDictionary(), 'штеко', 110, 3), (KnownSuffixAnalyzer(min_word_length=4, score_multiplier=0.5), 'еко'))),\n",
            " Parse(word='штеко', tag=OpencorporaTag('ADVB,Prdx'), normal_form='штеко', score=0.04166666666666665, methods_stack=((FakeDictionary(), 'штеко', 404, 0), (KnownSuffixAnalyzer(min_word_length=4, score_multiplier=0.5), 'еко'))),\n",
            " Parse(word='штеко', tag=OpencorporaTag('NOUN,inan,neut sing,nomn'), normal_form='штеко', score=0.04166666666666665, methods_stack=((FakeDictionary(), 'штеко', 583, 0), (KnownSuffixAnalyzer(min_word_length=4, score_multiplier=0.5), 'еко'))),\n",
            " Parse(word='штеко', tag=OpencorporaTag('NOUN,inan,neut sing,accs'), normal_form='штеко', score=0.04166666666666665, methods_stack=((FakeDictionary(), 'штеко', 583, 3), (KnownSuffixAnalyzer(min_word_length=4, score_multiplier=0.5), 'еко')))]\n",
            "будланула\n",
            "[Parse(word='будланула', tag=OpencorporaTag('NOUN,anim,femn,Name sing,nomn'), normal_form='будланула', score=0.5185185185185185, methods_stack=((DictionaryAnalyzer(), 'анула', 69, 0), (UnknownPrefixAnalyzer(score_multiplier=0.5), 'будл'))),\n",
            " Parse(word='будланула', tag=OpencorporaTag('VERB,perf,tran femn,sing,past,indc'), normal_form='будлануть', score=0.4567901234567901, methods_stack=((FakeDictionary(), 'будланула', 514, 2), (KnownSuffixAnalyzer(min_word_length=4, score_multiplier=0.5), 'анула'))),\n",
            " Parse(word='будланула', tag=OpencorporaTag('NOUN,inan,femn sing,nomn'), normal_form='будланула', score=0.024691358024691357, methods_stack=((FakeDictionary(), 'будланула', 55, 0), (KnownSuffixAnalyzer(min_word_length=4, score_multiplier=0.5), 'анула')))]\n",
            "бокра\n",
            "[Parse(word='бокра', tag=OpencorporaTag('NOUN,inan,femn,Sgtm sing,nomn'), normal_form='бокра', score=0.8, methods_stack=((DictionaryAnalyzer(), 'окра', 30, 0), (UnknownPrefixAnalyzer(score_multiplier=0.5), 'б'))),\n",
            " Parse(word='бокра', tag=OpencorporaTag('ADJS,Qual femn,sing'), normal_form='бокрый', score=0.2, methods_stack=((FakeDictionary(), 'бокра', 4, 28), (KnownSuffixAnalyzer(min_word_length=4, score_multiplier=0.5), 'окра')))]\n",
            "и\n",
            "[Parse(word='и', tag=OpencorporaTag('CONJ'), normal_form='и', score=0.998263, methods_stack=((DictionaryAnalyzer(), 'и', 20, 0),)),\n",
            " Parse(word='и', tag=OpencorporaTag('PRCL'), normal_form='и', score=0.000306, methods_stack=((DictionaryAnalyzer(), 'и', 22, 0),)),\n",
            " Parse(word='и', tag=OpencorporaTag('INTJ'), normal_form='и', score=0.000204, methods_stack=((DictionaryAnalyzer(), 'и', 21, 0),)),\n",
            " Parse(word='и', tag=OpencorporaTag('NOUN,anim,masc,Fixd,Abbr sing,nomn'), normal_form='и', score=0.000102, methods_stack=((DictionaryAnalyzer(), 'и', 3289, 0),)),\n",
            " Parse(word='и', tag=OpencorporaTag('NOUN,anim,masc,Fixd,Abbr sing,gent'), normal_form='и', score=0.000102, methods_stack=((DictionaryAnalyzer(), 'и', 3289, 1),)),\n",
            " Parse(word='и', tag=OpencorporaTag('NOUN,anim,masc,Fixd,Abbr sing,datv'), normal_form='и', score=0.000102, methods_stack=((DictionaryAnalyzer(), 'и', 3289, 2),)),\n",
            " Parse(word='и', tag=OpencorporaTag('NOUN,anim,masc,Fixd,Abbr sing,accs'), normal_form='и', score=0.000102, methods_stack=((DictionaryAnalyzer(), 'и', 3289, 3),)),\n",
            " Parse(word='и', tag=OpencorporaTag('NOUN,anim,masc,Fixd,Abbr sing,ablt'), normal_form='и', score=0.000102, methods_stack=((DictionaryAnalyzer(), 'и', 3289, 4),)),\n",
            " Parse(word='и', tag=OpencorporaTag('NOUN,anim,masc,Fixd,Abbr sing,loct'), normal_form='и', score=0.000102, methods_stack=((DictionaryAnalyzer(), 'и', 3289, 5),)),\n",
            " Parse(word='и', tag=OpencorporaTag('NOUN,anim,masc,Fixd,Abbr plur,nomn'), normal_form='и', score=0.000102, methods_stack=((DictionaryAnalyzer(), 'и', 3289, 6),)),\n",
            " Parse(word='и', tag=OpencorporaTag('NOUN,anim,masc,Fixd,Abbr plur,gent'), normal_form='и', score=0.000102, methods_stack=((DictionaryAnalyzer(), 'и', 3289, 7),)),\n",
            " Parse(word='и', tag=OpencorporaTag('NOUN,anim,masc,Fixd,Abbr plur,datv'), normal_form='и', score=0.000102, methods_stack=((DictionaryAnalyzer(), 'и', 3289, 8),)),\n",
            " Parse(word='и', tag=OpencorporaTag('NOUN,anim,masc,Fixd,Abbr plur,accs'), normal_form='и', score=0.000102, methods_stack=((DictionaryAnalyzer(), 'и', 3289, 9),)),\n",
            " Parse(word='и', tag=OpencorporaTag('NOUN,anim,masc,Fixd,Abbr plur,ablt'), normal_form='и', score=0.000102, methods_stack=((DictionaryAnalyzer(), 'и', 3289, 10),)),\n",
            " Parse(word='и', tag=OpencorporaTag('NOUN,anim,masc,Fixd,Abbr plur,loct'), normal_form='и', score=0.000102, methods_stack=((DictionaryAnalyzer(), 'и', 3289, 11),))]\n",
            "курдячит\n",
            "[Parse(word='курдячит', tag=OpencorporaTag('VERB,impf,intr sing,3per,pres,indc'), normal_form='курдячать', score=0.5384615384615384, methods_stack=((DictionaryAnalyzer(), 'ячит', 564, 5), (UnknownPrefixAnalyzer(score_multiplier=0.5), 'курд'))),\n",
            " Parse(word='курдячит', tag=OpencorporaTag('VERB,impf,intr sing,3per,pres,indc'), normal_form='курдячить', score=0.23076923076923075, methods_stack=((FakeDictionary(), 'курдячит', 371, 5), (KnownSuffixAnalyzer(min_word_length=4, score_multiplier=0.5), 'ячит'))),\n",
            " Parse(word='курдячит', tag=OpencorporaTag('VERB,perf,intr sing,3per,futr,indc'), normal_form='курдячить', score=0.23076923076923075, methods_stack=((FakeDictionary(), 'курдячит', 1551, 9), (KnownSuffixAnalyzer(min_word_length=4, score_multiplier=0.5), 'ячит')))]\n",
            "бокрёнка\n",
            "[Parse(word='бокрёнка', tag=OpencorporaTag('NOUN,anim,masc sing,gent'), normal_form='бокрёнок', score=0.49999999999999994, methods_stack=((FakeDictionary(), 'бокрёнка', 205, 1), (KnownSuffixAnalyzer(min_word_length=4, score_multiplier=0.5), 'рёнка'))),\n",
            " Parse(word='бокрёнка', tag=OpencorporaTag('NOUN,anim,masc sing,accs'), normal_form='бокрёнок', score=0.49999999999999994, methods_stack=((FakeDictionary(), 'бокрёнка', 205, 3), (KnownSuffixAnalyzer(min_word_length=4, score_multiplier=0.5), 'рёнка')))]\n"
          ]
        }
      ]
    },
    {
      "cell_type": "code",
      "source": [
        "for word in sentence.split():\n",
        "  parser = morph.parse(word.strip(string.punctuation))[0]\n",
        "  print(word.strip(string.punctuation), ':', parser.normal_form, sep = '')"
      ],
      "metadata": {
        "colab": {
          "base_uri": "https://localhost:8080/"
        },
        "id": "7gp395UxnAE5",
        "outputId": "6e7695e7-fda4-4d09-fa16-866ef06c5102"
      },
      "execution_count": 32,
      "outputs": [
        {
          "output_type": "stream",
          "name": "stdout",
          "text": [
            "Я:я\n",
            "лгал:лгать\n",
            "но:но\n",
            "мне:я\n",
            "хотелось:хотеться\n",
            "его:он\n",
            "побесить:побесить\n",
            "У:у\n",
            "меня:я\n",
            "врожденная:врождённый\n",
            "страсть:страсть\n",
            "противоречить:противоречить\n"
          ]
        }
      ]
    },
    {
      "cell_type": "code",
      "source": [
        "for word in strange_sentence.split():\n",
        "  parser = morph.parse(word.strip(string.punctuation))\n",
        "  print(word.strip(string.punctuation), ':', parser.normal_form, sep = '')"
      ],
      "metadata": {
        "colab": {
          "base_uri": "https://localhost:8080/"
        },
        "id": "ksq3O8TKowIG",
        "outputId": "3a2aec28-8872-4ca1-b89d-6563058fed34"
      },
      "execution_count": 33,
      "outputs": [
        {
          "output_type": "stream",
          "name": "stdout",
          "text": [
            "Глокая:глокать\n",
            "куздра:куздра\n",
            "штеко:штёкий\n",
            "будланула:будланула\n",
            "бокра:бокра\n",
            "и:и\n",
            "курдячит:курдячать\n",
            "бокрёнка:бокрёнок\n"
          ]
        }
      ]
    },
    {
      "cell_type": "markdown",
      "source": [
        "### Mystem"
      ],
      "metadata": {
        "id": "1KCcTR99pEhl"
      }
    }
  ]
}