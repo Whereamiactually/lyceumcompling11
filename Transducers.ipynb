{
  "nbformat": 4,
  "nbformat_minor": 0,
  "metadata": {
    "colab": {
      "provenance": [],
      "authorship_tag": "ABX9TyN2DnyA2xa/dNJ7GGSCvxDg",
      "include_colab_link": true
    },
    "kernelspec": {
      "name": "python3",
      "display_name": "Python 3"
    },
    "language_info": {
      "name": "python"
    }
  },
  "cells": [
    {
      "cell_type": "markdown",
      "metadata": {
        "id": "view-in-github",
        "colab_type": "text"
      },
      "source": [
        "<a href=\"https://colab.research.google.com/github/Whereamiactually/lyceumcompling11/blob/main/Transducers.ipynb\" target=\"_parent\"><img src=\"https://colab.research.google.com/assets/colab-badge.svg\" alt=\"Open In Colab\"/></a>"
      ]
    },
    {
      "cell_type": "markdown",
      "source": [
        "# Анализаторы\n",
        "\n",
        "*   **Pymorphy2** - морфологический анализатор для русского и украинского языков, при работе использует словарь [OpenCorpora](https://opencorpora.org/), но если слово незнакомое, он строит гипотезу. К сожалению, не учитывает контекст;\n",
        "*   **Mystem** - морфологический анализатор для русского языка. При работает учитывает контекст, также умеет строить гипотезы. Более высокая точность, чем у pymorphy2.\n",
        "*   **SpaCy** - морфологический анализатор (но не только!), который работает с 25+ языками.\n",
        "\n"
      ],
      "metadata": {
        "id": "tgmYOdzWhImj"
      }
    },
    {
      "cell_type": "markdown",
      "source": [
        "### Pymorphy2"
      ],
      "metadata": {
        "id": "9iEFk0ZtjxA4"
      }
    },
    {
      "cell_type": "code",
      "execution_count": null,
      "metadata": {
        "colab": {
          "base_uri": "https://localhost:8080/"
        },
        "id": "4lIyOtUVIuOm",
        "outputId": "3d7f06e1-2646-49d0-b784-e63dd1e5ca5a"
      },
      "outputs": [
        {
          "output_type": "stream",
          "name": "stdout",
          "text": [
            "Collecting pymorphy2\n",
            "  Downloading pymorphy2-0.9.1-py3-none-any.whl (55 kB)\n",
            "\u001b[?25l     \u001b[90m━━━━━━━━━━━━━━━━━━━━━━━━━━━━━━━━━━━━━━━━\u001b[0m \u001b[32m0.0/55.5 kB\u001b[0m \u001b[31m?\u001b[0m eta \u001b[36m-:--:--\u001b[0m\r\u001b[2K     \u001b[90m━━━━━━━━━━━━━━━━━━━━━━━━━━━━━━━━━━━━━━━━\u001b[0m \u001b[32m55.5/55.5 kB\u001b[0m \u001b[31m1.9 MB/s\u001b[0m eta \u001b[36m0:00:00\u001b[0m\n",
            "\u001b[?25hCollecting dawg-python>=0.7.1 (from pymorphy2)\n",
            "  Downloading DAWG_Python-0.7.2-py2.py3-none-any.whl (11 kB)\n",
            "Collecting pymorphy2-dicts-ru<3.0,>=2.4 (from pymorphy2)\n",
            "  Downloading pymorphy2_dicts_ru-2.4.417127.4579844-py2.py3-none-any.whl (8.2 MB)\n",
            "\u001b[2K     \u001b[90m━━━━━━━━━━━━━━━━━━━━━━━━━━━━━━━━━━━━━━━━\u001b[0m \u001b[32m8.2/8.2 MB\u001b[0m \u001b[31m33.6 MB/s\u001b[0m eta \u001b[36m0:00:00\u001b[0m\n",
            "\u001b[?25hCollecting docopt>=0.6 (from pymorphy2)\n",
            "  Downloading docopt-0.6.2.tar.gz (25 kB)\n",
            "  Preparing metadata (setup.py) ... \u001b[?25l\u001b[?25hdone\n",
            "Building wheels for collected packages: docopt\n",
            "  Building wheel for docopt (setup.py) ... \u001b[?25l\u001b[?25hdone\n",
            "  Created wheel for docopt: filename=docopt-0.6.2-py2.py3-none-any.whl size=13705 sha256=bb8de60d26294d81670f1419a20d60f87e2c9cee6d85e001d97cf057ecd19bb0\n",
            "  Stored in directory: /root/.cache/pip/wheels/fc/ab/d4/5da2067ac95b36618c629a5f93f809425700506f72c9732fac\n",
            "Successfully built docopt\n",
            "Installing collected packages: pymorphy2-dicts-ru, docopt, dawg-python, pymorphy2\n",
            "Successfully installed dawg-python-0.7.2 docopt-0.6.2 pymorphy2-0.9.1 pymorphy2-dicts-ru-2.4.417127.4579844\n"
          ]
        }
      ],
      "source": [
        "pip install pymorphy2"
      ]
    },
    {
      "cell_type": "code",
      "source": [
        "from pymorphy2 import MorphAnalyzer\n",
        "morph = MorphAnalyzer()"
      ],
      "metadata": {
        "id": "3SKlOWAIimiJ"
      },
      "execution_count": null,
      "outputs": []
    },
    {
      "cell_type": "code",
      "source": [
        "from pprint import pprint\n",
        "import string"
      ],
      "metadata": {
        "id": "KKSsUMX5kZM5"
      },
      "execution_count": null,
      "outputs": []
    },
    {
      "cell_type": "code",
      "source": [
        "sentence = \"Я лгал; но мне хотелось его побесить. У меня врожденная страсть противоречить.\"\n",
        "for word in sentence.split():\n",
        "  print(word.strip(string.punctuation))\n",
        "  pprint(morph.parse(word.strip(string.punctuation)))"
      ],
      "metadata": {
        "colab": {
          "base_uri": "https://localhost:8080/"
        },
        "id": "ySPX-20olFKr",
        "outputId": "8449d395-ddd1-4b29-b661-94454e866180"
      },
      "execution_count": null,
      "outputs": [
        {
          "output_type": "stream",
          "name": "stdout",
          "text": [
            "Я\n",
            "[Parse(word='я', tag=OpencorporaTag('NPRO,1per sing,nomn'), normal_form='я', score=0.2941176470588234, methods_stack=((DictionaryAnalyzer(), 'я', 3246, 0),)),\n",
            " Parse(word='я', tag=OpencorporaTag('NOUN,anim,masc,Sgtm,Name,Fixd,Abbr,Init sing,nomn'), normal_form='я', score=0.02941176470588234, methods_stack=((AbbreviatedFirstNameAnalyzer(letters='АБВГДЕЁЖЗИЙКЛМНОПРСТУФХЦЧШЩЭЮЯ', score=0.1, tag_pattern='NOUN,anim,%(gender)s,Sgtm,Name,Fixd,Abbr,Init sing,%(case)s'), 'Я'),)),\n",
            " Parse(word='я', tag=OpencorporaTag('NOUN,anim,masc,Sgtm,Name,Fixd,Abbr,Init sing,gent'), normal_form='я', score=0.02941176470588234, methods_stack=((AbbreviatedFirstNameAnalyzer(letters='АБВГДЕЁЖЗИЙКЛМНОПРСТУФХЦЧШЩЭЮЯ', score=0.1, tag_pattern='NOUN,anim,%(gender)s,Sgtm,Name,Fixd,Abbr,Init sing,%(case)s'), 'Я'),)),\n",
            " Parse(word='я', tag=OpencorporaTag('NOUN,anim,masc,Sgtm,Name,Fixd,Abbr,Init sing,datv'), normal_form='я', score=0.02941176470588234, methods_stack=((AbbreviatedFirstNameAnalyzer(letters='АБВГДЕЁЖЗИЙКЛМНОПРСТУФХЦЧШЩЭЮЯ', score=0.1, tag_pattern='NOUN,anim,%(gender)s,Sgtm,Name,Fixd,Abbr,Init sing,%(case)s'), 'Я'),)),\n",
            " Parse(word='я', tag=OpencorporaTag('NOUN,anim,masc,Sgtm,Name,Fixd,Abbr,Init sing,accs'), normal_form='я', score=0.02941176470588234, methods_stack=((AbbreviatedFirstNameAnalyzer(letters='АБВГДЕЁЖЗИЙКЛМНОПРСТУФХЦЧШЩЭЮЯ', score=0.1, tag_pattern='NOUN,anim,%(gender)s,Sgtm,Name,Fixd,Abbr,Init sing,%(case)s'), 'Я'),)),\n",
            " Parse(word='я', tag=OpencorporaTag('NOUN,anim,masc,Sgtm,Name,Fixd,Abbr,Init sing,ablt'), normal_form='я', score=0.02941176470588234, methods_stack=((AbbreviatedFirstNameAnalyzer(letters='АБВГДЕЁЖЗИЙКЛМНОПРСТУФХЦЧШЩЭЮЯ', score=0.1, tag_pattern='NOUN,anim,%(gender)s,Sgtm,Name,Fixd,Abbr,Init sing,%(case)s'), 'Я'),)),\n",
            " Parse(word='я', tag=OpencorporaTag('NOUN,anim,masc,Sgtm,Name,Fixd,Abbr,Init sing,loct'), normal_form='я', score=0.02941176470588234, methods_stack=((AbbreviatedFirstNameAnalyzer(letters='АБВГДЕЁЖЗИЙКЛМНОПРСТУФХЦЧШЩЭЮЯ', score=0.1, tag_pattern='NOUN,anim,%(gender)s,Sgtm,Name,Fixd,Abbr,Init sing,%(case)s'), 'Я'),)),\n",
            " Parse(word='я', tag=OpencorporaTag('NOUN,anim,femn,Sgtm,Name,Fixd,Abbr,Init sing,nomn'), normal_form='я', score=0.02941176470588234, methods_stack=((AbbreviatedFirstNameAnalyzer(letters='АБВГДЕЁЖЗИЙКЛМНОПРСТУФХЦЧШЩЭЮЯ', score=0.1, tag_pattern='NOUN,anim,%(gender)s,Sgtm,Name,Fixd,Abbr,Init sing,%(case)s'), 'Я'),)),\n",
            " Parse(word='я', tag=OpencorporaTag('NOUN,anim,femn,Sgtm,Name,Fixd,Abbr,Init sing,gent'), normal_form='я', score=0.02941176470588234, methods_stack=((AbbreviatedFirstNameAnalyzer(letters='АБВГДЕЁЖЗИЙКЛМНОПРСТУФХЦЧШЩЭЮЯ', score=0.1, tag_pattern='NOUN,anim,%(gender)s,Sgtm,Name,Fixd,Abbr,Init sing,%(case)s'), 'Я'),)),\n",
            " Parse(word='я', tag=OpencorporaTag('NOUN,anim,femn,Sgtm,Name,Fixd,Abbr,Init sing,datv'), normal_form='я', score=0.02941176470588234, methods_stack=((AbbreviatedFirstNameAnalyzer(letters='АБВГДЕЁЖЗИЙКЛМНОПРСТУФХЦЧШЩЭЮЯ', score=0.1, tag_pattern='NOUN,anim,%(gender)s,Sgtm,Name,Fixd,Abbr,Init sing,%(case)s'), 'Я'),)),\n",
            " Parse(word='я', tag=OpencorporaTag('NOUN,anim,femn,Sgtm,Name,Fixd,Abbr,Init sing,accs'), normal_form='я', score=0.02941176470588234, methods_stack=((AbbreviatedFirstNameAnalyzer(letters='АБВГДЕЁЖЗИЙКЛМНОПРСТУФХЦЧШЩЭЮЯ', score=0.1, tag_pattern='NOUN,anim,%(gender)s,Sgtm,Name,Fixd,Abbr,Init sing,%(case)s'), 'Я'),)),\n",
            " Parse(word='я', tag=OpencorporaTag('NOUN,anim,femn,Sgtm,Name,Fixd,Abbr,Init sing,ablt'), normal_form='я', score=0.02941176470588234, methods_stack=((AbbreviatedFirstNameAnalyzer(letters='АБВГДЕЁЖЗИЙКЛМНОПРСТУФХЦЧШЩЭЮЯ', score=0.1, tag_pattern='NOUN,anim,%(gender)s,Sgtm,Name,Fixd,Abbr,Init sing,%(case)s'), 'Я'),)),\n",
            " Parse(word='я', tag=OpencorporaTag('NOUN,anim,femn,Sgtm,Name,Fixd,Abbr,Init sing,loct'), normal_form='я', score=0.02941176470588234, methods_stack=((AbbreviatedFirstNameAnalyzer(letters='АБВГДЕЁЖЗИЙКЛМНОПРСТУФХЦЧШЩЭЮЯ', score=0.1, tag_pattern='NOUN,anim,%(gender)s,Sgtm,Name,Fixd,Abbr,Init sing,%(case)s'), 'Я'),)),\n",
            " Parse(word='я', tag=OpencorporaTag('NOUN,anim,masc,Sgtm,Patr,Fixd,Abbr,Init sing,nomn'), normal_form='я', score=0.02941176470588234, methods_stack=((AbbreviatedPatronymicAnalyzer(letters='АБВГДЕЁЖЗИЙКЛМНОПРСТУФХЦЧШЩЭЮЯ', score=0.1, tag_pattern='NOUN,anim,%(gender)s,Sgtm,Patr,Fixd,Abbr,Init sing,%(case)s'), 'Я'),)),\n",
            " Parse(word='я', tag=OpencorporaTag('NOUN,anim,masc,Sgtm,Patr,Fixd,Abbr,Init sing,gent'), normal_form='я', score=0.02941176470588234, methods_stack=((AbbreviatedPatronymicAnalyzer(letters='АБВГДЕЁЖЗИЙКЛМНОПРСТУФХЦЧШЩЭЮЯ', score=0.1, tag_pattern='NOUN,anim,%(gender)s,Sgtm,Patr,Fixd,Abbr,Init sing,%(case)s'), 'Я'),)),\n",
            " Parse(word='я', tag=OpencorporaTag('NOUN,anim,masc,Sgtm,Patr,Fixd,Abbr,Init sing,datv'), normal_form='я', score=0.02941176470588234, methods_stack=((AbbreviatedPatronymicAnalyzer(letters='АБВГДЕЁЖЗИЙКЛМНОПРСТУФХЦЧШЩЭЮЯ', score=0.1, tag_pattern='NOUN,anim,%(gender)s,Sgtm,Patr,Fixd,Abbr,Init sing,%(case)s'), 'Я'),)),\n",
            " Parse(word='я', tag=OpencorporaTag('NOUN,anim,masc,Sgtm,Patr,Fixd,Abbr,Init sing,accs'), normal_form='я', score=0.02941176470588234, methods_stack=((AbbreviatedPatronymicAnalyzer(letters='АБВГДЕЁЖЗИЙКЛМНОПРСТУФХЦЧШЩЭЮЯ', score=0.1, tag_pattern='NOUN,anim,%(gender)s,Sgtm,Patr,Fixd,Abbr,Init sing,%(case)s'), 'Я'),)),\n",
            " Parse(word='я', tag=OpencorporaTag('NOUN,anim,masc,Sgtm,Patr,Fixd,Abbr,Init sing,ablt'), normal_form='я', score=0.02941176470588234, methods_stack=((AbbreviatedPatronymicAnalyzer(letters='АБВГДЕЁЖЗИЙКЛМНОПРСТУФХЦЧШЩЭЮЯ', score=0.1, tag_pattern='NOUN,anim,%(gender)s,Sgtm,Patr,Fixd,Abbr,Init sing,%(case)s'), 'Я'),)),\n",
            " Parse(word='я', tag=OpencorporaTag('NOUN,anim,masc,Sgtm,Patr,Fixd,Abbr,Init sing,loct'), normal_form='я', score=0.02941176470588234, methods_stack=((AbbreviatedPatronymicAnalyzer(letters='АБВГДЕЁЖЗИЙКЛМНОПРСТУФХЦЧШЩЭЮЯ', score=0.1, tag_pattern='NOUN,anim,%(gender)s,Sgtm,Patr,Fixd,Abbr,Init sing,%(case)s'), 'Я'),)),\n",
            " Parse(word='я', tag=OpencorporaTag('NOUN,anim,femn,Sgtm,Patr,Fixd,Abbr,Init sing,nomn'), normal_form='я', score=0.02941176470588234, methods_stack=((AbbreviatedPatronymicAnalyzer(letters='АБВГДЕЁЖЗИЙКЛМНОПРСТУФХЦЧШЩЭЮЯ', score=0.1, tag_pattern='NOUN,anim,%(gender)s,Sgtm,Patr,Fixd,Abbr,Init sing,%(case)s'), 'Я'),)),\n",
            " Parse(word='я', tag=OpencorporaTag('NOUN,anim,femn,Sgtm,Patr,Fixd,Abbr,Init sing,gent'), normal_form='я', score=0.02941176470588234, methods_stack=((AbbreviatedPatronymicAnalyzer(letters='АБВГДЕЁЖЗИЙКЛМНОПРСТУФХЦЧШЩЭЮЯ', score=0.1, tag_pattern='NOUN,anim,%(gender)s,Sgtm,Patr,Fixd,Abbr,Init sing,%(case)s'), 'Я'),)),\n",
            " Parse(word='я', tag=OpencorporaTag('NOUN,anim,femn,Sgtm,Patr,Fixd,Abbr,Init sing,datv'), normal_form='я', score=0.02941176470588234, methods_stack=((AbbreviatedPatronymicAnalyzer(letters='АБВГДЕЁЖЗИЙКЛМНОПРСТУФХЦЧШЩЭЮЯ', score=0.1, tag_pattern='NOUN,anim,%(gender)s,Sgtm,Patr,Fixd,Abbr,Init sing,%(case)s'), 'Я'),)),\n",
            " Parse(word='я', tag=OpencorporaTag('NOUN,anim,femn,Sgtm,Patr,Fixd,Abbr,Init sing,accs'), normal_form='я', score=0.02941176470588234, methods_stack=((AbbreviatedPatronymicAnalyzer(letters='АБВГДЕЁЖЗИЙКЛМНОПРСТУФХЦЧШЩЭЮЯ', score=0.1, tag_pattern='NOUN,anim,%(gender)s,Sgtm,Patr,Fixd,Abbr,Init sing,%(case)s'), 'Я'),)),\n",
            " Parse(word='я', tag=OpencorporaTag('NOUN,anim,femn,Sgtm,Patr,Fixd,Abbr,Init sing,ablt'), normal_form='я', score=0.02941176470588234, methods_stack=((AbbreviatedPatronymicAnalyzer(letters='АБВГДЕЁЖЗИЙКЛМНОПРСТУФХЦЧШЩЭЮЯ', score=0.1, tag_pattern='NOUN,anim,%(gender)s,Sgtm,Patr,Fixd,Abbr,Init sing,%(case)s'), 'Я'),)),\n",
            " Parse(word='я', tag=OpencorporaTag('NOUN,anim,femn,Sgtm,Patr,Fixd,Abbr,Init sing,loct'), normal_form='я', score=0.02941176470588234, methods_stack=((AbbreviatedPatronymicAnalyzer(letters='АБВГДЕЁЖЗИЙКЛМНОПРСТУФХЦЧШЩЭЮЯ', score=0.1, tag_pattern='NOUN,anim,%(gender)s,Sgtm,Patr,Fixd,Abbr,Init sing,%(case)s'), 'Я'),))]\n",
            "лгал\n",
            "[Parse(word='лгал', tag=OpencorporaTag('VERB,impf,intr masc,sing,past,indc'), normal_form='лгать', score=1.0, methods_stack=((DictionaryAnalyzer(), 'лгал', 1929, 7),))]\n",
            "но\n",
            "[Parse(word='но', tag=OpencorporaTag('CONJ'), normal_form='но', score=0.999185, methods_stack=((DictionaryAnalyzer(), 'но', 20, 0),)),\n",
            " Parse(word='но', tag=OpencorporaTag('INTJ'), normal_form='но', score=0.000814, methods_stack=((DictionaryAnalyzer(), 'но', 21, 0),))]\n",
            "мне\n",
            "[Parse(word='мне', tag=OpencorporaTag('NPRO,1per sing,datv'), normal_form='я', score=0.975393, methods_stack=((DictionaryAnalyzer(), 'мне', 3246, 2),)),\n",
            " Parse(word='мне', tag=OpencorporaTag('NPRO,1per sing,loct'), normal_form='я', score=0.024606, methods_stack=((DictionaryAnalyzer(), 'мне', 3246, 6),))]\n",
            "хотелось\n",
            "[Parse(word='хотелось', tag=OpencorporaTag('VERB,impf,intr,Impe neut,sing,past,indc'), normal_form='хотеться', score=1.0, methods_stack=((DictionaryAnalyzer(), 'хотелось', 3137, 1),))]\n",
            "его\n",
            "[Parse(word='его', tag=OpencorporaTag('NPRO,masc,3per,Anph sing,accs'), normal_form='он', score=0.23913, methods_stack=((DictionaryAnalyzer(), 'его', 2304, 5),)),\n",
            " Parse(word='его', tag=OpencorporaTag('NPRO,neut,3per,Anph sing,accs'), normal_form='оно', score=0.065217, methods_stack=((DictionaryAnalyzer(), 'его', 2307, 5),)),\n",
            " Parse(word='его', tag=OpencorporaTag('ADJF,Fixd,Apro,Anph femn,sing,gent'), normal_form='его', score=0.043478, methods_stack=((DictionaryAnalyzer(), 'его', 1440, 7),)),\n",
            " Parse(word='его', tag=OpencorporaTag('ADJF,Fixd,Apro,Anph neut,sing,gent'), normal_form='его', score=0.043478, methods_stack=((DictionaryAnalyzer(), 'его', 1440, 13),)),\n",
            " Parse(word='его', tag=OpencorporaTag('ADJF,Fixd,Apro,Anph plur,nomn'), normal_form='его', score=0.043478, methods_stack=((DictionaryAnalyzer(), 'его', 1440, 18),)),\n",
            " Parse(word='его', tag=OpencorporaTag('ADJF,Fixd,Apro,Anph plur,datv'), normal_form='его', score=0.043478, methods_stack=((DictionaryAnalyzer(), 'его', 1440, 20),)),\n",
            " Parse(word='его', tag=OpencorporaTag('NPRO,masc,3per,Anph sing,gent'), normal_form='он', score=0.043478, methods_stack=((DictionaryAnalyzer(), 'его', 2304, 1),)),\n",
            " Parse(word='его', tag=OpencorporaTag('NPRO,neut,3per,Anph sing,gent'), normal_form='оно', score=0.043478, methods_stack=((DictionaryAnalyzer(), 'его', 2307, 1),)),\n",
            " Parse(word='его', tag=OpencorporaTag('ADJF,Fixd,Apro,Anph masc,sing,nomn'), normal_form='его', score=0.021739, methods_stack=((DictionaryAnalyzer(), 'его', 1440, 0),)),\n",
            " Parse(word='его', tag=OpencorporaTag('ADJF,Fixd,Apro,Anph masc,sing,gent'), normal_form='его', score=0.021739, methods_stack=((DictionaryAnalyzer(), 'его', 1440, 1),)),\n",
            " Parse(word='его', tag=OpencorporaTag('ADJF,Fixd,Apro,Anph masc,sing,datv'), normal_form='его', score=0.021739, methods_stack=((DictionaryAnalyzer(), 'его', 1440, 2),)),\n",
            " Parse(word='его', tag=OpencorporaTag('ADJF,Fixd,Apro,Anph masc,sing,accs'), normal_form='его', score=0.021739, methods_stack=((DictionaryAnalyzer(), 'его', 1440, 3),)),\n",
            " Parse(word='его', tag=OpencorporaTag('ADJF,Fixd,Apro,Anph masc,sing,ablt'), normal_form='его', score=0.021739, methods_stack=((DictionaryAnalyzer(), 'его', 1440, 4),)),\n",
            " Parse(word='его', tag=OpencorporaTag('ADJF,Fixd,Apro,Anph masc,sing,loct'), normal_form='его', score=0.021739, methods_stack=((DictionaryAnalyzer(), 'его', 1440, 5),)),\n",
            " Parse(word='его', tag=OpencorporaTag('ADJF,Fixd,Apro,Anph femn,sing,nomn'), normal_form='его', score=0.021739, methods_stack=((DictionaryAnalyzer(), 'его', 1440, 6),)),\n",
            " Parse(word='его', tag=OpencorporaTag('ADJF,Fixd,Apro,Anph femn,sing,datv'), normal_form='его', score=0.021739, methods_stack=((DictionaryAnalyzer(), 'его', 1440, 8),)),\n",
            " Parse(word='его', tag=OpencorporaTag('ADJF,Fixd,Apro,Anph femn,sing,accs'), normal_form='его', score=0.021739, methods_stack=((DictionaryAnalyzer(), 'его', 1440, 9),)),\n",
            " Parse(word='его', tag=OpencorporaTag('ADJF,Fixd,Apro,Anph femn,sing,ablt'), normal_form='его', score=0.021739, methods_stack=((DictionaryAnalyzer(), 'его', 1440, 10),)),\n",
            " Parse(word='его', tag=OpencorporaTag('ADJF,Fixd,Apro,Anph femn,sing,loct'), normal_form='его', score=0.021739, methods_stack=((DictionaryAnalyzer(), 'его', 1440, 11),)),\n",
            " Parse(word='его', tag=OpencorporaTag('ADJF,Fixd,Apro,Anph neut,sing,nomn'), normal_form='его', score=0.021739, methods_stack=((DictionaryAnalyzer(), 'его', 1440, 12),)),\n",
            " Parse(word='его', tag=OpencorporaTag('ADJF,Fixd,Apro,Anph neut,sing,datv'), normal_form='его', score=0.021739, methods_stack=((DictionaryAnalyzer(), 'его', 1440, 14),)),\n",
            " Parse(word='его', tag=OpencorporaTag('ADJF,Fixd,Apro,Anph neut,sing,accs'), normal_form='его', score=0.021739, methods_stack=((DictionaryAnalyzer(), 'его', 1440, 15),)),\n",
            " Parse(word='его', tag=OpencorporaTag('ADJF,Fixd,Apro,Anph neut,sing,ablt'), normal_form='его', score=0.021739, methods_stack=((DictionaryAnalyzer(), 'его', 1440, 16),)),\n",
            " Parse(word='его', tag=OpencorporaTag('ADJF,Fixd,Apro,Anph neut,sing,loct'), normal_form='его', score=0.021739, methods_stack=((DictionaryAnalyzer(), 'его', 1440, 17),)),\n",
            " Parse(word='его', tag=OpencorporaTag('ADJF,Fixd,Apro,Anph plur,gent'), normal_form='его', score=0.021739, methods_stack=((DictionaryAnalyzer(), 'его', 1440, 19),)),\n",
            " Parse(word='его', tag=OpencorporaTag('ADJF,Fixd,Apro,Anph plur,accs'), normal_form='его', score=0.021739, methods_stack=((DictionaryAnalyzer(), 'его', 1440, 21),)),\n",
            " Parse(word='его', tag=OpencorporaTag('ADJF,Fixd,Apro,Anph plur,ablt'), normal_form='его', score=0.021739, methods_stack=((DictionaryAnalyzer(), 'его', 1440, 22),)),\n",
            " Parse(word='его', tag=OpencorporaTag('ADJF,Fixd,Apro,Anph plur,loct'), normal_form='его', score=0.021739, methods_stack=((DictionaryAnalyzer(), 'его', 1440, 23),))]\n",
            "побесить\n",
            "[Parse(word='побесить', tag=OpencorporaTag('INFN,perf,tran'), normal_form='побесить', score=1.0, methods_stack=((DictionaryAnalyzer(), 'побесить', 2265, 0),))]\n",
            "У\n",
            "[Parse(word='у', tag=OpencorporaTag('PREP'), normal_form='у', score=0.9959, methods_stack=((DictionaryAnalyzer(), 'у', 24, 0),)),\n",
            " Parse(word='у', tag=OpencorporaTag('INTJ'), normal_form='у', score=0.003552, methods_stack=((DictionaryAnalyzer(), 'у', 21, 0),)),\n",
            " Parse(word='у', tag=OpencorporaTag('NOUN,anim,masc,Sgtm,Name,Fixd,Abbr,Init sing,nomn'), normal_form='у', score=0.0, methods_stack=((AbbreviatedFirstNameAnalyzer(letters='АБВГДЕЁЖЗИЙКЛМНОПРСТУФХЦЧШЩЭЮЯ', score=0.1, tag_pattern='NOUN,anim,%(gender)s,Sgtm,Name,Fixd,Abbr,Init sing,%(case)s'), 'У'),)),\n",
            " Parse(word='у', tag=OpencorporaTag('NOUN,anim,masc,Sgtm,Name,Fixd,Abbr,Init sing,gent'), normal_form='у', score=0.0, methods_stack=((AbbreviatedFirstNameAnalyzer(letters='АБВГДЕЁЖЗИЙКЛМНОПРСТУФХЦЧШЩЭЮЯ', score=0.1, tag_pattern='NOUN,anim,%(gender)s,Sgtm,Name,Fixd,Abbr,Init sing,%(case)s'), 'У'),)),\n",
            " Parse(word='у', tag=OpencorporaTag('NOUN,anim,masc,Sgtm,Name,Fixd,Abbr,Init sing,datv'), normal_form='у', score=0.0, methods_stack=((AbbreviatedFirstNameAnalyzer(letters='АБВГДЕЁЖЗИЙКЛМНОПРСТУФХЦЧШЩЭЮЯ', score=0.1, tag_pattern='NOUN,anim,%(gender)s,Sgtm,Name,Fixd,Abbr,Init sing,%(case)s'), 'У'),)),\n",
            " Parse(word='у', tag=OpencorporaTag('NOUN,anim,masc,Sgtm,Name,Fixd,Abbr,Init sing,accs'), normal_form='у', score=0.0, methods_stack=((AbbreviatedFirstNameAnalyzer(letters='АБВГДЕЁЖЗИЙКЛМНОПРСТУФХЦЧШЩЭЮЯ', score=0.1, tag_pattern='NOUN,anim,%(gender)s,Sgtm,Name,Fixd,Abbr,Init sing,%(case)s'), 'У'),)),\n",
            " Parse(word='у', tag=OpencorporaTag('NOUN,anim,masc,Sgtm,Name,Fixd,Abbr,Init sing,ablt'), normal_form='у', score=0.0, methods_stack=((AbbreviatedFirstNameAnalyzer(letters='АБВГДЕЁЖЗИЙКЛМНОПРСТУФХЦЧШЩЭЮЯ', score=0.1, tag_pattern='NOUN,anim,%(gender)s,Sgtm,Name,Fixd,Abbr,Init sing,%(case)s'), 'У'),)),\n",
            " Parse(word='у', tag=OpencorporaTag('NOUN,anim,masc,Sgtm,Name,Fixd,Abbr,Init sing,loct'), normal_form='у', score=0.0, methods_stack=((AbbreviatedFirstNameAnalyzer(letters='АБВГДЕЁЖЗИЙКЛМНОПРСТУФХЦЧШЩЭЮЯ', score=0.1, tag_pattern='NOUN,anim,%(gender)s,Sgtm,Name,Fixd,Abbr,Init sing,%(case)s'), 'У'),)),\n",
            " Parse(word='у', tag=OpencorporaTag('NOUN,anim,femn,Sgtm,Name,Fixd,Abbr,Init sing,nomn'), normal_form='у', score=0.0, methods_stack=((AbbreviatedFirstNameAnalyzer(letters='АБВГДЕЁЖЗИЙКЛМНОПРСТУФХЦЧШЩЭЮЯ', score=0.1, tag_pattern='NOUN,anim,%(gender)s,Sgtm,Name,Fixd,Abbr,Init sing,%(case)s'), 'У'),)),\n",
            " Parse(word='у', tag=OpencorporaTag('NOUN,anim,femn,Sgtm,Name,Fixd,Abbr,Init sing,gent'), normal_form='у', score=0.0, methods_stack=((AbbreviatedFirstNameAnalyzer(letters='АБВГДЕЁЖЗИЙКЛМНОПРСТУФХЦЧШЩЭЮЯ', score=0.1, tag_pattern='NOUN,anim,%(gender)s,Sgtm,Name,Fixd,Abbr,Init sing,%(case)s'), 'У'),)),\n",
            " Parse(word='у', tag=OpencorporaTag('NOUN,anim,femn,Sgtm,Name,Fixd,Abbr,Init sing,datv'), normal_form='у', score=0.0, methods_stack=((AbbreviatedFirstNameAnalyzer(letters='АБВГДЕЁЖЗИЙКЛМНОПРСТУФХЦЧШЩЭЮЯ', score=0.1, tag_pattern='NOUN,anim,%(gender)s,Sgtm,Name,Fixd,Abbr,Init sing,%(case)s'), 'У'),)),\n",
            " Parse(word='у', tag=OpencorporaTag('NOUN,anim,femn,Sgtm,Name,Fixd,Abbr,Init sing,accs'), normal_form='у', score=0.0, methods_stack=((AbbreviatedFirstNameAnalyzer(letters='АБВГДЕЁЖЗИЙКЛМНОПРСТУФХЦЧШЩЭЮЯ', score=0.1, tag_pattern='NOUN,anim,%(gender)s,Sgtm,Name,Fixd,Abbr,Init sing,%(case)s'), 'У'),)),\n",
            " Parse(word='у', tag=OpencorporaTag('NOUN,anim,femn,Sgtm,Name,Fixd,Abbr,Init sing,ablt'), normal_form='у', score=0.0, methods_stack=((AbbreviatedFirstNameAnalyzer(letters='АБВГДЕЁЖЗИЙКЛМНОПРСТУФХЦЧШЩЭЮЯ', score=0.1, tag_pattern='NOUN,anim,%(gender)s,Sgtm,Name,Fixd,Abbr,Init sing,%(case)s'), 'У'),)),\n",
            " Parse(word='у', tag=OpencorporaTag('NOUN,anim,femn,Sgtm,Name,Fixd,Abbr,Init sing,loct'), normal_form='у', score=0.0, methods_stack=((AbbreviatedFirstNameAnalyzer(letters='АБВГДЕЁЖЗИЙКЛМНОПРСТУФХЦЧШЩЭЮЯ', score=0.1, tag_pattern='NOUN,anim,%(gender)s,Sgtm,Name,Fixd,Abbr,Init sing,%(case)s'), 'У'),)),\n",
            " Parse(word='у', tag=OpencorporaTag('NOUN,anim,masc,Sgtm,Patr,Fixd,Abbr,Init sing,nomn'), normal_form='у', score=0.0, methods_stack=((AbbreviatedPatronymicAnalyzer(letters='АБВГДЕЁЖЗИЙКЛМНОПРСТУФХЦЧШЩЭЮЯ', score=0.1, tag_pattern='NOUN,anim,%(gender)s,Sgtm,Patr,Fixd,Abbr,Init sing,%(case)s'), 'У'),)),\n",
            " Parse(word='у', tag=OpencorporaTag('NOUN,anim,masc,Sgtm,Patr,Fixd,Abbr,Init sing,gent'), normal_form='у', score=0.0, methods_stack=((AbbreviatedPatronymicAnalyzer(letters='АБВГДЕЁЖЗИЙКЛМНОПРСТУФХЦЧШЩЭЮЯ', score=0.1, tag_pattern='NOUN,anim,%(gender)s,Sgtm,Patr,Fixd,Abbr,Init sing,%(case)s'), 'У'),)),\n",
            " Parse(word='у', tag=OpencorporaTag('NOUN,anim,masc,Sgtm,Patr,Fixd,Abbr,Init sing,datv'), normal_form='у', score=0.0, methods_stack=((AbbreviatedPatronymicAnalyzer(letters='АБВГДЕЁЖЗИЙКЛМНОПРСТУФХЦЧШЩЭЮЯ', score=0.1, tag_pattern='NOUN,anim,%(gender)s,Sgtm,Patr,Fixd,Abbr,Init sing,%(case)s'), 'У'),)),\n",
            " Parse(word='у', tag=OpencorporaTag('NOUN,anim,masc,Sgtm,Patr,Fixd,Abbr,Init sing,accs'), normal_form='у', score=0.0, methods_stack=((AbbreviatedPatronymicAnalyzer(letters='АБВГДЕЁЖЗИЙКЛМНОПРСТУФХЦЧШЩЭЮЯ', score=0.1, tag_pattern='NOUN,anim,%(gender)s,Sgtm,Patr,Fixd,Abbr,Init sing,%(case)s'), 'У'),)),\n",
            " Parse(word='у', tag=OpencorporaTag('NOUN,anim,masc,Sgtm,Patr,Fixd,Abbr,Init sing,ablt'), normal_form='у', score=0.0, methods_stack=((AbbreviatedPatronymicAnalyzer(letters='АБВГДЕЁЖЗИЙКЛМНОПРСТУФХЦЧШЩЭЮЯ', score=0.1, tag_pattern='NOUN,anim,%(gender)s,Sgtm,Patr,Fixd,Abbr,Init sing,%(case)s'), 'У'),)),\n",
            " Parse(word='у', tag=OpencorporaTag('NOUN,anim,masc,Sgtm,Patr,Fixd,Abbr,Init sing,loct'), normal_form='у', score=0.0, methods_stack=((AbbreviatedPatronymicAnalyzer(letters='АБВГДЕЁЖЗИЙКЛМНОПРСТУФХЦЧШЩЭЮЯ', score=0.1, tag_pattern='NOUN,anim,%(gender)s,Sgtm,Patr,Fixd,Abbr,Init sing,%(case)s'), 'У'),)),\n",
            " Parse(word='у', tag=OpencorporaTag('NOUN,anim,femn,Sgtm,Patr,Fixd,Abbr,Init sing,nomn'), normal_form='у', score=0.0, methods_stack=((AbbreviatedPatronymicAnalyzer(letters='АБВГДЕЁЖЗИЙКЛМНОПРСТУФХЦЧШЩЭЮЯ', score=0.1, tag_pattern='NOUN,anim,%(gender)s,Sgtm,Patr,Fixd,Abbr,Init sing,%(case)s'), 'У'),)),\n",
            " Parse(word='у', tag=OpencorporaTag('NOUN,anim,femn,Sgtm,Patr,Fixd,Abbr,Init sing,gent'), normal_form='у', score=0.0, methods_stack=((AbbreviatedPatronymicAnalyzer(letters='АБВГДЕЁЖЗИЙКЛМНОПРСТУФХЦЧШЩЭЮЯ', score=0.1, tag_pattern='NOUN,anim,%(gender)s,Sgtm,Patr,Fixd,Abbr,Init sing,%(case)s'), 'У'),)),\n",
            " Parse(word='у', tag=OpencorporaTag('NOUN,anim,femn,Sgtm,Patr,Fixd,Abbr,Init sing,datv'), normal_form='у', score=0.0, methods_stack=((AbbreviatedPatronymicAnalyzer(letters='АБВГДЕЁЖЗИЙКЛМНОПРСТУФХЦЧШЩЭЮЯ', score=0.1, tag_pattern='NOUN,anim,%(gender)s,Sgtm,Patr,Fixd,Abbr,Init sing,%(case)s'), 'У'),)),\n",
            " Parse(word='у', tag=OpencorporaTag('NOUN,anim,femn,Sgtm,Patr,Fixd,Abbr,Init sing,accs'), normal_form='у', score=0.0, methods_stack=((AbbreviatedPatronymicAnalyzer(letters='АБВГДЕЁЖЗИЙКЛМНОПРСТУФХЦЧШЩЭЮЯ', score=0.1, tag_pattern='NOUN,anim,%(gender)s,Sgtm,Patr,Fixd,Abbr,Init sing,%(case)s'), 'У'),)),\n",
            " Parse(word='у', tag=OpencorporaTag('NOUN,anim,femn,Sgtm,Patr,Fixd,Abbr,Init sing,ablt'), normal_form='у', score=0.0, methods_stack=((AbbreviatedPatronymicAnalyzer(letters='АБВГДЕЁЖЗИЙКЛМНОПРСТУФХЦЧШЩЭЮЯ', score=0.1, tag_pattern='NOUN,anim,%(gender)s,Sgtm,Patr,Fixd,Abbr,Init sing,%(case)s'), 'У'),)),\n",
            " Parse(word='у', tag=OpencorporaTag('NOUN,anim,femn,Sgtm,Patr,Fixd,Abbr,Init sing,loct'), normal_form='у', score=0.0, methods_stack=((AbbreviatedPatronymicAnalyzer(letters='АБВГДЕЁЖЗИЙКЛМНОПРСТУФХЦЧШЩЭЮЯ', score=0.1, tag_pattern='NOUN,anim,%(gender)s,Sgtm,Patr,Fixd,Abbr,Init sing,%(case)s'), 'У'),))]\n",
            "меня\n",
            "[Parse(word='меня', tag=OpencorporaTag('NPRO,1per sing,accs'), normal_form='я', score=0.536184, methods_stack=((DictionaryAnalyzer(), 'меня', 3246, 3),)),\n",
            " Parse(word='меня', tag=OpencorporaTag('NPRO,1per sing,gent'), normal_form='я', score=0.463815, methods_stack=((DictionaryAnalyzer(), 'меня', 3246, 1),))]\n",
            "врожденная\n",
            "[Parse(word='врождённая', tag=OpencorporaTag('ADJF,Qual femn,sing,nomn'), normal_form='врождённый', score=1.0, methods_stack=((DictionaryAnalyzer(), 'врождённая', 976, 7),))]\n",
            "страсть\n",
            "[Parse(word='страсть', tag=OpencorporaTag('ADVB'), normal_form='страсть', score=0.5, methods_stack=((DictionaryAnalyzer(), 'страсть', 3, 0),)),\n",
            " Parse(word='страсть', tag=OpencorporaTag('NOUN,inan,femn sing,nomn'), normal_form='страсть', score=0.333333, methods_stack=((DictionaryAnalyzer(), 'страсть', 2683, 0),)),\n",
            " Parse(word='страсть', tag=OpencorporaTag('NOUN,inan,femn sing,accs'), normal_form='страсть', score=0.166666, methods_stack=((DictionaryAnalyzer(), 'страсть', 2683, 3),))]\n",
            "противоречить\n",
            "[Parse(word='противоречить', tag=OpencorporaTag('INFN,impf,intr'), normal_form='противоречить', score=1.0, methods_stack=((DictionaryAnalyzer(), 'противоречить', 371, 0),))]\n"
          ]
        }
      ]
    },
    {
      "cell_type": "code",
      "source": [
        "strange_sentence = \"Глокая куздра штеко будланула бокра и курдячит бокрёнка.\"\n",
        "for word in strange_sentence.split():\n",
        "  print(word.strip(string.punctuation))\n",
        "  pprint(morph.parse(word.strip(string.punctuation)))"
      ],
      "metadata": {
        "colab": {
          "base_uri": "https://localhost:8080/"
        },
        "id": "p5-13OH0jvgV",
        "outputId": "4bd2e3a5-91c6-467f-ff94-f109ba33bc08"
      },
      "execution_count": null,
      "outputs": [
        {
          "output_type": "stream",
          "name": "stdout",
          "text": [
            "Глокая\n",
            "[Parse(word='глокая', tag=OpencorporaTag('GRND,impf,intr pres'), normal_form='глокать', score=0.27950310559006214, methods_stack=((DictionaryAnalyzer(), 'окая', 15, 67), (UnknownPrefixAnalyzer(score_multiplier=0.5), 'гл'))),\n",
            " Parse(word='глокая', tag=OpencorporaTag('NOUN,anim,masc,Name sing,gent'), normal_form='глокай', score=0.27950310559006214, methods_stack=((DictionaryAnalyzer(), 'кая', 42, 1), (UnknownPrefixAnalyzer(score_multiplier=0.5), 'гло'))),\n",
            " Parse(word='глокая', tag=OpencorporaTag('NOUN,anim,masc,Name sing,accs'), normal_form='глокай', score=0.27950310559006214, methods_stack=((DictionaryAnalyzer(), 'кая', 42, 3), (UnknownPrefixAnalyzer(score_multiplier=0.5), 'гло'))),\n",
            " Parse(word='глокая', tag=OpencorporaTag('ADJF femn,sing,nomn'), normal_form='глокий', score=0.14906832298136646, methods_stack=((FakeDictionary(), 'глокая', 395, 7), (KnownSuffixAnalyzer(min_word_length=4, score_multiplier=0.5), 'окая'))),\n",
            " Parse(word='глокая', tag=OpencorporaTag('NOUN,inan,masc,Sgtm,Geox sing,gent'), normal_form='глокай', score=0.006211180124223603, methods_stack=((FakeDictionary(), 'глокая', 43, 1), (KnownSuffixAnalyzer(min_word_length=4, score_multiplier=0.5), 'окая'))),\n",
            " Parse(word='глокая', tag=OpencorporaTag('NOUN,inan,masc sing,gent'), normal_form='глокай', score=0.006211180124223603, methods_stack=((FakeDictionary(), 'глокая', 1217, 1), (KnownSuffixAnalyzer(min_word_length=4, score_multiplier=0.5), 'окая')))]\n",
            "куздра\n",
            "[Parse(word='куздра', tag=OpencorporaTag('NOUN,inan,femn,Sgtm,Fixd,Abbr,Geox sing,nomn'), normal_form='куздра', score=0.15000000000000002, methods_stack=((DictionaryAnalyzer(), 'дра', 268, 0), (UnknownPrefixAnalyzer(score_multiplier=0.5), 'куз'))),\n",
            " Parse(word='куздра', tag=OpencorporaTag('NOUN,inan,femn,Sgtm,Fixd,Abbr,Geox sing,gent'), normal_form='куздра', score=0.15000000000000002, methods_stack=((DictionaryAnalyzer(), 'дра', 268, 1), (UnknownPrefixAnalyzer(score_multiplier=0.5), 'куз'))),\n",
            " Parse(word='куздра', tag=OpencorporaTag('NOUN,inan,femn,Sgtm,Fixd,Abbr,Geox sing,datv'), normal_form='куздра', score=0.15000000000000002, methods_stack=((DictionaryAnalyzer(), 'дра', 268, 2), (UnknownPrefixAnalyzer(score_multiplier=0.5), 'куз'))),\n",
            " Parse(word='куздра', tag=OpencorporaTag('NOUN,inan,femn,Sgtm,Fixd,Abbr,Geox sing,accs'), normal_form='куздра', score=0.15000000000000002, methods_stack=((DictionaryAnalyzer(), 'дра', 268, 3), (UnknownPrefixAnalyzer(score_multiplier=0.5), 'куз'))),\n",
            " Parse(word='куздра', tag=OpencorporaTag('NOUN,inan,femn,Sgtm,Fixd,Abbr,Geox sing,ablt'), normal_form='куздра', score=0.15000000000000002, methods_stack=((DictionaryAnalyzer(), 'дра', 268, 4), (UnknownPrefixAnalyzer(score_multiplier=0.5), 'куз'))),\n",
            " Parse(word='куздра', tag=OpencorporaTag('NOUN,inan,femn,Sgtm,Fixd,Abbr,Geox sing,loct'), normal_form='куздра', score=0.15000000000000002, methods_stack=((DictionaryAnalyzer(), 'дра', 268, 5), (UnknownPrefixAnalyzer(score_multiplier=0.5), 'куз'))),\n",
            " Parse(word='куздра', tag=OpencorporaTag('NOUN,inan,femn,Sgtm sing,nomn'), normal_form='куздра', score=0.05, methods_stack=((FakeDictionary(), 'куздра', 30, 0), (KnownSuffixAnalyzer(min_word_length=4, score_multiplier=0.5), 'здра'))),\n",
            " Parse(word='куздра', tag=OpencorporaTag('NOUN,inan,femn,Sgtm,Geox sing,nomn'), normal_form='куздра', score=0.05, methods_stack=((FakeDictionary(), 'куздра', 36, 0), (KnownSuffixAnalyzer(min_word_length=4, score_multiplier=0.5), 'здра')))]\n",
            "штеко\n",
            "[Parse(word='штёко', tag=OpencorporaTag('ADJS neut,sing'), normal_form='штёкий', score=0.2499999999999999, methods_stack=((FakeDictionary(), 'штёко', 395, 29), (KnownSuffixAnalyzer(min_word_length=4, score_multiplier=0.5), 'ёко'))),\n",
            " Parse(word='штеко', tag=OpencorporaTag('ADVB'), normal_form='штеко', score=0.04166666666666665, methods_stack=((FakeDictionary(), 'штеко', 3, 0), (KnownSuffixAnalyzer(min_word_length=4, score_multiplier=0.5), 'еко'))),\n",
            " Parse(word='штеко', tag=OpencorporaTag('NOUN,anim,masc,Sgtm,Fixd,Name sing,nomn'), normal_form='штеко', score=0.04166666666666665, methods_stack=((FakeDictionary(), 'штеко', 25, 0), (KnownSuffixAnalyzer(min_word_length=4, score_multiplier=0.5), 'еко'))),\n",
            " Parse(word='штеко', tag=OpencorporaTag('NOUN,anim,masc,Sgtm,Fixd,Name sing,gent'), normal_form='штеко', score=0.04166666666666665, methods_stack=((FakeDictionary(), 'штеко', 25, 1), (KnownSuffixAnalyzer(min_word_length=4, score_multiplier=0.5), 'еко'))),\n",
            " Parse(word='штеко', tag=OpencorporaTag('NOUN,anim,masc,Sgtm,Fixd,Name sing,datv'), normal_form='штеко', score=0.04166666666666665, methods_stack=((FakeDictionary(), 'штеко', 25, 2), (KnownSuffixAnalyzer(min_word_length=4, score_multiplier=0.5), 'еко'))),\n",
            " Parse(word='штеко', tag=OpencorporaTag('NOUN,anim,masc,Sgtm,Fixd,Name sing,accs'), normal_form='штеко', score=0.04166666666666665, methods_stack=((FakeDictionary(), 'штеко', 25, 3), (KnownSuffixAnalyzer(min_word_length=4, score_multiplier=0.5), 'еко'))),\n",
            " Parse(word='штеко', tag=OpencorporaTag('NOUN,anim,masc,Sgtm,Fixd,Name sing,ablt'), normal_form='штеко', score=0.04166666666666665, methods_stack=((FakeDictionary(), 'штеко', 25, 4), (KnownSuffixAnalyzer(min_word_length=4, score_multiplier=0.5), 'еко'))),\n",
            " Parse(word='штеко', tag=OpencorporaTag('NOUN,anim,masc,Sgtm,Fixd,Name sing,loct'), normal_form='штеко', score=0.04166666666666665, methods_stack=((FakeDictionary(), 'штеко', 25, 5), (KnownSuffixAnalyzer(min_word_length=4, score_multiplier=0.5), 'еко'))),\n",
            " Parse(word='штеко', tag=OpencorporaTag('NOUN,inan,masc,Sgtm,Fixd,Geox sing,nomn'), normal_form='штеко', score=0.04166666666666665, methods_stack=((FakeDictionary(), 'штеко', 31, 0), (KnownSuffixAnalyzer(min_word_length=4, score_multiplier=0.5), 'еко'))),\n",
            " Parse(word='штеко', tag=OpencorporaTag('NOUN,inan,masc,Sgtm,Fixd,Geox sing,gent'), normal_form='штеко', score=0.04166666666666665, methods_stack=((FakeDictionary(), 'штеко', 31, 1), (KnownSuffixAnalyzer(min_word_length=4, score_multiplier=0.5), 'еко'))),\n",
            " Parse(word='штеко', tag=OpencorporaTag('NOUN,inan,masc,Sgtm,Fixd,Geox sing,datv'), normal_form='штеко', score=0.04166666666666665, methods_stack=((FakeDictionary(), 'штеко', 31, 2), (KnownSuffixAnalyzer(min_word_length=4, score_multiplier=0.5), 'еко'))),\n",
            " Parse(word='штеко', tag=OpencorporaTag('NOUN,inan,masc,Sgtm,Fixd,Geox sing,accs'), normal_form='штеко', score=0.04166666666666665, methods_stack=((FakeDictionary(), 'штеко', 31, 3), (KnownSuffixAnalyzer(min_word_length=4, score_multiplier=0.5), 'еко'))),\n",
            " Parse(word='штеко', tag=OpencorporaTag('NOUN,inan,masc,Sgtm,Fixd,Geox sing,ablt'), normal_form='штеко', score=0.04166666666666665, methods_stack=((FakeDictionary(), 'штеко', 31, 4), (KnownSuffixAnalyzer(min_word_length=4, score_multiplier=0.5), 'еко'))),\n",
            " Parse(word='штеко', tag=OpencorporaTag('NOUN,inan,masc,Sgtm,Fixd,Geox sing,loct'), normal_form='штеко', score=0.04166666666666665, methods_stack=((FakeDictionary(), 'штеко', 31, 5), (KnownSuffixAnalyzer(min_word_length=4, score_multiplier=0.5), 'еко'))),\n",
            " Parse(word='штеко', tag=OpencorporaTag('NOUN,inan,neut,Sgtm sing,nomn'), normal_form='штеко', score=0.04166666666666665, methods_stack=((FakeDictionary(), 'штеко', 110, 0), (KnownSuffixAnalyzer(min_word_length=4, score_multiplier=0.5), 'еко'))),\n",
            " Parse(word='штеко', tag=OpencorporaTag('NOUN,inan,neut,Sgtm sing,accs'), normal_form='штеко', score=0.04166666666666665, methods_stack=((FakeDictionary(), 'штеко', 110, 3), (KnownSuffixAnalyzer(min_word_length=4, score_multiplier=0.5), 'еко'))),\n",
            " Parse(word='штеко', tag=OpencorporaTag('ADVB,Prdx'), normal_form='штеко', score=0.04166666666666665, methods_stack=((FakeDictionary(), 'штеко', 404, 0), (KnownSuffixAnalyzer(min_word_length=4, score_multiplier=0.5), 'еко'))),\n",
            " Parse(word='штеко', tag=OpencorporaTag('NOUN,inan,neut sing,nomn'), normal_form='штеко', score=0.04166666666666665, methods_stack=((FakeDictionary(), 'штеко', 583, 0), (KnownSuffixAnalyzer(min_word_length=4, score_multiplier=0.5), 'еко'))),\n",
            " Parse(word='штеко', tag=OpencorporaTag('NOUN,inan,neut sing,accs'), normal_form='штеко', score=0.04166666666666665, methods_stack=((FakeDictionary(), 'штеко', 583, 3), (KnownSuffixAnalyzer(min_word_length=4, score_multiplier=0.5), 'еко')))]\n",
            "будланула\n",
            "[Parse(word='будланула', tag=OpencorporaTag('NOUN,anim,femn,Name sing,nomn'), normal_form='будланула', score=0.5185185185185185, methods_stack=((DictionaryAnalyzer(), 'анула', 69, 0), (UnknownPrefixAnalyzer(score_multiplier=0.5), 'будл'))),\n",
            " Parse(word='будланула', tag=OpencorporaTag('VERB,perf,tran femn,sing,past,indc'), normal_form='будлануть', score=0.4567901234567901, methods_stack=((FakeDictionary(), 'будланула', 514, 2), (KnownSuffixAnalyzer(min_word_length=4, score_multiplier=0.5), 'анула'))),\n",
            " Parse(word='будланула', tag=OpencorporaTag('NOUN,inan,femn sing,nomn'), normal_form='будланула', score=0.024691358024691357, methods_stack=((FakeDictionary(), 'будланула', 55, 0), (KnownSuffixAnalyzer(min_word_length=4, score_multiplier=0.5), 'анула')))]\n",
            "бокра\n",
            "[Parse(word='бокра', tag=OpencorporaTag('NOUN,inan,femn,Sgtm sing,nomn'), normal_form='бокра', score=0.8, methods_stack=((DictionaryAnalyzer(), 'окра', 30, 0), (UnknownPrefixAnalyzer(score_multiplier=0.5), 'б'))),\n",
            " Parse(word='бокра', tag=OpencorporaTag('ADJS,Qual femn,sing'), normal_form='бокрый', score=0.2, methods_stack=((FakeDictionary(), 'бокра', 4, 28), (KnownSuffixAnalyzer(min_word_length=4, score_multiplier=0.5), 'окра')))]\n",
            "и\n",
            "[Parse(word='и', tag=OpencorporaTag('CONJ'), normal_form='и', score=0.998263, methods_stack=((DictionaryAnalyzer(), 'и', 20, 0),)),\n",
            " Parse(word='и', tag=OpencorporaTag('PRCL'), normal_form='и', score=0.000306, methods_stack=((DictionaryAnalyzer(), 'и', 22, 0),)),\n",
            " Parse(word='и', tag=OpencorporaTag('INTJ'), normal_form='и', score=0.000204, methods_stack=((DictionaryAnalyzer(), 'и', 21, 0),)),\n",
            " Parse(word='и', tag=OpencorporaTag('NOUN,anim,masc,Fixd,Abbr sing,nomn'), normal_form='и', score=0.000102, methods_stack=((DictionaryAnalyzer(), 'и', 3289, 0),)),\n",
            " Parse(word='и', tag=OpencorporaTag('NOUN,anim,masc,Fixd,Abbr sing,gent'), normal_form='и', score=0.000102, methods_stack=((DictionaryAnalyzer(), 'и', 3289, 1),)),\n",
            " Parse(word='и', tag=OpencorporaTag('NOUN,anim,masc,Fixd,Abbr sing,datv'), normal_form='и', score=0.000102, methods_stack=((DictionaryAnalyzer(), 'и', 3289, 2),)),\n",
            " Parse(word='и', tag=OpencorporaTag('NOUN,anim,masc,Fixd,Abbr sing,accs'), normal_form='и', score=0.000102, methods_stack=((DictionaryAnalyzer(), 'и', 3289, 3),)),\n",
            " Parse(word='и', tag=OpencorporaTag('NOUN,anim,masc,Fixd,Abbr sing,ablt'), normal_form='и', score=0.000102, methods_stack=((DictionaryAnalyzer(), 'и', 3289, 4),)),\n",
            " Parse(word='и', tag=OpencorporaTag('NOUN,anim,masc,Fixd,Abbr sing,loct'), normal_form='и', score=0.000102, methods_stack=((DictionaryAnalyzer(), 'и', 3289, 5),)),\n",
            " Parse(word='и', tag=OpencorporaTag('NOUN,anim,masc,Fixd,Abbr plur,nomn'), normal_form='и', score=0.000102, methods_stack=((DictionaryAnalyzer(), 'и', 3289, 6),)),\n",
            " Parse(word='и', tag=OpencorporaTag('NOUN,anim,masc,Fixd,Abbr plur,gent'), normal_form='и', score=0.000102, methods_stack=((DictionaryAnalyzer(), 'и', 3289, 7),)),\n",
            " Parse(word='и', tag=OpencorporaTag('NOUN,anim,masc,Fixd,Abbr plur,datv'), normal_form='и', score=0.000102, methods_stack=((DictionaryAnalyzer(), 'и', 3289, 8),)),\n",
            " Parse(word='и', tag=OpencorporaTag('NOUN,anim,masc,Fixd,Abbr plur,accs'), normal_form='и', score=0.000102, methods_stack=((DictionaryAnalyzer(), 'и', 3289, 9),)),\n",
            " Parse(word='и', tag=OpencorporaTag('NOUN,anim,masc,Fixd,Abbr plur,ablt'), normal_form='и', score=0.000102, methods_stack=((DictionaryAnalyzer(), 'и', 3289, 10),)),\n",
            " Parse(word='и', tag=OpencorporaTag('NOUN,anim,masc,Fixd,Abbr plur,loct'), normal_form='и', score=0.000102, methods_stack=((DictionaryAnalyzer(), 'и', 3289, 11),))]\n",
            "курдячит\n",
            "[Parse(word='курдячит', tag=OpencorporaTag('VERB,impf,intr sing,3per,pres,indc'), normal_form='курдячать', score=0.5384615384615384, methods_stack=((DictionaryAnalyzer(), 'ячит', 564, 5), (UnknownPrefixAnalyzer(score_multiplier=0.5), 'курд'))),\n",
            " Parse(word='курдячит', tag=OpencorporaTag('VERB,impf,intr sing,3per,pres,indc'), normal_form='курдячить', score=0.23076923076923075, methods_stack=((FakeDictionary(), 'курдячит', 371, 5), (KnownSuffixAnalyzer(min_word_length=4, score_multiplier=0.5), 'ячит'))),\n",
            " Parse(word='курдячит', tag=OpencorporaTag('VERB,perf,intr sing,3per,futr,indc'), normal_form='курдячить', score=0.23076923076923075, methods_stack=((FakeDictionary(), 'курдячит', 1551, 9), (KnownSuffixAnalyzer(min_word_length=4, score_multiplier=0.5), 'ячит')))]\n",
            "бокрёнка\n",
            "[Parse(word='бокрёнка', tag=OpencorporaTag('NOUN,anim,masc sing,gent'), normal_form='бокрёнок', score=0.49999999999999994, methods_stack=((FakeDictionary(), 'бокрёнка', 205, 1), (KnownSuffixAnalyzer(min_word_length=4, score_multiplier=0.5), 'рёнка'))),\n",
            " Parse(word='бокрёнка', tag=OpencorporaTag('NOUN,anim,masc sing,accs'), normal_form='бокрёнок', score=0.49999999999999994, methods_stack=((FakeDictionary(), 'бокрёнка', 205, 3), (KnownSuffixAnalyzer(min_word_length=4, score_multiplier=0.5), 'рёнка')))]\n"
          ]
        }
      ]
    },
    {
      "cell_type": "code",
      "source": [
        "for word in sentence.split():\n",
        "  parser = morph.parse(word.strip(string.punctuation))[0]\n",
        "  print(word.strip(string.punctuation), ':', parser.normal_form, ':', parser.tag, sep = ' ')"
      ],
      "metadata": {
        "colab": {
          "base_uri": "https://localhost:8080/"
        },
        "id": "7gp395UxnAE5",
        "outputId": "5c4e4c55-6200-4435-96ae-9c67913042ee"
      },
      "execution_count": null,
      "outputs": [
        {
          "output_type": "stream",
          "name": "stdout",
          "text": [
            "Я : я : NPRO,1per sing,nomn\n",
            "лгал : лгать : VERB,impf,intr masc,sing,past,indc\n",
            "но : но : CONJ\n",
            "мне : я : NPRO,1per sing,datv\n",
            "хотелось : хотеться : VERB,impf,intr,Impe neut,sing,past,indc\n",
            "его : он : NPRO,masc,3per,Anph sing,accs\n",
            "побесить : побесить : INFN,perf,tran\n",
            "У : у : PREP\n",
            "меня : я : NPRO,1per sing,accs\n",
            "врожденная : врождённый : ADJF,Qual femn,sing,nomn\n",
            "страсть : страсть : ADVB\n",
            "противоречить : противоречить : INFN,impf,intr\n"
          ]
        }
      ]
    },
    {
      "cell_type": "code",
      "source": [
        "for word in strange_sentence.split():\n",
        "  parser = morph.parse(word.strip(string.punctuation))[0]\n",
        "  print(word.strip(string.punctuation), ':', parser.normal_form, ':', parser.tag, sep = ' ')"
      ],
      "metadata": {
        "colab": {
          "base_uri": "https://localhost:8080/"
        },
        "id": "ksq3O8TKowIG",
        "outputId": "c9f808d3-6b96-4bd1-ac7e-04a0bf9b7a77"
      },
      "execution_count": null,
      "outputs": [
        {
          "output_type": "stream",
          "name": "stdout",
          "text": [
            "Глокая : глокать : GRND,impf,intr pres\n",
            "куздра : куздра : NOUN,inan,femn,Sgtm,Fixd,Abbr,Geox sing,nomn\n",
            "штеко : штёкий : ADJS neut,sing\n",
            "будланула : будланула : NOUN,anim,femn,Name sing,nomn\n",
            "бокра : бокра : NOUN,inan,femn,Sgtm sing,nomn\n",
            "и : и : CONJ\n",
            "курдячит : курдячать : VERB,impf,intr sing,3per,pres,indc\n",
            "бокрёнка : бокрёнок : NOUN,anim,masc sing,gent\n"
          ]
        }
      ]
    },
    {
      "cell_type": "markdown",
      "source": [
        "Мы можем также склонять или спрягать разые слова."
      ],
      "metadata": {
        "id": "4-erVaG4o2A6"
      }
    },
    {
      "cell_type": "code",
      "source": [
        "kurd = morph.parse('курдячит')[0]\n",
        "print(kurd.inflect({'plur'}))\n",
        "print(kurd.inflect({'plur', 'past'}))\n",
        "print(kurd.inflect({'past'}))\n",
        "print(kurd.inflect({'past', 'femn'}))"
      ],
      "metadata": {
        "colab": {
          "base_uri": "https://localhost:8080/"
        },
        "id": "GwlBpLCOo1dF",
        "outputId": "9d9d0bfd-4629-491f-932a-68850f5c3253"
      },
      "execution_count": null,
      "outputs": [
        {
          "output_type": "stream",
          "name": "stdout",
          "text": [
            "Parse(word='курдячат', tag=OpencorporaTag('VERB,impf,intr plur,3per,pres,indc'), normal_form='курдячать', score=1.0, methods_stack=((DictionaryAnalyzer(), 'ячат', 564, 6), (UnknownPrefixAnalyzer(score_multiplier=0.5), 'курд')))\n",
            "Parse(word='курдячали', tag=OpencorporaTag('VERB,impf,intr plur,past,indc'), normal_form='курдячать', score=1.0, methods_stack=((DictionaryAnalyzer(), 'ячали', 564, 10), (UnknownPrefixAnalyzer(score_multiplier=0.5), 'курд')))\n",
            "Parse(word='курдячал', tag=OpencorporaTag('VERB,impf,intr masc,sing,past,indc'), normal_form='курдячать', score=1.0, methods_stack=((DictionaryAnalyzer(), 'ячал', 564, 7), (UnknownPrefixAnalyzer(score_multiplier=0.5), 'курд')))\n",
            "Parse(word='курдячала', tag=OpencorporaTag('VERB,impf,intr femn,sing,past,indc'), normal_form='курдячать', score=1.0, methods_stack=((DictionaryAnalyzer(), 'ячала', 564, 8), (UnknownPrefixAnalyzer(score_multiplier=0.5), 'курд')))\n"
          ]
        }
      ]
    },
    {
      "cell_type": "markdown",
      "source": [
        "Можем попросить выдать нам все возможные формы лексемы."
      ],
      "metadata": {
        "id": "wB1nQYMHp29L"
      }
    },
    {
      "cell_type": "code",
      "source": [
        "kurd.lexeme"
      ],
      "metadata": {
        "id": "eA5BDWaIprGN"
      },
      "execution_count": null,
      "outputs": []
    },
    {
      "cell_type": "markdown",
      "source": [
        "Также есть очень удобная функция, которая ставит слово в нужную форму в зависимости от числительного."
      ],
      "metadata": {
        "id": "UusttAfnp7IR"
      }
    },
    {
      "cell_type": "code",
      "source": [
        "kuzd = morph.parse('яблоко')[0]\n",
        "kuzd.lexeme"
      ],
      "metadata": {
        "colab": {
          "base_uri": "https://localhost:8080/"
        },
        "id": "AQ1piFT9qWyP",
        "outputId": "5879ca46-af59-4ed4-93d4-950735fd9f20"
      },
      "execution_count": null,
      "outputs": [
        {
          "output_type": "execute_result",
          "data": {
            "text/plain": [
              "[Parse(word='яблоко', tag=OpencorporaTag('NOUN,inan,neut sing,nomn'), normal_form='яблоко', score=1.0, methods_stack=((DictionaryAnalyzer(), 'яблоко', 583, 0),)),\n",
              " Parse(word='яблока', tag=OpencorporaTag('NOUN,inan,neut sing,gent'), normal_form='яблоко', score=1.0, methods_stack=((DictionaryAnalyzer(), 'яблока', 583, 1),)),\n",
              " Parse(word='яблоку', tag=OpencorporaTag('NOUN,inan,neut sing,datv'), normal_form='яблоко', score=1.0, methods_stack=((DictionaryAnalyzer(), 'яблоку', 583, 2),)),\n",
              " Parse(word='яблоко', tag=OpencorporaTag('NOUN,inan,neut sing,accs'), normal_form='яблоко', score=1.0, methods_stack=((DictionaryAnalyzer(), 'яблоко', 583, 3),)),\n",
              " Parse(word='яблоком', tag=OpencorporaTag('NOUN,inan,neut sing,ablt'), normal_form='яблоко', score=1.0, methods_stack=((DictionaryAnalyzer(), 'яблоком', 583, 4),)),\n",
              " Parse(word='яблоке', tag=OpencorporaTag('NOUN,inan,neut sing,loct'), normal_form='яблоко', score=1.0, methods_stack=((DictionaryAnalyzer(), 'яблоке', 583, 5),)),\n",
              " Parse(word='яблоки', tag=OpencorporaTag('NOUN,inan,neut plur,nomn'), normal_form='яблоко', score=1.0, methods_stack=((DictionaryAnalyzer(), 'яблоки', 583, 6),)),\n",
              " Parse(word='яблок', tag=OpencorporaTag('NOUN,inan,neut plur,gent'), normal_form='яблоко', score=1.0, methods_stack=((DictionaryAnalyzer(), 'яблок', 583, 7),)),\n",
              " Parse(word='яблокам', tag=OpencorporaTag('NOUN,inan,neut plur,datv'), normal_form='яблоко', score=1.0, methods_stack=((DictionaryAnalyzer(), 'яблокам', 583, 8),)),\n",
              " Parse(word='яблоки', tag=OpencorporaTag('NOUN,inan,neut plur,accs'), normal_form='яблоко', score=1.0, methods_stack=((DictionaryAnalyzer(), 'яблоки', 583, 9),)),\n",
              " Parse(word='яблоками', tag=OpencorporaTag('NOUN,inan,neut plur,ablt'), normal_form='яблоко', score=1.0, methods_stack=((DictionaryAnalyzer(), 'яблоками', 583, 10),)),\n",
              " Parse(word='яблоках', tag=OpencorporaTag('NOUN,inan,neut plur,loct'), normal_form='яблоко', score=1.0, methods_stack=((DictionaryAnalyzer(), 'яблоках', 583, 11),))]"
            ]
          },
          "metadata": {},
          "execution_count": 30
        }
      ]
    },
    {
      "cell_type": "code",
      "source": [
        "print(kuzd.make_agree_with_number(1).word)\n",
        "print(kuzd.make_agree_with_number(3).word)\n",
        "print(kuzd.make_agree_with_number(4).word)\n",
        "print(kuzd.make_agree_with_number(5).word)\n",
        "print(kuzd.make_agree_with_number(21).word)"
      ],
      "metadata": {
        "colab": {
          "base_uri": "https://localhost:8080/"
        },
        "id": "CRLnBl8aqCQq",
        "outputId": "d3784e07-17d6-4dab-d7f0-06e6b82a644f"
      },
      "execution_count": null,
      "outputs": [
        {
          "output_type": "stream",
          "name": "stdout",
          "text": [
            "яблоко\n",
            "яблока\n",
            "яблока\n",
            "яблок\n",
            "яблоко\n"
          ]
        }
      ]
    },
    {
      "cell_type": "markdown",
      "source": [
        "### Mystem"
      ],
      "metadata": {
        "id": "1KCcTR99pEhl"
      }
    },
    {
      "cell_type": "code",
      "source": [
        "from pymystem3 import Mystem\n",
        "m = Mystem()"
      ],
      "metadata": {
        "colab": {
          "base_uri": "https://localhost:8080/"
        },
        "id": "A4dwQNDXrCgf",
        "outputId": "7df5f01d-4236-434d-9e0d-6f7cf6421d5c"
      },
      "execution_count": null,
      "outputs": [
        {
          "output_type": "stream",
          "name": "stderr",
          "text": [
            "Installing mystem to /root/.local/bin/mystem from http://download.cdn.yandex.net/mystem/mystem-3.1-linux-64bit.tar.gz\n"
          ]
        }
      ]
    },
    {
      "cell_type": "code",
      "source": [
        "lemmas = m.lemmatize(sentence)\n",
        "lemmas"
      ],
      "metadata": {
        "colab": {
          "base_uri": "https://localhost:8080/"
        },
        "id": "Fm_OlaODrKb_",
        "outputId": "5ba8b9ad-b733-45a6-bfcb-3dd9f1941646"
      },
      "execution_count": null,
      "outputs": [
        {
          "output_type": "execute_result",
          "data": {
            "text/plain": [
              "['я',\n",
              " ' ',\n",
              " 'лгать',\n",
              " '; ',\n",
              " 'но',\n",
              " ' ',\n",
              " 'я',\n",
              " ' ',\n",
              " 'хотеться',\n",
              " ' ',\n",
              " 'он',\n",
              " ' ',\n",
              " 'побесить',\n",
              " '. ',\n",
              " 'у',\n",
              " ' ',\n",
              " 'я',\n",
              " ' ',\n",
              " 'врожденный',\n",
              " ' ',\n",
              " 'страсть',\n",
              " ' ',\n",
              " 'противоречить',\n",
              " '.',\n",
              " '\\n']"
            ]
          },
          "metadata": {},
          "execution_count": 43
        }
      ]
    },
    {
      "cell_type": "code",
      "source": [
        "analysis = m.analyze(sentence)\n",
        "pprint(analysis)"
      ],
      "metadata": {
        "colab": {
          "base_uri": "https://localhost:8080/"
        },
        "id": "YxUoEaDvriSy",
        "outputId": "f8c66239-93ff-4f95-c559-7be43f5cc311"
      },
      "execution_count": null,
      "outputs": [
        {
          "output_type": "stream",
          "name": "stdout",
          "text": [
            "[{'analysis': [{'gr': 'V,несов,нп=инф',\n",
            "                'lex': 'блять',\n",
            "                'qual': 'bastard',\n",
            "                'wt': 0.5662179413}],\n",
            "  'text': 'блять'},\n",
            " {'text': '\\n'}]\n"
          ]
        }
      ]
    },
    {
      "cell_type": "code",
      "source": [
        "for word in analysis:\n",
        "    if 'analysis' in word:\n",
        "        gr = word['analysis'][0]['gr']\n",
        "        pos = gr.split('=')[0].split(',')[0]\n",
        "        print(word['text'], pos)"
      ],
      "metadata": {
        "colab": {
          "base_uri": "https://localhost:8080/"
        },
        "id": "PM_iPFj2rryy",
        "outputId": "c396684c-2960-4df6-8094-e90cad4d30f1"
      },
      "execution_count": null,
      "outputs": [
        {
          "output_type": "stream",
          "name": "stdout",
          "text": [
            "Я SPRO\n",
            "лгал V\n",
            "но CONJ\n",
            "мне SPRO\n",
            "хотелось V\n",
            "его SPRO\n",
            "побесить V\n",
            "У PR\n",
            "меня SPRO\n",
            "врожденная A\n",
            "страсть S\n",
            "противоречить V\n"
          ]
        }
      ]
    },
    {
      "cell_type": "code",
      "source": [
        "analysis = m.analyze(strange_sentence)\n",
        "pprint(analysis)"
      ],
      "metadata": {
        "colab": {
          "base_uri": "https://localhost:8080/"
        },
        "id": "c4gvFuUasZfQ",
        "outputId": "4f360215-e9fa-4c68-e181-0fc4682cec72"
      },
      "execution_count": null,
      "outputs": [
        {
          "output_type": "stream",
          "name": "stdout",
          "text": [
            "[{'analysis': [{'gr': 'S,муж,неод=род,ед',\n",
            "                'lex': 'глокай',\n",
            "                'qual': 'bastard',\n",
            "                'wt': 0.09304979929}],\n",
            "  'text': 'Глокая'},\n",
            " {'text': ' '},\n",
            " {'analysis': [{'gr': 'S,ед,жен,неод=им',\n",
            "                'lex': 'куздра',\n",
            "                'qual': 'bastard',\n",
            "                'wt': 0.6292693823}],\n",
            "  'text': 'куздра'},\n",
            " {'text': ' '},\n",
            " {'analysis': [{'gr': 'ADV=',\n",
            "                'lex': 'штеко',\n",
            "                'qual': 'bastard',\n",
            "                'wt': 0.2574119755}],\n",
            "  'text': 'штеко'},\n",
            " {'text': ' '},\n",
            " {'analysis': [{'gr': 'S,муж,од=(вин,ед|род,ед)',\n",
            "                'lex': 'будланул',\n",
            "                'qual': 'bastard',\n",
            "                'wt': 0.03753661836}],\n",
            "  'text': 'будланула'},\n",
            " {'text': ' '},\n",
            " {'analysis': [{'gr': 'S,ед,жен,неод=им',\n",
            "                'lex': 'бокра',\n",
            "                'qual': 'bastard',\n",
            "                'wt': 0.8898982327}],\n",
            "  'text': 'бокра'},\n",
            " {'text': ' '},\n",
            " {'analysis': [{'gr': 'CONJ=', 'lex': 'и', 'wt': 0.9999770357}], 'text': 'и'},\n",
            " {'text': ' '},\n",
            " {'analysis': [{'gr': 'V,обсц,сов,пе=непрош,ед,изъяв,3-л',\n",
            "                'lex': 'курдячить',\n",
            "                'qual': 'bastard',\n",
            "                'wt': 0.5}],\n",
            "  'text': 'курдячит'},\n",
            " {'text': ' '},\n",
            " {'analysis': [{'gr': 'S,муж,неод=род,ед',\n",
            "                'lex': 'бокренок',\n",
            "                'qual': 'bastard',\n",
            "                'wt': 0.165166425}],\n",
            "  'text': 'бокрёнка'},\n",
            " {'text': '.'},\n",
            " {'text': '\\n'}]\n"
          ]
        }
      ]
    },
    {
      "cell_type": "markdown",
      "source": [
        "### SpaCy"
      ],
      "metadata": {
        "id": "Q1kZDX_auNEy"
      }
    },
    {
      "cell_type": "code",
      "source": [
        "import spacy\n",
        "nlp_en = spacy.load(\"en_core_web_sm\")\n",
        "text_en = (\"Colorless green ideas sleep furiously.\")\n",
        "doc = nlp_en(text_en)\n",
        "for token in doc:\n",
        "   print([token.lemma_, token.pos_, token.morph])"
      ],
      "metadata": {
        "colab": {
          "base_uri": "https://localhost:8080/"
        },
        "id": "9Qp_fyx9uUkf",
        "outputId": "b47524a2-d166-439f-e871-f18f421dae9d"
      },
      "execution_count": null,
      "outputs": [
        {
          "output_type": "stream",
          "name": "stdout",
          "text": [
            "['Colorless', 'PROPN', Number=Sing]\n",
            "['green', 'ADJ', Degree=Pos]\n",
            "['idea', 'NOUN', Number=Plur]\n",
            "['sleep', 'VERB', Tense=Pres|VerbForm=Fin]\n",
            "['furiously', 'ADV', ]\n",
            "['.', 'PUNCT', PunctType=Peri]\n"
          ]
        }
      ]
    },
    {
      "cell_type": "code",
      "source": [
        "from spacy import displacy"
      ],
      "metadata": {
        "id": "nhQHJzWUuxhb"
      },
      "execution_count": null,
      "outputs": []
    },
    {
      "cell_type": "code",
      "source": [
        "doc2 = nlp_en(\"Nasa administrator Jim Bridenstine says at the moment of launch, he was praying.\")\n",
        "for ent in doc2.ents:\n",
        "    print(ent.text, ent.label_)\n",
        "displacy.render(doc2, style = 'ent', jupyter = True)"
      ],
      "metadata": {
        "colab": {
          "base_uri": "https://localhost:8080/",
          "height": 87
        },
        "id": "VIRctJtIupeX",
        "outputId": "52c3e7c2-c7e7-48dc-9ab4-66df8e3b78e7"
      },
      "execution_count": null,
      "outputs": [
        {
          "output_type": "stream",
          "name": "stdout",
          "text": [
            "Nasa ORG\n",
            "Jim Bridenstine PERSON\n"
          ]
        },
        {
          "output_type": "display_data",
          "data": {
            "text/plain": [
              "<IPython.core.display.HTML object>"
            ],
            "text/html": [
              "<span class=\"tex2jax_ignore\"><div class=\"entities\" style=\"line-height: 2.5; direction: ltr\">\n",
              "<mark class=\"entity\" style=\"background: #7aecec; padding: 0.45em 0.6em; margin: 0 0.25em; line-height: 1; border-radius: 0.35em;\">\n",
              "    Nasa\n",
              "    <span style=\"font-size: 0.8em; font-weight: bold; line-height: 1; border-radius: 0.35em; vertical-align: middle; margin-left: 0.5rem\">ORG</span>\n",
              "</mark>\n",
              " administrator \n",
              "<mark class=\"entity\" style=\"background: #aa9cfc; padding: 0.45em 0.6em; margin: 0 0.25em; line-height: 1; border-radius: 0.35em;\">\n",
              "    Jim Bridenstine\n",
              "    <span style=\"font-size: 0.8em; font-weight: bold; line-height: 1; border-radius: 0.35em; vertical-align: middle; margin-left: 0.5rem\">PERSON</span>\n",
              "</mark>\n",
              " says at the moment of launch, he was praying.</div></span>"
            ]
          },
          "metadata": {}
        }
      ]
    },
    {
      "cell_type": "code",
      "source": [
        "doc3 = nlp_en(\"It was a blue car that he bought.\")\n",
        "displacy.render(doc3, style = 'dep', jupyter = True)"
      ],
      "metadata": {
        "colab": {
          "base_uri": "https://localhost:8080/",
          "height": 421
        },
        "id": "4YwWOm2fvVNM",
        "outputId": "7034a7d3-167f-4119-9b56-8311b8da7fe7"
      },
      "execution_count": null,
      "outputs": [
        {
          "output_type": "display_data",
          "data": {
            "text/plain": [
              "<IPython.core.display.HTML object>"
            ],
            "text/html": [
              "<span class=\"tex2jax_ignore\"><svg xmlns=\"http://www.w3.org/2000/svg\" xmlns:xlink=\"http://www.w3.org/1999/xlink\" xml:lang=\"en\" id=\"0d85b973581e4a4789d1f175d59e6d89-0\" class=\"displacy\" width=\"1450\" height=\"399.5\" direction=\"ltr\" style=\"max-width: none; height: 399.5px; color: #000000; background: #ffffff; font-family: Arial; direction: ltr\">\n",
              "<text class=\"displacy-token\" fill=\"currentColor\" text-anchor=\"middle\" y=\"309.5\">\n",
              "    <tspan class=\"displacy-word\" fill=\"currentColor\" x=\"50\">It</tspan>\n",
              "    <tspan class=\"displacy-tag\" dy=\"2em\" fill=\"currentColor\" x=\"50\">PRON</tspan>\n",
              "</text>\n",
              "\n",
              "<text class=\"displacy-token\" fill=\"currentColor\" text-anchor=\"middle\" y=\"309.5\">\n",
              "    <tspan class=\"displacy-word\" fill=\"currentColor\" x=\"225\">was</tspan>\n",
              "    <tspan class=\"displacy-tag\" dy=\"2em\" fill=\"currentColor\" x=\"225\">AUX</tspan>\n",
              "</text>\n",
              "\n",
              "<text class=\"displacy-token\" fill=\"currentColor\" text-anchor=\"middle\" y=\"309.5\">\n",
              "    <tspan class=\"displacy-word\" fill=\"currentColor\" x=\"400\">a</tspan>\n",
              "    <tspan class=\"displacy-tag\" dy=\"2em\" fill=\"currentColor\" x=\"400\">DET</tspan>\n",
              "</text>\n",
              "\n",
              "<text class=\"displacy-token\" fill=\"currentColor\" text-anchor=\"middle\" y=\"309.5\">\n",
              "    <tspan class=\"displacy-word\" fill=\"currentColor\" x=\"575\">blue</tspan>\n",
              "    <tspan class=\"displacy-tag\" dy=\"2em\" fill=\"currentColor\" x=\"575\">ADJ</tspan>\n",
              "</text>\n",
              "\n",
              "<text class=\"displacy-token\" fill=\"currentColor\" text-anchor=\"middle\" y=\"309.5\">\n",
              "    <tspan class=\"displacy-word\" fill=\"currentColor\" x=\"750\">car</tspan>\n",
              "    <tspan class=\"displacy-tag\" dy=\"2em\" fill=\"currentColor\" x=\"750\">NOUN</tspan>\n",
              "</text>\n",
              "\n",
              "<text class=\"displacy-token\" fill=\"currentColor\" text-anchor=\"middle\" y=\"309.5\">\n",
              "    <tspan class=\"displacy-word\" fill=\"currentColor\" x=\"925\">that</tspan>\n",
              "    <tspan class=\"displacy-tag\" dy=\"2em\" fill=\"currentColor\" x=\"925\">PRON</tspan>\n",
              "</text>\n",
              "\n",
              "<text class=\"displacy-token\" fill=\"currentColor\" text-anchor=\"middle\" y=\"309.5\">\n",
              "    <tspan class=\"displacy-word\" fill=\"currentColor\" x=\"1100\">he</tspan>\n",
              "    <tspan class=\"displacy-tag\" dy=\"2em\" fill=\"currentColor\" x=\"1100\">PRON</tspan>\n",
              "</text>\n",
              "\n",
              "<text class=\"displacy-token\" fill=\"currentColor\" text-anchor=\"middle\" y=\"309.5\">\n",
              "    <tspan class=\"displacy-word\" fill=\"currentColor\" x=\"1275\">bought.</tspan>\n",
              "    <tspan class=\"displacy-tag\" dy=\"2em\" fill=\"currentColor\" x=\"1275\">VERB</tspan>\n",
              "</text>\n",
              "\n",
              "<g class=\"displacy-arrow\">\n",
              "    <path class=\"displacy-arc\" id=\"arrow-0d85b973581e4a4789d1f175d59e6d89-0-0\" stroke-width=\"2px\" d=\"M70,264.5 C70,177.0 215.0,177.0 215.0,264.5\" fill=\"none\" stroke=\"currentColor\"/>\n",
              "    <text dy=\"1.25em\" style=\"font-size: 0.8em; letter-spacing: 1px\">\n",
              "        <textPath xlink:href=\"#arrow-0d85b973581e4a4789d1f175d59e6d89-0-0\" class=\"displacy-label\" startOffset=\"50%\" side=\"left\" fill=\"currentColor\" text-anchor=\"middle\">nsubj</textPath>\n",
              "    </text>\n",
              "    <path class=\"displacy-arrowhead\" d=\"M70,266.5 L62,254.5 78,254.5\" fill=\"currentColor\"/>\n",
              "</g>\n",
              "\n",
              "<g class=\"displacy-arrow\">\n",
              "    <path class=\"displacy-arc\" id=\"arrow-0d85b973581e4a4789d1f175d59e6d89-0-1\" stroke-width=\"2px\" d=\"M420,264.5 C420,89.5 745.0,89.5 745.0,264.5\" fill=\"none\" stroke=\"currentColor\"/>\n",
              "    <text dy=\"1.25em\" style=\"font-size: 0.8em; letter-spacing: 1px\">\n",
              "        <textPath xlink:href=\"#arrow-0d85b973581e4a4789d1f175d59e6d89-0-1\" class=\"displacy-label\" startOffset=\"50%\" side=\"left\" fill=\"currentColor\" text-anchor=\"middle\">det</textPath>\n",
              "    </text>\n",
              "    <path class=\"displacy-arrowhead\" d=\"M420,266.5 L412,254.5 428,254.5\" fill=\"currentColor\"/>\n",
              "</g>\n",
              "\n",
              "<g class=\"displacy-arrow\">\n",
              "    <path class=\"displacy-arc\" id=\"arrow-0d85b973581e4a4789d1f175d59e6d89-0-2\" stroke-width=\"2px\" d=\"M595,264.5 C595,177.0 740.0,177.0 740.0,264.5\" fill=\"none\" stroke=\"currentColor\"/>\n",
              "    <text dy=\"1.25em\" style=\"font-size: 0.8em; letter-spacing: 1px\">\n",
              "        <textPath xlink:href=\"#arrow-0d85b973581e4a4789d1f175d59e6d89-0-2\" class=\"displacy-label\" startOffset=\"50%\" side=\"left\" fill=\"currentColor\" text-anchor=\"middle\">amod</textPath>\n",
              "    </text>\n",
              "    <path class=\"displacy-arrowhead\" d=\"M595,266.5 L587,254.5 603,254.5\" fill=\"currentColor\"/>\n",
              "</g>\n",
              "\n",
              "<g class=\"displacy-arrow\">\n",
              "    <path class=\"displacy-arc\" id=\"arrow-0d85b973581e4a4789d1f175d59e6d89-0-3\" stroke-width=\"2px\" d=\"M245,264.5 C245,2.0 750.0,2.0 750.0,264.5\" fill=\"none\" stroke=\"currentColor\"/>\n",
              "    <text dy=\"1.25em\" style=\"font-size: 0.8em; letter-spacing: 1px\">\n",
              "        <textPath xlink:href=\"#arrow-0d85b973581e4a4789d1f175d59e6d89-0-3\" class=\"displacy-label\" startOffset=\"50%\" side=\"left\" fill=\"currentColor\" text-anchor=\"middle\">attr</textPath>\n",
              "    </text>\n",
              "    <path class=\"displacy-arrowhead\" d=\"M750.0,266.5 L758.0,254.5 742.0,254.5\" fill=\"currentColor\"/>\n",
              "</g>\n",
              "\n",
              "<g class=\"displacy-arrow\">\n",
              "    <path class=\"displacy-arc\" id=\"arrow-0d85b973581e4a4789d1f175d59e6d89-0-4\" stroke-width=\"2px\" d=\"M945,264.5 C945,89.5 1270.0,89.5 1270.0,264.5\" fill=\"none\" stroke=\"currentColor\"/>\n",
              "    <text dy=\"1.25em\" style=\"font-size: 0.8em; letter-spacing: 1px\">\n",
              "        <textPath xlink:href=\"#arrow-0d85b973581e4a4789d1f175d59e6d89-0-4\" class=\"displacy-label\" startOffset=\"50%\" side=\"left\" fill=\"currentColor\" text-anchor=\"middle\">dobj</textPath>\n",
              "    </text>\n",
              "    <path class=\"displacy-arrowhead\" d=\"M945,266.5 L937,254.5 953,254.5\" fill=\"currentColor\"/>\n",
              "</g>\n",
              "\n",
              "<g class=\"displacy-arrow\">\n",
              "    <path class=\"displacy-arc\" id=\"arrow-0d85b973581e4a4789d1f175d59e6d89-0-5\" stroke-width=\"2px\" d=\"M1120,264.5 C1120,177.0 1265.0,177.0 1265.0,264.5\" fill=\"none\" stroke=\"currentColor\"/>\n",
              "    <text dy=\"1.25em\" style=\"font-size: 0.8em; letter-spacing: 1px\">\n",
              "        <textPath xlink:href=\"#arrow-0d85b973581e4a4789d1f175d59e6d89-0-5\" class=\"displacy-label\" startOffset=\"50%\" side=\"left\" fill=\"currentColor\" text-anchor=\"middle\">nsubj</textPath>\n",
              "    </text>\n",
              "    <path class=\"displacy-arrowhead\" d=\"M1120,266.5 L1112,254.5 1128,254.5\" fill=\"currentColor\"/>\n",
              "</g>\n",
              "\n",
              "<g class=\"displacy-arrow\">\n",
              "    <path class=\"displacy-arc\" id=\"arrow-0d85b973581e4a4789d1f175d59e6d89-0-6\" stroke-width=\"2px\" d=\"M770,264.5 C770,2.0 1275.0,2.0 1275.0,264.5\" fill=\"none\" stroke=\"currentColor\"/>\n",
              "    <text dy=\"1.25em\" style=\"font-size: 0.8em; letter-spacing: 1px\">\n",
              "        <textPath xlink:href=\"#arrow-0d85b973581e4a4789d1f175d59e6d89-0-6\" class=\"displacy-label\" startOffset=\"50%\" side=\"left\" fill=\"currentColor\" text-anchor=\"middle\">relcl</textPath>\n",
              "    </text>\n",
              "    <path class=\"displacy-arrowhead\" d=\"M1275.0,266.5 L1283.0,254.5 1267.0,254.5\" fill=\"currentColor\"/>\n",
              "</g>\n",
              "</svg></span>"
            ]
          },
          "metadata": {}
        }
      ]
    },
    {
      "cell_type": "markdown",
      "source": [
        "Можно сравнивать предложения или тексты между собой."
      ],
      "metadata": {
        "id": "tC9VUneLw9wO"
      }
    },
    {
      "cell_type": "code",
      "source": [
        "search_doc = nlp_en(\"This was very strange argument between american and british person.\")\n",
        "main_doc = nlp_en(\"He was from Japan, but a true English gentleman in my eyes, and another one of the reasons as to why I liked going to school.\")\n",
        "print(main_doc.similarity(search_doc))"
      ],
      "metadata": {
        "colab": {
          "base_uri": "https://localhost:8080/"
        },
        "id": "AvaVxGEtxOQr",
        "outputId": "2349da9a-a1f4-4f74-f9d7-db9cc6a49a60"
      },
      "execution_count": null,
      "outputs": [
        {
          "output_type": "stream",
          "name": "stdout",
          "text": [
            "0.3267950608098008\n"
          ]
        },
        {
          "output_type": "stream",
          "name": "stderr",
          "text": [
            "<ipython-input-130-ad4e74610e04>:3: UserWarning: [W007] The model you're using has no word vectors loaded, so the result of the Doc.similarity method will be based on the tagger, parser and NER, which may not give useful similarity judgements. This may happen if you're using one of the small models, e.g. `en_core_web_sm`, which don't ship with word vectors and only use context-sensitive tensors. You can always add your own word vectors, or use one of the larger models instead if available.\n",
            "  print(main_doc.similarity(search_doc))\n"
          ]
        }
      ]
    },
    {
      "cell_type": "code",
      "source": [
        "search_doc = nlp_en(\"This was very strange argument between american and british person.\")\n",
        "main_doc = nlp_en(\"He was from Japan, but a true English gentleman in my eyes, and another one of the reasons as to why I liked going to school.\")\n",
        "\n",
        "search_doc_no_stop_words = nlp_en(' '.join([str(t) for t in search_doc if not t.is_stop]))\n",
        "main_doc_no_stop_words = nlp_en(' '.join([str(t) for t in main_doc if not t.is_stop]))\n",
        "\n",
        "print(search_doc_no_stop_words.similarity(main_doc_no_stop_words))"
      ],
      "metadata": {
        "colab": {
          "base_uri": "https://localhost:8080/"
        },
        "id": "v4oY7ggQxCGS",
        "outputId": "8f90ea0e-9b3e-4eef-9a9e-51cf308eab18"
      },
      "execution_count": null,
      "outputs": [
        {
          "output_type": "stream",
          "name": "stdout",
          "text": [
            "0.5241640436203177\n"
          ]
        },
        {
          "output_type": "stream",
          "name": "stderr",
          "text": [
            "<ipython-input-131-f8555844895d>:7: UserWarning: [W007] The model you're using has no word vectors loaded, so the result of the Doc.similarity method will be based on the tagger, parser and NER, which may not give useful similarity judgements. This may happen if you're using one of the small models, e.g. `en_core_web_sm`, which don't ship with word vectors and only use context-sensitive tensors. You can always add your own word vectors, or use one of the larger models instead if available.\n",
            "  print(search_doc_no_stop_words.similarity(main_doc_no_stop_words))\n"
          ]
        }
      ]
    },
    {
      "cell_type": "markdown",
      "source": [
        "У SpaCy есть готовый pipeline (цепочка действий (функций) для получения конкретного результата) для тренировки вашего собственного анализатора на ваших размеченных данных (кажется, доступ там платный).\n",
        "\n",
        "Но снова нужно очень много размеченного материала.\n"
      ],
      "metadata": {
        "id": "NG44d_4VyoxG"
      }
    },
    {
      "cell_type": "markdown",
      "source": [
        "### Трансдьюсеры\n",
        "\n",
        "А что делать, если данных мало?\n",
        "\n",
        "Если данных мало, то можно, опираясь на наши представления о грамматике конкретного языка, использовать определённые правила построения словоформ.\n",
        "\n",
        "По тому, как устроено слово, языки деляется на два типа:\n",
        "\n",
        "* аналитические (грамматические отношения передаются через синтаксис),\n",
        "* синтетические (грамматические отношения передаются с помощью флексии или агглютинации).\n",
        "\n",
        "В свою очередь, синтетические языки деляется на:\n",
        "\n",
        "* флективные (словоизменение происходит при помощи присединения морфем, сочетающих в себе сразу несколько значений),\n",
        "* агглютинативные (каждая морфема несёт в себе только одно значение).\n",
        "\n",
        "Из трансдьюсеров есть, например HFST (Helsinki Finite-State Transducer). Сегодня мы с ним познакомимся."
      ],
      "metadata": {
        "id": "WIM8X0wMvx2L"
      }
    },
    {
      "cell_type": "code",
      "source": [
        "!curl -sS https://apertium.projectjj.com/apt/install-release.sh | sudo bash\n",
        "!apt install apertium-all-dev lexd"
      ],
      "metadata": {
        "colab": {
          "base_uri": "https://localhost:8080/"
        },
        "id": "rWiFbAckygoT",
        "outputId": "e767b81f-82e6-440f-b7a7-b63601b450e7"
      },
      "execution_count": null,
      "outputs": [
        {
          "output_type": "stream",
          "name": "stdout",
          "text": [
            "Cleaning up old install, if any...\n",
            "Determining Debian/Ubuntu codename...\n",
            "Found evidence of jammy...\n",
            "Settling for jammy - enabling the Apertium release repo...\n",
            "Installing Apertium GnuPG key to /etc/apt/trusted.gpg.d/apertium.gpg\n",
            "Installing package override to /etc/apt/preferences.d/apertium.pref\n",
            "Creating /etc/apt/sources.list.d/apertium.list\n",
            "Running apt-get update...\n",
            "All done - enjoy the packages! If you just want all core tools, do: sudo apt-get install apertium-all-dev\n",
            "Reading package lists... Done\n",
            "Building dependency tree... Done\n",
            "Reading state information... Done\n",
            "The following additional packages will be installed:\n",
            "  apertium apertium-anaphora apertium-dev apertium-eval-translator\n",
            "  apertium-get apertium-lex-tools apertium-lex-tools-dev apertium-recursive\n",
            "  apertium-regtest apertium-separable cg3 cg3-dev gawk hfst\n",
            "  libapertium-lex-tools1 libapertium3 libcg3-1 libcg3-dev libfoma0 libfst22\n",
            "  libhfst-dev libhfst55 libirstlm1 liblttoolbox3 libutfcpp-dev libxml2-utils\n",
            "  libzip4 lttoolbox lttoolbox-dev transfuse xsltproc\n",
            "Suggested packages:\n",
            "  gawk-doc\n",
            "The following NEW packages will be installed:\n",
            "  apertium apertium-all-dev apertium-anaphora apertium-dev\n",
            "  apertium-eval-translator apertium-get apertium-lex-tools\n",
            "  apertium-lex-tools-dev apertium-recursive apertium-regtest\n",
            "  apertium-separable cg3 cg3-dev gawk hfst lexd libapertium-lex-tools1\n",
            "  libapertium3 libcg3-1 libcg3-dev libfoma0 libfst22 libhfst-dev libhfst55\n",
            "  libirstlm1 liblttoolbox3 libutfcpp-dev libxml2-utils libzip4 lttoolbox\n",
            "  lttoolbox-dev transfuse xsltproc\n",
            "0 upgraded, 33 newly installed, 0 to remove and 18 not upgraded.\n",
            "Need to get 7,108 kB of archives.\n",
            "After this operation, 35.7 MB of additional disk space will be used.\n",
            "Get:1 http://apertium.projectjj.com/apt/release jammy/main amd64 liblttoolbox3 amd64 3.7.1-3~jammy1 [182 kB]\n",
            "Get:2 http://archive.ubuntu.com/ubuntu jammy-updates/main amd64 gawk amd64 1:5.1.0-1ubuntu0.1 [447 kB]\n",
            "Get:3 http://apertium.projectjj.com/apt/release jammy/main amd64 libapertium3 amd64 3.8.3-2~jammy1 [328 kB]\n",
            "Get:4 http://apertium.projectjj.com/apt/release jammy/main amd64 lttoolbox amd64 3.7.1-3~jammy1 [23.9 kB]\n",
            "Get:5 http://apertium.projectjj.com/apt/release jammy/main amd64 apertium amd64 3.8.3-2~jammy1 [322 kB]\n",
            "Get:6 http://apertium.projectjj.com/apt/release jammy/main amd64 apertium-anaphora amd64 1.1.1-3~jammy1 [39.1 kB]\n",
            "Get:7 http://apertium.projectjj.com/apt/release jammy/main amd64 lttoolbox-dev amd64 3.7.1-3~jammy1 [94.1 kB]\n",
            "Get:8 http://apertium.projectjj.com/apt/release jammy/main amd64 apertium-dev amd64 3.8.3-2~jammy1 [86.8 kB]\n",
            "Get:9 http://apertium.projectjj.com/apt/release jammy/main amd64 apertium-eval-translator all 1.2.1-2~jammy1 [5,660 B]\n",
            "Get:10 http://apertium.projectjj.com/apt/release jammy/main amd64 apertium-get all 1.0.0-2~sid1 [7,560 B]\n",
            "Get:11 http://apertium.projectjj.com/apt/release jammy/main amd64 libapertium-lex-tools1 amd64 0.4.2-3~jammy1 [69.1 kB]\n",
            "Get:12 http://apertium.projectjj.com/apt/release jammy/main amd64 apertium-lex-tools amd64 0.4.2-3~jammy1 [45.4 kB]\n",
            "Get:13 http://apertium.projectjj.com/apt/release jammy/main amd64 apertium-lex-tools-dev amd64 0.4.2-3~jammy1 [21.2 kB]\n",
            "Get:14 http://apertium.projectjj.com/apt/release jammy/main amd64 apertium-recursive amd64 1.1.2-3~jammy1 [179 kB]\n",
            "Get:15 http://archive.ubuntu.com/ubuntu jammy-updates/main amd64 libxml2-utils amd64 2.9.13+dfsg-1ubuntu0.3 [40.2 kB]\n",
            "Get:16 http://apertium.projectjj.com/apt/release jammy/main amd64 apertium-regtest all 0.9.1-2~sid1 [89.6 kB]\n",
            "Get:17 http://archive.ubuntu.com/ubuntu jammy-updates/main amd64 xsltproc amd64 1.1.34-4ubuntu0.22.04.1 [14.7 kB]\n",
            "Get:18 http://archive.ubuntu.com/ubuntu jammy/universe amd64 libutfcpp-dev amd64 3.2.1-2 [10.2 kB]\n",
            "Get:19 http://archive.ubuntu.com/ubuntu jammy/universe amd64 libirstlm1 amd64 6.00.05-3 [190 kB]\n",
            "Get:20 http://apertium.projectjj.com/apt/release jammy/main amd64 apertium-separable amd64 0.6.1-3~jammy1 [28.0 kB]\n",
            "Get:21 http://apertium.projectjj.com/apt/release jammy/main amd64 libcg3-1 amd64 1.4.6-1~jammy1 [306 kB]\n",
            "Get:22 http://apertium.projectjj.com/apt/release jammy/main amd64 cg3 amd64 1.4.6-1~jammy1 [139 kB]\n",
            "Get:23 http://apertium.projectjj.com/apt/release jammy/main amd64 libcg3-dev amd64 1.4.6-1~jammy1 [5,160 B]\n",
            "Get:24 http://apertium.projectjj.com/apt/release jammy/main amd64 cg3-dev all 1.4.6-1~jammy1 [3,052 B]\n",
            "Get:25 http://apertium.projectjj.com/apt/release jammy/main amd64 libfoma0 amd64 0.10.0-4~jammy1 [101 kB]\n",
            "Get:26 http://archive.ubuntu.com/ubuntu jammy/universe amd64 libzip4 amd64 1.7.3-1ubuntu2 [55.0 kB]\n",
            "Get:27 http://apertium.projectjj.com/apt/release jammy/main amd64 libfst22 amd64 1.7.9-3~jammy1 [1,986 kB]\n",
            "Get:28 http://apertium.projectjj.com/apt/release jammy/main amd64 libhfst55 amd64 3.16.0-4~jammy1 [1,509 kB]\n",
            "Get:29 http://apertium.projectjj.com/apt/release jammy/main amd64 hfst amd64 3.16.0-4~jammy1 [497 kB]\n",
            "Get:30 http://apertium.projectjj.com/apt/release jammy/main amd64 lexd amd64 1.3.1-2~jammy1 [82.6 kB]\n",
            "Get:31 http://apertium.projectjj.com/apt/release jammy/main amd64 libhfst-dev amd64 3.16.0-4~jammy1 [118 kB]\n",
            "Get:32 http://apertium.projectjj.com/apt/release jammy/main amd64 transfuse amd64 0.5.8-4~jammy1 [79.4 kB]\n",
            "Get:33 http://apertium.projectjj.com/apt/release jammy/main amd64 apertium-all-dev all 3.8.1-6~jammy1 [2,280 B]\n",
            "Fetched 7,108 kB in 0s (20.9 MB/s)\n",
            "Extracting templates from packages: 100%\n",
            "Selecting previously unselected package gawk.\n",
            "(Reading database ... 120895 files and directories currently installed.)\n",
            "Preparing to unpack .../00-gawk_1%3a5.1.0-1ubuntu0.1_amd64.deb ...\n",
            "Unpacking gawk (1:5.1.0-1ubuntu0.1) ...\n",
            "Selecting previously unselected package liblttoolbox3:amd64.\n",
            "Preparing to unpack .../01-liblttoolbox3_3.7.1-3~jammy1_amd64.deb ...\n",
            "Unpacking liblttoolbox3:amd64 (3.7.1-3~jammy1) ...\n",
            "Selecting previously unselected package libapertium3:amd64.\n",
            "Preparing to unpack .../02-libapertium3_3.8.3-2~jammy1_amd64.deb ...\n",
            "Unpacking libapertium3:amd64 (3.8.3-2~jammy1) ...\n",
            "Selecting previously unselected package libxml2-utils.\n",
            "Preparing to unpack .../03-libxml2-utils_2.9.13+dfsg-1ubuntu0.3_amd64.deb ...\n",
            "Unpacking libxml2-utils (2.9.13+dfsg-1ubuntu0.3) ...\n",
            "Selecting previously unselected package lttoolbox.\n",
            "Preparing to unpack .../04-lttoolbox_3.7.1-3~jammy1_amd64.deb ...\n",
            "Unpacking lttoolbox (3.7.1-3~jammy1) ...\n",
            "Selecting previously unselected package xsltproc.\n",
            "Preparing to unpack .../05-xsltproc_1.1.34-4ubuntu0.22.04.1_amd64.deb ...\n",
            "Unpacking xsltproc (1.1.34-4ubuntu0.22.04.1) ...\n",
            "Selecting previously unselected package apertium.\n",
            "Preparing to unpack .../06-apertium_3.8.3-2~jammy1_amd64.deb ...\n",
            "Unpacking apertium (3.8.3-2~jammy1) ...\n",
            "Selecting previously unselected package apertium-anaphora.\n",
            "Preparing to unpack .../07-apertium-anaphora_1.1.1-3~jammy1_amd64.deb ...\n",
            "Unpacking apertium-anaphora (1.1.1-3~jammy1) ...\n",
            "Selecting previously unselected package libutfcpp-dev:amd64.\n",
            "Preparing to unpack .../08-libutfcpp-dev_3.2.1-2_amd64.deb ...\n",
            "Unpacking libutfcpp-dev:amd64 (3.2.1-2) ...\n",
            "Selecting previously unselected package lttoolbox-dev.\n",
            "Preparing to unpack .../09-lttoolbox-dev_3.7.1-3~jammy1_amd64.deb ...\n",
            "Unpacking lttoolbox-dev (3.7.1-3~jammy1) ...\n",
            "Selecting previously unselected package apertium-dev.\n",
            "Preparing to unpack .../10-apertium-dev_3.8.3-2~jammy1_amd64.deb ...\n",
            "Unpacking apertium-dev (3.8.3-2~jammy1) ...\n",
            "Selecting previously unselected package apertium-eval-translator.\n",
            "Preparing to unpack .../11-apertium-eval-translator_1.2.1-2~jammy1_all.deb ...\n",
            "Unpacking apertium-eval-translator (1.2.1-2~jammy1) ...\n",
            "Selecting previously unselected package apertium-get.\n",
            "Preparing to unpack .../12-apertium-get_1.0.0-2~sid1_all.deb ...\n",
            "Unpacking apertium-get (1.0.0-2~sid1) ...\n",
            "Selecting previously unselected package libapertium-lex-tools1:amd64.\n",
            "Preparing to unpack .../13-libapertium-lex-tools1_0.4.2-3~jammy1_amd64.deb ...\n",
            "Unpacking libapertium-lex-tools1:amd64 (0.4.2-3~jammy1) ...\n",
            "Selecting previously unselected package libirstlm1:amd64.\n",
            "Preparing to unpack .../14-libirstlm1_6.00.05-3_amd64.deb ...\n",
            "Unpacking libirstlm1:amd64 (6.00.05-3) ...\n",
            "Selecting previously unselected package apertium-lex-tools.\n",
            "Preparing to unpack .../15-apertium-lex-tools_0.4.2-3~jammy1_amd64.deb ...\n",
            "Unpacking apertium-lex-tools (0.4.2-3~jammy1) ...\n",
            "Selecting previously unselected package apertium-lex-tools-dev.\n",
            "Preparing to unpack .../16-apertium-lex-tools-dev_0.4.2-3~jammy1_amd64.deb ...\n",
            "Unpacking apertium-lex-tools-dev (0.4.2-3~jammy1) ...\n",
            "Selecting previously unselected package apertium-recursive.\n",
            "Preparing to unpack .../17-apertium-recursive_1.1.2-3~jammy1_amd64.deb ...\n",
            "Unpacking apertium-recursive (1.1.2-3~jammy1) ...\n",
            "Selecting previously unselected package apertium-regtest.\n",
            "Preparing to unpack .../18-apertium-regtest_0.9.1-2~sid1_all.deb ...\n",
            "Unpacking apertium-regtest (0.9.1-2~sid1) ...\n",
            "Selecting previously unselected package apertium-separable.\n",
            "Preparing to unpack .../19-apertium-separable_0.6.1-3~jammy1_amd64.deb ...\n",
            "Unpacking apertium-separable (0.6.1-3~jammy1) ...\n",
            "Selecting previously unselected package libcg3-1:amd64.\n",
            "Preparing to unpack .../20-libcg3-1_1.4.6-1~jammy1_amd64.deb ...\n",
            "Unpacking libcg3-1:amd64 (1.4.6-1~jammy1) ...\n",
            "Selecting previously unselected package cg3.\n",
            "Preparing to unpack .../21-cg3_1.4.6-1~jammy1_amd64.deb ...\n",
            "Unpacking cg3 (1.4.6-1~jammy1) ...\n",
            "Selecting previously unselected package libcg3-dev:amd64.\n",
            "Preparing to unpack .../22-libcg3-dev_1.4.6-1~jammy1_amd64.deb ...\n",
            "Unpacking libcg3-dev:amd64 (1.4.6-1~jammy1) ...\n",
            "Selecting previously unselected package cg3-dev.\n",
            "Preparing to unpack .../23-cg3-dev_1.4.6-1~jammy1_all.deb ...\n",
            "Unpacking cg3-dev (1.4.6-1~jammy1) ...\n",
            "Selecting previously unselected package libfoma0:amd64.\n",
            "Preparing to unpack .../24-libfoma0_0.10.0-4~jammy1_amd64.deb ...\n",
            "Unpacking libfoma0:amd64 (0.10.0-4~jammy1) ...\n",
            "Selecting previously unselected package libfst22.\n",
            "Preparing to unpack .../25-libfst22_1.7.9-3~jammy1_amd64.deb ...\n",
            "Unpacking libfst22 (1.7.9-3~jammy1) ...\n",
            "Selecting previously unselected package libhfst55.\n",
            "Preparing to unpack .../26-libhfst55_3.16.0-4~jammy1_amd64.deb ...\n",
            "Unpacking libhfst55 (3.16.0-4~jammy1) ...\n",
            "Selecting previously unselected package hfst.\n",
            "Preparing to unpack .../27-hfst_3.16.0-4~jammy1_amd64.deb ...\n",
            "Unpacking hfst (3.16.0-4~jammy1) ...\n",
            "Selecting previously unselected package lexd.\n",
            "Preparing to unpack .../28-lexd_1.3.1-2~jammy1_amd64.deb ...\n",
            "Unpacking lexd (1.3.1-2~jammy1) ...\n",
            "Selecting previously unselected package libhfst-dev.\n",
            "Preparing to unpack .../29-libhfst-dev_3.16.0-4~jammy1_amd64.deb ...\n",
            "Unpacking libhfst-dev (3.16.0-4~jammy1) ...\n",
            "Selecting previously unselected package libzip4:amd64.\n",
            "Preparing to unpack .../30-libzip4_1.7.3-1ubuntu2_amd64.deb ...\n",
            "Unpacking libzip4:amd64 (1.7.3-1ubuntu2) ...\n",
            "Selecting previously unselected package transfuse.\n",
            "Preparing to unpack .../31-transfuse_0.5.8-4~jammy1_amd64.deb ...\n",
            "Unpacking transfuse (0.5.8-4~jammy1) ...\n",
            "Selecting previously unselected package apertium-all-dev.\n",
            "Preparing to unpack .../32-apertium-all-dev_3.8.1-6~jammy1_all.deb ...\n",
            "Unpacking apertium-all-dev (3.8.1-6~jammy1) ...\n",
            "Setting up gawk (1:5.1.0-1ubuntu0.1) ...\n",
            "Setting up libzip4:amd64 (1.7.3-1ubuntu2) ...\n",
            "Setting up xsltproc (1.1.34-4ubuntu0.22.04.1) ...\n",
            "Setting up libcg3-1:amd64 (1.4.6-1~jammy1) ...\n",
            "Setting up libfoma0:amd64 (0.10.0-4~jammy1) ...\n",
            "Setting up libirstlm1:amd64 (6.00.05-3) ...\n",
            "Setting up libutfcpp-dev:amd64 (3.2.1-2) ...\n",
            "Setting up liblttoolbox3:amd64 (3.7.1-3~jammy1) ...\n",
            "Setting up libfst22 (1.7.9-3~jammy1) ...\n",
            "Setting up cg3 (1.4.6-1~jammy1) ...\n",
            "Setting up apertium-eval-translator (1.2.1-2~jammy1) ...\n",
            "Setting up libxml2-utils (2.9.13+dfsg-1ubuntu0.3) ...\n",
            "Setting up libhfst55 (3.16.0-4~jammy1) ...\n",
            "Setting up lttoolbox (3.7.1-3~jammy1) ...\n",
            "Setting up apertium-regtest (0.9.1-2~sid1) ...\n",
            "Setting up transfuse (0.5.8-4~jammy1) ...\n",
            "Setting up libapertium-lex-tools1:amd64 (0.4.2-3~jammy1) ...\n",
            "Setting up apertium-lex-tools (0.4.2-3~jammy1) ...\n",
            "Setting up lttoolbox-dev (3.7.1-3~jammy1) ...\n",
            "Setting up libcg3-dev:amd64 (1.4.6-1~jammy1) ...\n",
            "Setting up lexd (1.3.1-2~jammy1) ...\n",
            "Setting up libapertium3:amd64 (3.8.3-2~jammy1) ...\n",
            "Setting up apertium-lex-tools-dev (0.4.2-3~jammy1) ...\n",
            "Setting up apertium-separable (0.6.1-3~jammy1) ...\n",
            "Setting up apertium-anaphora (1.1.1-3~jammy1) ...\n",
            "Setting up hfst (3.16.0-4~jammy1) ...\n",
            "Setting up libhfst-dev (3.16.0-4~jammy1) ...\n",
            "Setting up cg3-dev (1.4.6-1~jammy1) ...\n",
            "Setting up apertium (3.8.3-2~jammy1) ...\n",
            "Setting up apertium-recursive (1.1.2-3~jammy1) ...\n",
            "Setting up apertium-dev (3.8.3-2~jammy1) ...\n",
            "Setting up apertium-get (1.0.0-2~sid1) ...\n",
            "Setting up apertium-all-dev (3.8.1-6~jammy1) ...\n",
            "Processing triggers for man-db (2.10.2-1) ...\n",
            "Processing triggers for libc-bin (2.35-0ubuntu3.1) ...\n",
            "/sbin/ldconfig.real: /usr/local/lib/libtbbbind_2_0.so.3 is not a symbolic link\n",
            "\n",
            "/sbin/ldconfig.real: /usr/local/lib/libtbb.so.12 is not a symbolic link\n",
            "\n",
            "/sbin/ldconfig.real: /usr/local/lib/libtbbmalloc_proxy.so.2 is not a symbolic link\n",
            "\n",
            "/sbin/ldconfig.real: /usr/local/lib/libtbbmalloc.so.2 is not a symbolic link\n",
            "\n",
            "/sbin/ldconfig.real: /usr/local/lib/libtbbbind.so.3 is not a symbolic link\n",
            "\n",
            "/sbin/ldconfig.real: /usr/local/lib/libtbbbind_2_5.so.3 is not a symbolic link\n",
            "\n"
          ]
        }
      ]
    },
    {
      "cell_type": "markdown",
      "source": [
        "А что такое трансдьюсер вообще?\n",
        "\n",
        "Finite-State Transducer - конечный преобразовывающий автомат.\n",
        "\n",
        "Конечный атомат состоит из:\n",
        "\n",
        "* \"алфавита\" состояний,\n",
        "* входного \"алфавита\",\n",
        "* переходов между состояниями,\n",
        "* начального состояния,\n",
        "* конечных состояний.\n",
        "\n",
        "Его можно представить в виде [графа, матрицы или БНФ](https://github.com/tbkazakova/drafts/blob/main/auto.png) (Бэкусовская нормальная форма).\n",
        "\n",
        "Автоматы бывают:\n",
        "\n",
        "* **распознающие** — определяют соответствие входной цепочки конечному автомату;\n",
        "* **преобразовывающие** — производят определенные действия по входной цепочке.\n",
        "\n",
        "Автомат, который мы сегодня посмотрим, ходит по слову и по частям заменяет слово на <морфологические теги>.\n",
        "\n",
        "Подвид конечных автоматов: **стохастический** — каждому переходу приписана его вероятность.\n",
        "\n",
        "Вначале посмотрим на небольшой автомат для английского языка."
      ],
      "metadata": {
        "id": "VNfuvubV1KuV"
      }
    },
    {
      "cell_type": "code",
      "source": [
        "%%writefile eng.lexd\n",
        "PATTERNS\n",
        "VerbRoot VerbInfl\n",
        "NounRoot NounInfl\n",
        "\n",
        "LEXICON VerbRoot\n",
        "capture\n",
        "walk\n",
        "dance\n",
        "\n",
        "LEXICON VerbInfl\n",
        "<v><pres>:\n",
        "<v><pres><p3><sg>:s\n",
        "\n",
        "LEXICON NounRoot\n",
        "cat\n",
        "dog\n",
        "\n",
        "\n",
        "LEXICON NounInfl\n",
        "<n><sg>:\n",
        "<n><pl>:s"
      ],
      "metadata": {
        "colab": {
          "base_uri": "https://localhost:8080/"
        },
        "id": "NGQMCvNZ1C-m",
        "outputId": "b6b51e38-e3d1-499f-ac84-ef20de710d44"
      },
      "execution_count": null,
      "outputs": [
        {
          "output_type": "stream",
          "name": "stdout",
          "text": [
            "Overwriting eng.lexd\n"
          ]
        }
      ]
    },
    {
      "cell_type": "code",
      "source": [
        "! lexd eng.lexd > eng.generator.att\n",
        "! lt-comp rl eng.generator.att eng.analyser.bin\n",
        "! echo 'dances' | lt-proc eng.analyser.bin  # даёт разбор слова"
      ],
      "metadata": {
        "colab": {
          "base_uri": "https://localhost:8080/"
        },
        "id": "zJ7subry2TYA",
        "outputId": "46a05be6-5ed5-4388-b3c2-94d0a325c64a"
      },
      "execution_count": null,
      "outputs": [
        {
          "output_type": "stream",
          "name": "stdout",
          "text": [
            "main@standard 23 29\n",
            "^dances/dance<v><pres><p3><sg>$\n"
          ]
        }
      ]
    },
    {
      "cell_type": "code",
      "source": [
        "! echo 'dogs' | lt-proc eng.analyser.bin"
      ],
      "metadata": {
        "colab": {
          "base_uri": "https://localhost:8080/"
        },
        "id": "f1rZvp-B2W1b",
        "outputId": "60137743-689c-4453-db89-5d4bd07e2d4f"
      },
      "execution_count": null,
      "outputs": [
        {
          "output_type": "stream",
          "name": "stdout",
          "text": [
            "^dogs/dog<n><sg>$\n"
          ]
        }
      ]
    },
    {
      "cell_type": "code",
      "source": [
        "! lexd eng.lexd | hfst-txt2fst -o eng.generator.hfst\n",
        "! hfst-fst2strings eng.generator.hfst  # генерирует все возможные формы"
      ],
      "metadata": {
        "colab": {
          "base_uri": "https://localhost:8080/"
        },
        "id": "um3diZF02bwk",
        "outputId": "8e9714f2-cd01-4b05-f4d0-be0abec00929"
      },
      "execution_count": null,
      "outputs": [
        {
          "output_type": "stream",
          "name": "stdout",
          "text": [
            "capture<v><pres>:capture\n",
            "capture<v><pres><p3><sg>:captures\n",
            "cat<n><sg>:cat\n",
            "cat<n><pl>:cats\n",
            "walk<v><pres>:walk\n",
            "walk<v><pres><p3><sg>:walks\n",
            "dance<v><pres>:dance\n",
            "dance<v><pres><p3><sg>:dances\n",
            "dog<n><sg>:dog\n",
            "dog<n><pl>:dogs\n"
          ]
        }
      ]
    },
    {
      "cell_type": "markdown",
      "source": [
        "Теперь посмотрим на языки с более сложными структурами слов.\n",
        "\n",
        "Языки с редупликацией."
      ],
      "metadata": {
        "id": "mi5U5Axa4KQk"
      }
    },
    {
      "cell_type": "code",
      "source": [
        "%%writefile verb.lexd\n",
        "PATTERNS\n",
        ":VerbInfl VerbRoot VerbInfl:\n",
        ":VerbInfl :VerbRoot VerbRoot VerbInfl: Redup:\n",
        "\n",
        "LEXICON VerbRoot\n",
        "bloop\n",
        "vroom\n",
        "\n",
        "LEXICON VerbInfl\n",
        "<v><pres>:en\n",
        "\n",
        "LEXICON Redup\n",
        "<redup>:"
      ],
      "metadata": {
        "colab": {
          "base_uri": "https://localhost:8080/"
        },
        "id": "U2BTgMV54DjP",
        "outputId": "259e3356-f464-43ae-b744-021f29926c71"
      },
      "execution_count": null,
      "outputs": [
        {
          "output_type": "stream",
          "name": "stdout",
          "text": [
            "Overwriting verb.lexd\n"
          ]
        }
      ]
    },
    {
      "cell_type": "code",
      "source": [
        "! lexd verb.lexd > verb-generator.att\n",
        "! lexd verb.lexd | hfst-txt2fst -o verb-generator.hfst\n",
        "! hfst-fst2strings verb-generator.hfst  # генерирует все возможные формы"
      ],
      "metadata": {
        "colab": {
          "base_uri": "https://localhost:8080/"
        },
        "id": "bG8aVpiE5HDD",
        "outputId": "f1eb1c80-cb4b-4bda-92c9-92d77dcc6c5f"
      },
      "execution_count": null,
      "outputs": [
        {
          "output_type": "stream",
          "name": "stdout",
          "text": [
            "bloop<v><pres>:enbloop\n",
            "vroom<v><pres>:envroom\n",
            "bloop<v><pres><redup>:enbloopbloop\n",
            "vroom<v><pres><redup>:envroomvroom\n"
          ]
        }
      ]
    },
    {
      "cell_type": "markdown",
      "source": [
        "Языки с инфиксами."
      ],
      "metadata": {
        "id": "IJcvKvjp-tmj"
      }
    },
    {
      "cell_type": "code",
      "source": [
        "%%writefile sem.lexd\n",
        "PATTERNS\n",
        "C(1) :V(1) C(2) :V(2) C(3) V(2):\n",
        "\n",
        "LEXICON C(3)\n",
        "sh m r\n",
        "y sh v\n",
        "\n",
        "LEXICON V(2)\n",
        ":a <v><p3><sg>:a\n",
        ":o <v><pprs>:e"
      ],
      "metadata": {
        "colab": {
          "base_uri": "https://localhost:8080/"
        },
        "id": "C9mEj2Xb53ak",
        "outputId": "47088431-8295-49cf-9510-97e4d7623210"
      },
      "execution_count": null,
      "outputs": [
        {
          "output_type": "stream",
          "name": "stdout",
          "text": [
            "Overwriting sem.lexd\n"
          ]
        }
      ]
    },
    {
      "cell_type": "code",
      "source": [
        "! lexd sem.lexd > verb-generator.att\n",
        "! lexd sem.lexd | hfst-txt2fst -o verb-generator.hfst\n",
        "! hfst-fst2strings verb-generator.hfst  # генерирует все возможные формы"
      ],
      "metadata": {
        "colab": {
          "base_uri": "https://localhost:8080/"
        },
        "id": "SV_5tp-x5-nd",
        "outputId": "b5c46d22-1ae3-42df-9b26-262f20aa8e9b"
      },
      "execution_count": null,
      "outputs": [
        {
          "output_type": "stream",
          "name": "stdout",
          "text": [
            "shmr<v><p3><sg>:shamar\n",
            "shmr<v><pprs>:shomer\n",
            "yshv<v><p3><sg>:yashav\n",
            "yshv<v><pprs>:yoshev\n"
          ]
        }
      ]
    },
    {
      "cell_type": "markdown",
      "source": [
        "Теперь попробуем посмотреть на саамские [данные](https://github.com/Whereamiactually/lyceumcompling11/blob/main/Saami%20verb%20paradigm.png) и построить для них простой анализатор."
      ],
      "metadata": {
        "id": "eFYixZtk6cv7"
      }
    },
    {
      "cell_type": "code",
      "source": [
        "%%writefile saami.lexd\n",
        "PATTERNS\n",
        "VerbRoot VerbSuf? VerbInfl\n",
        "VerbBe VerbRoot VerbSuf? VerbPerf\n",
        "\n",
        "LEXICON VerbRoot\n",
        "kir'j\n",
        "vuul'l'k\n",
        "poorr\n",
        "\n",
        "LEXICON VerbInfl\n",
        "<v><pres><p1><sg>:a\n",
        "<v><pres><p1><pl>:ep\n",
        "<v><pres><p2><sg>:ak\n",
        "<v><pres><p2><pl>:b'edde\n",
        "<v><pres><p3><sg>:\n",
        "<v><pres><p3><pl>:ev\n",
        "<v><past><p1><sg>:e\n",
        "<v><past><p1><pl>:em\n",
        "<v><past><p2><sg>:ek\n",
        "<v><past><p2><pl>:et'\n",
        "<v><past><p3><sg>:e\n",
        "<v><past><p3><pl>:en'\n",
        "\n",
        "LEXICON VerbBe\n",
        "<be><npst><3sg>:l'ii\n",
        "\n",
        "LEXICON VerbSuf\n",
        "<caus>:x\n",
        "\n",
        "LEXICON VerbPerf\n",
        "<ptcp><pst>:ma"
      ],
      "metadata": {
        "colab": {
          "base_uri": "https://localhost:8080/"
        },
        "id": "VfaN3Yk-6fVm",
        "outputId": "e4587527-d489-4edb-bbd7-0523f2e77dbd"
      },
      "execution_count": null,
      "outputs": [
        {
          "output_type": "stream",
          "name": "stdout",
          "text": [
            "Writing saami.lexd\n"
          ]
        }
      ]
    },
    {
      "cell_type": "code",
      "source": [
        "! lexd saami.lexd > verb-generator.att\n",
        "! lexd saami.lexd | hfst-txt2fst -o verb-generator.hfst\n",
        "! hfst-fst2strings verb-generator.hfst  # генерирует все возможные формы"
      ],
      "metadata": {
        "colab": {
          "base_uri": "https://localhost:8080/"
        },
        "id": "EYYBkG2g8vtj",
        "outputId": "65bb3411-d62e-4c05-eabc-edb7072ec1ae"
      },
      "execution_count": null,
      "outputs": [
        {
          "output_type": "stream",
          "name": "stdout",
          "text": [
            "kir'j<caus><v><pres><p1><sg>:kir'jxa\n",
            "kir'j<caus><v><pres><p2><sg>:kir'jxak\n",
            "kir'j<caus><v><pres><p1><pl>:kir'jxep\n",
            "kir'j<caus><v><pres><p3><pl>:kir'jxev\n",
            "kir'j<caus><v><past><p1><sg>:kir'jxe\n",
            "kir'j<caus><v><past><p3><sg>:kir'jxe\n",
            "kir'j<caus><v><past><p1><pl>:kir'jxem\n",
            "kir'j<caus><v><past><p2><sg>:kir'jxek\n",
            "kir'j<caus><v><past><p2><pl>:kir'jxet'\n",
            "kir'j<caus><v><past><p3><pl>:kir'jxen'\n",
            "kir'j<caus><v><pres><p2><pl>:kir'jxb'edde\n",
            "kir'j<caus><v><pres><p3><sg>:kir'jx\n",
            "kir'j<v><pres><p1><sg>:kir'ja\n",
            "kir'j<v><pres><p2><sg>:kir'jak\n",
            "kir'j<v><pres><p1><pl>:kir'jep\n",
            "kir'j<v><pres><p3><pl>:kir'jev\n",
            "kir'j<v><past><p1><sg>:kir'je\n",
            "kir'j<v><past><p3><sg>:kir'je\n",
            "kir'j<v><past><p1><pl>:kir'jem\n",
            "kir'j<v><past><p2><sg>:kir'jek\n",
            "kir'j<v><past><p2><pl>:kir'jet'\n",
            "kir'j<v><past><p3><pl>:kir'jen'\n",
            "kir'j<v><pres><p2><pl>:kir'jb'edde\n",
            "kir'j<v><pres><p3><sg>:kir'j\n",
            "vuul'l'k<caus><v><pres><p1><sg>:vuul'l'kxa\n",
            "vuul'l'k<caus><v><pres><p2><sg>:vuul'l'kxak\n",
            "vuul'l'k<caus><v><pres><p1><pl>:vuul'l'kxep\n",
            "vuul'l'k<caus><v><pres><p3><pl>:vuul'l'kxev\n",
            "vuul'l'k<caus><v><past><p1><sg>:vuul'l'kxe\n",
            "vuul'l'k<caus><v><past><p3><sg>:vuul'l'kxe\n",
            "vuul'l'k<caus><v><past><p1><pl>:vuul'l'kxem\n",
            "vuul'l'k<caus><v><past><p2><sg>:vuul'l'kxek\n",
            "vuul'l'k<caus><v><past><p2><pl>:vuul'l'kxet'\n",
            "vuul'l'k<caus><v><past><p3><pl>:vuul'l'kxen'\n",
            "vuul'l'k<caus><v><pres><p2><pl>:vuul'l'kxb'edde\n",
            "vuul'l'k<caus><v><pres><p3><sg>:vuul'l'kx\n",
            "vuul'l'k<v><pres><p1><sg>:vuul'l'ka\n",
            "vuul'l'k<v><pres><p2><sg>:vuul'l'kak\n",
            "vuul'l'k<v><pres><p1><pl>:vuul'l'kep\n",
            "vuul'l'k<v><pres><p3><pl>:vuul'l'kev\n",
            "vuul'l'k<v><past><p1><sg>:vuul'l'ke\n",
            "vuul'l'k<v><past><p3><sg>:vuul'l'ke\n",
            "vuul'l'k<v><past><p1><pl>:vuul'l'kem\n",
            "vuul'l'k<v><past><p2><sg>:vuul'l'kek\n",
            "vuul'l'k<v><past><p2><pl>:vuul'l'ket'\n",
            "vuul'l'k<v><past><p3><pl>:vuul'l'ken'\n",
            "vuul'l'k<v><pres><p2><pl>:vuul'l'kb'edde\n",
            "vuul'l'k<v><pres><p3><sg>:vuul'l'k\n",
            "poorr<caus><v><pres><p1><sg>:poorrxa\n",
            "poorr<caus><v><pres><p2><sg>:poorrxak\n",
            "poorr<caus><v><pres><p1><pl>:poorrxep\n",
            "poorr<caus><v><pres><p3><pl>:poorrxev\n",
            "poorr<caus><v><past><p1><sg>:poorrxe\n",
            "poorr<caus><v><past><p3><sg>:poorrxe\n",
            "poorr<caus><v><past><p1><pl>:poorrxem\n",
            "poorr<caus><v><past><p2><sg>:poorrxek\n",
            "poorr<caus><v><past><p2><pl>:poorrxet'\n",
            "poorr<caus><v><past><p3><pl>:poorrxen'\n",
            "poorr<caus><v><pres><p2><pl>:poorrxb'edde\n",
            "poorr<caus><v><pres><p3><sg>:poorrx\n",
            "poorr<v><pres><p1><sg>:poorra\n",
            "poorr<v><pres><p2><sg>:poorrak\n",
            "poorr<v><pres><p1><pl>:poorrep\n",
            "poorr<v><pres><p3><pl>:poorrev\n",
            "poorr<v><past><p1><sg>:poorre\n",
            "poorr<v><past><p3><sg>:poorre\n",
            "poorr<v><past><p1><pl>:poorrem\n",
            "poorr<v><past><p2><sg>:poorrek\n",
            "poorr<v><past><p2><pl>:poorret'\n",
            "poorr<v><past><p3><pl>:poorren'\n",
            "poorr<v><pres><p2><pl>:poorrb'edde\n",
            "poorr<v><pres><p3><sg>:poorr\n",
            "<be><npst><3sg>kir'j<caus><ptcp><pst>:l'iikir'jxma\n",
            "<be><npst><3sg>kir'j<ptcp><pst>:l'iikir'jma\n",
            "<be><npst><3sg>vuul'l'k<caus><ptcp><pst>:l'iivuul'l'kxma\n",
            "<be><npst><3sg>vuul'l'k<ptcp><pst>:l'iivuul'l'kma\n",
            "<be><npst><3sg>poorr<caus><ptcp><pst>:l'iipoorrxma\n",
            "<be><npst><3sg>poorr<ptcp><pst>:l'iipoorrma\n"
          ]
        }
      ]
    },
    {
      "cell_type": "code",
      "source": [
        "! lexd saami.lexd > eng.generator.att\n",
        "! lt-comp rl eng.generator.att eng.analyser.bin\n",
        "! echo \"l'iikir'jxma\" | lt-proc eng.analyser.bin  # даёт разбор слова"
      ],
      "metadata": {
        "colab": {
          "base_uri": "https://localhost:8080/"
        },
        "id": "_Br2jru3-Qkx",
        "outputId": "329bdb91-5dc2-4c7c-9539-51d44128cf36"
      },
      "execution_count": null,
      "outputs": [
        {
          "output_type": "stream",
          "name": "stdout",
          "text": [
            "main@standard 59 79\n",
            "^l'iikir'jxma/<be><npst><3sg>kir'j<caus><ptcp><pst>$\n"
          ]
        }
      ]
    },
    {
      "cell_type": "markdown",
      "source": [
        "Мы с вами посмотрели на то, как работает формализм **lexd**. У HFST есть ещё одна часть: **twolc** (two-level compiler).\n",
        "\n",
        "Последняя штука (**twolc**) нужно для морфонологии. Она помогает, когда одна глубинная форма реализуется по-разному (например, *отец* и *от_ца*).\n"
      ],
      "metadata": {
        "id": "Zx9FciQ--gai"
      }
    }
  ]
}