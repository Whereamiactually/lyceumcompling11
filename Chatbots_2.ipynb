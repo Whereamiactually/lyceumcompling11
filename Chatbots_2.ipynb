{
  "nbformat": 4,
  "nbformat_minor": 0,
  "metadata": {
    "colab": {
      "provenance": [],
      "authorship_tag": "ABX9TyNWAbcJsNZxgfJNERrk48kX",
      "include_colab_link": true
    },
    "kernelspec": {
      "name": "python3",
      "display_name": "Python 3"
    },
    "language_info": {
      "name": "python"
    }
  },
  "cells": [
    {
      "cell_type": "markdown",
      "metadata": {
        "id": "view-in-github",
        "colab_type": "text"
      },
      "source": [
        "<a href=\"https://colab.research.google.com/github/Whereamiactually/lyceumcompling11/blob/main/Chatbots_2.ipynb\" target=\"_parent\"><img src=\"https://colab.research.google.com/assets/colab-badge.svg\" alt=\"Open In Colab\"/></a>"
      ]
    },
    {
      "cell_type": "markdown",
      "source": [
        "# Продолжение чат-ботов\n",
        "\n",
        "(Большое спасибо Даше Поповой за материалы, которые используются в этой тетрадке!)"
      ],
      "metadata": {
        "id": "HL0F90UzP-TA"
      }
    },
    {
      "cell_type": "code",
      "execution_count": 1,
      "metadata": {
        "colab": {
          "base_uri": "https://localhost:8080/"
        },
        "id": "IdfrHEonxf0p",
        "outputId": "4adbb985-0ac7-426b-ceee-abe89574ae25"
      },
      "outputs": [
        {
          "output_type": "stream",
          "name": "stdout",
          "text": [
            "Collecting pyTelegramBotAPI\n",
            "  Downloading pyTelegramBotAPI-4.14.0.tar.gz (243 kB)\n",
            "\u001b[?25l     \u001b[90m━━━━━━━━━━━━━━━━━━━━━━━━━━━━━━━━━━━━━━━━\u001b[0m \u001b[32m0.0/243.1 kB\u001b[0m \u001b[31m?\u001b[0m eta \u001b[36m-:--:--\u001b[0m\r\u001b[2K     \u001b[91m━━━━━━━━━━━━━━━━━━━━━━━━━━\u001b[0m\u001b[91m╸\u001b[0m\u001b[90m━━━━━━━━━━━━━\u001b[0m \u001b[32m163.8/243.1 kB\u001b[0m \u001b[31m4.7 MB/s\u001b[0m eta \u001b[36m0:00:01\u001b[0m\r\u001b[2K     \u001b[90m━━━━━━━━━━━━━━━━━━━━━━━━━━━━━━━━━━━━━━━━\u001b[0m \u001b[32m243.1/243.1 kB\u001b[0m \u001b[31m4.8 MB/s\u001b[0m eta \u001b[36m0:00:00\u001b[0m\n",
            "\u001b[?25h  Preparing metadata (setup.py) ... \u001b[?25l\u001b[?25hdone\n",
            "Requirement already satisfied: requests in /usr/local/lib/python3.10/dist-packages (from pyTelegramBotAPI) (2.31.0)\n",
            "Requirement already satisfied: charset-normalizer<4,>=2 in /usr/local/lib/python3.10/dist-packages (from requests->pyTelegramBotAPI) (3.3.2)\n",
            "Requirement already satisfied: idna<4,>=2.5 in /usr/local/lib/python3.10/dist-packages (from requests->pyTelegramBotAPI) (3.4)\n",
            "Requirement already satisfied: urllib3<3,>=1.21.1 in /usr/local/lib/python3.10/dist-packages (from requests->pyTelegramBotAPI) (2.0.7)\n",
            "Requirement already satisfied: certifi>=2017.4.17 in /usr/local/lib/python3.10/dist-packages (from requests->pyTelegramBotAPI) (2023.7.22)\n",
            "Building wheels for collected packages: pyTelegramBotAPI\n",
            "  Building wheel for pyTelegramBotAPI (setup.py) ... \u001b[?25l\u001b[?25hdone\n",
            "  Created wheel for pyTelegramBotAPI: filename=pyTelegramBotAPI-4.14.0-py3-none-any.whl size=215250 sha256=340c93401b09aad202382489af61a3c87eefae9dd582eeaf5a03012026af9feb\n",
            "  Stored in directory: /root/.cache/pip/wheels/25/51/2d/24b40a366c85c37928d5aa36ddf257e5a79fad25e1ecd11b2c\n",
            "Successfully built pyTelegramBotAPI\n",
            "Installing collected packages: pyTelegramBotAPI\n",
            "Successfully installed pyTelegramBotAPI-4.14.0\n"
          ]
        }
      ],
      "source": [
        "!pip install pyTelegramBotAPI"
      ]
    },
    {
      "cell_type": "code",
      "source": [
        "import telebot\n",
        "bot = telebot.TeleBot(\"6814073858:AAEGGyn6IjJ0W8PR4H4BAmAydXGSn-qx7Fg\") # создаем экземпляр бота"
      ],
      "metadata": {
        "id": "0qQtnJLJfNJW"
      },
      "execution_count": 1,
      "outputs": []
    },
    {
      "cell_type": "markdown",
      "source": [
        "Попробуем добавить кнопки для нашего бота!"
      ],
      "metadata": {
        "id": "4JmxzOT7Pda7"
      }
    },
    {
      "cell_type": "code",
      "source": [
        "from telebot import types # для создания клавиатуры\n",
        "\n",
        "@bot.message_handler(commands = [\"start\"])\n",
        "def repeat_all_messages(message):\n",
        "    # создаем клавиатуру\n",
        "    keyboard = types.InlineKeyboardMarkup()\n",
        "\n",
        "    # добавляем на нее две кнопки\n",
        "    button1 = types.InlineKeyboardButton(text = \"Кнопка 1\", callback_data = \"button1\")\n",
        "    button2 = types.InlineKeyboardButton(text = \"Кнопка 2\", callback_data = \"button2\")\n",
        "    keyboard.add(button1)\n",
        "    keyboard.add(button2)\n",
        "\n",
        "    # отправляем сообщение пользователю\n",
        "    bot.send_message(message.chat.id, \"Нажмите кнопку!\", reply_markup = keyboard)\n",
        "\n",
        "# функция запустится, когда пользователь нажмет на кнопку\n",
        "@bot.callback_query_handler(func = lambda call: True)\n",
        "def callback_inline(call):\n",
        "    if call.message:\n",
        "        if call.data == \"button1\":\n",
        "            bot.send_message(call.message.chat.id, \"Вы нажали на первую кнопку.\")\n",
        "        if call.data == \"button2\":\n",
        "            bot.send_message(call.message.chat.id, \"Вы нажали на вторую кнопку.\")\n",
        "\n",
        "bot.polling(none_stop = True)"
      ],
      "metadata": {
        "id": "B00WK2bEOaXr"
      },
      "execution_count": 4,
      "outputs": []
    },
    {
      "cell_type": "markdown",
      "source": [
        "Мы можем добавлять не только такие кнопки, которые присылает бот, но и создавать клавиатуру кнопок для пользователя."
      ],
      "metadata": {
        "id": "x6oYXRXdV5IL"
      }
    },
    {
      "cell_type": "code",
      "source": [
        "from telebot import types # для создания клавиатуры\n",
        "\n",
        "@bot.message_handler(commands = [\"start\"])\n",
        "def repeat_all_messages(message):\n",
        "    # добавляем \"кнопки\"\n",
        "    markup = types.ReplyKeyboardMarkup(row_width = 2) # по умолчанию 3\n",
        "    itembtna = types.KeyboardButton('а')\n",
        "    itembtnv = types.KeyboardButton('в')\n",
        "    itembtnc = types.KeyboardButton('ц')\n",
        "    itembtnd = types.KeyboardButton('д')\n",
        "    itembtnp = types.KeyboardButton('п')\n",
        "    markup.row(itembtna, itembtnv)\n",
        "    markup.row(itembtnc, itembtnd, itembtnp)\n",
        "\n",
        "    # отправляем сообщение пользователю\n",
        "    bot.send_message(message.chat.id, \"Выберите одну букву!\", reply_markup = markup)\n",
        "\n",
        "# функция запустится, когда пользователь нажмет на одну из букв (запускается не так же, как от \"нормальных\" кнопок)\n",
        "@bot.message_handler(func = lambda m: True)\n",
        "def callback_inline(message):\n",
        "    if message.text == 'а':\n",
        "      reply = 'А-а-а-а-а-а, крокодилы, бегемоты...'\n",
        "    elif message.text == 'п':\n",
        "      reply = 'Погиб поэт, невольник чести...'\n",
        "    else:\n",
        "      reply = 'Не могу придумать... :('\n",
        "\n",
        "    # теперь закрываем клавиатуру\n",
        "    markup = types.ReplyKeyboardRemove()\n",
        "    # и отвечаем\n",
        "    bot.send_message(message.chat.id, reply, reply_markup = markup)\n",
        "\n",
        "bot.polling(none_stop = True)"
      ],
      "metadata": {
        "id": "16UG-m1zPRWb"
      },
      "execution_count": 2,
      "outputs": []
    },
    {
      "cell_type": "markdown",
      "source": [
        "Еще набор всяких штучек.\n",
        "\n",
        "1. Отредактировать предыдущее сообщение\n",
        "```\n",
        "bot.edit_message_text(new_text, chat_id, message_id)\n",
        "```\n",
        "\n",
        "2. Отправить аудио\n",
        "```\n",
        "audio = open('audio.mp3', 'rb')\n",
        "bot.send_audio(chat_id, audio)\n",
        "```\n",
        "\n",
        "3. Отправить голосове сообщение\n",
        "```\n",
        "voice = open('voice.ogg', 'rb')\n",
        "bot.send_voice(chat_id, voice)\n",
        "```\n",
        "\n",
        "4. Отравить файл\n",
        "```\n",
        "doc = open('file.txt', 'rb')\n",
        "bot.send_document(chat_id, doc)\n",
        "```\n",
        "\n",
        "5. Отправить стикер\n",
        "```\n",
        "sti = open('sti.webp', 'rb')\n",
        "bot.send_sticker(chat_id, sti)\n",
        "```\n",
        "\n",
        "6. Отправить видео\n",
        "```\n",
        "video = open('video.mp4', 'rb')\n",
        "bot.send_video(chat_id, video)\n",
        "```\n",
        "\n",
        "7. Отправить локацию\n",
        "```\n",
        "bot.send_location(chat_id, lat, lon)\n",
        "```"
      ],
      "metadata": {
        "id": "s0DpHgPHW2KB"
      }
    },
    {
      "cell_type": "markdown",
      "source": [
        "### Бот, разговаривающий стикерами\n",
        "\n",
        "Сделаем бота, который присылает стикер. Для этого нам нужно знать ID стикера, который мы хотим отправить. Его можно получить, отправив нужный стикер вот этому [боту](https://t.me/LeadConverterToolkitBot)."
      ],
      "metadata": {
        "id": "NcIkX5CkbjLi"
      }
    },
    {
      "cell_type": "code",
      "source": [
        "import telebot\n",
        "import random\n",
        "\n",
        "bot = telebot.TeleBot(\"6814073858:AAEGGyn6IjJ0W8PR4H4BAmAydXGSn-qx7Fg\") # создаем экземпляр бота\n",
        "\n",
        "@bot.message_handler(commands = [\"sticker\"])\n",
        "def sticker(message):\n",
        "  stickers = ['CAACAgIAAxkBAAECO-tlaZRnm-gtlJap46k0pXe4YlgP7wACuw4AAikgeUg9r4V9TGH5izME', 'CAACAgIAAxkBAAECO-1laZSixEhhNMvl9gLdBEvA52EIYAAClhEAAha3cUj28r6wEJDtwzME', 'CAACAgIAAxkBAAECO-1laZSixEhhNMvl9gLdBEvA52EIYAAClhEAAha3cUj28r6wEJDtwzME', 'CAACAgIAAxkBAAECO-9laZSmursHJ_EghJZCWTLC6IgfnwACUQADv2adGGxkVQLJXDhWMwQ']\n",
        "  bot.send_sticker(message.chat.id, random.choice(stickers))\n",
        "\n",
        "bot.polling(none_stop = True)"
      ],
      "metadata": {
        "id": "WmdvNWYqY3zo"
      },
      "execution_count": 2,
      "outputs": []
    },
    {
      "cell_type": "markdown",
      "source": [
        "Создадим бота, который будет отвечать либо стикером, либо текстом."
      ],
      "metadata": {
        "id": "0WSrNIs-crZc"
      }
    },
    {
      "cell_type": "code",
      "source": [
        "import telebot\n",
        "import random\n",
        "import string\n",
        "\n",
        "bot = telebot.TeleBot(\"6814073858:AAEGGyn6IjJ0W8PR4H4BAmAydXGSn-qx7Fg\") # создаем экземпляр бота\n",
        "punc = string.punctuation\n",
        "\n",
        "@bot.message_handler(commands = ['start'])\n",
        "def start_message(message):\n",
        "    bot.send_message(message.chat.id, 'Привет, ты написал мне, ура!')\n",
        "\n",
        "@bot.message_handler(content_types = ['text'])\n",
        "def send_text(message):\n",
        "    if message.text.lower().strip(punc) == 'привет':\n",
        "        bot.send_message(message.chat.id, 'Привет, ква!')\n",
        "    elif message.text.lower().strip(punc) == 'пока':\n",
        "        bot.send_message(message.chat.id, 'Пока, ква!')\n",
        "    elif message.text.lower().strip(punc) == 'люблю программировать':\n",
        "        stickers = ['CAACAgIAAxkBAAECPAJlaZiVUIqhOrI7RiPEN3u6Iz4GZAACLAADv2adGD6s8GqlJTN0MwQ', 'CAACAgIAAxkBAAECPARlaZiinKxKOMbMWlQqMkXfNhUukwACCgADv2adGC64rNEhC1fkMwQ', 'CAACAgIAAxkBAAECO-1laZSixEhhNMvl9gLdBEvA52EIYAAClhEAAha3cUj28r6wEJDtwzME', 'CAACAgIAAxkBAAECO-9laZSmursHJ_EghJZCWTLC6IgfnwACUQADv2adGGxkVQLJXDhWMwQ']\n",
        "        bot.send_sticker(message.chat.id, random.choice(stickers))\n",
        "    else:\n",
        "        bot.send_message(message.chat.id, 'Ква-ква-ква-ква!')\n",
        "\n",
        "@bot.message_handler(content_types = ['sticker'])\n",
        "def sticker_id(message):\n",
        "    print(message)\n",
        "    print(message.sticker.file_id)\n",
        "\n",
        "bot.polling(none_stop = True)"
      ],
      "metadata": {
        "id": "yiK_aFoLcruV"
      },
      "execution_count": null,
      "outputs": []
    },
    {
      "cell_type": "markdown",
      "source": [
        "### Ограничения на количество символов"
      ],
      "metadata": {
        "id": "M_UwjG9Ff3eb"
      }
    },
    {
      "cell_type": "code",
      "source": [
        "import telebot\n",
        "from telebot import util # штука для дробления текста на кусочки\n",
        "\n",
        "bot = telebot.TeleBot(\"6814073858:AAEGGyn6IjJ0W8PR4H4BAmAydXGSn-qx7Fg\") # создаем экземпляр бота\n",
        "\n",
        "@bot.message_handler(content_types = ['text'])\n",
        "def large_text(message):\n",
        "  large_text = open(\"mertvye-dushi.txt\", \"r\", encoding = \"utf-8\").read()[:10000]\n",
        "\n",
        "  # разобьем текст на 3000 символов\n",
        "  # split_string() возвращает список разбитых кусочков текста заданного размера\n",
        "  splitted_text = util.split_string(large_text, 3000)\n",
        "  for text in splitted_text:\n",
        "\t  bot.send_message(message.chat.id, text)\n",
        "\n",
        "bot.polling(none_stop = True)"
      ],
      "metadata": {
        "id": "RAZBAXhYf6ID"
      },
      "execution_count": 1,
      "outputs": []
    },
    {
      "cell_type": "markdown",
      "source": [
        "### Обратимся к пользователю по имени"
      ],
      "metadata": {
        "id": "A2yGbQj3pcz_"
      }
    },
    {
      "cell_type": "code",
      "source": [
        "import telebot\n",
        "\n",
        "bot = telebot.TeleBot(\"6814073858:AAEGGyn6IjJ0W8PR4H4BAmAydXGSn-qx7Fg\") # создаем экземпляр бота\n",
        "\n",
        "@bot.message_handler(commands = ['start'])\n",
        "def send_welcome(message):\n",
        "    bot.reply_to(message, \"Привет, \" + message.from_user.first_name + \"!\")\n",
        "    print(message.from_user) # распечатаем здесь информацию о пользователе\n",
        "\n",
        "bot.polling(none_stop = True)"
      ],
      "metadata": {
        "colab": {
          "base_uri": "https://localhost:8080/"
        },
        "id": "Erty4KyKpasM",
        "outputId": "86e524fb-21bd-4054-a409-b4f967ccd5e4"
      },
      "execution_count": 1,
      "outputs": [
        {
          "output_type": "stream",
          "name": "stdout",
          "text": [
            "{'id': 702597218, 'is_bot': False, 'first_name': 'Maria', 'username': 'Whereamiactually', 'last_name': None, 'language_code': 'ru', 'can_join_groups': None, 'can_read_all_group_messages': None, 'supports_inline_queries': None, 'is_premium': None, 'added_to_attachment_menu': None}\n"
          ]
        }
      ]
    },
    {
      "cell_type": "markdown",
      "source": [
        "### Бот для разметки данных"
      ],
      "metadata": {
        "id": "HjBiEPbvqR58"
      }
    },
    {
      "cell_type": "code",
      "source": [
        "import telebot\n",
        "import random\n",
        "import shelve\n",
        "from telebot import types\n",
        "\n",
        "bot = telebot.TeleBot(\"6814073858:AAEGGyn6IjJ0W8PR4H4BAmAydXGSn-qx7Fg\") # создаем экземпляр бота\n",
        "\n",
        "# отзывы хранятся в виде .csv файла с номерами отзывов и собственно текстами\n",
        "with open('reviews.csv', 'r', encoding = 'utf-8') as f:\n",
        "    reviews = {} # создадим словарь отзывов\n",
        "    for line in f:\n",
        "        num, text = line.strip().split('\\t')\n",
        "        reviews[num] = text\n",
        "\n",
        "review_keys = list(reviews.keys()) # и отдельно массив ключей\n",
        "\n",
        "\n",
        "# собираем клавиатуру для разметки\n",
        "keyboard = types.ReplyKeyboardMarkup(row_width = 3)\n",
        "btn1 = types.KeyboardButton('+')\n",
        "btn2 = types.KeyboardButton('-')\n",
        "btn3 = types.KeyboardButton('=')\n",
        "btn4 = types.KeyboardButton('Не знаю...')\n",
        "keyboard.add(btn1, btn2, btn3, btn4)\n",
        "\n",
        "\n",
        "# shelve используется как мини-база данных, там можно хранить файлы в виде \"ключ-значение\"\n",
        "# в этой базе мы будем хранить информацию о том, какой отзыв мы недавно прислали юзеру\n",
        "shelve_name = 'shelve.db' # файл с хранилищем\n",
        "\n",
        "def set_user_review(chat_id, review):\n",
        "    \"\"\"\n",
        "    Записываем юзера в базу данных и запоминаем номер отзыва, который мы ему дали.\n",
        "    \"\"\"\n",
        "    with shelve.open(shelve_name) as storage:\n",
        "        storage[str(chat_id)] = review\n",
        "\n",
        "def get_user_review(chat_id):\n",
        "    \"\"\"\n",
        "    Вспоминаем, какой отзыв мы отправили на разметку.\n",
        "    \"\"\"\n",
        "    with shelve.open(shelve_name) as storage:\n",
        "        try:\n",
        "            review = storage[str(chat_id)]\n",
        "            return review\n",
        "        # если человека нет в базе, ничего не возвращаем\n",
        "        except KeyError:\n",
        "            return None\n",
        "\n",
        "# этот обработчик запускает функцию send_welcome, когда пользователь отправляет команду /help\n",
        "@bot.message_handler(commands = ['help'])\n",
        "def send_welcome(message):\n",
        "    bot.send_message(message.chat.id, \"Здравствуйте! Это бот для разметки отзывов на кинофильмы.\\nПоложительные отзывы отмечаются плюсом +, отрицательные минусом -, а нейтральные знаком равно =.\")\n",
        "\n",
        "\n",
        "# этот обработчик запускает функцию, когда пользователь отправляет команду /start\n",
        "@bot.message_handler(commands = ['start'])\n",
        "def send_first_review(message):\n",
        "    review_num = random.choice(review_keys)\n",
        "    bot.send_message(message.chat.id, reviews[review_num], reply_markup = keyboard)\n",
        "    set_user_review(message.chat.id, review_num)\n",
        "\n",
        "\n",
        "@bot.message_handler(regexp = '[-+=]|Не знаю\\.\\.\\.')  # этот обработчик реагирует на символы разметки и записывает результаты\n",
        "def get_answer(message):\n",
        "    review_num = get_user_review(message.chat.id) # проверяем, есть ли юзер в базе данных\n",
        "    if review_num:\n",
        "        # если есть, открываем файл с результатами и записываем туда разметку\n",
        "        if message.text != 'Не знаю...':\n",
        "          with open('results.csv', 'a', encoding = 'utf-8') as results:\n",
        "            results.write(review_num + '\\t' + message.text + '\\n')\n",
        "        # и сразу отправляем новый отзыв\n",
        "        review_num = random.choice(review_keys)\n",
        "        bot.send_message(message.chat.id, reviews[review_num], reply_markup = keyboard)\n",
        "        set_user_review(message.chat.id, review_num)\n",
        "    else:\n",
        "        # если нет, то что-нибудь говорим об этом\n",
        "        bot.send_message(message.chat.id, 'Вы не разметили отзыв.')\n",
        "\n",
        "if __name__ == '__main__':\n",
        "    bot.polling(none_stop = True)"
      ],
      "metadata": {
        "id": "-w5vfz7Nql0r"
      },
      "execution_count": 2,
      "outputs": []
    },
    {
      "cell_type": "markdown",
      "source": [
        "### Цепь Маркова\n",
        "\n",
        "**Цепь Маркова** (англ. Markov chain) — последовательность случайных событий с конечным или счётным числом исходов, характеризующаяся тем, что при фиксированном настоящем будущее независимо от прошлого. Процесс в каждый момент времени находится в одном из состояний.\n",
        "\n",
        "[Вот](https://tproger.ru/translations/markov-chains/) очень хороший туториал, в котором подробно и с картинками описан процесс работы этого алгоритма и дан пример написания генератора текста на основе цепи Маркова с нуля.\n",
        "Есть несколько питоновских библиотек для генерации текста с помощью марковских цепей — например, [markovify](https://github.com/jsvine/markovify).\n",
        "\n"
      ],
      "metadata": {
        "id": "5pI4m9bPx2DC"
      }
    },
    {
      "cell_type": "code",
      "source": [
        "!pip install markovify"
      ],
      "metadata": {
        "colab": {
          "base_uri": "https://localhost:8080/"
        },
        "id": "psvbdDwL2MD9",
        "outputId": "109959c3-d2f0-48fc-987e-13db2aab3213"
      },
      "execution_count": 3,
      "outputs": [
        {
          "output_type": "stream",
          "name": "stdout",
          "text": [
            "Collecting markovify\n",
            "  Downloading markovify-0.9.4.tar.gz (27 kB)\n",
            "  Preparing metadata (setup.py) ... \u001b[?25l\u001b[?25hdone\n",
            "Collecting unidecode (from markovify)\n",
            "  Downloading Unidecode-1.3.7-py3-none-any.whl (235 kB)\n",
            "\u001b[2K     \u001b[90m━━━━━━━━━━━━━━━━━━━━━━━━━━━━━━━━━━━━━━━━\u001b[0m \u001b[32m235.5/235.5 kB\u001b[0m \u001b[31m5.8 MB/s\u001b[0m eta \u001b[36m0:00:00\u001b[0m\n",
            "\u001b[?25hBuilding wheels for collected packages: markovify\n",
            "  Building wheel for markovify (setup.py) ... \u001b[?25l\u001b[?25hdone\n",
            "  Created wheel for markovify: filename=markovify-0.9.4-py3-none-any.whl size=18606 sha256=4c8de55663e5514fed1a713b414284b210bd1e6f3763ba6ed846a2ddbfda3d38\n",
            "  Stored in directory: /root/.cache/pip/wheels/ca/8c/c5/41413e24c484f883a100c63ca7b3b0362b7c6f6eb6d7c9cc7f\n",
            "Successfully built markovify\n",
            "Installing collected packages: unidecode, markovify\n",
            "Successfully installed markovify-0.9.4 unidecode-1.3.7\n"
          ]
        }
      ]
    },
    {
      "cell_type": "markdown",
      "source": [
        "Давайте попробуем генерировать случайные пословицы из реальных."
      ],
      "metadata": {
        "id": "zh0cn74x4rvW"
      }
    },
    {
      "cell_type": "code",
      "source": [
        "import pandas as pd\n",
        "\n",
        "provs = pd.read_csv('dal_proverbs.csv', sep='\\t', encoding='utf-8')\n",
        "provs.head()"
      ],
      "metadata": {
        "colab": {
          "base_uri": "https://localhost:8080/",
          "height": 206
        },
        "id": "T1sBkcD-x5R1",
        "outputId": "06051f68-5ea3-49ea-feb8-28983c5abb8f"
      },
      "execution_count": 4,
      "outputs": [
        {
          "output_type": "execute_result",
          "data": {
            "text/plain": [
              "                                          proverb       topic\n",
              "0                            Жить — богу служить.  Бог — Вера\n",
              "1          Кто велик, яко бог наш (Влад. Моном.).  Бог — Вера\n",
              "2  Не нам, не нам, но имени твоему (т. е. слава).  Бог — Вера\n",
              "3                   Велико имя господне на земли.  Бог — Вера\n",
              "4                     В мале бог, и в велике бог.  Бог — Вера"
            ],
            "text/html": [
              "\n",
              "  <div id=\"df-6eaec2a5-6aba-40a3-9f32-bf1ee0454561\" class=\"colab-df-container\">\n",
              "    <div>\n",
              "<style scoped>\n",
              "    .dataframe tbody tr th:only-of-type {\n",
              "        vertical-align: middle;\n",
              "    }\n",
              "\n",
              "    .dataframe tbody tr th {\n",
              "        vertical-align: top;\n",
              "    }\n",
              "\n",
              "    .dataframe thead th {\n",
              "        text-align: right;\n",
              "    }\n",
              "</style>\n",
              "<table border=\"1\" class=\"dataframe\">\n",
              "  <thead>\n",
              "    <tr style=\"text-align: right;\">\n",
              "      <th></th>\n",
              "      <th>proverb</th>\n",
              "      <th>topic</th>\n",
              "    </tr>\n",
              "  </thead>\n",
              "  <tbody>\n",
              "    <tr>\n",
              "      <th>0</th>\n",
              "      <td>Жить — богу служить.</td>\n",
              "      <td>Бог — Вера</td>\n",
              "    </tr>\n",
              "    <tr>\n",
              "      <th>1</th>\n",
              "      <td>Кто велик, яко бог наш (Влад. Моном.).</td>\n",
              "      <td>Бог — Вера</td>\n",
              "    </tr>\n",
              "    <tr>\n",
              "      <th>2</th>\n",
              "      <td>Не нам, не нам, но имени твоему (т. е. слава).</td>\n",
              "      <td>Бог — Вера</td>\n",
              "    </tr>\n",
              "    <tr>\n",
              "      <th>3</th>\n",
              "      <td>Велико имя господне на земли.</td>\n",
              "      <td>Бог — Вера</td>\n",
              "    </tr>\n",
              "    <tr>\n",
              "      <th>4</th>\n",
              "      <td>В мале бог, и в велике бог.</td>\n",
              "      <td>Бог — Вера</td>\n",
              "    </tr>\n",
              "  </tbody>\n",
              "</table>\n",
              "</div>\n",
              "    <div class=\"colab-df-buttons\">\n",
              "\n",
              "  <div class=\"colab-df-container\">\n",
              "    <button class=\"colab-df-convert\" onclick=\"convertToInteractive('df-6eaec2a5-6aba-40a3-9f32-bf1ee0454561')\"\n",
              "            title=\"Convert this dataframe to an interactive table.\"\n",
              "            style=\"display:none;\">\n",
              "\n",
              "  <svg xmlns=\"http://www.w3.org/2000/svg\" height=\"24px\" viewBox=\"0 -960 960 960\">\n",
              "    <path d=\"M120-120v-720h720v720H120Zm60-500h600v-160H180v160Zm220 220h160v-160H400v160Zm0 220h160v-160H400v160ZM180-400h160v-160H180v160Zm440 0h160v-160H620v160ZM180-180h160v-160H180v160Zm440 0h160v-160H620v160Z\"/>\n",
              "  </svg>\n",
              "    </button>\n",
              "\n",
              "  <style>\n",
              "    .colab-df-container {\n",
              "      display:flex;\n",
              "      gap: 12px;\n",
              "    }\n",
              "\n",
              "    .colab-df-convert {\n",
              "      background-color: #E8F0FE;\n",
              "      border: none;\n",
              "      border-radius: 50%;\n",
              "      cursor: pointer;\n",
              "      display: none;\n",
              "      fill: #1967D2;\n",
              "      height: 32px;\n",
              "      padding: 0 0 0 0;\n",
              "      width: 32px;\n",
              "    }\n",
              "\n",
              "    .colab-df-convert:hover {\n",
              "      background-color: #E2EBFA;\n",
              "      box-shadow: 0px 1px 2px rgba(60, 64, 67, 0.3), 0px 1px 3px 1px rgba(60, 64, 67, 0.15);\n",
              "      fill: #174EA6;\n",
              "    }\n",
              "\n",
              "    .colab-df-buttons div {\n",
              "      margin-bottom: 4px;\n",
              "    }\n",
              "\n",
              "    [theme=dark] .colab-df-convert {\n",
              "      background-color: #3B4455;\n",
              "      fill: #D2E3FC;\n",
              "    }\n",
              "\n",
              "    [theme=dark] .colab-df-convert:hover {\n",
              "      background-color: #434B5C;\n",
              "      box-shadow: 0px 1px 3px 1px rgba(0, 0, 0, 0.15);\n",
              "      filter: drop-shadow(0px 1px 2px rgba(0, 0, 0, 0.3));\n",
              "      fill: #FFFFFF;\n",
              "    }\n",
              "  </style>\n",
              "\n",
              "    <script>\n",
              "      const buttonEl =\n",
              "        document.querySelector('#df-6eaec2a5-6aba-40a3-9f32-bf1ee0454561 button.colab-df-convert');\n",
              "      buttonEl.style.display =\n",
              "        google.colab.kernel.accessAllowed ? 'block' : 'none';\n",
              "\n",
              "      async function convertToInteractive(key) {\n",
              "        const element = document.querySelector('#df-6eaec2a5-6aba-40a3-9f32-bf1ee0454561');\n",
              "        const dataTable =\n",
              "          await google.colab.kernel.invokeFunction('convertToInteractive',\n",
              "                                                    [key], {});\n",
              "        if (!dataTable) return;\n",
              "\n",
              "        const docLinkHtml = 'Like what you see? Visit the ' +\n",
              "          '<a target=\"_blank\" href=https://colab.research.google.com/notebooks/data_table.ipynb>data table notebook</a>'\n",
              "          + ' to learn more about interactive tables.';\n",
              "        element.innerHTML = '';\n",
              "        dataTable['output_type'] = 'display_data';\n",
              "        await google.colab.output.renderOutput(dataTable, element);\n",
              "        const docLink = document.createElement('div');\n",
              "        docLink.innerHTML = docLinkHtml;\n",
              "        element.appendChild(docLink);\n",
              "      }\n",
              "    </script>\n",
              "  </div>\n",
              "\n",
              "\n",
              "<div id=\"df-96130933-6874-4502-a2f3-3adf54381afb\">\n",
              "  <button class=\"colab-df-quickchart\" onclick=\"quickchart('df-96130933-6874-4502-a2f3-3adf54381afb')\"\n",
              "            title=\"Suggest charts\"\n",
              "            style=\"display:none;\">\n",
              "\n",
              "<svg xmlns=\"http://www.w3.org/2000/svg\" height=\"24px\"viewBox=\"0 0 24 24\"\n",
              "     width=\"24px\">\n",
              "    <g>\n",
              "        <path d=\"M19 3H5c-1.1 0-2 .9-2 2v14c0 1.1.9 2 2 2h14c1.1 0 2-.9 2-2V5c0-1.1-.9-2-2-2zM9 17H7v-7h2v7zm4 0h-2V7h2v10zm4 0h-2v-4h2v4z\"/>\n",
              "    </g>\n",
              "</svg>\n",
              "  </button>\n",
              "\n",
              "<style>\n",
              "  .colab-df-quickchart {\n",
              "      --bg-color: #E8F0FE;\n",
              "      --fill-color: #1967D2;\n",
              "      --hover-bg-color: #E2EBFA;\n",
              "      --hover-fill-color: #174EA6;\n",
              "      --disabled-fill-color: #AAA;\n",
              "      --disabled-bg-color: #DDD;\n",
              "  }\n",
              "\n",
              "  [theme=dark] .colab-df-quickchart {\n",
              "      --bg-color: #3B4455;\n",
              "      --fill-color: #D2E3FC;\n",
              "      --hover-bg-color: #434B5C;\n",
              "      --hover-fill-color: #FFFFFF;\n",
              "      --disabled-bg-color: #3B4455;\n",
              "      --disabled-fill-color: #666;\n",
              "  }\n",
              "\n",
              "  .colab-df-quickchart {\n",
              "    background-color: var(--bg-color);\n",
              "    border: none;\n",
              "    border-radius: 50%;\n",
              "    cursor: pointer;\n",
              "    display: none;\n",
              "    fill: var(--fill-color);\n",
              "    height: 32px;\n",
              "    padding: 0;\n",
              "    width: 32px;\n",
              "  }\n",
              "\n",
              "  .colab-df-quickchart:hover {\n",
              "    background-color: var(--hover-bg-color);\n",
              "    box-shadow: 0 1px 2px rgba(60, 64, 67, 0.3), 0 1px 3px 1px rgba(60, 64, 67, 0.15);\n",
              "    fill: var(--button-hover-fill-color);\n",
              "  }\n",
              "\n",
              "  .colab-df-quickchart-complete:disabled,\n",
              "  .colab-df-quickchart-complete:disabled:hover {\n",
              "    background-color: var(--disabled-bg-color);\n",
              "    fill: var(--disabled-fill-color);\n",
              "    box-shadow: none;\n",
              "  }\n",
              "\n",
              "  .colab-df-spinner {\n",
              "    border: 2px solid var(--fill-color);\n",
              "    border-color: transparent;\n",
              "    border-bottom-color: var(--fill-color);\n",
              "    animation:\n",
              "      spin 1s steps(1) infinite;\n",
              "  }\n",
              "\n",
              "  @keyframes spin {\n",
              "    0% {\n",
              "      border-color: transparent;\n",
              "      border-bottom-color: var(--fill-color);\n",
              "      border-left-color: var(--fill-color);\n",
              "    }\n",
              "    20% {\n",
              "      border-color: transparent;\n",
              "      border-left-color: var(--fill-color);\n",
              "      border-top-color: var(--fill-color);\n",
              "    }\n",
              "    30% {\n",
              "      border-color: transparent;\n",
              "      border-left-color: var(--fill-color);\n",
              "      border-top-color: var(--fill-color);\n",
              "      border-right-color: var(--fill-color);\n",
              "    }\n",
              "    40% {\n",
              "      border-color: transparent;\n",
              "      border-right-color: var(--fill-color);\n",
              "      border-top-color: var(--fill-color);\n",
              "    }\n",
              "    60% {\n",
              "      border-color: transparent;\n",
              "      border-right-color: var(--fill-color);\n",
              "    }\n",
              "    80% {\n",
              "      border-color: transparent;\n",
              "      border-right-color: var(--fill-color);\n",
              "      border-bottom-color: var(--fill-color);\n",
              "    }\n",
              "    90% {\n",
              "      border-color: transparent;\n",
              "      border-bottom-color: var(--fill-color);\n",
              "    }\n",
              "  }\n",
              "</style>\n",
              "\n",
              "  <script>\n",
              "    async function quickchart(key) {\n",
              "      const quickchartButtonEl =\n",
              "        document.querySelector('#' + key + ' button');\n",
              "      quickchartButtonEl.disabled = true;  // To prevent multiple clicks.\n",
              "      quickchartButtonEl.classList.add('colab-df-spinner');\n",
              "      try {\n",
              "        const charts = await google.colab.kernel.invokeFunction(\n",
              "            'suggestCharts', [key], {});\n",
              "      } catch (error) {\n",
              "        console.error('Error during call to suggestCharts:', error);\n",
              "      }\n",
              "      quickchartButtonEl.classList.remove('colab-df-spinner');\n",
              "      quickchartButtonEl.classList.add('colab-df-quickchart-complete');\n",
              "    }\n",
              "    (() => {\n",
              "      let quickchartButtonEl =\n",
              "        document.querySelector('#df-96130933-6874-4502-a2f3-3adf54381afb button');\n",
              "      quickchartButtonEl.style.display =\n",
              "        google.colab.kernel.accessAllowed ? 'block' : 'none';\n",
              "    })();\n",
              "  </script>\n",
              "</div>\n",
              "    </div>\n",
              "  </div>\n"
            ]
          },
          "metadata": {},
          "execution_count": 4
        }
      ]
    },
    {
      "cell_type": "code",
      "source": [
        "shuffled = provs.sample(frac = 1)\n",
        "train = ' '.join(shuffled.proverb) # создаем строку со всеми пословицами, на которых мы будем тренировать модель\n",
        "train[:300]"
      ],
      "metadata": {
        "colab": {
          "base_uri": "https://localhost:8080/",
          "height": 53
        },
        "id": "iE--zDAL4SAu",
        "outputId": "0a8a5648-82cc-475b-b914-fd93867b7474"
      },
      "execution_count": 5,
      "outputs": [
        {
          "output_type": "execute_result",
          "data": {
            "text/plain": [
              "'Не кланяюсь бабушке Варваре, свое есть в кармане. Сердце душу бережет и душу мутит. Не торопись, сперва богу помолись! С позябла сердца кручинушки не смоешь. Разгребай да хлебай. Разгребай да по зерну подбирай. Бабьи города недолго стоят (а без баб города не стоят). Эта беда не беда, только б больше'"
            ],
            "application/vnd.google.colaboratory.intrinsic+json": {
              "type": "string"
            }
          },
          "metadata": {},
          "execution_count": 5
        }
      ]
    },
    {
      "cell_type": "code",
      "source": [
        "import markovify\n",
        "\n",
        "m = markovify.Text(train) # тренируем"
      ],
      "metadata": {
        "id": "9oP2pZCe4p6e"
      },
      "execution_count": 6,
      "outputs": []
    },
    {
      "cell_type": "code",
      "source": [
        "for i in range(5):\n",
        "    print(m.make_sentence())"
      ],
      "metadata": {
        "colab": {
          "base_uri": "https://localhost:8080/"
        },
        "id": "w335jep84-8l",
        "outputId": "53d64826-d2d5-4bd8-9775-471d06708522"
      },
      "execution_count": 9,
      "outputs": [
        {
          "output_type": "stream",
          "name": "stdout",
          "text": [
            "За что купил, за то воришек бьют.\n",
            "Никто, как бог да государь!\n",
            "Попал промеж двух жерновов.\n",
            "От радости кудри вьются, в плохом секутся.\n",
            "Люблю того, кто плачет; жури того, кто обидит бородатого.\n"
          ]
        }
      ]
    },
    {
      "cell_type": "code",
      "source": [
        "for i in range(5):\n",
        "    print(m.make_short_sentence(max_chars = 100))"
      ],
      "metadata": {
        "colab": {
          "base_uri": "https://localhost:8080/"
        },
        "id": "J27CW0n94_--",
        "outputId": "e7712ac1-4192-4fc6-de7e-c60199c1ecba"
      },
      "execution_count": 12,
      "outputs": [
        {
          "output_type": "stream",
          "name": "stdout",
          "text": [
            "Бог накажет, никто не отрекайся!\n",
            "Милостивому человеку и бог пристает.\n",
            "Живет порою, что едим и с камня лыки дерет.\n",
            "Молча отмолчишься, как в тюрьме.\n",
            "И по дыму знать, что не стою.\n"
          ]
        }
      ]
    },
    {
      "cell_type": "markdown",
      "source": [
        "### Бот на цепи Маркова"
      ],
      "metadata": {
        "id": "fgSMuWQx57Oi"
      }
    },
    {
      "cell_type": "code",
      "source": [
        "import telebot\n",
        "import random\n",
        "import requests\n",
        "import markovify\n",
        "\n",
        "bot = telebot.TeleBot(\"6814073858:AAEGGyn6IjJ0W8PR4H4BAmAydXGSn-qx7Fg\") # создаем экземпляр бота\n",
        "\n",
        "@bot.message_handler(commands = ['start', 'help'])\n",
        "def send_welcome(message):\n",
        "    bot.send_message(message.chat.id, \"I’m a slow learner, it’s true. But I learn.\")\n",
        "\n",
        "def make_markov():\n",
        "    text = open('1_Igra_Prestolov.txt', 'r', encoding = 'utf-8').read()\n",
        "    m = markovify.Text(text)\n",
        "\n",
        "    return m.make_sentence()\n",
        "\n",
        "@bot.message_handler(func = lambda m: True)\n",
        "def my_function(message):\n",
        "    reply = make_markov()\n",
        "    bot.send_message(message.chat.id, reply)\n",
        "\n",
        "bot.polling(none_stop = True)"
      ],
      "metadata": {
        "id": "L_RZoPTz6C1S"
      },
      "execution_count": 1,
      "outputs": []
    }
  ]
}