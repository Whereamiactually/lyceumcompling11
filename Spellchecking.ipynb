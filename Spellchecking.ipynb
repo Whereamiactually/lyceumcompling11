{
  "cells": [
    {
      "cell_type": "markdown",
      "metadata": {
        "id": "view-in-github",
        "colab_type": "text"
      },
      "source": [
        "<a href=\"https://colab.research.google.com/github/Whereamiactually/lyceumcompling11/blob/main/Spellchecking.ipynb\" target=\"_parent\"><img src=\"https://colab.research.google.com/assets/colab-badge.svg\" alt=\"Open In Colab\"/></a>"
      ]
    },
    {
      "cell_type": "markdown",
      "metadata": {
        "id": "wznKPP7lNbq8"
      },
      "source": [
        "# Исправление опечаток\n",
        "\n",
        "(Спасибо Михаилу Нефёдову, автору материалов, и Татьяне Казаковой)"
      ]
    },
    {
      "cell_type": "code",
      "execution_count": 1,
      "metadata": {
        "colab": {
          "base_uri": "https://localhost:8080/"
        },
        "id": "WiZOMpdENbrK",
        "outputId": "37c1e178-904f-4fd8-f766-4e940577cbde"
      },
      "outputs": [
        {
          "output_type": "stream",
          "name": "stdout",
          "text": [
            "Collecting razdel\n",
            "  Downloading razdel-0.5.0-py3-none-any.whl (21 kB)\n",
            "Requirement already satisfied: tqdm in /usr/local/lib/python3.10/dist-packages (4.66.1)\n",
            "Installing collected packages: razdel\n",
            "Successfully installed razdel-0.5.0\n"
          ]
        }
      ],
      "source": [
        "!pip install razdel tqdm"
      ]
    },
    {
      "cell_type": "code",
      "execution_count": 2,
      "metadata": {
        "id": "qFkCQftSNbrN"
      },
      "outputs": [],
      "source": [
        "import os, re\n",
        "from string import punctuation\n",
        "import numpy as np\n",
        "import json\n",
        "from collections import Counter\n",
        "from pprint import pprint\n",
        "from nltk import sent_tokenize\n",
        "punctuation += \"«»—…“”\"\n",
        "punct = set(punctuation)\n",
        "from sklearn.metrics import classification_report, accuracy_score\n",
        "from string import punctuation\n",
        "from razdel import sentenize\n",
        "from razdel import tokenize as razdel_tokenize\n",
        "import numpy as np\n",
        "from collections import Counter"
      ]
    },
    {
      "cell_type": "code",
      "execution_count": 3,
      "metadata": {
        "id": "dUvHj1QTNbrO"
      },
      "outputs": [],
      "source": [
        "# библиотека для отслеживания прогресса\n",
        "from tqdm.notebook import tqdm"
      ]
    },
    {
      "cell_type": "markdown",
      "metadata": {
        "id": "XD_y7Rk9NbrP"
      },
      "source": [
        "Возьмем данные с соревнования [Dialog Evaluation 2016](http://www.dialog-21.ru/evaluation/2016/spelling_correction/) по исправлению опечаток. Данные представляют собой набор предложений (правильное - ошибочное). Задача найти слова с ошибками и заменить их на правильный вариант.\n",
        "\n",
        "(Сейчас из данных удалены случаи, когда в словах пропущен или вставлен пробел, чтобы было проще сопоставить слова в предложении.)"
      ]
    },
    {
      "cell_type": "code",
      "source": [
        "! wget https://raw.githubusercontent.com/tbkazakova/compling_for_lyceum/main/data/sents_with_mistakes.txt"
      ],
      "metadata": {
        "colab": {
          "base_uri": "https://localhost:8080/"
        },
        "id": "NTpTYAvgQePF",
        "outputId": "4c8f3a5b-3411-470f-87ec-3a2d39deede2"
      },
      "execution_count": 4,
      "outputs": [
        {
          "output_type": "stream",
          "name": "stdout",
          "text": [
            "--2023-10-06 10:17:30--  https://raw.githubusercontent.com/tbkazakova/compling_for_lyceum/main/data/sents_with_mistakes.txt\n",
            "Resolving raw.githubusercontent.com (raw.githubusercontent.com)... 185.199.108.133, 185.199.109.133, 185.199.110.133, ...\n",
            "Connecting to raw.githubusercontent.com (raw.githubusercontent.com)|185.199.108.133|:443... connected.\n",
            "HTTP request sent, awaiting response... 200 OK\n",
            "Length: 122030 (119K) [text/plain]\n",
            "Saving to: ‘sents_with_mistakes.txt’\n",
            "\n",
            "sents_with_mistakes 100%[===================>] 119.17K  --.-KB/s    in 0.02s   \n",
            "\n",
            "2023-10-06 10:17:30 (6.20 MB/s) - ‘sents_with_mistakes.txt’ saved [122030/122030]\n",
            "\n"
          ]
        }
      ]
    },
    {
      "cell_type": "code",
      "source": [
        "! wget https://raw.githubusercontent.com/tbkazakova/compling_for_lyceum/main/data/correct_sents.txt"
      ],
      "metadata": {
        "colab": {
          "base_uri": "https://localhost:8080/"
        },
        "id": "8Ic9LZUkQzk6",
        "outputId": "6d645e98-d60c-42d9-b54e-f641d004a6fb"
      },
      "execution_count": 5,
      "outputs": [
        {
          "output_type": "stream",
          "name": "stdout",
          "text": [
            "--2023-10-06 10:19:30--  https://raw.githubusercontent.com/tbkazakova/compling_for_lyceum/main/data/correct_sents.txt\n",
            "Resolving raw.githubusercontent.com (raw.githubusercontent.com)... 185.199.108.133, 185.199.109.133, 185.199.110.133, ...\n",
            "Connecting to raw.githubusercontent.com (raw.githubusercontent.com)|185.199.108.133|:443... connected.\n",
            "HTTP request sent, awaiting response... 200 OK\n",
            "Length: 119546 (117K) [text/plain]\n",
            "Saving to: ‘correct_sents.txt’\n",
            "\n",
            "\rcorrect_sents.txt     0%[                    ]       0  --.-KB/s               \rcorrect_sents.txt   100%[===================>] 116.74K  --.-KB/s    in 0.02s   \n",
            "\n",
            "2023-10-06 10:19:30 (6.89 MB/s) - ‘correct_sents.txt’ saved [119546/119546]\n",
            "\n"
          ]
        }
      ]
    },
    {
      "cell_type": "code",
      "execution_count": 6,
      "metadata": {
        "id": "NnDyLyeeNbrQ"
      },
      "outputs": [],
      "source": [
        "bad = open('sents_with_mistakes.txt', encoding='utf8').read().splitlines()\n",
        "good = open('correct_sents.txt', encoding='utf8').read().splitlines()"
      ]
    },
    {
      "cell_type": "code",
      "execution_count": 7,
      "metadata": {
        "colab": {
          "base_uri": "https://localhost:8080/"
        },
        "id": "ZdEDifEhNbrR",
        "outputId": "3352ea4e-990a-4eac-dedd-71a2819e1bb2"
      },
      "outputs": [
        {
          "output_type": "execute_result",
          "data": {
            "text/plain": [
              "915"
            ]
          },
          "metadata": {},
          "execution_count": 7
        }
      ],
      "source": [
        "len(good)"
      ]
    },
    {
      "cell_type": "code",
      "execution_count": 9,
      "metadata": {
        "colab": {
          "base_uri": "https://localhost:8080/"
        },
        "id": "DyZqnj5lNbrV",
        "outputId": "459be54d-2b3a-43c0-f03b-7a65ceb63661"
      },
      "outputs": [
        {
          "output_type": "stream",
          "name": "stdout",
          "text": [
            "в массе своей они конечно все оччччень милые )\n",
            "в массе своей они конечно все очень милые\n"
          ]
        }
      ],
      "source": [
        "# Посмотрим на пары предложений\n",
        "print(bad[4])\n",
        "print(good[4])"
      ]
    },
    {
      "cell_type": "code",
      "execution_count": null,
      "metadata": {
        "id": "s7yL6J_4NbrW"
      },
      "outputs": [],
      "source": [
        "# напишем функцию, которая будет сопоставлять слова в правильном и ошибочном варианте\n",
        "# разобьем предложение по пробелам и удалим пунктуация на границах слов\n",
        "def align_words(sent_1, sent_2):\n",
        "    tokens_1 = sent_1.lower().split()\n",
        "    tokens_2 = sent_2.lower().split()\n",
        "\n",
        "    tokens_1 = [token.strip(punctuation) for token in tokens_1]\n",
        "    tokens_2 = [token.strip(punctuation) for token in tokens_2]\n",
        "\n",
        "    tokens_1 = [token for token in tokens_1 if token]\n",
        "    tokens_2 = [token for token in tokens_2 if token]\n",
        "\n",
        "    assert len(tokens_1) == len(tokens_2)\n",
        "\n",
        "    return list(zip(tokens_1, tokens_2))"
      ]
    },
    {
      "cell_type": "code",
      "execution_count": null,
      "metadata": {
        "colab": {
          "base_uri": "https://localhost:8080/"
        },
        "id": "yI-OnZGENbrX",
        "outputId": "c40a57cf-99ca-4db8-ae78-1c5059b8c389"
      },
      "outputs": [
        {
          "output_type": "stream",
          "name": "stdout",
          "text": [
            "[('апофеозом', 'опофеозом'),\n",
            " ('дня', 'дня'),\n",
            " ('для', 'для'),\n",
            " ('меня', 'меня'),\n",
            " ('сегодня', 'сегодня'),\n",
            " ('стала', 'стала'),\n",
            " ('фраза', 'фраза'),\n",
            " ('услышанная', 'услышанная'),\n",
            " ('в', 'в'),\n",
            " ('новостях', 'новостях')]\n"
          ]
        }
      ],
      "source": [
        "pprint(align_words(good[1], bad[1]))"
      ]
    },
    {
      "cell_type": "markdown",
      "metadata": {
        "id": "C16J2hwlNbrY"
      },
      "source": [
        "Вытащим только неправильные варианты и заодно посчитаем процент ошибок."
      ]
    },
    {
      "cell_type": "code",
      "execution_count": null,
      "metadata": {
        "id": "stnufWA2NbrY"
      },
      "outputs": [],
      "source": [
        "mistakes = []\n",
        "total = 0\n",
        "for i in range(len(good)):\n",
        "    word_pairs = align_words(good[i], bad[i])\n",
        "\n",
        "\n",
        "    for pair in word_pairs:\n",
        "        if pair[0] != pair[1]:\n",
        "            mistakes.append(pair)\n",
        "        total += 1"
      ]
    },
    {
      "cell_type": "code",
      "source": [
        "mistakes[:5]"
      ],
      "metadata": {
        "colab": {
          "base_uri": "https://localhost:8080/"
        },
        "id": "pO_1qtGoX3PH",
        "outputId": "3fbbef8d-566f-4fc3-93a2-f90ec825bd1c"
      },
      "execution_count": null,
      "outputs": [
        {
          "output_type": "execute_result",
          "data": {
            "text/plain": [
              "[('симпатичнейшее', 'симпатичнейшое'),\n",
              " ('апофеозом', 'опофеозом'),\n",
              " ('поясним', 'пояним'),\n",
              " ('получатся', 'полчатся'),\n",
              " ('очень', 'оччччень')]"
            ]
          },
          "metadata": {},
          "execution_count": 84
        }
      ]
    },
    {
      "cell_type": "code",
      "execution_count": null,
      "metadata": {
        "colab": {
          "base_uri": "https://localhost:8080/"
        },
        "id": "HZ8D_QL5NbrZ",
        "outputId": "08b03057-31de-48c6-85a6-a8a16dab9ce3"
      },
      "outputs": [
        {
          "output_type": "stream",
          "name": "stdout",
          "text": [
            "Доля ошибок -  0.12886443221610805\n"
          ]
        }
      ],
      "source": [
        "print('Доля ошибок - ', len(mistakes)/total )"
      ]
    },
    {
      "cell_type": "markdown",
      "metadata": {
        "id": "7FcNDXBUNbrZ"
      },
      "source": [
        "Обернем в Counter, чтобы сразу увидеть частотные ошибки."
      ]
    },
    {
      "cell_type": "code",
      "execution_count": null,
      "metadata": {
        "colab": {
          "base_uri": "https://localhost:8080/"
        },
        "id": "-oibEBSaNbra",
        "outputId": "c37a3644-22c8-4292-e86f-7a11c1a087ce"
      },
      "outputs": [
        {
          "output_type": "execute_result",
          "data": {
            "text/plain": [
              "[(('сегодня', 'седня'), 24),\n",
              " (('вообще', 'вобще'), 18),\n",
              " (('вообще', 'ваще'), 17),\n",
              " (('естественно', 'естесственно'), 17),\n",
              " (('хочется', 'хочеться'), 16),\n",
              " (('кстати', 'кстате'), 16),\n",
              " (('очень', 'ооочень'), 14),\n",
              " (('как-то', 'както'), 9),\n",
              " (('очень', 'оооочень'), 9),\n",
              " (('это', 'ето'), 9)]"
            ]
          },
          "metadata": {},
          "execution_count": 86
        }
      ],
      "source": [
        "Counter(mistakes).most_common(10)"
      ]
    },
    {
      "cell_type": "markdown",
      "metadata": {
        "id": "7sjGNcn0Nbra"
      },
      "source": [
        "Из-за того, что процент ошибок довольно низкий, не очень выгодно будет находить исправление для каждого слова. Нужен какой-то более простой классификатор, который выделит ошибочные слова, чтобы потом только их и редактировать."
      ]
    },
    {
      "cell_type": "markdown",
      "metadata": {
        "id": "G5J5Rr9sNbrb"
      },
      "source": [
        "Самый простой способ это сделать - составить словарь правильных слов и потом сравнивать с ним. Чтобы не делать этого вручную, можно взять какой-нибудь корпус текстов, прошедщих редактуру. Тексты из википедии для этого хорошо подходят."
      ]
    },
    {
      "cell_type": "code",
      "execution_count": null,
      "metadata": {
        "id": "aOam_LyXNbrb"
      },
      "outputs": [],
      "source": [
        "corpus = open('wiki_data.txt', encoding='utf8').read()"
      ]
    },
    {
      "cell_type": "markdown",
      "metadata": {
        "id": "FicsAztLNbrc"
      },
      "source": [
        "Попробуем предсказать ошибку простым заглядыванием в словарь. Если слово не в словаре - оно неправильное."
      ]
    },
    {
      "cell_type": "code",
      "execution_count": null,
      "metadata": {
        "id": "Sj2Fd9RRNbrc"
      },
      "outputs": [],
      "source": [
        "# создаем словарь\n",
        "vocab = Counter(re.findall('\\w+', corpus.lower()))"
      ]
    },
    {
      "cell_type": "code",
      "execution_count": null,
      "metadata": {
        "id": "nkvLKJW3Nbrc"
      },
      "outputs": [],
      "source": [
        "def predict_mistaken(word, vocab):\n",
        "    return 0 if word in vocab else 1"
      ]
    },
    {
      "cell_type": "code",
      "execution_count": null,
      "metadata": {
        "id": "405dyZGRNbre"
      },
      "outputs": [],
      "source": [
        "# для оценки создаем два списка y_true и y_pred\n",
        "# проходимся по предложениям\n",
        "# сопоставляем слова с помощью функции align_words\n",
        "# проходимся по парам слов и\n",
        "# если слова одинаковые добавляем в y_true 0\n",
        "# если слова разные добавляем в y_true 1\n",
        "# предказываем ошибочность слова из bad списка\n",
        "# добавляем предсказание в список y_pred\n",
        "\n",
        "y_true = []\n",
        "y_pred = []\n",
        "\n",
        "for i in range(len(good)):\n",
        "    word_pairs = align_words(good[i], bad[i])\n",
        "    for pair in word_pairs:\n",
        "        if pair[0] == pair[1]:\n",
        "            y_true.append(0)\n",
        "        else:\n",
        "            y_true.append(1)\n",
        "\n",
        "        y_pred.append(predict_mistaken(pair[1], vocab))\n"
      ]
    },
    {
      "cell_type": "code",
      "execution_count": null,
      "metadata": {
        "colab": {
          "base_uri": "https://localhost:8080/"
        },
        "id": "GTVuk7-DNbre",
        "outputId": "8d3885f5-7eda-43db-b9a0-8bbc652859fd"
      },
      "outputs": [
        {
          "output_type": "stream",
          "name": "stdout",
          "text": [
            "              precision    recall  f1-score   support\n",
            "\n",
            "           0       0.98      0.91      0.94      8707\n",
            "           1       0.59      0.88      0.71      1288\n",
            "\n",
            "    accuracy                           0.91      9995\n",
            "   macro avg       0.79      0.90      0.83      9995\n",
            "weighted avg       0.93      0.91      0.91      9995\n",
            "\n"
          ]
        }
      ],
      "source": [
        "# оцените качество с помощью classification_report\n",
        "print(classification_report(y_true, y_pred, ))"
      ]
    },
    {
      "cell_type": "markdown",
      "metadata": {
        "id": "o58_wq0VNbre"
      },
      "source": [
        "### Генерация исправлений"
      ]
    },
    {
      "cell_type": "markdown",
      "metadata": {
        "id": "AkWITawUNbrf"
      },
      "source": [
        "Теперь нужно думать о том, как исправить неправильные слова. Посмотрим как это можно делать на примере известного алгоритма Питера Норвига. Идея алгоритма очень простая - для каждого неправильного слова нужно сгенерировать варианты исправлений и выбрать из них тот, что есть в словаре, а если таких несколько, то выбрать наиболее вероятный.\n",
        "\n",
        "Неправильными считаются слова, которых нет в словаре (также как в функции выше). А вероятность слова расчитывается по формуле - абсолютная частота слова в корпусе разделить на количество слов в корпусе."
      ]
    },
    {
      "cell_type": "markdown",
      "metadata": {
        "id": "TcdjIPqtNbrg"
      },
      "source": [
        "Абсолютные частоты лежат в счетчике"
      ]
    },
    {
      "cell_type": "code",
      "execution_count": null,
      "metadata": {
        "colab": {
          "base_uri": "https://localhost:8080/"
        },
        "id": "Q8W1ohneNbrg",
        "outputId": "543800d5-6ade-40b5-e8f9-39af8ecc7868"
      },
      "outputs": [
        {
          "output_type": "execute_result",
          "data": {
            "text/plain": [
              "[('в', 267296),\n",
              " ('и', 147115),\n",
              " ('на', 81926),\n",
              " ('с', 61681),\n",
              " ('года', 43894),\n",
              " ('по', 37235),\n",
              " ('году', 32197),\n",
              " ('из', 29150),\n",
              " ('был', 23293),\n",
              " ('не', 23228)]"
            ]
          },
          "metadata": {},
          "execution_count": 53
        }
      ],
      "source": [
        "vocab.most_common(10)"
      ]
    },
    {
      "cell_type": "markdown",
      "metadata": {
        "id": "9ewGW9A4Nbrg"
      },
      "source": [
        "В вероятности они преобразуются вот такой функцией"
      ]
    },
    {
      "cell_type": "code",
      "execution_count": null,
      "metadata": {
        "id": "H2etDtaCNbrh"
      },
      "outputs": [],
      "source": [
        "N = sum(vocab.values())\n",
        "\n",
        "def P(word, N=N):\n",
        "    return vocab[word] / N\n"
      ]
    },
    {
      "cell_type": "code",
      "execution_count": null,
      "metadata": {
        "colab": {
          "base_uri": "https://localhost:8080/"
        },
        "id": "DSyCn4zJNbrh",
        "outputId": "affa8a5a-e269-4675-b1fd-5088b263b56e"
      },
      "outputs": [
        {
          "output_type": "stream",
          "name": "stdout",
          "text": [
            "2.4440966240624417e-05\n"
          ]
        }
      ],
      "source": [
        "print(P('солнце')) # вероятность слова солнце по нашему словарю"
      ]
    },
    {
      "cell_type": "markdown",
      "metadata": {
        "id": "SuiIUHYNNbri"
      },
      "source": [
        "(для того, чтобы вывести привычную десятичную дробь, можно воспользоваться строковым методом .format с указанием количества знаков после запятой)"
      ]
    },
    {
      "cell_type": "code",
      "execution_count": null,
      "metadata": {
        "colab": {
          "base_uri": "https://localhost:8080/"
        },
        "id": "9gHUwvfkNbri",
        "outputId": "c04b8056-9dea-45a4-c33b-6593426f09cd"
      },
      "outputs": [
        {
          "output_type": "stream",
          "name": "stdout",
          "text": [
            "0.000024440966241\n"
          ]
        }
      ],
      "source": [
        "print('{0:.15f}'.format(P('солнце')))"
      ]
    },
    {
      "cell_type": "markdown",
      "metadata": {
        "id": "MXcEY8ofNbrv"
      },
      "source": [
        "Теперь самое интересное - способ генерации вариантов исправлений. Они генерируются с помощью: удаления, перестановки, замены, вставки.\n",
        "\n",
        "1) удаление - по очереди выбрасываем из слова 1 букву (слово - лово, сово, слво, слоо, слов)  \n",
        "2) перестановка - по очереди меняем соседние буквы (слово - лсово, солво, слвоо, слоов)  \n",
        "3) замена - по очереди заменям каждую букву на другую букву алфавита (слово - алово, блово, влово, глово...)  \n",
        "4) вставка - по очереди вставляем между соседними буквами букву алфавита (слово - салово, сблово, свлово, сглово...)  \n",
        "\n",
        "В алгоритма два уровня генерации - сначала генерируются варианты для оригинального слова, а потом варианты для каждого варианта. Таким образом, максимальное допустимое отличие для ошибки и предсказания - 2 буквы."
      ]
    },
    {
      "cell_type": "code",
      "execution_count": null,
      "metadata": {
        "id": "5GNz3Rg4Nbrv"
      },
      "outputs": [],
      "source": [
        "# оригинальный код вот тут - https://norvig.com/spell-correct.html\n",
        "\n",
        "def correction(word):\n",
        "    \"Находим наиболее вероятное похожее слово\"\n",
        "    return max(candidates(word), key=P)\n",
        "\n",
        "def candidates(word):\n",
        "    \"Генерируем кандидатов на исправление\"\n",
        "    return (known([word]) or known(edits1(word)) or known(edits2(word)) or [word])\n",
        "\n",
        "def known(words):\n",
        "    \"Выбираем слова, которые есть в корпусе\"\n",
        "    return set(w for w in words if w in vocab)\n",
        "\n",
        "def edits1(word):\n",
        "    \"Создаем кандидатов, которые отличаются на одну букву\"\n",
        "    letters    = 'йцукенгшщзхъфывапролджэячсмитьбюё'\n",
        "    splits     = [(word[:i], word[i:])    for i in range(len(word) + 1)]\n",
        "    deletes    = [L + R[1:]               for L, R in splits if R]\n",
        "    transposes = [L + R[1] + R[0] + R[2:] for L, R in splits if len(R)>1]\n",
        "    replaces   = [L + c + R[1:]           for L, R in splits if R for c in letters]\n",
        "    inserts    = [L + c + R               for L, R in splits for c in letters]\n",
        "    return set(deletes + transposes + replaces + inserts)\n",
        "\n",
        "def edits2(word):\n",
        "    \"Создаем кандидатов, которые отличаются на две буквы\"\n",
        "    return (e2 for e1 in edits1(word) for e2 in edits1(e1))"
      ]
    },
    {
      "cell_type": "markdown",
      "metadata": {
        "id": "AbDTQBSvNbrw"
      },
      "source": [
        "Попробуем исправить"
      ]
    },
    {
      "cell_type": "code",
      "execution_count": null,
      "metadata": {
        "colab": {
          "base_uri": "https://localhost:8080/",
          "height": 70
        },
        "id": "JpZf7rIYNbrw",
        "outputId": "df3aa5e9-e300-40e1-f9a8-4d5d49226c49"
      },
      "outputs": [
        {
          "output_type": "stream",
          "name": "stdout",
          "text": [
            "CPU times: user 183 ms, sys: 948 µs, total: 184 ms\n",
            "Wall time: 187 ms\n"
          ]
        },
        {
          "output_type": "execute_result",
          "data": {
            "text/plain": [
              "'солнце'"
            ],
            "application/vnd.google.colaboratory.intrinsic+json": {
              "type": "string"
            }
          },
          "metadata": {},
          "execution_count": 89
        }
      ],
      "source": [
        "%%time\n",
        "correction('ссонлце')"
      ]
    },
    {
      "cell_type": "code",
      "execution_count": null,
      "metadata": {
        "colab": {
          "base_uri": "https://localhost:8080/",
          "height": 70
        },
        "id": "WEc2VXWENbrw",
        "outputId": "227307d7-6d96-43e5-e4ab-959aaa536c7a"
      },
      "outputs": [
        {
          "output_type": "stream",
          "name": "stdout",
          "text": [
            "CPU times: user 1.78 ms, sys: 0 ns, total: 1.78 ms\n",
            "Wall time: 7.23 ms\n"
          ]
        },
        {
          "output_type": "execute_result",
          "data": {
            "text/plain": [
              "'чаще'"
            ],
            "application/vnd.google.colaboratory.intrinsic+json": {
              "type": "string"
            }
          },
          "metadata": {},
          "execution_count": 90
        }
      ],
      "source": [
        "%%time\n",
        "correction('ваще')"
      ]
    },
    {
      "cell_type": "code",
      "execution_count": null,
      "metadata": {
        "colab": {
          "base_uri": "https://localhost:8080/",
          "height": 70
        },
        "id": "r4qdnswdNbrx",
        "outputId": "860071bf-212b-4dc7-cd5b-0899b19d064a"
      },
      "outputs": [
        {
          "output_type": "stream",
          "name": "stdout",
          "text": [
            "CPU times: user 649 µs, sys: 0 ns, total: 649 µs\n",
            "Wall time: 661 µs\n"
          ]
        },
        {
          "output_type": "execute_result",
          "data": {
            "text/plain": [
              "'апофеоз'"
            ],
            "application/vnd.google.colaboratory.intrinsic+json": {
              "type": "string"
            }
          },
          "metadata": {},
          "execution_count": 60
        }
      ],
      "source": [
        "%%time\n",
        "correction('опофеоз')"
      ]
    },
    {
      "cell_type": "markdown",
      "metadata": {
        "id": "dv2gFtsvNbrx"
      },
      "source": [
        "Выводов по единичным примерам не сделаешь, поэтому давайте запустим на всем нашем корпусе"
      ]
    },
    {
      "cell_type": "markdown",
      "metadata": {
        "id": "tncUTeR1Nbrx"
      },
      "source": [
        "Для оценки используем будем использовать три метрики:  \n",
        "1) процент правильных слов;  \n",
        "2) процент исправленных ошибок  \n",
        "3) процент ошибочно исправленных правильных слов"
      ]
    },
    {
      "cell_type": "code",
      "execution_count": null,
      "metadata": {
        "colab": {
          "base_uri": "https://localhost:8080/",
          "height": 49,
          "referenced_widgets": [
            "9e6dffd5833e46bda8526467e6033fad",
            "67a82cf0b7d448d6a4a21787bc696397",
            "68e76968f4ec40bd9cf406b8169a93c7",
            "27b7a446ed76403283b034863e515ce4",
            "1f5d7652183440e28cdac8eadc31f198",
            "655d5bc2c9984901ae75fb759577bf6a",
            "79ec059cc8654f428f2561fafdda5f09",
            "4f4d9f8d4a54401aa9bd35a068dc2a0e",
            "f271f537d42f439cb8e88b3e97aecfb8",
            "707a382d3bb94a01a12093e36b79a61b",
            "f78eda4cb1c24fcb9094ca4713e45c6e"
          ]
        },
        "id": "qp898XOUNbry",
        "outputId": "53bcdd89-7cf8-4692-b8a6-7fcbf3703ff0"
      },
      "outputs": [
        {
          "output_type": "display_data",
          "data": {
            "text/plain": [
              "  0%|          | 0/915 [00:00<?, ?it/s]"
            ],
            "application/vnd.jupyter.widget-view+json": {
              "version_major": 2,
              "version_minor": 0,
              "model_id": "9e6dffd5833e46bda8526467e6033fad"
            }
          },
          "metadata": {}
        }
      ],
      "source": [
        "correct = 0\n",
        "total = 0\n",
        "\n",
        "total_mistaken = 0\n",
        "mistaken_fixed = 0\n",
        "\n",
        "total_correct = 0\n",
        "correct_broken = 0\n",
        "\n",
        "cashed = {}\n",
        "for i in tqdm(range(len(good))):\n",
        "    word_pairs = align_words(good[i], bad[i])\n",
        "    for pair in word_pairs:\n",
        "        # чтобы два раза не исправлять одно и тоже слово - закешируем его\n",
        "        # перед тем как считать исправление проверим нет ли его в кеше\n",
        "\n",
        "        predicted = cashed.get(pair[1], correction(pair[1]))\n",
        "        cashed[pair[1]] = predicted\n",
        "\n",
        "\n",
        "        if predicted == pair[0]:\n",
        "            correct += 1\n",
        "        total += 1\n",
        "\n",
        "        if pair[0] == pair[1]:\n",
        "            total_correct += 1\n",
        "            if pair[0] !=  predicted:\n",
        "                correct_broken += 1\n",
        "        else:\n",
        "            total_mistaken += 1\n",
        "            if pair[0] == predicted:\n",
        "                mistaken_fixed += 1\n"
      ]
    },
    {
      "cell_type": "markdown",
      "metadata": {
        "id": "PVPVqmZ1Nbrz"
      },
      "source": [
        "Получается, что в целом не стало лучше. Хотя 50% опечаток исправляются корректно"
      ]
    },
    {
      "cell_type": "code",
      "execution_count": null,
      "metadata": {
        "colab": {
          "base_uri": "https://localhost:8080/"
        },
        "id": "eg4O6JsPNbrz",
        "outputId": "97fc8c57-7e94-4158-d2ed-2cea0cc0c7b1"
      },
      "outputs": [
        {
          "output_type": "stream",
          "name": "stdout",
          "text": [
            "0.8708354177088544\n",
            "0.5116459627329193\n",
            "0.07603077983231882\n"
          ]
        }
      ],
      "source": [
        "print(correct/total)\n",
        "print(mistaken_fixed/total_mistaken)\n",
        "print(correct_broken/total_correct)"
      ]
    },
    {
      "cell_type": "markdown",
      "metadata": {
        "id": "Iboul6rRNbr0"
      },
      "source": [
        "Ещё проблема тут в том, что алгоритм медленно работает для длинных слов."
      ]
    },
    {
      "cell_type": "code",
      "execution_count": null,
      "metadata": {
        "colab": {
          "base_uri": "https://localhost:8080/",
          "height": 70
        },
        "id": "Y80UrLvJNbr0",
        "outputId": "50ef3d4a-e544-4846-bc4a-185ee5bbc5f7"
      },
      "outputs": [
        {
          "output_type": "stream",
          "name": "stdout",
          "text": [
            "CPU times: user 722 µs, sys: 0 ns, total: 722 µs\n",
            "Wall time: 892 µs\n"
          ]
        },
        {
          "output_type": "execute_result",
          "data": {
            "text/plain": [
              "'солнце'"
            ],
            "application/vnd.google.colaboratory.intrinsic+json": {
              "type": "string"
            }
          },
          "metadata": {},
          "execution_count": 63
        }
      ],
      "source": [
        "%%time\n",
        "correction('солнвце')"
      ]
    },
    {
      "cell_type": "code",
      "execution_count": null,
      "metadata": {
        "colab": {
          "base_uri": "https://localhost:8080/",
          "height": 70
        },
        "id": "wpwbKU7dNbr0",
        "outputId": "74d94b0a-5c17-4ed2-cb1e-f0d334c4e735"
      },
      "outputs": [
        {
          "output_type": "stream",
          "name": "stdout",
          "text": [
            "CPU times: user 3.34 s, sys: 5.82 ms, total: 3.35 s\n",
            "Wall time: 3.39 s\n"
          ]
        },
        {
          "output_type": "execute_result",
          "data": {
            "text/plain": [
              "'насмехатьсяаававттававаываываы'"
            ],
            "application/vnd.google.colaboratory.intrinsic+json": {
              "type": "string"
            }
          },
          "metadata": {},
          "execution_count": 64
        }
      ],
      "source": [
        "%%time\n",
        "correction('насмехатьсяаававттававаываываы')"
      ]
    },
    {
      "cell_type": "markdown",
      "metadata": {
        "id": "qUoh0Z45Nbr0"
      },
      "source": [
        "Посмотрим, как исправляются самые частотные ошибки."
      ]
    },
    {
      "cell_type": "code",
      "execution_count": null,
      "metadata": {
        "colab": {
          "base_uri": "https://localhost:8080/"
        },
        "id": "EZlXciOCNbr1",
        "outputId": "a7089800-6a74-4397-ac31-bfba8e909ce3"
      },
      "outputs": [
        {
          "output_type": "execute_result",
          "data": {
            "text/plain": [
              "[('сегодня', 'седня', 'седая'),\n",
              " ('вообще', 'вобще', 'вообще'),\n",
              " ('вообще', 'ваще', 'чаще'),\n",
              " ('естественно', 'естесственно', 'естественно'),\n",
              " ('хочется', 'хочеться', 'хочется'),\n",
              " ('кстати', 'кстате', 'кстати'),\n",
              " ('очень', 'ооочень', 'очень'),\n",
              " ('как-то', 'както', 'факто'),\n",
              " ('очень', 'оооочень', 'сорочень'),\n",
              " ('это', 'ето', 'что')]"
            ]
          },
          "metadata": {},
          "execution_count": 65
        }
      ],
      "source": [
        "[(wt[0], wt[1], correction(wt[1])) for wt, _ in Counter(mistakes).most_common(10)]"
      ]
    },
    {
      "cell_type": "markdown",
      "metadata": {
        "id": "85WL_NxWNbr1"
      },
      "source": [
        "### Метрики близости слов."
      ]
    },
    {
      "cell_type": "markdown",
      "metadata": {
        "id": "Hb_mwoXsNbr1"
      },
      "source": [
        "Вместо того, чтобы генерировать все варианты, можно искать похожие слова в словаре. Для этого нужно задать метрику похожести. Для исправления опечаток часто используются расстояния редактирования"
      ]
    },
    {
      "cell_type": "markdown",
      "metadata": {
        "id": "WfK0L8eWNbr2"
      },
      "source": [
        "Самое известное расстояние редактирования - расстояние Левенштейна. Тут мы не будет поднобно разбирать алгоритм, можете почитать [тут](https://ru.wikipedia.org/wiki/%D0%A0%D0%B0%D1%81%D1%81%D1%82%D0%BE%D1%8F%D0%BD%D0%B8%D0%B5_%D0%9B%D0%B5%D0%B2%D0%B5%D0%BD%D1%88%D1%82%D0%B5%D0%B9%D0%BD%D0%B0), посмотреть более понятный разбор [тут](https://www.youtube.com/watch?v=MiqoA-yF-0M), а код на питоне есть [тут](https://ru.wikibooks.org/wiki/%D0%A0%D0%B5%D0%B0%D0%BB%D0%B8%D0%B7%D0%B0%D1%86%D0%B8%D0%B8_%D0%B0%D0%BB%D0%B3%D0%BE%D1%80%D0%B8%D1%82%D0%BC%D0%BE%D0%B2/%D0%A0%D0%B0%D1%81%D1%81%D1%82%D0%BE%D1%8F%D0%BD%D0%B8%D0%B5_%D0%9B%D0%B5%D0%B2%D0%B5%D0%BD%D1%88%D1%82%D0%B5%D0%B9%D0%BD%D0%B0).\n",
        "Про самого Левенштейна можно почитать вот тут - https://nplus1.ru/material/2017/09/25/vladimir-levenshtein\n",
        "\n",
        "Основная идея - найти минимальное число исправлений, которое нужно сделать в слове А, чтобы получить слово Б. Причем допустимы только три вида исправлений - удаление, вставка, замена.\n",
        "\n",
        "Ещё есть расстояние Дамерау-Левенштейна - почти то же самое, только разрешена ещё операция перестановки."
      ]
    },
    {
      "cell_type": "markdown",
      "metadata": {
        "id": "SlNyfC4-Nbr2"
      },
      "source": [
        "Есть библиотека textdistance, в которой реализованы многие методы нахождения расстояний."
      ]
    },
    {
      "cell_type": "code",
      "execution_count": null,
      "metadata": {
        "colab": {
          "base_uri": "https://localhost:8080/"
        },
        "id": "JxAyXHEoNbr2",
        "outputId": "9aa5231f-230d-490d-a652-0f44f0d1aaea"
      },
      "outputs": [
        {
          "output_type": "stream",
          "name": "stdout",
          "text": [
            "Collecting textdistance\n",
            "  Downloading textdistance-4.5.0-py3-none-any.whl (31 kB)\n",
            "Installing collected packages: textdistance\n",
            "Successfully installed textdistance-4.5.0\n"
          ]
        }
      ],
      "source": [
        "!pip install textdistance"
      ]
    },
    {
      "cell_type": "code",
      "execution_count": null,
      "metadata": {
        "id": "pzmIUPeyNbr2"
      },
      "outputs": [],
      "source": [
        "import textdistance"
      ]
    },
    {
      "cell_type": "code",
      "execution_count": null,
      "metadata": {
        "id": "DsNlFSlVNbr3"
      },
      "outputs": [],
      "source": [
        "def get_closest_match_with_metric(text, lookup,topn=20, metric=textdistance.levenshtein):\n",
        "    # Counter можно использовать и с не целыми числами\n",
        "    similarities = Counter()\n",
        "\n",
        "    for word in lookup:\n",
        "        similarities[word] = metric.normalized_similarity(text, word)\n",
        "\n",
        "    return similarities.most_common(topn)"
      ]
    },
    {
      "cell_type": "code",
      "execution_count": null,
      "metadata": {
        "scrolled": true,
        "colab": {
          "base_uri": "https://localhost:8080/"
        },
        "id": "2JDH1ZUSNbr3",
        "outputId": "b9dbe131-7abb-46ee-c8bf-4c9485eabadf"
      },
      "outputs": [
        {
          "output_type": "stream",
          "name": "stdout",
          "text": [
            "CPU times: user 56 s, sys: 133 ms, total: 56.1 s\n",
            "Wall time: 1min 10s\n"
          ]
        },
        {
          "output_type": "execute_result",
          "data": {
            "text/plain": [
              "[('апофеоз', 0.8571428571428572),\n",
              " ('апофеоза', 0.75),\n",
              " ('апофеозом', 0.6666666666666667),\n",
              " ('апофеты', 0.5714285714285714),\n",
              " ('опорной', 0.5714285714285714)]"
            ]
          },
          "metadata": {},
          "execution_count": 69
        }
      ],
      "source": [
        "%%time\n",
        "get_closest_match_with_metric('опофеоз', vocab, 5, textdistance.damerau_levenshtein)"
      ]
    },
    {
      "cell_type": "code",
      "execution_count": null,
      "metadata": {
        "colab": {
          "base_uri": "https://localhost:8080/"
        },
        "id": "ErRFJOPjNbr3",
        "outputId": "c1152d19-1e20-4c61-bf93-3f106e6274cb"
      },
      "outputs": [
        {
          "output_type": "stream",
          "name": "stdout",
          "text": [
            "CPU times: user 35.2 s, sys: 79 ms, total: 35.3 s\n",
            "Wall time: 37.4 s\n"
          ]
        },
        {
          "output_type": "execute_result",
          "data": {
            "text/plain": [
              "[('солнце', 0.8333333333333334), ('конце', 0.8), ('монце', 0.8)]"
            ]
          },
          "metadata": {},
          "execution_count": 91
        }
      ],
      "source": [
        "%%time\n",
        "get_closest_match_with_metric('сонце', vocab, 3, textdistance.damerau_levenshtein)"
      ]
    },
    {
      "cell_type": "markdown",
      "metadata": {
        "id": "HOtcFNU9NbsA"
      },
      "source": [
        "Спойлер: не сильно лучше работает."
      ]
    },
    {
      "cell_type": "markdown",
      "metadata": {
        "id": "q8XCAaa8NbsB"
      },
      "source": [
        "## Готовые инструменты"
      ]
    },
    {
      "cell_type": "markdown",
      "metadata": {
        "id": "yuzy-8D_NbsB"
      },
      "source": [
        "Есть несколько готовых опечаточников:  \n",
        "1) Hunspell - https://pypi.org/project/hunspell/  \n",
        "2) Jamspell - https://github.com/bakwc/JamSpell#python  \n",
        "3) Яндекс.Спеллер - https://yandex.ru/dev/speller/\n",
        "\n",
        "Если вам понадобится в серьезной задаче исправлять опечатки, то начните с них, а не с алгоритма Норвига."
      ]
    },
    {
      "cell_type": "markdown",
      "metadata": {
        "id": "j1SEH0yyNbsB"
      },
      "source": [
        "Для Яндекс Спеллера есть питоновская библиотека, которая упрощает его использование. У него есть некоторые ограничения (10 к запросов в день), но для небольших проектов этого вполне достаточно."
      ]
    },
    {
      "cell_type": "code",
      "execution_count": null,
      "metadata": {
        "scrolled": true,
        "colab": {
          "base_uri": "https://localhost:8080/"
        },
        "id": "V6R0jfi2NbsB",
        "outputId": "8229f94e-c137-424e-ee93-8ad4ad3173ee"
      },
      "outputs": [
        {
          "output_type": "stream",
          "name": "stdout",
          "text": [
            "Collecting pyaspeller\n",
            "  Downloading pyaspeller-1.2.0-py3-none-any.whl (12 kB)\n",
            "Requirement already satisfied: requests<3.0.0,>=2.27.1 in /usr/local/lib/python3.10/dist-packages (from pyaspeller) (2.31.0)\n",
            "Requirement already satisfied: charset-normalizer<4,>=2 in /usr/local/lib/python3.10/dist-packages (from requests<3.0.0,>=2.27.1->pyaspeller) (3.2.0)\n",
            "Requirement already satisfied: idna<4,>=2.5 in /usr/local/lib/python3.10/dist-packages (from requests<3.0.0,>=2.27.1->pyaspeller) (3.4)\n",
            "Requirement already satisfied: urllib3<3,>=1.21.1 in /usr/local/lib/python3.10/dist-packages (from requests<3.0.0,>=2.27.1->pyaspeller) (2.0.4)\n",
            "Requirement already satisfied: certifi>=2017.4.17 in /usr/local/lib/python3.10/dist-packages (from requests<3.0.0,>=2.27.1->pyaspeller) (2023.7.22)\n",
            "Installing collected packages: pyaspeller\n",
            "Successfully installed pyaspeller-1.2.0\n"
          ]
        }
      ],
      "source": [
        "!pip install pyaspeller"
      ]
    },
    {
      "cell_type": "code",
      "source": [
        "from pyaspeller import YandexSpeller\n",
        "speller = YandexSpeller()"
      ],
      "metadata": {
        "id": "OQxVyx5ETnbr"
      },
      "execution_count": null,
      "outputs": []
    },
    {
      "cell_type": "code",
      "execution_count": null,
      "metadata": {
        "colab": {
          "base_uri": "https://localhost:8080/",
          "height": 36
        },
        "id": "xhM_ko2aNbsB",
        "outputId": "340f506b-077d-40dc-94b9-9f6e53e3afe9"
      },
      "outputs": [
        {
          "output_type": "execute_result",
          "data": {
            "text/plain": [
              "'Неправильное предложение.'"
            ],
            "application/vnd.google.colaboratory.intrinsic+json": {
              "type": "string"
            }
          },
          "metadata": {},
          "execution_count": 11
        }
      ],
      "source": [
        "# Так можно исправить предложение целиком\n",
        "fixed = speller.spelled('Нипрвильное приджлажение.')\n",
        "fixed"
      ]
    },
    {
      "cell_type": "code",
      "execution_count": null,
      "metadata": {
        "colab": {
          "base_uri": "https://localhost:8080/"
        },
        "id": "hKBgi9NzNbsB",
        "outputId": "a484fb5f-8b69-4d21-801f-e0a433f9ee69"
      },
      "outputs": [
        {
          "output_type": "stream",
          "name": "stderr",
          "text": [
            "/usr/local/lib/python3.10/dist-packages/pyaspeller/word.py:17: UserWarning: Class Word is deprecated. Use YandexSpeller().spelled(text) instead\n",
            "  warnings.warn(\"Class Word is deprecated. Use YandexSpeller().spelled(text) instead\")\n"
          ]
        },
        {
          "output_type": "stream",
          "name": "stdout",
          "text": [
            "приджлажение False предложение ['предложение', 'придлажение', 'приджложение']\n"
          ]
        }
      ],
      "source": [
        "# А так проверить и исправить отдельное слово\n",
        "from pyaspeller import Word\n",
        "check = Word('приджлажение')\n",
        "print(check.text, check.correct, check.spellsafe, check.variants)"
      ]
    },
    {
      "cell_type": "code",
      "source": [
        "fixed = speller.spelled(\"I'm not sleapy and tehre is no place I'm giong to.\")\n",
        "fixed"
      ],
      "metadata": {
        "colab": {
          "base_uri": "https://localhost:8080/",
          "height": 36
        },
        "id": "g60kIxw8U2Us",
        "outputId": "7029feab-25b7-4df5-ccd1-04ed96dedab5"
      },
      "execution_count": null,
      "outputs": [
        {
          "output_type": "execute_result",
          "data": {
            "text/plain": [
              "\"I'm not sleepy and there is no place I'm going to.\""
            ],
            "application/vnd.google.colaboratory.intrinsic+json": {
              "type": "string"
            }
          },
          "metadata": {},
          "execution_count": 22
        }
      ]
    },
    {
      "cell_type": "markdown",
      "source": [
        "И ещё один посмотрим"
      ],
      "metadata": {
        "id": "uAU25nYxT2xe"
      }
    },
    {
      "cell_type": "code",
      "source": [
        "! pip install autocorrect"
      ],
      "metadata": {
        "colab": {
          "base_uri": "https://localhost:8080/"
        },
        "id": "_6mh3cBtUTmz",
        "outputId": "4525490d-b021-47d6-ee5a-23e70b11a9da"
      },
      "execution_count": null,
      "outputs": [
        {
          "output_type": "stream",
          "name": "stdout",
          "text": [
            "Collecting autocorrect\n",
            "  Downloading autocorrect-2.6.1.tar.gz (622 kB)\n",
            "\u001b[2K     \u001b[90m━━━━━━━━━━━━━━━━━━━━━━━━━━━━━━━━━━━━━━━\u001b[0m \u001b[32m622.8/622.8 kB\u001b[0m \u001b[31m9.0 MB/s\u001b[0m eta \u001b[36m0:00:00\u001b[0m\n",
            "\u001b[?25h  Preparing metadata (setup.py) ... \u001b[?25l\u001b[?25hdone\n",
            "Building wheels for collected packages: autocorrect\n",
            "  Building wheel for autocorrect (setup.py) ... \u001b[?25l\u001b[?25hdone\n",
            "  Created wheel for autocorrect: filename=autocorrect-2.6.1-py3-none-any.whl size=622363 sha256=1716a03fed2e1e3ea9a457c2cc2b080e887a06e1f06023e32667ee8d0e030387\n",
            "  Stored in directory: /root/.cache/pip/wheels/b5/7b/6d/b76b29ce11ff8e2521c8c7dd0e5bfee4fb1789d76193124343\n",
            "Successfully built autocorrect\n",
            "Installing collected packages: autocorrect\n",
            "Successfully installed autocorrect-2.6.1\n"
          ]
        }
      ]
    },
    {
      "cell_type": "code",
      "execution_count": null,
      "metadata": {
        "id": "F1vs87BrNbsC"
      },
      "outputs": [],
      "source": [
        "from autocorrect import Speller"
      ]
    },
    {
      "cell_type": "code",
      "source": [
        "spell = Speller(lang='en')"
      ],
      "metadata": {
        "id": "OA1WWQqOT6Y9"
      },
      "execution_count": null,
      "outputs": []
    },
    {
      "cell_type": "code",
      "source": [
        "spell(\"I'm not sleapy and tehre is no place I'm giong to.\")"
      ],
      "metadata": {
        "colab": {
          "base_uri": "https://localhost:8080/",
          "height": 36
        },
        "id": "9ZlcqPnWT9Ze",
        "outputId": "c8582a37-c403-4112-cd88-f609e7fabf9e"
      },
      "execution_count": null,
      "outputs": [
        {
          "output_type": "execute_result",
          "data": {
            "text/plain": [
              "\"I'm not sleepy and there is no place I'm going to.\""
            ],
            "application/vnd.google.colaboratory.intrinsic+json": {
              "type": "string"
            }
          },
          "metadata": {},
          "execution_count": 18
        }
      ]
    },
    {
      "cell_type": "code",
      "source": [
        "%timeit spell(\"I'm not sleapy and tehre is no place I'm giong to.\")"
      ],
      "metadata": {
        "colab": {
          "base_uri": "https://localhost:8080/"
        },
        "id": "-PHlfiznT_qy",
        "outputId": "79789360-552a-4f2c-dbd7-d7f954df8559"
      },
      "execution_count": null,
      "outputs": [
        {
          "output_type": "stream",
          "name": "stdout",
          "text": [
            "521 µs ± 174 µs per loop (mean ± std. dev. of 7 runs, 1000 loops each)\n"
          ]
        }
      ]
    },
    {
      "cell_type": "code",
      "source": [
        "# Можно ускорить\n",
        "spell = Speller(fast=True)"
      ],
      "metadata": {
        "id": "il-hIWbAUCYc"
      },
      "execution_count": null,
      "outputs": []
    },
    {
      "cell_type": "code",
      "source": [
        "%timeit spell(\"I'm not sleapy and tehre is no place I'm giong to.\")"
      ],
      "metadata": {
        "colab": {
          "base_uri": "https://localhost:8080/"
        },
        "id": "ae_6jMTyUEg6",
        "outputId": "b2a29e8e-0c72-40fe-e507-3fb63271a726"
      },
      "execution_count": null,
      "outputs": [
        {
          "output_type": "stream",
          "name": "stdout",
          "text": [
            "390 µs ± 10.2 µs per loop (mean ± std. dev. of 7 runs, 1000 loops each)\n"
          ]
        }
      ]
    },
    {
      "cell_type": "markdown",
      "source": [
        "А для русского?"
      ],
      "metadata": {
        "id": "zZhkBaYMV-wC"
      }
    },
    {
      "cell_type": "code",
      "source": [
        "spell = Speller(lang='ru')"
      ],
      "metadata": {
        "id": "Lb2dzu64VCl7"
      },
      "execution_count": null,
      "outputs": []
    },
    {
      "cell_type": "code",
      "source": [
        "spell('Нипрвильное приджлажение.')"
      ],
      "metadata": {
        "colab": {
          "base_uri": "https://localhost:8080/",
          "height": 36
        },
        "id": "nggpWaV6VEkK",
        "outputId": "ebb6cfd5-9816-43eb-eb7c-cd80a2f03c1f"
      },
      "execution_count": null,
      "outputs": [
        {
          "output_type": "execute_result",
          "data": {
            "text/plain": [
              "'Првильное приджлажение.'"
            ],
            "application/vnd.google.colaboratory.intrinsic+json": {
              "type": "string"
            }
          },
          "metadata": {},
          "execution_count": 24
        }
      ]
    },
    {
      "cell_type": "markdown",
      "source": [
        "Ну вот, было неправильное, стало правильное.\n",
        "\n",
        "(в общем, используйте YandexSpeller для русского)"
      ],
      "metadata": {
        "id": "8eYb3RABVXyM"
      }
    }
  ],
  "metadata": {
    "anaconda-cloud": {},
    "kernelspec": {
      "display_name": "Python 3 (ipykernel)",
      "language": "python",
      "name": "python3"
    },
    "language_info": {
      "codemirror_mode": {
        "name": "ipython",
        "version": 3
      },
      "file_extension": ".py",
      "mimetype": "text/x-python",
      "name": "python",
      "nbconvert_exporter": "python",
      "pygments_lexer": "ipython3",
      "version": "3.10.5"
    },
    "colab": {
      "provenance": [],
      "include_colab_link": true
    },
    "widgets": {
      "application/vnd.jupyter.widget-state+json": {
        "9e6dffd5833e46bda8526467e6033fad": {
          "model_module": "@jupyter-widgets/controls",
          "model_name": "HBoxModel",
          "model_module_version": "1.5.0",
          "state": {
            "_dom_classes": [],
            "_model_module": "@jupyter-widgets/controls",
            "_model_module_version": "1.5.0",
            "_model_name": "HBoxModel",
            "_view_count": null,
            "_view_module": "@jupyter-widgets/controls",
            "_view_module_version": "1.5.0",
            "_view_name": "HBoxView",
            "box_style": "",
            "children": [
              "IPY_MODEL_67a82cf0b7d448d6a4a21787bc696397",
              "IPY_MODEL_68e76968f4ec40bd9cf406b8169a93c7",
              "IPY_MODEL_27b7a446ed76403283b034863e515ce4"
            ],
            "layout": "IPY_MODEL_1f5d7652183440e28cdac8eadc31f198"
          }
        },
        "67a82cf0b7d448d6a4a21787bc696397": {
          "model_module": "@jupyter-widgets/controls",
          "model_name": "HTMLModel",
          "model_module_version": "1.5.0",
          "state": {
            "_dom_classes": [],
            "_model_module": "@jupyter-widgets/controls",
            "_model_module_version": "1.5.0",
            "_model_name": "HTMLModel",
            "_view_count": null,
            "_view_module": "@jupyter-widgets/controls",
            "_view_module_version": "1.5.0",
            "_view_name": "HTMLView",
            "description": "",
            "description_tooltip": null,
            "layout": "IPY_MODEL_655d5bc2c9984901ae75fb759577bf6a",
            "placeholder": "​",
            "style": "IPY_MODEL_79ec059cc8654f428f2561fafdda5f09",
            "value": "100%"
          }
        },
        "68e76968f4ec40bd9cf406b8169a93c7": {
          "model_module": "@jupyter-widgets/controls",
          "model_name": "FloatProgressModel",
          "model_module_version": "1.5.0",
          "state": {
            "_dom_classes": [],
            "_model_module": "@jupyter-widgets/controls",
            "_model_module_version": "1.5.0",
            "_model_name": "FloatProgressModel",
            "_view_count": null,
            "_view_module": "@jupyter-widgets/controls",
            "_view_module_version": "1.5.0",
            "_view_name": "ProgressView",
            "bar_style": "success",
            "description": "",
            "description_tooltip": null,
            "layout": "IPY_MODEL_4f4d9f8d4a54401aa9bd35a068dc2a0e",
            "max": 915,
            "min": 0,
            "orientation": "horizontal",
            "style": "IPY_MODEL_f271f537d42f439cb8e88b3e97aecfb8",
            "value": 915
          }
        },
        "27b7a446ed76403283b034863e515ce4": {
          "model_module": "@jupyter-widgets/controls",
          "model_name": "HTMLModel",
          "model_module_version": "1.5.0",
          "state": {
            "_dom_classes": [],
            "_model_module": "@jupyter-widgets/controls",
            "_model_module_version": "1.5.0",
            "_model_name": "HTMLModel",
            "_view_count": null,
            "_view_module": "@jupyter-widgets/controls",
            "_view_module_version": "1.5.0",
            "_view_name": "HTMLView",
            "description": "",
            "description_tooltip": null,
            "layout": "IPY_MODEL_707a382d3bb94a01a12093e36b79a61b",
            "placeholder": "​",
            "style": "IPY_MODEL_f78eda4cb1c24fcb9094ca4713e45c6e",
            "value": " 915/915 [04:12&lt;00:00,  3.82it/s]"
          }
        },
        "1f5d7652183440e28cdac8eadc31f198": {
          "model_module": "@jupyter-widgets/base",
          "model_name": "LayoutModel",
          "model_module_version": "1.2.0",
          "state": {
            "_model_module": "@jupyter-widgets/base",
            "_model_module_version": "1.2.0",
            "_model_name": "LayoutModel",
            "_view_count": null,
            "_view_module": "@jupyter-widgets/base",
            "_view_module_version": "1.2.0",
            "_view_name": "LayoutView",
            "align_content": null,
            "align_items": null,
            "align_self": null,
            "border": null,
            "bottom": null,
            "display": null,
            "flex": null,
            "flex_flow": null,
            "grid_area": null,
            "grid_auto_columns": null,
            "grid_auto_flow": null,
            "grid_auto_rows": null,
            "grid_column": null,
            "grid_gap": null,
            "grid_row": null,
            "grid_template_areas": null,
            "grid_template_columns": null,
            "grid_template_rows": null,
            "height": null,
            "justify_content": null,
            "justify_items": null,
            "left": null,
            "margin": null,
            "max_height": null,
            "max_width": null,
            "min_height": null,
            "min_width": null,
            "object_fit": null,
            "object_position": null,
            "order": null,
            "overflow": null,
            "overflow_x": null,
            "overflow_y": null,
            "padding": null,
            "right": null,
            "top": null,
            "visibility": null,
            "width": null
          }
        },
        "655d5bc2c9984901ae75fb759577bf6a": {
          "model_module": "@jupyter-widgets/base",
          "model_name": "LayoutModel",
          "model_module_version": "1.2.0",
          "state": {
            "_model_module": "@jupyter-widgets/base",
            "_model_module_version": "1.2.0",
            "_model_name": "LayoutModel",
            "_view_count": null,
            "_view_module": "@jupyter-widgets/base",
            "_view_module_version": "1.2.0",
            "_view_name": "LayoutView",
            "align_content": null,
            "align_items": null,
            "align_self": null,
            "border": null,
            "bottom": null,
            "display": null,
            "flex": null,
            "flex_flow": null,
            "grid_area": null,
            "grid_auto_columns": null,
            "grid_auto_flow": null,
            "grid_auto_rows": null,
            "grid_column": null,
            "grid_gap": null,
            "grid_row": null,
            "grid_template_areas": null,
            "grid_template_columns": null,
            "grid_template_rows": null,
            "height": null,
            "justify_content": null,
            "justify_items": null,
            "left": null,
            "margin": null,
            "max_height": null,
            "max_width": null,
            "min_height": null,
            "min_width": null,
            "object_fit": null,
            "object_position": null,
            "order": null,
            "overflow": null,
            "overflow_x": null,
            "overflow_y": null,
            "padding": null,
            "right": null,
            "top": null,
            "visibility": null,
            "width": null
          }
        },
        "79ec059cc8654f428f2561fafdda5f09": {
          "model_module": "@jupyter-widgets/controls",
          "model_name": "DescriptionStyleModel",
          "model_module_version": "1.5.0",
          "state": {
            "_model_module": "@jupyter-widgets/controls",
            "_model_module_version": "1.5.0",
            "_model_name": "DescriptionStyleModel",
            "_view_count": null,
            "_view_module": "@jupyter-widgets/base",
            "_view_module_version": "1.2.0",
            "_view_name": "StyleView",
            "description_width": ""
          }
        },
        "4f4d9f8d4a54401aa9bd35a068dc2a0e": {
          "model_module": "@jupyter-widgets/base",
          "model_name": "LayoutModel",
          "model_module_version": "1.2.0",
          "state": {
            "_model_module": "@jupyter-widgets/base",
            "_model_module_version": "1.2.0",
            "_model_name": "LayoutModel",
            "_view_count": null,
            "_view_module": "@jupyter-widgets/base",
            "_view_module_version": "1.2.0",
            "_view_name": "LayoutView",
            "align_content": null,
            "align_items": null,
            "align_self": null,
            "border": null,
            "bottom": null,
            "display": null,
            "flex": null,
            "flex_flow": null,
            "grid_area": null,
            "grid_auto_columns": null,
            "grid_auto_flow": null,
            "grid_auto_rows": null,
            "grid_column": null,
            "grid_gap": null,
            "grid_row": null,
            "grid_template_areas": null,
            "grid_template_columns": null,
            "grid_template_rows": null,
            "height": null,
            "justify_content": null,
            "justify_items": null,
            "left": null,
            "margin": null,
            "max_height": null,
            "max_width": null,
            "min_height": null,
            "min_width": null,
            "object_fit": null,
            "object_position": null,
            "order": null,
            "overflow": null,
            "overflow_x": null,
            "overflow_y": null,
            "padding": null,
            "right": null,
            "top": null,
            "visibility": null,
            "width": null
          }
        },
        "f271f537d42f439cb8e88b3e97aecfb8": {
          "model_module": "@jupyter-widgets/controls",
          "model_name": "ProgressStyleModel",
          "model_module_version": "1.5.0",
          "state": {
            "_model_module": "@jupyter-widgets/controls",
            "_model_module_version": "1.5.0",
            "_model_name": "ProgressStyleModel",
            "_view_count": null,
            "_view_module": "@jupyter-widgets/base",
            "_view_module_version": "1.2.0",
            "_view_name": "StyleView",
            "bar_color": null,
            "description_width": ""
          }
        },
        "707a382d3bb94a01a12093e36b79a61b": {
          "model_module": "@jupyter-widgets/base",
          "model_name": "LayoutModel",
          "model_module_version": "1.2.0",
          "state": {
            "_model_module": "@jupyter-widgets/base",
            "_model_module_version": "1.2.0",
            "_model_name": "LayoutModel",
            "_view_count": null,
            "_view_module": "@jupyter-widgets/base",
            "_view_module_version": "1.2.0",
            "_view_name": "LayoutView",
            "align_content": null,
            "align_items": null,
            "align_self": null,
            "border": null,
            "bottom": null,
            "display": null,
            "flex": null,
            "flex_flow": null,
            "grid_area": null,
            "grid_auto_columns": null,
            "grid_auto_flow": null,
            "grid_auto_rows": null,
            "grid_column": null,
            "grid_gap": null,
            "grid_row": null,
            "grid_template_areas": null,
            "grid_template_columns": null,
            "grid_template_rows": null,
            "height": null,
            "justify_content": null,
            "justify_items": null,
            "left": null,
            "margin": null,
            "max_height": null,
            "max_width": null,
            "min_height": null,
            "min_width": null,
            "object_fit": null,
            "object_position": null,
            "order": null,
            "overflow": null,
            "overflow_x": null,
            "overflow_y": null,
            "padding": null,
            "right": null,
            "top": null,
            "visibility": null,
            "width": null
          }
        },
        "f78eda4cb1c24fcb9094ca4713e45c6e": {
          "model_module": "@jupyter-widgets/controls",
          "model_name": "DescriptionStyleModel",
          "model_module_version": "1.5.0",
          "state": {
            "_model_module": "@jupyter-widgets/controls",
            "_model_module_version": "1.5.0",
            "_model_name": "DescriptionStyleModel",
            "_view_count": null,
            "_view_module": "@jupyter-widgets/base",
            "_view_module_version": "1.2.0",
            "_view_name": "StyleView",
            "description_width": ""
          }
        }
      }
    }
  },
  "nbformat": 4,
  "nbformat_minor": 0
}