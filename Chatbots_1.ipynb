{
  "nbformat": 4,
  "nbformat_minor": 0,
  "metadata": {
    "colab": {
      "provenance": [],
      "authorship_tag": "ABX9TyNjZa+ol673HrZmVehWQshk",
      "include_colab_link": true
    },
    "kernelspec": {
      "name": "python3",
      "display_name": "Python 3"
    },
    "language_info": {
      "name": "python"
    }
  },
  "cells": [
    {
      "cell_type": "markdown",
      "metadata": {
        "id": "view-in-github",
        "colab_type": "text"
      },
      "source": [
        "<a href=\"https://colab.research.google.com/github/Whereamiactually/lyceumcompling11/blob/main/Chatbots_1.ipynb\" target=\"_parent\"><img src=\"https://colab.research.google.com/assets/colab-badge.svg\" alt=\"Open In Colab\"/></a>"
      ]
    },
    {
      "cell_type": "markdown",
      "source": [
        "# Чат-боты!\n",
        "\n",
        "Сегодня у нас в планах посмотреть на простого бота для телеграма. Вот [тут](https://core.telegram.org/bots/api) лежит документация, где можно найти, какие запросы нужно отправлять к API.\n",
        "\n",
        "Первый шаги:\n",
        "\n",
        "1. Откройте приложение Telegram и найдите бота @BotFather.\n",
        "2. Напишите боту /newbot и следуйте инструкциям, чтобы создать своего бота.\n",
        "3. Сохраните полученный токен доступа к вашему боту (вида 6814073858:AAEGGyn...).\n",
        "\n",
        "Profit! Бот рожден и теперь к нему можно обращаться, например, через браузер.\n",
        "\n",
        "Чтобы проверить, что бот действительно работает, можно отправить ему вот такой запрос: `https://api.telegram.org/bot*your-bot-token*/getme` (обратите внимание, что на месте \\*your-bot-token\\*, вам нужно вставить токен своего бота).\n",
        "\n",
        "А с помощью вот этого запроса `https://api.telegram.org/bot*your-bot-token*/getUpdates` можно посмотреть на все сообщения, которые посылались вашему боту за все время его работы. Пока у вас там пусто.\n",
        "\n",
        "Если вы напишете самому боту, то он вам, конечно, ничего не ответит, потому что пока внутри него не прописаны никакие команды. Займёмся этим!\n",
        "\n",
        "Установим библиотеку для работы с ботом.\n",
        "\n",
        "Существует довольно много оберток для работы с ботами для телеграма: [python-telegram-bot](https://github.com/python-telegram-bot/python-telegram-bot), [telepot](https://github.com/nickoala/telepot), [pyTelegramBotAPI](https://github.com/eternnoir/pyTelegramBotAPI). Мы будем использовать последнюю."
      ],
      "metadata": {
        "id": "JCxF9j0wohkC"
      }
    },
    {
      "cell_type": "code",
      "execution_count": 1,
      "metadata": {
        "colab": {
          "base_uri": "https://localhost:8080/"
        },
        "id": "IdfrHEonxf0p",
        "outputId": "18aecdb1-b074-4c0c-efe3-48acfc70b209"
      },
      "outputs": [
        {
          "output_type": "stream",
          "name": "stdout",
          "text": [
            "Requirement already satisfied: pyTelegramBotAPI in /usr/local/lib/python3.10/dist-packages (4.14.0)\n",
            "Requirement already satisfied: requests in /usr/local/lib/python3.10/dist-packages (from pyTelegramBotAPI) (2.31.0)\n",
            "Requirement already satisfied: charset-normalizer<4,>=2 in /usr/local/lib/python3.10/dist-packages (from requests->pyTelegramBotAPI) (3.3.2)\n",
            "Requirement already satisfied: idna<4,>=2.5 in /usr/local/lib/python3.10/dist-packages (from requests->pyTelegramBotAPI) (3.4)\n",
            "Requirement already satisfied: urllib3<3,>=1.21.1 in /usr/local/lib/python3.10/dist-packages (from requests->pyTelegramBotAPI) (2.0.7)\n",
            "Requirement already satisfied: certifi>=2017.4.17 in /usr/local/lib/python3.10/dist-packages (from requests->pyTelegramBotAPI) (2023.7.22)\n"
          ]
        }
      ],
      "source": [
        "!pip install pyTelegramBotAPI"
      ]
    },
    {
      "cell_type": "code",
      "source": [
        "import telebot # импортируем модуль"
      ],
      "metadata": {
        "id": "17il2t80fGky"
      },
      "execution_count": 1,
      "outputs": []
    },
    {
      "cell_type": "markdown",
      "source": [
        "Нельзя палить токен вашего бота! Потому что иначе ботом сможет воспользоваться любой и натворить в нём гадостей.\n",
        "\n",
        "Чтобы этого не допустить, надо создать отдельный файл `conf.py` и записать в него cтроку `TOKEN = \"ваш токен\"`.\n",
        "\n",
        "Это нужно для того, чтобы не выкладывать в репозиторий свои логины, пароли и токены доступа. Чтобы ничего не стирать перед выкладыванием в репозиторий, лучше всего выносить секретные данные в отдельный файл и сделать так, чтобы этот файл игнорировался Git'ом:\n",
        "\n",
        "* создайте в корне файл с названием `.gitignore`,\n",
        "* напишите в этом файле `conf.py`,\n",
        "* после этого файл будет у вас на компьютере, но никогда не запушится в репозиторий (чуть подробнее про это можно почитать [тут](https://learn.microsoft.com/ru-ru/azure/devops/repos/git/ignore-files?view=azure-devops&tabs=visual-studio-2022)).\n",
        "\n",
        "В основной же файл с программой этот файл можно будет просто импортировать строчкой `import conf`. Тогда переменная `TOKEN` будет доступна внутри основной программы как `conf.TOKEN`.\n",
        "\n"
      ],
      "metadata": {
        "id": "UQw6Ii3rV-DS"
      }
    },
    {
      "cell_type": "code",
      "source": [
        "import conf # импортируем файл, в котором лежит наш токен"
      ],
      "metadata": {
        "id": "LUyzZanxdvr3"
      },
      "execution_count": 2,
      "outputs": []
    },
    {
      "cell_type": "code",
      "source": [
        "bot = telebot.TeleBot(conf.TOKEN) # создаем эксземпляр бота"
      ],
      "metadata": {
        "id": "0qQtnJLJfNJW"
      },
      "execution_count": 3,
      "outputs": []
    },
    {
      "cell_type": "markdown",
      "source": [
        "Создадим бота, который говорит, сколько букв в запросе пользователя."
      ],
      "metadata": {
        "id": "eZ0ZkpJcjm29"
      }
    },
    {
      "cell_type": "code",
      "source": [
        "# этот обработчик запускает функцию send_welcome, когда пользователь отправляет команды /start или /help\n",
        "@bot.message_handler(commands = ['start', 'help']) # прописываем, на какие команды надо реагировать\n",
        "def send_welcome(message): # определяем функцию, которая применяется при этих командах\n",
        "    bot.send_message(message.chat.id, \"Здравствуйте! Это бот, который считает длину вашего сообщения.\")\n",
        "\n",
        "\n",
        "# этот обработчик реагирует на любое сообщение\n",
        "@bot.message_handler(func = lambda m: True)\n",
        "def send_len(message):\n",
        "    bot.send_message(message.chat.id, 'В вашем сообщении {} символов.'.format(len(message.text)))"
      ],
      "metadata": {
        "id": "tYrixzNpfVHq"
      },
      "execution_count": 9,
      "outputs": []
    },
    {
      "cell_type": "markdown",
      "source": [
        "Внутри декоратора `@bot.message_handler()` могут находиться фильтры, которые описывают, на какие сообщения реагирует данная функция.\n",
        "\n",
        "Фильтры пишутся так: сначала название фильтра, затем через знак равенства его значение.\n",
        "\n",
        "Бывают фильтры четырех типов:\n",
        "\n",
        "* **content_types** - значением является массив строк, задающих тип контента - текст, аудио, файл, стикер и т.д. (по умолчанию ['text']);\n",
        "* **regexp** - значением является регулярное выражение в виде строки;\n",
        "* **commands** - значением является массив строк, задающих команды (без знака \"/\");\n",
        "* **func** - значением является какая-то функция.\n",
        "\n",
        "Если боту приходит сообщение, которое подходит под несколько фильтров, т.е. несколько разных функций, в этом случае запускается функция, которая в вашем коде написана раньше других.\n",
        "\n",
        "В переменной `message` лежат все данные о конкретном запросе пользователя. В коде выше мы использовали атрибут `.chat.id`, который возвращает уникальный номер пользователя, написавшего сообщение, и `.text`, который возвращает текст сообщения.\n",
        "\n",
        "Это все здорово, конечно, но если мы попытаемся запустить этот код и начать писать нашему боту, то ничего не произойдет... Почему? Потому что наш бот не получает наши сообщения и думает, что полковнику никто не пишет. :(\n",
        "\n",
        "Исправим это следующей строчкой кода.\n",
        "\n",
        "Этот код просит бота бесконечно опрашивать сервера телеграма на предмет новых сообщений (как-то так: \"Мне что-нибудь пришло? А сейчас пришло что-нибудь? А сейчас? Пришло? Пришло? А сейчас написали что-нибудь мне? Мы уже приехали?\"). Параметр `none_stop = True` говорит, что бот должен стараться не прекращать работу при возникновении каких-либо ошибок."
      ],
      "metadata": {
        "id": "5jlMc3c5kdWK"
      }
    },
    {
      "cell_type": "code",
      "source": [
        "if __name__ == '__main__':\n",
        "    bot.polling(none_stop = True)"
      ],
      "metadata": {
        "id": "UXwclKLefg-7"
      },
      "execution_count": 10,
      "outputs": []
    },
    {
      "cell_type": "markdown",
      "source": [
        "### Ещё один бот\n",
        "\n",
        "Напишем бота, который в ответ на команду `/dog` получается картинку с случайной собачкой."
      ],
      "metadata": {
        "id": "BR8TpMkko6zL"
      }
    },
    {
      "cell_type": "code",
      "source": [
        "import requests # надо отдельно импортировать модули, которые будут использоваться в коде"
      ],
      "metadata": {
        "id": "JA-X2lcNg-E5"
      },
      "execution_count": 5,
      "outputs": []
    },
    {
      "cell_type": "code",
      "source": [
        "@bot.message_handler(commands = ['start', 'help'])\n",
        "def send_welcome(message):\n",
        "    bot.send_message(message.chat.id, \"Здравствуйте! Это бот, который порадует вас картинкой щеночка.\")\n",
        "\n",
        "@bot.message_handler(commands = ['dog']) # прописываемы тут нужную нам команду\n",
        "def bop(message):\n",
        "    contents = requests.get('https://random.dog/woof.json').json()\n",
        "    url = contents['url']\n",
        "    bot.send_photo(chat_id = message.chat.id, photo = url) # прописываем специальную функцию, которая возвращает пользователю картинку"
      ],
      "metadata": {
        "id": "J3WmM-Gno-JW"
      },
      "execution_count": null,
      "outputs": []
    },
    {
      "cell_type": "markdown",
      "source": [
        "Вот [здесь](https://habr.com/ru/companies/macloud/articles/562700/) можно найти 17 прикольных сервисов с API, которые вы можете использовать как основу для вашего бота!"
      ],
      "metadata": {
        "id": "-GaxCF0aqSKt"
      }
    },
    {
      "cell_type": "code",
      "source": [
        "if __name__ == '__main__':\n",
        "    bot.polling(none_stop = True)"
      ],
      "metadata": {
        "id": "4PQiWqcIrT_5"
      },
      "execution_count": null,
      "outputs": []
    },
    {
      "cell_type": "markdown",
      "source": [
        "### Ещё два бот\n",
        "\n",
        "Хотим завести попугая!"
      ],
      "metadata": {
        "id": "lZziEphCuX0y"
      }
    },
    {
      "cell_type": "code",
      "source": [
        "@bot.message_handler(commands = ['start', 'help'])\n",
        "def help(message):\n",
        "    user = message.chat.id\n",
        "    bot.send_message(user, \"Я попугай и я вас попугаю!\")\n",
        "\n",
        "@bot.message_handler(content_types = ['text']) # сработает на любое текстовое сообщение\n",
        "def echo(message):\n",
        "    text = message.text\n",
        "    user = message.chat.id\n",
        "\n",
        "    # отправляем картинку с попугаем\n",
        "    bot.send_photo(user, \"https://jakosha.ru/wp-content/uploads/2015/06/intelekt_popugaya.jpg\")\n",
        "\n",
        "    # отправляем сообщение тому же пользователю с тем же текстом\n",
        "    if text == \"Я дурак.\":\n",
        "      bot.send_message(user, \"Ты дурак.\")\n",
        "    else:\n",
        "      bot.send_message(user, text)\n",
        "\n",
        "bot.polling(none_stop = True)"
      ],
      "metadata": {
        "id": "8dKX6T-luj62"
      },
      "execution_count": 4,
      "outputs": []
    },
    {
      "cell_type": "markdown",
      "source": [
        "### Ещё три бот\n",
        "\n",
        "Попробуем применить простую штучку из тех, что вы прошли на этом курсе. Допустим, хотим создать бот, который выдает части речи всех слов нашего сообщения."
      ],
      "metadata": {
        "id": "qUCCqoPVroiL"
      }
    },
    {
      "cell_type": "code",
      "source": [
        "import nltk # вначале надо импортировать все нужные нам библиотеки и штуки"
      ],
      "metadata": {
        "id": "F6v2wuh8iIo_"
      },
      "execution_count": 5,
      "outputs": []
    },
    {
      "cell_type": "code",
      "source": [
        "nltk.download('averaged_perceptron_tagger')"
      ],
      "metadata": {
        "colab": {
          "base_uri": "https://localhost:8080/"
        },
        "id": "nV8u145Ilp37",
        "outputId": "c6c61ed1-a56f-44b8-c73c-18fbc3b2be75"
      },
      "execution_count": 6,
      "outputs": [
        {
          "output_type": "stream",
          "name": "stderr",
          "text": [
            "[nltk_data] Downloading package averaged_perceptron_tagger to\n",
            "[nltk_data]     /root/nltk_data...\n",
            "[nltk_data]   Package averaged_perceptron_tagger is already up-to-\n",
            "[nltk_data]       date!\n"
          ]
        },
        {
          "output_type": "execute_result",
          "data": {
            "text/plain": [
              "True"
            ]
          },
          "metadata": {},
          "execution_count": 6
        }
      ]
    },
    {
      "cell_type": "code",
      "source": [
        "nltk.download('punkt')"
      ],
      "metadata": {
        "colab": {
          "base_uri": "https://localhost:8080/"
        },
        "id": "u9jx4vFKjJfQ",
        "outputId": "8b37fdc3-b9da-4270-d2b9-b5185cf93e03"
      },
      "execution_count": 7,
      "outputs": [
        {
          "output_type": "stream",
          "name": "stderr",
          "text": [
            "[nltk_data] Downloading package punkt to /root/nltk_data...\n",
            "[nltk_data]   Package punkt is already up-to-date!\n"
          ]
        },
        {
          "output_type": "execute_result",
          "data": {
            "text/plain": [
              "True"
            ]
          },
          "metadata": {},
          "execution_count": 7
        }
      ]
    },
    {
      "cell_type": "code",
      "source": [
        "@bot.message_handler(commands = ['start', 'help'])\n",
        "def send_welcome(message):\n",
        "    bot.send_message(message.chat.id, \"Здравствуйте! Это бот, который выдаст вам части слов из вашего сообщения.\")\n",
        "\n",
        "@bot.message_handler(func = lambda m: True) # пускай он реагирует на все сообщения\n",
        "def bop(message):\n",
        "    tokens = nltk.word_tokenize(message.text)\n",
        "    tagged_tokens = nltk.pos_tag(tokens)\n",
        "    bot.send_message(message.chat.id, tagged_tokens)"
      ],
      "metadata": {
        "id": "eXaFOxFWsrJr"
      },
      "execution_count": 8,
      "outputs": []
    },
    {
      "cell_type": "code",
      "source": [
        "if __name__ == '__main__':\n",
        "    bot.polling(none_stop = True)"
      ],
      "metadata": {
        "id": "-V5dpRzxtbwJ"
      },
      "execution_count": 9,
      "outputs": []
    },
    {
      "cell_type": "markdown",
      "source": [
        "### Другие варианты получения ботом сообщений\n",
        "\n",
        "Вообще вариантов получения ботом сообщений от телеграма два:\n",
        "\n",
        "1. Опрос (от англ. *polling*) сервера телеграма на наличие сообщений для бота.\n",
        "2. \"Почтовый ящик\" с ip-адресом (*webhook* - можно перевести как \"веб-ловушка\"), на который приходят сообщения от сервера телеграма.\n",
        "\n",
        "Вот [тут](https://habr.com/ru/company/ods/blog/462141/) можно подробно про это всё почитать.\n",
        "\n",
        "Пока используем *polling*, но это не оптимальное решение, так как, если вы выложите ваше приложение на какой-нибудь веб-сервер и на сервере произойдет хоть какая-нибудь ошибка или дисконнект, бот перестанет работать.\n",
        "\n",
        "Поэтому попозже, если будет время, мы посмотрим на то, как использовать вебхуки, но их необязательно будет использовать в вашем боте.\n",
        "\n",
        "### Последний бот на сегодня\n",
        "\n",
        "Как думаете, что он делает?"
      ],
      "metadata": {
        "id": "yloU1rhoulok"
      }
    },
    {
      "cell_type": "code",
      "source": [
        "import telebot\n",
        "import conf\n",
        "\n",
        "bot = telebot.TeleBot(conf.token)\n",
        "\n",
        "notes = {}\n",
        "\n",
        "@bot.message_handler(commands = ['remind'])\n",
        "def remind(message):\n",
        "    user_id = message.chat.id\n",
        "    if user_id not in notes:\n",
        "        bot.send_message(user_id, \"Вы мне еще не писали.\")\n",
        "    else:\n",
        "        bot.send_message(user_id, notes[user_id])\n",
        "\n",
        "@bot.message_handler(content_types = ['text'])\n",
        "def remember(message):\n",
        "    user_id = message.chat.id\n",
        "    notes[user_id] = message.text\n",
        "    bot.send_message(user_id, \"Я запомнил.\")\n",
        "\n",
        "bot.polling(none_stop = True)"
      ],
      "metadata": {
        "id": "9hC2iN2Hy06U"
      },
      "execution_count": null,
      "outputs": []
    }
  ]
}