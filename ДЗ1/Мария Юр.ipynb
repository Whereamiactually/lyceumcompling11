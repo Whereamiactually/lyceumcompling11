{
  "nbformat": 4,
  "nbformat_minor": 0,
  "metadata": {
    "colab": {
      "provenance": []
    },
    "kernelspec": {
      "name": "python3",
      "display_name": "Python 3"
    },
    "language_info": {
      "name": "python"
    }
  },
  "cells": [
    {
      "cell_type": "markdown",
      "source": [
        "# Natasha\n",
        "\n",
        "Natasha - это набор библиотек для обработки текстов на русском языке. Сегодня мы будем использовать Razdel, который умеет делить текст на слова и предложения. NLP - Natural Language Processing (Обработка Естественного Языка). NER - Named Entity Recognition (Распознавание Именованных Сущностей)."
      ],
      "metadata": {
        "id": "nB3tZVqhnf-l"
      }
    },
    {
      "cell_type": "code",
      "execution_count": null,
      "metadata": {
        "colab": {
          "base_uri": "https://localhost:8080/"
        },
        "id": "72iDXQTfnGLA",
        "outputId": "221cec19-6db5-47cf-8731-8c41a615e049"
      },
      "outputs": [
        {
          "output_type": "stream",
          "name": "stdout",
          "text": [
            "Collecting natasha\n",
            "  Downloading natasha-1.6.0-py3-none-any.whl (34.4 MB)\n",
            "\u001b[2K     \u001b[90m━━━━━━━━━━━━━━━━━━━━━━━━━━━━━━━━━━━━━━━━\u001b[0m \u001b[32m34.4/34.4 MB\u001b[0m \u001b[31m34.1 MB/s\u001b[0m eta \u001b[36m0:00:00\u001b[0m\n",
            "\u001b[?25hCollecting pymorphy2 (from natasha)\n",
            "  Downloading pymorphy2-0.9.1-py3-none-any.whl (55 kB)\n",
            "\u001b[2K     \u001b[90m━━━━━━━━━━━━━━━━━━━━━━━━━━━━━━━━━━━━━━━━\u001b[0m \u001b[32m55.5/55.5 kB\u001b[0m \u001b[31m6.5 MB/s\u001b[0m eta \u001b[36m0:00:00\u001b[0m\n",
            "\u001b[?25hCollecting razdel>=0.5.0 (from natasha)\n",
            "  Downloading razdel-0.5.0-py3-none-any.whl (21 kB)\n",
            "Collecting navec>=0.9.0 (from natasha)\n",
            "  Downloading navec-0.10.0-py3-none-any.whl (23 kB)\n",
            "Collecting slovnet>=0.6.0 (from natasha)\n",
            "  Downloading slovnet-0.6.0-py3-none-any.whl (46 kB)\n",
            "\u001b[2K     \u001b[90m━━━━━━━━━━━━━━━━━━━━━━━━━━━━━━━━━━━━━━━━\u001b[0m \u001b[32m46.7/46.7 kB\u001b[0m \u001b[31m5.2 MB/s\u001b[0m eta \u001b[36m0:00:00\u001b[0m\n",
            "\u001b[?25hCollecting yargy>=0.16.0 (from natasha)\n",
            "  Downloading yargy-0.16.0-py3-none-any.whl (33 kB)\n",
            "Collecting ipymarkup>=0.8.0 (from natasha)\n",
            "  Downloading ipymarkup-0.9.0-py3-none-any.whl (14 kB)\n",
            "Collecting intervaltree>=3 (from ipymarkup>=0.8.0->natasha)\n",
            "  Downloading intervaltree-3.1.0.tar.gz (32 kB)\n",
            "  Preparing metadata (setup.py) ... \u001b[?25l\u001b[?25hdone\n",
            "Requirement already satisfied: numpy in /usr/local/lib/python3.10/dist-packages (from navec>=0.9.0->natasha) (1.23.5)\n",
            "Collecting dawg-python>=0.7.1 (from pymorphy2->natasha)\n",
            "  Downloading DAWG_Python-0.7.2-py2.py3-none-any.whl (11 kB)\n",
            "Collecting pymorphy2-dicts-ru<3.0,>=2.4 (from pymorphy2->natasha)\n",
            "  Downloading pymorphy2_dicts_ru-2.4.417127.4579844-py2.py3-none-any.whl (8.2 MB)\n",
            "\u001b[2K     \u001b[90m━━━━━━━━━━━━━━━━━━━━━━━━━━━━━━━━━━━━━━━━\u001b[0m \u001b[32m8.2/8.2 MB\u001b[0m \u001b[31m55.0 MB/s\u001b[0m eta \u001b[36m0:00:00\u001b[0m\n",
            "\u001b[?25hCollecting docopt>=0.6 (from pymorphy2->natasha)\n",
            "  Downloading docopt-0.6.2.tar.gz (25 kB)\n",
            "  Preparing metadata (setup.py) ... \u001b[?25l\u001b[?25hdone\n",
            "Requirement already satisfied: sortedcontainers<3.0,>=2.0 in /usr/local/lib/python3.10/dist-packages (from intervaltree>=3->ipymarkup>=0.8.0->natasha) (2.4.0)\n",
            "Building wheels for collected packages: docopt, intervaltree\n",
            "  Building wheel for docopt (setup.py) ... \u001b[?25l\u001b[?25hdone\n",
            "  Created wheel for docopt: filename=docopt-0.6.2-py2.py3-none-any.whl size=13705 sha256=f9bf7948015dd2c65a8407dd7eea0146c6ec5eebbefe2d0d13cbfdc8e735d6e6\n",
            "  Stored in directory: /root/.cache/pip/wheels/fc/ab/d4/5da2067ac95b36618c629a5f93f809425700506f72c9732fac\n",
            "  Building wheel for intervaltree (setup.py) ... \u001b[?25l\u001b[?25hdone\n",
            "  Created wheel for intervaltree: filename=intervaltree-3.1.0-py2.py3-none-any.whl size=26094 sha256=707830c621e861b2c5a4d825556a68696e9cbbb9ba23d8486b6f7a62217712ae\n",
            "  Stored in directory: /root/.cache/pip/wheels/fa/80/8c/43488a924a046b733b64de3fac99252674c892a4c3801c0a61\n",
            "Successfully built docopt intervaltree\n",
            "Installing collected packages: razdel, pymorphy2-dicts-ru, docopt, dawg-python, pymorphy2, navec, intervaltree, yargy, slovnet, ipymarkup, natasha\n",
            "Successfully installed dawg-python-0.7.2 docopt-0.6.2 intervaltree-3.1.0 ipymarkup-0.9.0 natasha-1.6.0 navec-0.10.0 pymorphy2-0.9.1 pymorphy2-dicts-ru-2.4.417127.4579844 razdel-0.5.0 slovnet-0.6.0 yargy-0.16.0\n"
          ]
        }
      ],
      "source": [
        "pip install natasha"
      ]
    },
    {
      "cell_type": "code",
      "source": [
        "from razdel import sentenize\n",
        "from razdel import tokenize"
      ],
      "metadata": {
        "id": "6wGOk8srpqPl",
        "outputId": "291f23cc-f4b7-4033-857b-27046d212476",
        "colab": {
          "base_uri": "https://localhost:8080/",
          "height": 332
        }
      },
      "execution_count": null,
      "outputs": [
        {
          "output_type": "error",
          "ename": "ModuleNotFoundError",
          "evalue": "ignored",
          "traceback": [
            "\u001b[0;31m---------------------------------------------------------------------------\u001b[0m",
            "\u001b[0;31mModuleNotFoundError\u001b[0m                       Traceback (most recent call last)",
            "\u001b[0;32m<ipython-input-15-b7dbef78fd43>\u001b[0m in \u001b[0;36m<cell line: 1>\u001b[0;34m()\u001b[0m\n\u001b[0;32m----> 1\u001b[0;31m \u001b[0;32mfrom\u001b[0m \u001b[0mrazdel\u001b[0m \u001b[0;32mimport\u001b[0m \u001b[0msentenize\u001b[0m\u001b[0;34m\u001b[0m\u001b[0;34m\u001b[0m\u001b[0m\n\u001b[0m\u001b[1;32m      2\u001b[0m \u001b[0;32mfrom\u001b[0m \u001b[0mrazdel\u001b[0m \u001b[0;32mimport\u001b[0m \u001b[0mtokenize\u001b[0m\u001b[0;34m\u001b[0m\u001b[0;34m\u001b[0m\u001b[0m\n",
            "\u001b[0;31mModuleNotFoundError\u001b[0m: No module named 'razdel'",
            "",
            "\u001b[0;31m---------------------------------------------------------------------------\u001b[0;32m\nNOTE: If your import is failing due to a missing package, you can\nmanually install dependencies using either !pip or !apt.\n\nTo view examples of installing some common dependencies, click the\n\"Open Examples\" button below.\n\u001b[0;31m---------------------------------------------------------------------------\u001b[0m\n"
          ],
          "errorDetails": {
            "actions": [
              {
                "action": "open_url",
                "actionText": "Open Examples",
                "url": "/notebooks/snippets/importing_libraries.ipynb"
              }
            ]
          }
        }
      ]
    },
    {
      "cell_type": "markdown",
      "source": [
        "Поделим текст на предложения."
      ],
      "metadata": {
        "id": "FN_thA9dpwwy"
      }
    },
    {
      "cell_type": "code",
      "source": [
        "text = \"\"\"Мы пошли в театр им. А. С. Пушкина. Билеты нам достал мой товарищ, сказал, мол,\n",
        "\"идите просветитесь хоть\". Бесит же он меня, но я с ним общаюсь с 1990-х по двум причинам:\n",
        "1. с ним интересно и 2. он всегда находит интересные развлечения. \"Ваня, ты что, не знаешь?\n",
        "Там же дегустация швейцарского сыра! 0,25 кг дают бесплатно!\" И пулей туда :) Эх, хорошо быть таким вольным человеком...\n",
        "\"\"\"\n",
        "sentences = list(sentenize(text))\n",
        "sentences"
      ],
      "metadata": {
        "colab": {
          "base_uri": "https://localhost:8080/"
        },
        "id": "Rd1tmXiHpvrJ",
        "outputId": "0ee25565-c6e8-4cee-b4d4-18b4dab1a3f4"
      },
      "execution_count": null,
      "outputs": [
        {
          "output_type": "execute_result",
          "data": {
            "text/plain": [
              "[Substring(0, 34, 'Мы пошли в театр им. а.с. Пушкина.'),\n",
              " Substring(35,\n",
              "           105,\n",
              "           'Билеты нам достал мой товарищ, сказал, мол,\\n\"идите просветитесь хоть\".'),\n",
              " Substring(106,\n",
              "           235,\n",
              "           'Бесит же он меня, но я с ним общаюсь с 1990-х по двум причинам:\\n1. с ним интересно и 2. он всегда находит интересные развлечения.'),\n",
              " Substring(236, 261, '\"Ваня, ты что, не знаешь?'),\n",
              " Substring(262, 298, 'Там же дегустация швейцарского сыра!'),\n",
              " Substring(299, 323, '0,25 кг дают бесплатно!\"'),\n",
              " Substring(324, 339, 'И пулей туда :)'),\n",
              " Substring(340, 382, 'Эх, хорошо быть таким вольным человеком...')]"
            ]
          },
          "metadata": {},
          "execution_count": 21
        }
      ]
    },
    {
      "cell_type": "markdown",
      "source": [
        "А теперь поделим на слова (токены). Можно это сделать отдельно для каждого предложения, как тут."
      ],
      "metadata": {
        "id": "-FgklR6ir7Ra"
      }
    },
    {
      "cell_type": "code",
      "source": [
        "for sentence in list(sentences):\n",
        "  print(list(tokenize(list(sentence)[2])))"
      ],
      "metadata": {
        "colab": {
          "base_uri": "https://localhost:8080/"
        },
        "id": "-4HxFE4mr93U",
        "outputId": "0a567025-7d35-42a7-f656-25e2df354cdf"
      },
      "execution_count": null,
      "outputs": [
        {
          "output_type": "stream",
          "name": "stdout",
          "text": [
            "[Substring(0, 2, 'Мы'), Substring(3, 8, 'пошли'), Substring(9, 10, 'в'), Substring(11, 16, 'театр'), Substring(17, 19, 'им'), Substring(19, 20, '.'), Substring(21, 22, 'А'), Substring(22, 23, '.'), Substring(24, 25, 'С'), Substring(25, 26, '.'), Substring(27, 34, 'Пушкина'), Substring(34, 35, '.')]\n",
            "[Substring(0, 6, 'Билеты'), Substring(7, 10, 'нам'), Substring(11, 17, 'достал'), Substring(18, 21, 'мой'), Substring(22, 29, 'товарищ'), Substring(29, 30, ','), Substring(31, 37, 'сказал'), Substring(37, 38, ','), Substring(39, 42, 'мол'), Substring(42, 43, ','), Substring(44, 45, '\"'), Substring(45, 50, 'идите'), Substring(51, 63, 'просветитесь'), Substring(64, 68, 'хоть'), Substring(68, 69, '\"'), Substring(69, 70, '.')]\n",
            "[Substring(0, 5, 'Бесит'), Substring(6, 8, 'же'), Substring(9, 11, 'он'), Substring(12, 16, 'меня'), Substring(16, 17, ','), Substring(18, 20, 'но'), Substring(21, 22, 'я'), Substring(23, 24, 'с'), Substring(25, 28, 'ним'), Substring(29, 36, 'общаюсь'), Substring(37, 38, 'с'), Substring(39, 45, '1990-х'), Substring(46, 48, 'по'), Substring(49, 53, 'двум'), Substring(54, 62, 'причинам'), Substring(62, 63, ':'), Substring(64, 65, '1'), Substring(65, 66, '.'), Substring(67, 68, 'с'), Substring(69, 72, 'ним'), Substring(73, 82, 'интересно'), Substring(83, 84, 'и'), Substring(85, 86, '2'), Substring(86, 87, '.'), Substring(88, 90, 'он'), Substring(91, 97, 'всегда'), Substring(98, 105, 'находит'), Substring(106, 116, 'интересные'), Substring(117, 128, 'развлечения'), Substring(128, 129, '.')]\n",
            "[Substring(0, 1, '\"'), Substring(1, 5, 'Ваня'), Substring(5, 6, ','), Substring(7, 9, 'ты'), Substring(10, 13, 'что'), Substring(13, 14, ','), Substring(15, 17, 'не'), Substring(18, 24, 'знаешь'), Substring(24, 25, '?')]\n",
            "[Substring(0, 3, 'Там'), Substring(4, 6, 'же'), Substring(7, 17, 'дегустация'), Substring(18, 30, 'швейцарского'), Substring(31, 35, 'сыра'), Substring(35, 36, '!')]\n",
            "[Substring(0, 4, '0,25'), Substring(5, 7, 'кг'), Substring(8, 12, 'дают'), Substring(13, 22, 'бесплатно'), Substring(22, 23, '!'), Substring(23, 24, '\"')]\n",
            "[Substring(0, 1, 'И'), Substring(2, 7, 'пулей'), Substring(8, 12, 'туда'), Substring(13, 15, ':)')]\n",
            "[Substring(0, 2, 'Эх'), Substring(2, 3, ','), Substring(4, 10, 'хорошо'), Substring(11, 15, 'быть'), Substring(16, 21, 'таким'), Substring(22, 29, 'вольным'), Substring(30, 39, 'человеком'), Substring(39, 42, '...')]\n"
          ]
        }
      ]
    },
    {
      "cell_type": "markdown",
      "source": [
        "А можно для всего текста."
      ],
      "metadata": {
        "id": "02Jne04Lt1r6"
      }
    },
    {
      "cell_type": "code",
      "source": [
        "list(tokenize(text))"
      ],
      "metadata": {
        "id": "52isUPyXt4AB",
        "colab": {
          "base_uri": "https://localhost:8080/"
        },
        "outputId": "215ac64f-8ad7-4b2f-f38f-5767c7e338d9"
      },
      "execution_count": null,
      "outputs": [
        {
          "output_type": "execute_result",
          "data": {
            "text/plain": [
              "[Substring(0, 2, 'Мы'),\n",
              " Substring(3, 8, 'пошли'),\n",
              " Substring(9, 10, 'в'),\n",
              " Substring(11, 16, 'театр'),\n",
              " Substring(17, 19, 'им'),\n",
              " Substring(19, 20, '.'),\n",
              " Substring(21, 22, 'А'),\n",
              " Substring(22, 23, '.'),\n",
              " Substring(24, 25, 'С'),\n",
              " Substring(25, 26, '.'),\n",
              " Substring(27, 34, 'Пушкина'),\n",
              " Substring(34, 35, '.'),\n",
              " Substring(36, 42, 'Билеты'),\n",
              " Substring(43, 46, 'нам'),\n",
              " Substring(47, 53, 'достал'),\n",
              " Substring(54, 57, 'мой'),\n",
              " Substring(58, 65, 'товарищ'),\n",
              " Substring(65, 66, ','),\n",
              " Substring(67, 73, 'сказал'),\n",
              " Substring(73, 74, ','),\n",
              " Substring(75, 78, 'мол'),\n",
              " Substring(78, 79, ','),\n",
              " Substring(80, 81, '\"'),\n",
              " Substring(81, 86, 'идите'),\n",
              " Substring(87, 99, 'просветитесь'),\n",
              " Substring(100, 104, 'хоть'),\n",
              " Substring(104, 105, '\"'),\n",
              " Substring(105, 106, '.'),\n",
              " Substring(107, 112, 'Бесит'),\n",
              " Substring(113, 115, 'же'),\n",
              " Substring(116, 118, 'он'),\n",
              " Substring(119, 123, 'меня'),\n",
              " Substring(123, 124, ','),\n",
              " Substring(125, 127, 'но'),\n",
              " Substring(128, 129, 'я'),\n",
              " Substring(130, 131, 'с'),\n",
              " Substring(132, 135, 'ним'),\n",
              " Substring(136, 143, 'общаюсь'),\n",
              " Substring(144, 145, 'с'),\n",
              " Substring(146, 152, '1990-х'),\n",
              " Substring(153, 155, 'по'),\n",
              " Substring(156, 160, 'двум'),\n",
              " Substring(161, 169, 'причинам'),\n",
              " Substring(169, 170, ':'),\n",
              " Substring(171, 172, '1'),\n",
              " Substring(172, 173, '.'),\n",
              " Substring(174, 175, 'с'),\n",
              " Substring(176, 179, 'ним'),\n",
              " Substring(180, 189, 'интересно'),\n",
              " Substring(190, 191, 'и'),\n",
              " Substring(192, 193, '2'),\n",
              " Substring(193, 194, '.'),\n",
              " Substring(195, 197, 'он'),\n",
              " Substring(198, 204, 'всегда'),\n",
              " Substring(205, 212, 'находит'),\n",
              " Substring(213, 223, 'интересные'),\n",
              " Substring(224, 235, 'развлечения'),\n",
              " Substring(235, 236, '.'),\n",
              " Substring(237, 238, '\"'),\n",
              " Substring(238, 242, 'Ваня'),\n",
              " Substring(242, 243, ','),\n",
              " Substring(244, 246, 'ты'),\n",
              " Substring(247, 250, 'что'),\n",
              " Substring(250, 251, ','),\n",
              " Substring(252, 254, 'не'),\n",
              " Substring(255, 261, 'знаешь'),\n",
              " Substring(261, 262, '?'),\n",
              " Substring(263, 266, 'Там'),\n",
              " Substring(267, 269, 'же'),\n",
              " Substring(270, 280, 'дегустация'),\n",
              " Substring(281, 293, 'швейцарского'),\n",
              " Substring(294, 298, 'сыра'),\n",
              " Substring(298, 299, '!'),\n",
              " Substring(300, 304, '0,25'),\n",
              " Substring(305, 307, 'кг'),\n",
              " Substring(308, 312, 'дают'),\n",
              " Substring(313, 322, 'бесплатно'),\n",
              " Substring(322, 323, '!'),\n",
              " Substring(323, 324, '\"'),\n",
              " Substring(325, 326, 'И'),\n",
              " Substring(327, 332, 'пулей'),\n",
              " Substring(333, 337, 'туда'),\n",
              " Substring(338, 340, ':)'),\n",
              " Substring(341, 343, 'Эх'),\n",
              " Substring(343, 344, ','),\n",
              " Substring(345, 351, 'хорошо'),\n",
              " Substring(352, 356, 'быть'),\n",
              " Substring(357, 362, 'таким'),\n",
              " Substring(363, 370, 'вольным'),\n",
              " Substring(371, 380, 'человеком'),\n",
              " Substring(380, 383, '...')]"
            ]
          },
          "metadata": {},
          "execution_count": 4
        }
      ]
    },
    {
      "cell_type": "markdown",
      "source": [
        "А теперь давайте попробуем сделать то же самое с помощью регулярных выражений... И посмотрим, как далеко мы можем зайти."
      ],
      "metadata": {
        "id": "LmD83a4buH4P"
      }
    },
    {
      "cell_type": "markdown",
      "source": [
        "# Регулярные выражения\n",
        "\n",
        "Помогают находить и/или заменять текст. Также с помощью них можно разбивать текст по определённым символам. В дальнешем они нам могут понадобиться для удаления тегов.\n",
        "\n",
        "Можно потренироваться вот тут: [задачки](https://regexone.com/lesson/introduction_abcs)."
      ],
      "metadata": {
        "id": "I6wzKkPWup0_"
      }
    },
    {
      "cell_type": "code",
      "source": [
        "import re"
      ],
      "metadata": {
        "id": "R8qgDtiZuoV3"
      },
      "execution_count": null,
      "outputs": []
    },
    {
      "cell_type": "markdown",
      "source": [
        "У re несколько основных функций:\n",
        "\n",
        "* `re.findall()` (возвращает все совпадения списком),\n",
        "* `re.match()` (сравнивает паттерн со строкой, начиная с начала),\n",
        "* `re.search()` (ищет во всей строке совпадения с паттерном),\n",
        "* `re.sub()` (заменяет в строке совпадения с паттерном на что-то еще),\n",
        "* `re.split()` (делит строку по совпадению с паттерном).\n"
      ],
      "metadata": {
        "id": "5rBh8j8Fvr1S"
      }
    },
    {
      "cell_type": "code",
      "source": [
        "sentence = 'Но. зачем. писать. столько. точек. Ты!!1 разговариваешь просто,,,, возмутительно:('"
      ],
      "metadata": {
        "id": "d1xY8JkQwKSV"
      },
      "execution_count": null,
      "outputs": []
    },
    {
      "cell_type": "code",
      "source": [
        "print(re.findall('п', sentence)) # находит все 'п' в строке\n",
        "print(re.findall('П', sentence)) # регистр имеет значение"
      ],
      "metadata": {
        "colab": {
          "base_uri": "https://localhost:8080/"
        },
        "id": "DjFxYuKTyKqZ",
        "outputId": "82069e24-57d5-45d7-b401-36b1a2ccc519"
      },
      "execution_count": null,
      "outputs": [
        {
          "output_type": "stream",
          "name": "stdout",
          "text": [
            "['п', 'п']\n",
            "[]\n"
          ]
        }
      ]
    },
    {
      "cell_type": "code",
      "source": [
        "letter = input('Введите любую строчную кириллическую букву: ')\n",
        "print(\"В предложении {} букв '{}'\".format(len(re.findall(letter, sentence)), letter))"
      ],
      "metadata": {
        "colab": {
          "base_uri": "https://localhost:8080/"
        },
        "id": "qaemi1_Hwbu2",
        "outputId": "252668cc-0c5c-4daa-fb5d-630221451dc7"
      },
      "execution_count": null,
      "outputs": [
        {
          "output_type": "stream",
          "name": "stdout",
          "text": [
            "Введите любую строчную кириллическую букву: з\n",
            "В предложении 3 букв 'з'\n"
          ]
        }
      ]
    },
    {
      "cell_type": "code",
      "source": [
        "re.sub('а', 'ы', sentence) # заменяет все 'а' на 'ы'"
      ],
      "metadata": {
        "colab": {
          "base_uri": "https://localhost:8080/",
          "height": 35
        },
        "id": "l8DWIbzWydnn",
        "outputId": "a32b8d2d-00e7-4de9-cc5f-c9f66498c7b6"
      },
      "execution_count": null,
      "outputs": [
        {
          "output_type": "execute_result",
          "data": {
            "text/plain": [
              "'Но. зычем. писыть. столько. точек. Ты!!1 рызговыривыешь просто,,,, возмутительно:('"
            ],
            "application/vnd.google.colaboratory.intrinsic+json": {
              "type": "string"
            }
          },
          "metadata": {},
          "execution_count": 10
        }
      ]
    },
    {
      "cell_type": "markdown",
      "source": [
        "Если мы хотим что-то сделать не только с одним символом, то все необходимые символы можно перечислить с квадратных скобках."
      ],
      "metadata": {
        "id": "9kbwOzHty3w-"
      }
    },
    {
      "cell_type": "code",
      "source": [
        "print(re.findall('[ао]', sentence)) # находит все 'а' и 'о' в строке\n",
        "print(re.sub('[ао]', 'ы', sentence)) # заменяет все 'а' и 'о' на 'ы'\n",
        "print(re.findall('ао', sentence)) # находит все подстроки с подряд идущими символами 'а' и 'о'"
      ],
      "metadata": {
        "colab": {
          "base_uri": "https://localhost:8080/"
        },
        "id": "2cLpjIUEy_z7",
        "outputId": "1053c109-51b0-4d7d-9379-62c17bf64078"
      },
      "execution_count": null,
      "outputs": [
        {
          "output_type": "stream",
          "name": "stdout",
          "text": [
            "['о', 'а', 'а', 'о', 'о', 'о', 'а', 'о', 'а', 'а', 'о', 'о', 'о', 'о']\n",
            "Ны. зычем. писыть. стылькы. тычек. Ты!!1 рызгывыривыешь прысты,,,, вызмутительны:(\n",
            "[]\n"
          ]
        }
      ]
    },
    {
      "cell_type": "markdown",
      "source": [
        "Также можно использовать интервалы, чтобы не перечислять, например, все русские буквы или все цифры.\n",
        "\n",
        "Основные интервалы:\n",
        "\n",
        "* `[а-яА-ЯЁё]` - все русские буквы (заглавные и маленькие),\n",
        "* `[a-zА-Z]` - все английские буквы (заглавные и маленькие),\n",
        "* `[0-9]` все цифры.\n",
        "\n",
        "`[A-я]` (от английского 'A' до русского 'я') лучше никогда не писать. Ошибки не будет, но в интервал попадет много лишнего, т.к. интервалы считываются по таблице и между английскими и русскими буквами есть еще другие символы."
      ],
      "metadata": {
        "id": "5ybxXoUkziMz"
      }
    },
    {
      "cell_type": "code",
      "source": [
        "print(re.sub('[А-я]', 'ы', sentence)) # ищет все буквы кириллического алфавита, кроме 'Ё' и 'ё'\n",
        "print(re.sub('[А-Я]', 'ы', sentence)) # ищет все прописные буквы"
      ],
      "metadata": {
        "colab": {
          "base_uri": "https://localhost:8080/"
        },
        "id": "8BThNzj0z9yu",
        "outputId": "7a3e80ac-03bb-425b-c0a4-8cf61e0ab153"
      },
      "execution_count": null,
      "outputs": [
        {
          "output_type": "stream",
          "name": "stdout",
          "text": [
            "ыы. ыыыыы. ыыыыыы. ыыыыыыы. ыыыыы. ыы!!1 ыыыыыыыыыыыыыы ыыыыыы,,,, ыыыыыыыыыыыыы:(\n",
            "ыо. зачем. писать. столько. точек. ыы!!1 разговариваешь просто,,,, возмутительно:(\n"
          ]
        }
      ]
    },
    {
      "cell_type": "markdown",
      "source": [
        "Символ `^` внутри квадратных скобочек означает отрицание всего, что находится в скобочках."
      ],
      "metadata": {
        "id": "N5f3RaKJ1BJt"
      }
    },
    {
      "cell_type": "code",
      "source": [
        "print(re.sub('[^о]', '', sentence))\n",
        "print(re.sub('[^а-я]', 'ы', sentence))\n",
        "print(re.findall('[^п-я]', sentence))"
      ],
      "metadata": {
        "colab": {
          "base_uri": "https://localhost:8080/"
        },
        "id": "ArSU65QB1Pg2",
        "outputId": "b4aafa48-0845-4127-87c0-756f473d740e"
      },
      "execution_count": null,
      "outputs": [
        {
          "output_type": "stream",
          "name": "stdout",
          "text": [
            "ооооооооо\n",
            "ыоыызачемыыписатьыыстолькоыыточекыыыыыыыыразговариваешьыпростоыыыыывозмутительноыы\n",
            "['Н', 'о', '.', ' ', 'з', 'а', 'е', 'м', '.', ' ', 'и', 'а', '.', ' ', 'о', 'л', 'к', 'о', '.', ' ', 'о', 'е', 'к', '.', ' ', 'Т', '!', '!', '1', ' ', 'а', 'з', 'г', 'о', 'в', 'а', 'и', 'в', 'а', 'е', ' ', 'о', 'о', ',', ',', ',', ',', ' ', 'в', 'о', 'з', 'м', 'и', 'е', 'л', 'н', 'о', ':', '(']\n"
          ]
        }
      ]
    },
    {
      "cell_type": "markdown",
      "source": [
        "Есть абстрактные операторы, которыми можно указывать еще больше вариантов.\n",
        "\n",
        "Основные операторы такие:\n",
        "\n",
        "* `.` - один любой символ, кроме новой строки,\n",
        "* `\\w` - любая буква или цифра,\n",
        "* `\\d` - любая цифра,\n",
        "* `\\s` - пробельный символ.\n",
        "\n",
        "Если после обратного слеша буква прописная, то тогда к тому, что ищется после обратного слеша, добавляется 'не'. Например, `\\W` - не буква и не цифра."
      ],
      "metadata": {
        "id": "OWcROoQy1J-e"
      }
    },
    {
      "cell_type": "code",
      "source": [
        "print(re.sub('\\w', '', sentence)) # останутся только пробелы и знаки препинания\n",
        "print(re.sub('\\W', '', sentence)) # останутся только буквы цифры"
      ],
      "metadata": {
        "colab": {
          "base_uri": "https://localhost:8080/"
        },
        "id": "EfGn8RVQ2_mZ",
        "outputId": "d2b2f13a-e93e-4b5f-e19d-bf2aa6b74d5f"
      },
      "execution_count": null,
      "outputs": [
        {
          "output_type": "stream",
          "name": "stdout",
          "text": [
            ". . . . . !!  ,,,, :(\n",
            "НозачемписатьстолькоточекТы1разговариваешьпростовозмутительно\n"
          ]
        }
      ]
    },
    {
      "cell_type": "code",
      "source": [
        "print(re.findall('\\d', sentence)) # находит все цифры\n",
        "print(re.sub('\\D', '_', sentence)) # всё, кроме цифр, превращается в нижнее подчёркивание"
      ],
      "metadata": {
        "colab": {
          "base_uri": "https://localhost:8080/"
        },
        "id": "KhNgp4eF3NhO",
        "outputId": "caea1884-6a59-4824-967b-53b43f9b771d"
      },
      "execution_count": null,
      "outputs": [
        {
          "output_type": "stream",
          "name": "stdout",
          "text": [
            "['1']\n",
            "_______________________________________1__________________________________________\n"
          ]
        }
      ]
    },
    {
      "cell_type": "code",
      "source": [
        "print(re.split(\"\\s\",  text)) # делит текст по пробелам, очень простой токенайзер\n",
        "print(re.sub(\".\", ')', sentence)) # все символы меняются на закрывающую скобочку"
      ],
      "metadata": {
        "colab": {
          "base_uri": "https://localhost:8080/"
        },
        "id": "nr7a-DeS371v",
        "outputId": "4cf3c3a5-5060-4ad5-aa2b-d4a0b4677651"
      },
      "execution_count": null,
      "outputs": [
        {
          "output_type": "stream",
          "name": "stdout",
          "text": [
            "['Мы', 'пошли', 'в', 'театр', 'им.', 'А.', 'С.', 'Пушкина.', 'Билеты', 'нам', 'достал', 'мой', 'товарищ,', 'сказал,', 'мол,', '\"идите', 'просветитесь', 'хоть\".', 'Бесит', 'же', 'он', 'меня,', 'но', 'я', 'с', 'ним', 'общаюсь', 'с', '1990-х', 'по', 'двум', 'причинам:', '1.', 'с', 'ним', 'интересно', 'и', '2.', 'он', 'всегда', 'находит', 'интересные', 'развлечения.', '\"Ваня,', 'ты', 'что,', 'не', 'знаешь?', 'Там', 'же', 'дегустация', 'швейцарского', 'сыра!', '0,25', 'кг', 'дают', 'бесплатно!\"', 'И', 'пулей', 'туда', ':)', 'Эх,', 'хорошо', 'быть', 'таким', 'вольным', 'человеком...', '', '', '', '']\n",
            "))))))))))))))))))))))))))))))))))))))))))))))))))))))))))))))))))))))))))))))))))\n"
          ]
        }
      ]
    },
    {
      "cell_type": "markdown",
      "source": [
        "Чтобы повторить один и тот же символ, можно поставить после него `+` (1 и больше повторений) или `*` (0 и больше повторений). С помощью `{}` можно уточнить число повторений (или диапазон повторений - например, `{1,3}`, от одного до трёх включительно)."
      ],
      "metadata": {
        "id": "ZXmVGgk64nu_"
      }
    },
    {
      "cell_type": "code",
      "source": [
        "print(re.findall('\\w+', sentence)) # тоже бюджетный токенайзер\n",
        "print(re.findall('\\w*', sentence)) # пустая строка также найдётся, потому что символ любой буквы или цифры необязательный"
      ],
      "metadata": {
        "colab": {
          "base_uri": "https://localhost:8080/"
        },
        "id": "apbGc7T64wEI",
        "outputId": "cd5793ec-d402-41fc-dee2-296c360122f8"
      },
      "execution_count": null,
      "outputs": [
        {
          "output_type": "stream",
          "name": "stdout",
          "text": [
            "['Но', 'зачем', 'писать', 'столько', 'точек', 'Ты', '1', 'разговариваешь', 'просто', 'возмутительно']\n",
            "['Но', '', '', 'зачем', '', '', 'писать', '', '', 'столько', '', '', 'точек', '', '', 'Ты', '', '', '1', '', 'разговариваешь', '', 'просто', '', '', '', '', '', 'возмутительно', '', '', '']\n"
          ]
        }
      ]
    },
    {
      "cell_type": "code",
      "source": [
        "print(re.findall('\\w{2}', sentence)) # находит две цифры или буквы, идущих подряд\n",
        "print(re.findall('\\w{3}', sentence))\n",
        "print(re.findall('\\w{7}', sentence))\n",
        "print(re.findall('\\w{3,5}', sentence))\n",
        "# предпочтительно находит последовательности из пяти букв или цифр\n",
        "# если такая не находится, то из четырёх, и далее - из трёх"
      ],
      "metadata": {
        "colab": {
          "base_uri": "https://localhost:8080/"
        },
        "id": "DCZH0gOI-WNA",
        "outputId": "a389a89d-9f6a-4de9-a6b9-a678fcb28073"
      },
      "execution_count": null,
      "outputs": [
        {
          "output_type": "stream",
          "name": "stdout",
          "text": [
            "['Но', 'за', 'че', 'пи', 'са', 'ть', 'ст', 'ол', 'ьк', 'то', 'че', 'Ты', 'ра', 'зг', 'ов', 'ар', 'ив', 'ае', 'шь', 'пр', 'ос', 'то', 'во', 'зм', 'ут', 'ит', 'ел', 'ьн']\n",
            "['зач', 'пис', 'ать', 'сто', 'льк', 'точ', 'раз', 'гов', 'ари', 'вае', 'про', 'сто', 'воз', 'мут', 'ите', 'льн']\n",
            "['столько', 'разгова', 'риваешь', 'возмути']\n",
            "['зачем', 'писат', 'столь', 'точек', 'разго', 'варив', 'аешь', 'прост', 'возму', 'тител', 'ьно']\n"
          ]
        }
      ]
    },
    {
      "cell_type": "markdown",
      "source": [
        " Если символ необязательный, то можно поставить `?`."
      ],
      "metadata": {
        "id": "KLSmeKMa6CIq"
      }
    },
    {
      "cell_type": "code",
      "source": [
        "print(re.findall('\\w+,', text)) # запятая в конце обязательна\n",
        "print(re.findall('\\w+,?', text)) # а тут нет"
      ],
      "metadata": {
        "colab": {
          "base_uri": "https://localhost:8080/"
        },
        "id": "DF-0c8X46AIM",
        "outputId": "3982b470-2108-4ede-94c8-de15fd6fb69a"
      },
      "execution_count": null,
      "outputs": [
        {
          "output_type": "stream",
          "name": "stdout",
          "text": [
            "['товарищ,', 'сказал,', 'мол,', 'меня,', 'Ваня,', 'что,', '0,', 'Эх,']\n",
            "['Мы', 'пошли', 'в', 'театр', 'им', 'А', 'С', 'Пушкина', 'Билеты', 'нам', 'достал', 'мой', 'товарищ', 'сказал', 'мол', 'идите', 'просветитесь', 'хоть', 'Бесит', 'же', 'он', 'меня', 'но', 'я', 'с', 'ним', 'общаюсь', 'с', '1990', 'х', 'по', 'двум', 'причинам', '1', 'с', 'ним', 'интересно', 'и', '2', 'он', 'всегда', 'находит', 'интересные', 'развлечения', 'Ваня', 'ты', 'что', 'не', 'знаешь', 'Там', 'же', 'дегустация', 'швейцарского', 'сыра', '0', '25', 'кг', 'дают', 'бесплатно', 'И', 'пулей', 'туда', 'Эх', 'хорошо', 'быть', 'таким', 'вольным', 'человеком']\n"
          ]
        }
      ]
    },
    {
      "cell_type": "markdown",
      "source": [
        "Ставя `+` или `*`, мы создаём так называемые 'жадный алгоритм', который находит (или, например, заменяет) максимально возможную строку, которая соответствует паттерну.\n",
        "\n",
        "Если мы хотим, чтобы алгоритм находил минимально возможную стороку, то можно ограничить его с помошью `?`."
      ],
      "metadata": {
        "id": "kdBBloPV6Ply"
      }
    },
    {
      "cell_type": "code",
      "source": [
        "print(re.findall('\\s.+\\s', sentence)) # находит всё от первого до последнего пробела\n",
        "print(re.findall('\\s.+?\\s', sentence)) # находит все подстроки между пробелами"
      ],
      "metadata": {
        "colab": {
          "base_uri": "https://localhost:8080/"
        },
        "id": "F_rHVx-H7D9S",
        "outputId": "211ae9c4-1d21-432f-fc3c-618ad5a45b59"
      },
      "execution_count": null,
      "outputs": [
        {
          "output_type": "stream",
          "name": "stdout",
          "text": [
            "[' зачем. писать. столько. точек. Ты!!1 разговариваешь просто,,,, ']\n",
            "[' зачем. ', ' столько. ', ' Ты!!1 ', ' просто,,,, ']\n"
          ]
        }
      ]
    },
    {
      "cell_type": "code",
      "source": [
        "print(re.sub('\\s.+\\s', ' ой ', sentence))\n",
        "print(re.sub('\\s.+?\\s', ' ой ', sentence))"
      ],
      "metadata": {
        "colab": {
          "base_uri": "https://localhost:8080/"
        },
        "id": "iyyNe_kY7m7i",
        "outputId": "bb6c9f81-fb26-46c6-f880-0993bc0d0cfc"
      },
      "execution_count": null,
      "outputs": [
        {
          "output_type": "stream",
          "name": "stdout",
          "text": [
            "Но. ой возмутительно:(\n",
            "Но. ой писать. ой точек. ой разговариваешь ой возмутительно:(\n"
          ]
        }
      ]
    },
    {
      "cell_type": "markdown",
      "source": [
        "Давайте попробуем вытащить из следующего текста все даты формата ДД.ММ.ГГГГ и все телефонные номера."
      ],
      "metadata": {
        "id": "Dhy1Jj2M_97b"
      }
    },
    {
      "cell_type": "code",
      "source": [
        "sentence_2 = '12.08.1245 +79264458185 +792644581858 12.09.2003 12.12.2199 +7333658987225 +79859653858'\n",
        "print(re.findall('\\+79\\d{9}[^\\d]|\\+79\\d{9}$', sentence_2))\n",
        "print(re.findall('\\d{2}\\.\\d{2}\\.\\d{4}', sentence_2))"
      ],
      "metadata": {
        "colab": {
          "base_uri": "https://localhost:8080/"
        },
        "id": "_c2P3r9mAWRm",
        "outputId": "50f5a296-e145-4464-9c28-46ee1d663bfd"
      },
      "execution_count": null,
      "outputs": [
        {
          "output_type": "stream",
          "name": "stdout",
          "text": [
            "['+79264458185 ', '+79859653858']\n",
            "['12.08.1245', '12.08.1245', '12.09.2003', '12.12.2199']\n"
          ]
        }
      ]
    },
    {
      "cell_type": "markdown",
      "source": [
        "Если мы не хотим, чтобы, например, `+` или `.`  считывались в паттерне как специальные символы, то нужно поставить перед ними обратный слеш. Без него они всегда буду читаться как специальные.\n",
        "\n",
        "Знак `|` означает 'или'. Находится всё, что соответствует либо одному, либо другому варианту.\n",
        "\n",
        "Есди мы хотим задать альтернативы в определённом месте паттерна, то их надо заключить в круглые скобки с `?:` в начале."
      ],
      "metadata": {
        "id": "-IPkimtCDDk4"
      }
    },
    {
      "cell_type": "code",
      "source": [
        "print(re.findall('(?:\\s|^).+?(?:\\s|$)', sentence)) # находит все подстроки между пробелами, либо те, которые находятся в начале и конце строки"
      ],
      "metadata": {
        "colab": {
          "base_uri": "https://localhost:8080/"
        },
        "id": "qLvIQbAFH1YO",
        "outputId": "ea878147-4c53-4cf4-f3ad-190c0d8dcc00"
      },
      "execution_count": null,
      "outputs": [
        {
          "output_type": "stream",
          "name": "stdout",
          "text": [
            "['Но. ', ' писать. ', ' точек. ', ' разговариваешь ', ' возмутительно:(']\n"
          ]
        }
      ]
    },
    {
      "cell_type": "markdown",
      "source": [
        "А как это сделать для телефонных номеров?"
      ],
      "metadata": {
        "id": "GAXYVv85IxyC"
      }
    },
    {
      "cell_type": "code",
      "source": [
        "print(re.findall('\\+79\\d{9}(?:[^\\d]|$)', sentence_2))"
      ],
      "metadata": {
        "colab": {
          "base_uri": "https://localhost:8080/"
        },
        "id": "EDmL7jW5I08i",
        "outputId": "cc1144ca-8a83-473d-ba6c-4c2afb407994"
      },
      "execution_count": null,
      "outputs": [
        {
          "output_type": "stream",
          "name": "stdout",
          "text": [
            "['+79264458185 ', '+79859653858']\n"
          ]
        }
      ]
    },
    {
      "cell_type": "markdown",
      "source": [
        "Если мы хотим выбрать только часть паттерна, то то, что нам нужно, необходимо заключить в круглые скобки."
      ],
      "metadata": {
        "id": "gIYrljQaIKlW"
      }
    },
    {
      "cell_type": "code",
      "source": [
        "print(re.findall('\\s(.+?)\\s', sentence)) # паттерн ищет подстроку с пробелами, но выбирается только то, что между пробелов\n",
        "print(re.search('\\s(.+?)\\s', sentence)) # достаёт первое, что попало в скобки\n",
        "found_str = re.search('\\s(.+?)\\s', sentence)\n",
        "found_str.group(1)"
      ],
      "metadata": {
        "colab": {
          "base_uri": "https://localhost:8080/",
          "height": 70
        },
        "id": "lEZWoDa3DY6x",
        "outputId": "f4334ffc-ec41-4ad8-ec83-9493802ab1b2"
      },
      "execution_count": null,
      "outputs": [
        {
          "output_type": "stream",
          "name": "stdout",
          "text": [
            "['зачем.', 'столько.', 'Ты!!1', 'просто,,,,']\n",
            "<re.Match object; span=(3, 11), match=' зачем. '>\n"
          ]
        },
        {
          "output_type": "execute_result",
          "data": {
            "text/plain": [
              "'зачем.'"
            ],
            "application/vnd.google.colaboratory.intrinsic+json": {
              "type": "string"
            }
          },
          "metadata": {},
          "execution_count": 110
        }
      ]
    },
    {
      "cell_type": "code",
      "source": [
        "print(re.findall('\\d{2}\\.\\d{2}\\.(\\d{4})', sentence_2)) # находит все даты и выдаёт года"
      ],
      "metadata": {
        "colab": {
          "base_uri": "https://localhost:8080/"
        },
        "id": "i2s3v_TPHIJV",
        "outputId": "a98add58-f371-4291-8542-4ed65eb0bd38"
      },
      "execution_count": null,
      "outputs": [
        {
          "output_type": "stream",
          "name": "stdout",
          "text": [
            "['1245', '2003', '2199']\n"
          ]
        }
      ]
    },
    {
      "cell_type": "markdown",
      "source": [
        "Попробуем поделить текст на предложения с помощью регулярных выражений. Как это будет?"
      ],
      "metadata": {
        "id": "EeMZPj21J0ow"
      }
    },
    {
      "cell_type": "code",
      "source": [
        "text_2 = \"\"\"Какой чудесный день! Просто умопомрачительный. Хоть бы вся жизнь была такой... Хочется\n",
        "кабачков, апельсинов, немного любви и тепла. Хм, где бы это найти? Не знаю, не знаю...\"\"\"\n",
        "# здесь ваш код\n",
        "re.split('[.?!]\\s+', text_2)"
      ],
      "metadata": {
        "colab": {
          "base_uri": "https://localhost:8080/"
        },
        "id": "rGP0AyOmJ6aw",
        "outputId": "cc246fe9-6169-4b3b-f6eb-0a39932336d0"
      },
      "execution_count": null,
      "outputs": [
        {
          "output_type": "execute_result",
          "data": {
            "text/plain": [
              "['Какой чудесный день',\n",
              " 'Просто умопомрачительный',\n",
              " 'Хоть бы вся жизнь была такой..',\n",
              " 'Хочется\\nкабачков, апельсинов, немного любви и тепла',\n",
              " 'Хм, где бы это найти',\n",
              " 'Не знаю, не знаю...']"
            ]
          },
          "metadata": {},
          "execution_count": 18
        }
      ]
    },
    {
      "cell_type": "markdown",
      "source": [
        "А сработает ли это с текстом из самого начала тетрадки?"
      ],
      "metadata": {
        "id": "LogadVTyK7Mk"
      }
    },
    {
      "cell_type": "code",
      "source": [
        "re.split('[.?!]\\s+', text)"
      ],
      "metadata": {
        "colab": {
          "base_uri": "https://localhost:8080/"
        },
        "id": "QgapdLh-K679",
        "outputId": "673cde0a-d83d-4034-f819-def042e4fd5e"
      },
      "execution_count": null,
      "outputs": [
        {
          "output_type": "execute_result",
          "data": {
            "text/plain": [
              "['Мы пошли в театр им',\n",
              " 'А',\n",
              " 'С',\n",
              " 'Пушкина',\n",
              " 'Билеты нам достал мой товарищ, сказал, мол,\\n\"идите просветитесь хоть\"',\n",
              " 'Бесит же он меня, но я с ним общаюсь с 1990-х по двум причинам:\\n1',\n",
              " 'с ним интересно и 2',\n",
              " 'он всегда находит интересные развлечения',\n",
              " '\"Ваня, ты что, не знаешь',\n",
              " 'Там же дегустация швейцарского сыра',\n",
              " '0,25 кг дают бесплатно!\" И пулей туда :) Эх, хорошо быть таким вольным человеком..',\n",
              " '']"
            ]
          },
          "metadata": {},
          "execution_count": 19
        }
      ]
    },
    {
      "cell_type": "markdown",
      "source": [
        "Теперь попробуем поделить на слова с помощью регулярок..."
      ],
      "metadata": {
        "id": "4a8G6Xm6LIML"
      }
    },
    {
      "cell_type": "code",
      "source": [
        "re.findall('(?:[А-яЁё]+|[0-9]+)[^А-яЁё0-9]', text_2)"
      ],
      "metadata": {
        "id": "25y53E64LNHW",
        "colab": {
          "base_uri": "https://localhost:8080/"
        },
        "outputId": "4c93852c-e8e1-4d0c-b5c5-8ebffea5a59b"
      },
      "execution_count": null,
      "outputs": [
        {
          "output_type": "execute_result",
          "data": {
            "text/plain": [
              "['Какой ',\n",
              " 'чудесный ',\n",
              " 'день!',\n",
              " 'Просто ',\n",
              " 'умопомрачительный.',\n",
              " 'Хоть ',\n",
              " 'бы ',\n",
              " 'вся ',\n",
              " 'жизнь ',\n",
              " 'была ',\n",
              " 'такой.',\n",
              " 'Хочется\\n',\n",
              " 'кабачков,',\n",
              " 'апельсинов,',\n",
              " 'немного ',\n",
              " 'любви ',\n",
              " 'и ',\n",
              " 'тепла.',\n",
              " 'Хм,',\n",
              " 'где ',\n",
              " 'бы ',\n",
              " 'это ',\n",
              " 'найти?',\n",
              " 'Не ',\n",
              " 'знаю,',\n",
              " 'не ',\n",
              " 'знаю.']"
            ]
          },
          "metadata": {},
          "execution_count": 22
        }
      ]
    },
    {
      "cell_type": "code",
      "source": [
        "re.findall('(?:[А-яЁё]+|[0-9]+)[^А-яЁё0-9]', text)"
      ],
      "metadata": {
        "id": "_OoVECc9MiBu",
        "colab": {
          "base_uri": "https://localhost:8080/"
        },
        "outputId": "6c8549fb-c07e-42d6-bdb3-3ca03d12c4a5"
      },
      "execution_count": null,
      "outputs": [
        {
          "output_type": "execute_result",
          "data": {
            "text/plain": [
              "['Мы ',\n",
              " 'пошли ',\n",
              " 'в ',\n",
              " 'театр ',\n",
              " 'им.',\n",
              " 'а.',\n",
              " 'с.',\n",
              " 'Пушкина.',\n",
              " 'Билеты ',\n",
              " 'нам ',\n",
              " 'достал ',\n",
              " 'мой ',\n",
              " 'товарищ,',\n",
              " 'сказал,',\n",
              " 'мол,',\n",
              " 'идите ',\n",
              " 'просветитесь ',\n",
              " 'хоть\"',\n",
              " 'Бесит ',\n",
              " 'же ',\n",
              " 'он ',\n",
              " 'меня,',\n",
              " 'но ',\n",
              " 'я ',\n",
              " 'с ',\n",
              " 'ним ',\n",
              " 'общаюсь ',\n",
              " 'с ',\n",
              " '1990-',\n",
              " 'х ',\n",
              " 'по ',\n",
              " 'двум ',\n",
              " 'причинам:',\n",
              " '1.',\n",
              " 'с ',\n",
              " 'ним ',\n",
              " 'интересно ',\n",
              " 'и ',\n",
              " '2.',\n",
              " 'он ',\n",
              " 'всегда ',\n",
              " 'находит ',\n",
              " 'интересные ',\n",
              " 'развлечения.',\n",
              " 'Ваня,',\n",
              " 'ты ',\n",
              " 'что,',\n",
              " 'не ',\n",
              " 'знаешь?',\n",
              " 'Там ',\n",
              " 'же ',\n",
              " 'дегустация ',\n",
              " 'швейцарского ',\n",
              " 'сыра!',\n",
              " '0,',\n",
              " '25 ',\n",
              " 'кг ',\n",
              " 'дают ',\n",
              " 'бесплатно!',\n",
              " 'И ',\n",
              " 'пулей ',\n",
              " 'туда ',\n",
              " 'Эх,',\n",
              " 'хорошо ',\n",
              " 'быть ',\n",
              " 'таким ',\n",
              " 'вольным ',\n",
              " 'человеком.']"
            ]
          },
          "metadata": {},
          "execution_count": 23
        }
      ]
    },
    {
      "cell_type": "markdown",
      "source": [
        "Поэтому будем пользоваться Razdel'ом!\n",
        "Давайте теперь уберём знаки препинания.\n",
        "\n",
        "Вначале имеет смысл поделить текст на предложения. А затем уже убирать знаки препинания. Как это сделать с помощью регулярных выражений?"
      ],
      "metadata": {
        "id": "LKxFP0eOM8BM"
      }
    },
    {
      "cell_type": "code",
      "source": [
        "text = \"\"\"Мы пошли в театр им. А. С. Пушкина. Билеты нам достал мой товарищ, сказал, мол,\n",
        "\"идите просветитесь хоть\". Бесит же он меня, но я с ним общаюсь с 1990-х по двум причинам:\n",
        "1. с ним интересно и 2. он всегда находит интересные развлечения. \"Ваня, ты что, не знаешь?\n",
        "Там же дегустация швейцарского сыра! 0,25 кг дают бесплатно!\" И пулей туда :) Эх, хорошо быть таким вольным человеком...\n",
        "\"\"\"\n",
        "words_by_sentences = [] # создаём пустой список, куда потом будем прикреплять списки слов\n",
        "sentences = list(sentenize(text)) # создаём список предложений\n",
        "for sentence in sentences: # для каждого предложения делаем следующее\n",
        "  sentence_wo_punct = re.sub('[^\\w\\s]', '', list(sentence)[2]) # заменяем регулярками все знаки препинания на пустоту\n",
        "  words_by_sentences.append(list(tokenize(sentence_wo_punct))) # делим по словам и добавляем получившийся список слов в список\n",
        "words_by_sentences"
      ],
      "metadata": {
        "id": "E2FE_H2rPD0T",
        "colab": {
          "base_uri": "https://localhost:8080/"
        },
        "outputId": "133db0b5-8fca-465d-ff38-4c9d890c25b3"
      },
      "execution_count": null,
      "outputs": [
        {
          "output_type": "execute_result",
          "data": {
            "text/plain": [
              "[[Substring(0, 2, 'Мы'),\n",
              "  Substring(3, 8, 'пошли'),\n",
              "  Substring(9, 10, 'в'),\n",
              "  Substring(11, 16, 'театр'),\n",
              "  Substring(17, 19, 'им'),\n",
              "  Substring(20, 21, 'А'),\n",
              "  Substring(22, 23, 'С'),\n",
              "  Substring(24, 31, 'Пушкина')],\n",
              " [Substring(0, 6, 'Билеты'),\n",
              "  Substring(7, 10, 'нам'),\n",
              "  Substring(11, 17, 'достал'),\n",
              "  Substring(18, 21, 'мой'),\n",
              "  Substring(22, 29, 'товарищ'),\n",
              "  Substring(30, 36, 'сказал'),\n",
              "  Substring(37, 40, 'мол'),\n",
              "  Substring(41, 46, 'идите'),\n",
              "  Substring(47, 59, 'просветитесь'),\n",
              "  Substring(60, 64, 'хоть')],\n",
              " [Substring(0, 5, 'Бесит'),\n",
              "  Substring(6, 8, 'же'),\n",
              "  Substring(9, 11, 'он'),\n",
              "  Substring(12, 16, 'меня'),\n",
              "  Substring(17, 19, 'но'),\n",
              "  Substring(20, 21, 'я'),\n",
              "  Substring(22, 23, 'с'),\n",
              "  Substring(24, 27, 'ним'),\n",
              "  Substring(28, 35, 'общаюсь'),\n",
              "  Substring(36, 37, 'с'),\n",
              "  Substring(38, 42, '1990'),\n",
              "  Substring(42, 43, 'х'),\n",
              "  Substring(44, 46, 'по'),\n",
              "  Substring(47, 51, 'двум'),\n",
              "  Substring(52, 60, 'причинам'),\n",
              "  Substring(61, 62, '1'),\n",
              "  Substring(63, 64, 'с'),\n",
              "  Substring(65, 68, 'ним'),\n",
              "  Substring(69, 78, 'интересно'),\n",
              "  Substring(79, 80, 'и'),\n",
              "  Substring(81, 82, '2'),\n",
              "  Substring(83, 85, 'он'),\n",
              "  Substring(86, 92, 'всегда'),\n",
              "  Substring(93, 100, 'находит'),\n",
              "  Substring(101, 111, 'интересные'),\n",
              "  Substring(112, 123, 'развлечения')],\n",
              " [Substring(0, 4, 'Ваня'),\n",
              "  Substring(5, 7, 'ты'),\n",
              "  Substring(8, 11, 'что'),\n",
              "  Substring(12, 14, 'не'),\n",
              "  Substring(15, 21, 'знаешь')],\n",
              " [Substring(0, 3, 'Там'),\n",
              "  Substring(4, 6, 'же'),\n",
              "  Substring(7, 17, 'дегустация'),\n",
              "  Substring(18, 30, 'швейцарского'),\n",
              "  Substring(31, 35, 'сыра')],\n",
              " [Substring(0, 3, '025'),\n",
              "  Substring(4, 6, 'кг'),\n",
              "  Substring(7, 11, 'дают'),\n",
              "  Substring(12, 21, 'бесплатно')],\n",
              " [Substring(0, 1, 'И'), Substring(2, 7, 'пулей'), Substring(8, 12, 'туда')],\n",
              " [Substring(0, 2, 'Эх'),\n",
              "  Substring(3, 9, 'хорошо'),\n",
              "  Substring(10, 14, 'быть'),\n",
              "  Substring(15, 20, 'таким'),\n",
              "  Substring(21, 28, 'вольным'),\n",
              "  Substring(29, 38, 'человеком')]]"
            ]
          },
          "metadata": {},
          "execution_count": 24
        }
      ]
    },
    {
      "cell_type": "markdown",
      "source": [
        "Случайно убрали нужные знаки препинания... Попробуем тогда вначале поделить на слова, а затем уже уберём ненужное."
      ],
      "metadata": {
        "id": "zEgrNabQaI8w"
      }
    },
    {
      "cell_type": "code",
      "source": [
        "import string\n",
        "punct = list(string.punctuation) # создаём список всех знаков препинания\n",
        "list(tokenize(text))"
      ],
      "metadata": {
        "id": "Jy74HJqSP2Ll",
        "colab": {
          "base_uri": "https://localhost:8080/"
        },
        "outputId": "fce11b5a-8224-4ea9-a8fb-60a8a9377612"
      },
      "execution_count": null,
      "outputs": [
        {
          "output_type": "execute_result",
          "data": {
            "text/plain": [
              "[Substring(0, 2, 'Мы'),\n",
              " Substring(3, 8, 'пошли'),\n",
              " Substring(9, 10, 'в'),\n",
              " Substring(11, 16, 'театр'),\n",
              " Substring(17, 19, 'им'),\n",
              " Substring(19, 20, '.'),\n",
              " Substring(21, 22, 'А'),\n",
              " Substring(22, 23, '.'),\n",
              " Substring(24, 25, 'С'),\n",
              " Substring(25, 26, '.'),\n",
              " Substring(27, 34, 'Пушкина'),\n",
              " Substring(34, 35, '.'),\n",
              " Substring(36, 42, 'Билеты'),\n",
              " Substring(43, 46, 'нам'),\n",
              " Substring(47, 53, 'достал'),\n",
              " Substring(54, 57, 'мой'),\n",
              " Substring(58, 65, 'товарищ'),\n",
              " Substring(65, 66, ','),\n",
              " Substring(67, 73, 'сказал'),\n",
              " Substring(73, 74, ','),\n",
              " Substring(75, 78, 'мол'),\n",
              " Substring(78, 79, ','),\n",
              " Substring(80, 81, '\"'),\n",
              " Substring(81, 86, 'идите'),\n",
              " Substring(87, 99, 'просветитесь'),\n",
              " Substring(100, 104, 'хоть'),\n",
              " Substring(104, 105, '\"'),\n",
              " Substring(105, 106, '.'),\n",
              " Substring(107, 112, 'Бесит'),\n",
              " Substring(113, 115, 'же'),\n",
              " Substring(116, 118, 'он'),\n",
              " Substring(119, 123, 'меня'),\n",
              " Substring(123, 124, ','),\n",
              " Substring(125, 127, 'но'),\n",
              " Substring(128, 129, 'я'),\n",
              " Substring(130, 131, 'с'),\n",
              " Substring(132, 135, 'ним'),\n",
              " Substring(136, 143, 'общаюсь'),\n",
              " Substring(144, 145, 'с'),\n",
              " Substring(146, 152, '1990-х'),\n",
              " Substring(153, 155, 'по'),\n",
              " Substring(156, 160, 'двум'),\n",
              " Substring(161, 169, 'причинам'),\n",
              " Substring(169, 170, ':'),\n",
              " Substring(171, 172, '1'),\n",
              " Substring(172, 173, '.'),\n",
              " Substring(174, 175, 'с'),\n",
              " Substring(176, 179, 'ним'),\n",
              " Substring(180, 189, 'интересно'),\n",
              " Substring(190, 191, 'и'),\n",
              " Substring(192, 193, '2'),\n",
              " Substring(193, 194, '.'),\n",
              " Substring(195, 197, 'он'),\n",
              " Substring(198, 204, 'всегда'),\n",
              " Substring(205, 212, 'находит'),\n",
              " Substring(213, 223, 'интересные'),\n",
              " Substring(224, 235, 'развлечения'),\n",
              " Substring(235, 236, '.'),\n",
              " Substring(237, 238, '\"'),\n",
              " Substring(238, 242, 'Ваня'),\n",
              " Substring(242, 243, ','),\n",
              " Substring(244, 246, 'ты'),\n",
              " Substring(247, 250, 'что'),\n",
              " Substring(250, 251, ','),\n",
              " Substring(252, 254, 'не'),\n",
              " Substring(255, 261, 'знаешь'),\n",
              " Substring(261, 262, '?'),\n",
              " Substring(263, 266, 'Там'),\n",
              " Substring(267, 269, 'же'),\n",
              " Substring(270, 280, 'дегустация'),\n",
              " Substring(281, 293, 'швейцарского'),\n",
              " Substring(294, 298, 'сыра'),\n",
              " Substring(298, 299, '!'),\n",
              " Substring(300, 304, '0,25'),\n",
              " Substring(305, 307, 'кг'),\n",
              " Substring(308, 312, 'дают'),\n",
              " Substring(313, 322, 'бесплатно'),\n",
              " Substring(322, 323, '!'),\n",
              " Substring(323, 324, '\"'),\n",
              " Substring(325, 326, 'И'),\n",
              " Substring(327, 332, 'пулей'),\n",
              " Substring(333, 337, 'туда'),\n",
              " Substring(338, 340, ':)'),\n",
              " Substring(341, 343, 'Эх'),\n",
              " Substring(343, 344, ','),\n",
              " Substring(345, 351, 'хорошо'),\n",
              " Substring(352, 356, 'быть'),\n",
              " Substring(357, 362, 'таким'),\n",
              " Substring(363, 370, 'вольным'),\n",
              " Substring(371, 380, 'человеком'),\n",
              " Substring(380, 383, '...')]"
            ]
          },
          "metadata": {},
          "execution_count": 30
        }
      ]
    },
    {
      "cell_type": "code",
      "source": [
        "words_by_sentences = []\n",
        "sentences = list(sentenize(text))\n",
        "for sentence in sentences:\n",
        "  new_sentence = list(tokenize(list(sentence)[2]))\n",
        "  sentence_wo_punct = []\n",
        "  for word in new_sentence:\n",
        "    if list(word)[2] not in punct:\n",
        "      sentence_wo_punct.append(list(word)[2])\n",
        "  words_by_sentences.append(sentence_wo_punct)\n",
        "words_by_sentences"
      ],
      "metadata": {
        "id": "ic8eJ8zOaPbN",
        "colab": {
          "base_uri": "https://localhost:8080/"
        },
        "outputId": "17c31cd6-f53a-455c-bd61-7621622ccc6c"
      },
      "execution_count": null,
      "outputs": [
        {
          "output_type": "execute_result",
          "data": {
            "text/plain": [
              "[['Мы', 'пошли', 'в', 'театр', 'им', 'А', 'С', 'Пушкина'],\n",
              " ['Билеты',\n",
              "  'нам',\n",
              "  'достал',\n",
              "  'мой',\n",
              "  'товарищ',\n",
              "  'сказал',\n",
              "  'мол',\n",
              "  'идите',\n",
              "  'просветитесь',\n",
              "  'хоть'],\n",
              " ['Бесит',\n",
              "  'же',\n",
              "  'он',\n",
              "  'меня',\n",
              "  'но',\n",
              "  'я',\n",
              "  'с',\n",
              "  'ним',\n",
              "  'общаюсь',\n",
              "  'с',\n",
              "  '1990-х',\n",
              "  'по',\n",
              "  'двум',\n",
              "  'причинам',\n",
              "  '1',\n",
              "  'с',\n",
              "  'ним',\n",
              "  'интересно',\n",
              "  'и',\n",
              "  '2',\n",
              "  'он',\n",
              "  'всегда',\n",
              "  'находит',\n",
              "  'интересные',\n",
              "  'развлечения'],\n",
              " ['Ваня', 'ты', 'что', 'не', 'знаешь'],\n",
              " ['Там', 'же', 'дегустация', 'швейцарского', 'сыра'],\n",
              " ['0,25', 'кг', 'дают', 'бесплатно'],\n",
              " ['И', 'пулей', 'туда', ':)'],\n",
              " ['Эх', 'хорошо', 'быть', 'таким', 'вольным', 'человеком', '...']]"
            ]
          },
          "metadata": {},
          "execution_count": 26
        }
      ]
    },
    {
      "cell_type": "markdown",
      "source": [
        "# Домашка\n",
        "\n",
        "Можете делать домашку, где хотите. Её можно прислать через эту [форму](https://forms.gle/tD7x6WUuesk6jSru9) в формате .py или .ipynb (либо ссылкой на тетрадку).\n",
        "\n",
        "### 1. Удаление тэгов\n",
        "Часто в данных, с которыми нам нужно работать, помимо текста присутствует ещё какая-то лишняя информация: тэги, ссылки, код, разметка. Она, конечно, не всегда лишняя, но обычно от неё лучше избавиться.\n",
        "\n",
        "Возьмем в качестве примера статью \"Ножа\". Она скачана автоматически и там остались некоторые тэги."
      ],
      "metadata": {
        "id": "m9XQEXgFgEeI"
      }
    },
    {
      "cell_type": "code",
      "source": [
        "pip install natasha"
      ],
      "metadata": {
        "id": "vg_1edLF6B4m",
        "outputId": "e5ea54d9-c00b-4527-8d9a-13a6e7553207",
        "colab": {
          "base_uri": "https://localhost:8080/"
        }
      },
      "execution_count": null,
      "outputs": [
        {
          "output_type": "stream",
          "name": "stdout",
          "text": [
            "Collecting natasha\n",
            "  Downloading natasha-1.6.0-py3-none-any.whl (34.4 MB)\n",
            "\u001b[2K     \u001b[90m━━━━━━━━━━━━━━━━━━━━━━━━━━━━━━━━━━━━━━━━\u001b[0m \u001b[32m34.4/34.4 MB\u001b[0m \u001b[31m53.1 MB/s\u001b[0m eta \u001b[36m0:00:00\u001b[0m\n",
            "\u001b[?25hCollecting pymorphy2 (from natasha)\n",
            "  Downloading pymorphy2-0.9.1-py3-none-any.whl (55 kB)\n",
            "\u001b[2K     \u001b[90m━━━━━━━━━━━━━━━━━━━━━━━━━━━━━━━━━━━━━━━━\u001b[0m \u001b[32m55.5/55.5 kB\u001b[0m \u001b[31m6.3 MB/s\u001b[0m eta \u001b[36m0:00:00\u001b[0m\n",
            "\u001b[?25hCollecting razdel>=0.5.0 (from natasha)\n",
            "  Downloading razdel-0.5.0-py3-none-any.whl (21 kB)\n",
            "Collecting navec>=0.9.0 (from natasha)\n",
            "  Downloading navec-0.10.0-py3-none-any.whl (23 kB)\n",
            "Collecting slovnet>=0.6.0 (from natasha)\n",
            "  Downloading slovnet-0.6.0-py3-none-any.whl (46 kB)\n",
            "\u001b[2K     \u001b[90m━━━━━━━━━━━━━━━━━━━━━━━━━━━━━━━━━━━━━━━━\u001b[0m \u001b[32m46.7/46.7 kB\u001b[0m \u001b[31m5.3 MB/s\u001b[0m eta \u001b[36m0:00:00\u001b[0m\n",
            "\u001b[?25hCollecting yargy>=0.16.0 (from natasha)\n",
            "  Downloading yargy-0.16.0-py3-none-any.whl (33 kB)\n",
            "Collecting ipymarkup>=0.8.0 (from natasha)\n",
            "  Downloading ipymarkup-0.9.0-py3-none-any.whl (14 kB)\n",
            "Collecting intervaltree>=3 (from ipymarkup>=0.8.0->natasha)\n",
            "  Downloading intervaltree-3.1.0.tar.gz (32 kB)\n",
            "  Preparing metadata (setup.py) ... \u001b[?25l\u001b[?25hdone\n",
            "Requirement already satisfied: numpy in /usr/local/lib/python3.10/dist-packages (from navec>=0.9.0->natasha) (1.23.5)\n",
            "Collecting dawg-python>=0.7.1 (from pymorphy2->natasha)\n",
            "  Downloading DAWG_Python-0.7.2-py2.py3-none-any.whl (11 kB)\n",
            "Collecting pymorphy2-dicts-ru<3.0,>=2.4 (from pymorphy2->natasha)\n",
            "  Downloading pymorphy2_dicts_ru-2.4.417127.4579844-py2.py3-none-any.whl (8.2 MB)\n",
            "\u001b[2K     \u001b[90m━━━━━━━━━━━━━━━━━━━━━━━━━━━━━━━━━━━━━━━━\u001b[0m \u001b[32m8.2/8.2 MB\u001b[0m \u001b[31m113.0 MB/s\u001b[0m eta \u001b[36m0:00:00\u001b[0m\n",
            "\u001b[?25hCollecting docopt>=0.6 (from pymorphy2->natasha)\n",
            "  Downloading docopt-0.6.2.tar.gz (25 kB)\n",
            "  Preparing metadata (setup.py) ... \u001b[?25l\u001b[?25hdone\n",
            "Requirement already satisfied: sortedcontainers<3.0,>=2.0 in /usr/local/lib/python3.10/dist-packages (from intervaltree>=3->ipymarkup>=0.8.0->natasha) (2.4.0)\n",
            "Building wheels for collected packages: docopt, intervaltree\n",
            "  Building wheel for docopt (setup.py) ... \u001b[?25l\u001b[?25hdone\n",
            "  Created wheel for docopt: filename=docopt-0.6.2-py2.py3-none-any.whl size=13705 sha256=338bb3856d5fb8c62461857398961305d3ce7a9292ed352b28f4d437b1310551\n",
            "  Stored in directory: /root/.cache/pip/wheels/fc/ab/d4/5da2067ac95b36618c629a5f93f809425700506f72c9732fac\n",
            "  Building wheel for intervaltree (setup.py) ... \u001b[?25l\u001b[?25hdone\n",
            "  Created wheel for intervaltree: filename=intervaltree-3.1.0-py2.py3-none-any.whl size=26094 sha256=23b5715396920494392f254ce688590dedce518c6b5a2d6bb72e99efd0712099\n",
            "  Stored in directory: /root/.cache/pip/wheels/fa/80/8c/43488a924a046b733b64de3fac99252674c892a4c3801c0a61\n",
            "Successfully built docopt intervaltree\n",
            "Installing collected packages: razdel, pymorphy2-dicts-ru, docopt, dawg-python, pymorphy2, navec, intervaltree, yargy, slovnet, ipymarkup, natasha\n",
            "Successfully installed dawg-python-0.7.2 docopt-0.6.2 intervaltree-3.1.0 ipymarkup-0.9.0 natasha-1.6.0 navec-0.10.0 pymorphy2-0.9.1 pymorphy2-dicts-ru-2.4.417127.4579844 razdel-0.5.0 slovnet-0.6.0 yargy-0.16.0\n"
          ]
        }
      ]
    },
    {
      "cell_type": "code",
      "source": [
        "import re\n",
        "import string\n",
        "from razdel import sentenize\n",
        "from razdel import tokenize\n",
        "\n",
        "article_drakula = \"\"\"Ученые из Италии и Румынии <a href=\"https://www.thetimes.co.uk/article/it-sounds-batty-but-was-dracula-really-a-bleeding-vegetarian-zj6f536md\" rel=\"noopener\" target=\"_blank\">заявили</a>, что Влад III Басараб, он же Влад Цепеш и прототип графа Дракулы, мог придерживаться растительной диеты. К такому выводу исследователи пришли, когда изучили его биохимические следы.</p>\n",
        "<figure class=\"figure figure--inner\"><img decoding=\"async\" fetchpriority=\"high\" class=\"figure__image\" src=\"https://knife.media/wp-content/uploads/2023/08/Vlad_Tepes_002-640x775.jpg\" alt=\"\" width=\"640\" height=\"775\" /><figcaption class=\"figure__caption\"></figcaption></figure>\n",
        "<p>С поверхности трех писем, написанных лично Владом III, извлекли тысячи фрагментов белка, и среди них не нашлось ни одного, который бы содержался в животной пище.</p>\n",
        "<figure class=\"figure figure--quote\">\n",
        "<blockquote><p>«Обнаруженные на письмах пищевые белки встречаются только в пище растительного происхождения. Прототип вампира мог быть веганом», — говорят ученые.</p></blockquote>\n",
        "</figure>\n",
        "<p>При этом они отмечают, что вряд ли правитель Валахии придерживался растительного питания по этическим соображениям. Скорее всего, рацион зависел от сурового климата, в котором он жил.</p>\n",
        "<figure class=\"figure figure--remark\">\n",
        "<blockquote><p>🩸 Ранее изучение тех же писем помогло выяснить, что у Влада III было редкое заболевание, из-за которого он <a href=\"https://knife.media/bloody-tears-dracula/\" rel=\"noopener\" target=\"_blank\">плакал</a> кровавыми слезами.</p></blockquote>\n",
        "\"\"\"\n",
        "article_drakula = re.sub('<.+?>', '', article_drakula)\n",
        "article_drakula = re.sub('[«»—🩸]', ',', article_drakula)\n",
        "punct = list(string.punctuation)\n",
        "list(tokenize(article_drakula))\n",
        "words_by_sentences = []\n",
        "sentences = list(sentenize(article_drakula))\n",
        "for sentence in sentences:\n",
        "  new_sentence = list(tokenize(list(sentence)[2]))\n",
        "  sentence_wo_punct = []\n",
        "  for word in new_sentence:\n",
        "    if list(word)[2] not in punct:\n",
        "      sentence_wo_punct.append(list(word)[2])\n",
        "  words_by_sentences.append(sentence_wo_punct)\n",
        "words_by_sentences"
      ],
      "metadata": {
        "id": "-T9r9gWshfn-",
        "colab": {
          "base_uri": "https://localhost:8080/"
        },
        "outputId": "0c8d9b07-3b41-4afd-d0b6-c5f50585904a"
      },
      "execution_count": null,
      "outputs": [
        {
          "output_type": "execute_result",
          "data": {
            "text/plain": [
              "[['Ученые',\n",
              "  'из',\n",
              "  'Италии',\n",
              "  'и',\n",
              "  'Румынии',\n",
              "  'заявили',\n",
              "  'что',\n",
              "  'Влад',\n",
              "  'III',\n",
              "  'Басараб',\n",
              "  'он',\n",
              "  'же',\n",
              "  'Влад',\n",
              "  'Цепеш',\n",
              "  'и',\n",
              "  'прототип',\n",
              "  'графа',\n",
              "  'Дракулы',\n",
              "  'мог',\n",
              "  'придерживаться',\n",
              "  'растительной',\n",
              "  'диеты'],\n",
              " ['К',\n",
              "  'такому',\n",
              "  'выводу',\n",
              "  'исследователи',\n",
              "  'пришли',\n",
              "  'когда',\n",
              "  'изучили',\n",
              "  'его',\n",
              "  'биохимические',\n",
              "  'следы'],\n",
              " ['С',\n",
              "  'поверхности',\n",
              "  'трех',\n",
              "  'писем',\n",
              "  'написанных',\n",
              "  'лично',\n",
              "  'Владом',\n",
              "  'III',\n",
              "  'извлекли',\n",
              "  'тысячи',\n",
              "  'фрагментов',\n",
              "  'белка',\n",
              "  'и',\n",
              "  'среди',\n",
              "  'них',\n",
              "  'не',\n",
              "  'нашлось',\n",
              "  'ни',\n",
              "  'одного',\n",
              "  'который',\n",
              "  'бы',\n",
              "  'содержался',\n",
              "  'в',\n",
              "  'животной',\n",
              "  'пище'],\n",
              " ['Обнаруженные',\n",
              "  'на',\n",
              "  'письмах',\n",
              "  'пищевые',\n",
              "  'белки',\n",
              "  'встречаются',\n",
              "  'только',\n",
              "  'в',\n",
              "  'пище',\n",
              "  'растительного',\n",
              "  'происхождения'],\n",
              " ['Прототип', 'вампира', 'мог', 'быть', 'веганом', 'говорят', 'ученые'],\n",
              " ['При',\n",
              "  'этом',\n",
              "  'они',\n",
              "  'отмечают',\n",
              "  'что',\n",
              "  'вряд',\n",
              "  'ли',\n",
              "  'правитель',\n",
              "  'Валахии',\n",
              "  'придерживался',\n",
              "  'растительного',\n",
              "  'питания',\n",
              "  'по',\n",
              "  'этическим',\n",
              "  'соображениям'],\n",
              " ['Скорее',\n",
              "  'всего',\n",
              "  'рацион',\n",
              "  'зависел',\n",
              "  'от',\n",
              "  'сурового',\n",
              "  'климата',\n",
              "  'в',\n",
              "  'котором',\n",
              "  'он',\n",
              "  'жил'],\n",
              " ['Ранее',\n",
              "  'изучение',\n",
              "  'тех',\n",
              "  'же',\n",
              "  'писем',\n",
              "  'помогло',\n",
              "  'выяснить',\n",
              "  'что',\n",
              "  'у',\n",
              "  'Влада',\n",
              "  'III',\n",
              "  'было',\n",
              "  'редкое',\n",
              "  'заболевание',\n",
              "  'из-за',\n",
              "  'которого',\n",
              "  'он',\n",
              "  'плакал',\n",
              "  'кровавыми',\n",
              "  'слезами']]"
            ]
          },
          "metadata": {},
          "execution_count": 26
        }
      ]
    },
    {
      "cell_type": "markdown",
      "source": [
        "С помощью регулярных выражений очистите текст от тэгов (метаинформацию внутри тэгов тоже удалите). В получившемся тексте точки не должны слипаться с началом следующего предложений, также не должно быть лишних пробелов.\n",
        "\n",
        "Затем поделите текст на предложения и сделайте список с вложенными списками слов для каждого предложения, используя цикл `for` (как мы делали на уроке, это есть в этой тетрадке). Также уберите знаки препинения (вы можете это сделать на любом этапе и с помощью любого метода). Это задание со свёздочкой. Его делать не обязательно, но оно поможет разобраться с тем, что происходило на паре."
      ],
      "metadata": {
        "id": "Xgax5ABjhxq7"
      }
    },
    {
      "cell_type": "markdown",
      "source": [
        "### 2. Замена с помощью регулярок\n",
        "Удалите теги из следующего текста. Также замените все числительные в тексте на 0. Даже если число многозначное, его нужно записать только одним нулем."
      ],
      "metadata": {
        "id": "rJfCHkZojc_s"
      }
    },
    {
      "cell_type": "code",
      "source": [
        "import re\n",
        "\n",
        "article_activity = \"\"\"Сегодняшняя заметка будет о сервисе отслеживания активности пользователя — <a href=\"http://www.crazyegg.com\" title=\"Сумасшедшие яйца\">CrazyEgg</a>. Я не знаю кому обязан сервис таким говорящим именем, но оно работает, и хорошо. Запоминается? Отлично!<br><br><img src=\"http://img172.imageshack.us/img172/8434/18274658kc4.png\" alt=\"Сумасшедшее яйцо\"><br><br><blockquote><h3>Что это такое?</h3><br>\n",
        "Как уже сказано выше это сервис для отслеживания перемещения пользователей по сайту — кто куда кликнул, какие ссылки наиболее популярные и тому подобная, разнородная информация для юзабилистов.<br>\n",
        "Сервис позволяет отслеживать активность определенных пользователей, и выводить эти данные в различных формах: «инфракрасная» — где чем активнее область, тем она «теплее», салюты (чем активнее область, тем больше конфети), простой список с сортировкой по активности, колбы (чем заполненнее колба, тем активнее область), облака (на мой взгляд наиболее удобный вариант — совмещает в себе все остальные вместе взятые).<br><br><img src=\"https://habrastorage.org/getpro/habr/post_images/7c7/298/33c/7c729833cd942cc493e68833e3e0f12d.jpg\" alt=\"Тепловое отслеживание популярности\"><br></blockquote><br><br><a name=\"habracut\"></a><br><br><blockquote><h3>Для кого это?</h3><br>\n",
        "Разумеется сервис изначально планировался как первый помощник для юзабилистов, но пользоваться им может каждый, у кого есть деньги — интуитивный интерфейс, и хороший дизайн дает о себе знать — сервис массово популяризировался пол года-год назад. Относительно недорогой, но уж точно не из дешевых — сервис предполагает собой 4 платных линии и одну бесплатную. Дабы написать этот обзор я не поленился заплатить 19 долларов (в месяц) выбрав средний вариант — для нескольких проектов с включенными дополнительными функциями.<br><br><img src=\"https://habrastorage.org/getpro/habr/post_images/0b0/0a0/b16/0b00a0b16b1eda28e35f39487dcd2545.jpg\" alt=\"Отслеживание ссылок\"></blockquote><br><blockquote><img src=\"https://habrastorage.org/getpro/habr/post_images/0b5/433/892/0b54338921665ffb5a90930147296f5b.jpg\" alt=\"Список по популярности\"><br><br>\n",
        "Да-да, сервис не бесплатен. Точнее бесплатная возможность потестировать есть, но она немного обрезана (можно отслеживать только 5000 посетителей и всего 4 страницы на сайте (внимание — 4 страницы, а не сайтов), т.е. вполне хватает для того, чтобы понять полезность сервиса). Зачем это?</h3><br>\n",
        "С помощью этого сервиса можно тасовать блоки на сайте, которые полезны пользователям больше всего. Больше не нужно спорить создателям — какой блок где расположить. В этом им поможет <a href=\"http://ttp://www.crazyegg.com\" title=\"Сумасшедшие яйца\">Сумасшедшее яйцо</a>.<br><br><img src=\"https://habrastorage.org/getpro/habr/post_images/38c/af8/e75/38caf8e753782a01dc6419d3902edd57.jpg\" alt=\"Добавление проекта\"></blockquote><br><blockquote>Также этот сервис поможет вам понять — в какой зоне сайта лучше всего располагать рекламу, когда в вашем сервисе речь зайдет о монетизации. Ведь альтруизм это хорошо, а деньги на содержание сервиса нужны, и не лишним будет вычислить зоны где реклама будет приносить наибольшую отдачу, и наименьшее раздражение у пользователей.<br><br><img src=\"https://habrastorage.org/getpro/habr/post_images/0dd/3fb/b34/0dd3fbb34709e77f3fbcd6523c7eac77.jpg\" alt=\"еще полезности\"></blockquote><br><blockquote><h3>Как это работает?</h3><br>\n",
        "Никаких километровых скриптов вставлять не нужно, достаточно вставиь 2 строчки яваскрипта, и сервис начнет отслеживание. Насколько я понял — исполнительный скрипт работает на сервере <a href=\"http://www.crazyegg.com\" title=\"Сумасшедшие яйца\">CrazyEgg</a>, поэтому ваш сайт от этого в производительности не потеряет ни секунды, а полезность довольно таки большая.<br><br><img src=\"https://habrastorage.org/getpro/habr/post_images/a90/e4e/e67/a90e4ee6760978463e6306a2f5982e24.jpg\" alt=\"управление популярностью\"></blockquote><br><blockquote><h3>Сколько это стоит?</h3><br>\n",
        "Как я уже упоминал — сервис далеко не бесплатен, хоть и имеет тестовую-бесплатную версию. Расскажу подробнее о тарификации.</blockquote><br><blockquote>1. Бесплатная тестовая версия. Включает в себя возможность отслеживания 5 000 посещений, 4 страницы на сайте.<br><br>\n",
        "2. Базовая версия. В этой версии можно отследить 10 000 посещений, и 10 страниц, что вполне достаточно для среднего корпоративного сайта. Стоит базовый комплект — 9 долларов в месяц. В этот комплект включены все дополнительные функции.<br><br>\n",
        "3. Версия «Стандарт». В неё входит возможность отслеживания 25 000 посещений на 20 страницах. Вполне подходит для тестирования нового стартапа. Стоит она 19 долларов в месяц, именно её я купил для тестирования сервиса, и написания этого обзора.<br><br>\n",
        "4. Версия «Плюс». Отличается от предыдущей возможностью отслеживания 100 000 посещений, 50 страниц. Очень хороший тариф для крупных сервисов. Стоит 49 долларов в месяц. Довольно большие деньги за сервис, но они обычно с лихвой окупаются.<br><br>\n",
        "5. Версия «Про». Стоит почти 100 долларов, имеет возможность отследить 250 000 посещений на ста страницах. Тариф подходит для монстров с большой посещаемостью и большим количеством страниц.<br><br><img src=\"https://habrastorage.org/getpro/habr/post_images/f73/fb2/62d/f73fb262da4618a8dde67690cfd191ea.jpg\" alt=\"Отслеживание статистики\"></blockquote><br><blockquote><h3>Есть и аналоги</h3><br>\n",
        "Я не поленился, и собрал еще пару ссылок с аналогами, которые предлагают такие же услуги, но немного дешевле.</blockquote><br><blockquote> 1. <a href=\"https://www.google.com/analytics/home/?hl=en\" title=\"Шикарный сбор и анализ статистики\">Google Analytics</a> — бесплатный сервис для сбора и анализа статистики, вывод статистики в наиболее наглядной форме, и без разнообразных рейтингов, счетчиков. Очень подробная и полезная вещь. Рекомендую, т.к. сам пользуюсь им для этого блога.<br><br>\n",
        "2. <a href=\"http://www.mapsurface.com/\" title=\"Сервис для отслеживания популярности блоков на сайте\">MapSurface</a> — сам еще не использовал (т.к. предпочел CrazyEgg), но врядли будучи плохим сервис собрал бы множество положительных отзывов. К сожалению он сейчас находится в статусе закрытой беты.</blockquote><br><blockquote><h3>Вывод</h3><br>\n",
        "Использовать можно, и нужно. Вот только тарифы довольно больно кусаются, но обычно эти деньги потом с лихвой отбиваются на повышении конвертации посетителей в деньги. Использовать сервис нужно для тестирования рекламных мест и удобства отдельных страниц, что помогает опять же повысить конвертацию. В общем и целом — <a href=\"http://ttp://www.crazyegg.com\">полезная вещь</a> для каждого владельца сайтов, а для юзабилиста вообще практически обязательна. К счастью для людей, которые поиздержались деньгами в этом месяце — есть полезные аналоги.<br><br><img src=\"http://img241.imageshack.us/img241/2346/confettitnml5.jpg\" alt=\"Интересная идея визуализации популярности - конфети\"></blockquote><br><br>\n",
        "Автор: <a href=\"http://www.birzool.com/\" title=\"Я пишу о юзабилити веб интерфейсов\">Ярослав Бирзул</a> (DezmASter).<br>\n",
        "Источник: <a href=\"http://www.birzool.com/crazyegg/\" title=\"Сумасшедшие яйца, первоисточник\">Блог о юзабилити веб интерфейсов</a>.<br><br>\n",
        "PS: Всех с прошедшим Новым годом! От всей души желаю вам всего самого-самого лучшего, чего вы желаете только в\n",
        "\"\"\"\n",
        "article_activity = re.sub('<.+?>', '', article_activity)\n",
        "article_activity = re.sub('[0-9]+(\\s[0-9]+)?', '0', article_activity)\n",
        "print(article_activity)"
      ],
      "metadata": {
        "id": "VypS2wSrjBTG",
        "outputId": "9c5af447-de9d-4f53-b0ea-8f45519dab48",
        "colab": {
          "base_uri": "https://localhost:8080/"
        }
      },
      "execution_count": null,
      "outputs": [
        {
          "output_type": "stream",
          "name": "stdout",
          "text": [
            "Сегодняшняя заметка будет о сервисе отслеживания активности пользователя — CrazyEgg. Я не знаю кому обязан сервис таким говорящим именем, но оно работает, и хорошо. Запоминается? Отлично!Что это такое?\n",
            "Как уже сказано выше это сервис для отслеживания перемещения пользователей по сайту — кто куда кликнул, какие ссылки наиболее популярные и тому подобная, разнородная информация для юзабилистов.\n",
            "Сервис позволяет отслеживать активность определенных пользователей, и выводить эти данные в различных формах: «инфракрасная» — где чем активнее область, тем она «теплее», салюты (чем активнее область, тем больше конфети), простой список с сортировкой по активности, колбы (чем заполненнее колба, тем активнее область), облака (на мой взгляд наиболее удобный вариант — совмещает в себе все остальные вместе взятые).Для кого это?\n",
            "Разумеется сервис изначально планировался как первый помощник для юзабилистов, но пользоваться им может каждый, у кого есть деньги — интуитивный интерфейс, и хороший дизайн дает о себе знать — сервис массово популяризировался пол года-год назад. Относительно недорогой, но уж точно не из дешевых — сервис предполагает собой 0 платных линии и одну бесплатную. Дабы написать этот обзор я не поленился заплатить 0 долларов (в месяц) выбрав средний вариант — для нескольких проектов с включенными дополнительными функциями.\n",
            "Да-да, сервис не бесплатен. Точнее бесплатная возможность потестировать есть, но она немного обрезана (можно отслеживать только 0 посетителей и всего 0 страницы на сайте (внимание — 0 страницы, а не сайтов), т.е. вполне хватает для того, чтобы понять полезность сервиса). Зачем это?\n",
            "С помощью этого сервиса можно тасовать блоки на сайте, которые полезны пользователям больше всего. Больше не нужно спорить создателям — какой блок где расположить. В этом им поможет Сумасшедшее яйцо.Также этот сервис поможет вам понять — в какой зоне сайта лучше всего располагать рекламу, когда в вашем сервисе речь зайдет о монетизации. Ведь альтруизм это хорошо, а деньги на содержание сервиса нужны, и не лишним будет вычислить зоны где реклама будет приносить наибольшую отдачу, и наименьшее раздражение у пользователей.Как это работает?\n",
            "Никаких километровых скриптов вставлять не нужно, достаточно вставиь 0 строчки яваскрипта, и сервис начнет отслеживание. Насколько я понял — исполнительный скрипт работает на сервере CrazyEgg, поэтому ваш сайт от этого в производительности не потеряет ни секунды, а полезность довольно таки большая.Сколько это стоит?\n",
            "Как я уже упоминал — сервис далеко не бесплатен, хоть и имеет тестовую-бесплатную версию. Расскажу подробнее о тарификации.0. Бесплатная тестовая версия. Включает в себя возможность отслеживания 0 посещений, 0 страницы на сайте.\n",
            "0. Базовая версия. В этой версии можно отследить 0 посещений, и 0 страниц, что вполне достаточно для среднего корпоративного сайта. Стоит базовый комплект — 0 долларов в месяц. В этот комплект включены все дополнительные функции.\n",
            "0. Версия «Стандарт». В неё входит возможность отслеживания 0 посещений на 0 страницах. Вполне подходит для тестирования нового стартапа. Стоит она 0 долларов в месяц, именно её я купил для тестирования сервиса, и написания этого обзора.\n",
            "0. Версия «Плюс». Отличается от предыдущей возможностью отслеживания 0 посещений, 0 страниц. Очень хороший тариф для крупных сервисов. Стоит 0 долларов в месяц. Довольно большие деньги за сервис, но они обычно с лихвой окупаются.\n",
            "0. Версия «Про». Стоит почти 0 долларов, имеет возможность отследить 0 посещений на ста страницах. Тариф подходит для монстров с большой посещаемостью и большим количеством страниц.Есть и аналоги\n",
            "Я не поленился, и собрал еще пару ссылок с аналогами, которые предлагают такие же услуги, но немного дешевле. 0. Google Analytics — бесплатный сервис для сбора и анализа статистики, вывод статистики в наиболее наглядной форме, и без разнообразных рейтингов, счетчиков. Очень подробная и полезная вещь. Рекомендую, т.к. сам пользуюсь им для этого блога.\n",
            "0. MapSurface — сам еще не использовал (т.к. предпочел CrazyEgg), но врядли будучи плохим сервис собрал бы множество положительных отзывов. К сожалению он сейчас находится в статусе закрытой беты.Вывод\n",
            "Использовать можно, и нужно. Вот только тарифы довольно больно кусаются, но обычно эти деньги потом с лихвой отбиваются на повышении конвертации посетителей в деньги. Использовать сервис нужно для тестирования рекламных мест и удобства отдельных страниц, что помогает опять же повысить конвертацию. В общем и целом — полезная вещь для каждого владельца сайтов, а для юзабилиста вообще практически обязательна. К счастью для людей, которые поиздержались деньгами в этом месяце — есть полезные аналоги.\n",
            "Автор: Ярослав Бирзул (DezmASter).\n",
            "Источник: Блог о юзабилити веб интерфейсов.\n",
            "PS: Всех с прошедшим Новым годом! От всей души желаю вам всего самого-самого лучшего, чего вы желаете только в\n",
            "\n"
          ]
        }
      ]
    },
    {
      "cell_type": "markdown",
      "source": [
        "### 3. Имена и фамилии\n",
        "\n",
        "Извлеките из строки все имена и фамилии людей."
      ],
      "metadata": {
        "id": "9wuuMMytlQlc"
      }
    },
    {
      "cell_type": "code",
      "source": [
        "people = 'На встрече присутствовали: профессор Владимир Успенский, физик-ядерщик Сергей Ковалев, президент клуба Владимир Медведев и космонавт Юрий Титов.'\n",
        "res = []\n",
        "names = (re.findall('[А-Я]\\w+', people))[1:]\n",
        "for i in range(0, len(names), 2):\n",
        "  res.append(tuple([names[i], names[i+1]]))\n",
        "print(res)"
      ],
      "metadata": {
        "colab": {
          "base_uri": "https://localhost:8080/"
        },
        "id": "dWqBFJD6lbwv",
        "outputId": "8cdb3478-29bb-4e4a-98f1-20b6099897ab"
      },
      "execution_count": null,
      "outputs": [
        {
          "output_type": "stream",
          "name": "stdout",
          "text": [
            "[('Владимир', 'Успенский'), ('Сергей', 'Ковалев'), ('Владимир', 'Медведев'), ('Юрий', 'Титов')]\n"
          ]
        }
      ]
    },
    {
      "cell_type": "markdown",
      "source": [
        "### 4. Мини-задачки\n",
        "\n",
        "Порешайте задачки с [сайта](https://regexone.com/lesson/introduction_abcs). Их не нужно присылать в файле с предыдущими заданиями, но подобные задания будут входить в контрольную."
      ],
      "metadata": {
        "id": "dSSDdOlVXL-Q"
      }
    }
  ]
}