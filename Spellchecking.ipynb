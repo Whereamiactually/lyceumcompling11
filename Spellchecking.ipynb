{
  "cells": [
    {
      "cell_type": "markdown",
      "metadata": {
        "id": "view-in-github",
        "colab_type": "text"
      },
      "source": [
        "<a href=\"https://colab.research.google.com/github/Whereamiactually/lyceumcompling11/blob/main/Spellchecking.ipynb\" target=\"_parent\"><img src=\"https://colab.research.google.com/assets/colab-badge.svg\" alt=\"Open In Colab\"/></a>"
      ]
    },
    {
      "cell_type": "markdown",
      "metadata": {
        "id": "wznKPP7lNbq8"
      },
      "source": [
        "# Исправление опечаток\n",
        "\n",
        "(Спасибо Михаилу Нефёдову, автору материалов, и Татьяне Казаковой)"
      ]
    },
    {
      "cell_type": "code",
      "execution_count": 1,
      "metadata": {
        "colab": {
          "base_uri": "https://localhost:8080/"
        },
        "id": "WiZOMpdENbrK",
        "outputId": "c8972778-9ce9-44bd-a6aa-8ed2b0febc57"
      },
      "outputs": [
        {
          "output_type": "stream",
          "name": "stdout",
          "text": [
            "Collecting razdel\n",
            "  Downloading razdel-0.5.0-py3-none-any.whl (21 kB)\n",
            "Requirement already satisfied: tqdm in /usr/local/lib/python3.10/dist-packages (4.66.1)\n",
            "Installing collected packages: razdel\n",
            "Successfully installed razdel-0.5.0\n"
          ]
        }
      ],
      "source": [
        "!pip install razdel tqdm"
      ]
    },
    {
      "cell_type": "code",
      "execution_count": 2,
      "metadata": {
        "id": "qFkCQftSNbrN"
      },
      "outputs": [],
      "source": [
        "import os, re\n",
        "from string import punctuation\n",
        "import numpy as np\n",
        "import json\n",
        "from collections import Counter\n",
        "from pprint import pprint\n",
        "from nltk import sent_tokenize\n",
        "punctuation += \"«»—…“”\"\n",
        "punct = set(punctuation)\n",
        "from sklearn.metrics import classification_report, accuracy_score\n",
        "from string import punctuation\n",
        "from razdel import sentenize\n",
        "from razdel import tokenize as razdel_tokenize\n",
        "import numpy as np\n",
        "from collections import Counter"
      ]
    },
    {
      "cell_type": "code",
      "execution_count": 3,
      "metadata": {
        "id": "dUvHj1QTNbrO"
      },
      "outputs": [],
      "source": [
        "# библиотека для отслеживания прогресса\n",
        "from tqdm.notebook import tqdm"
      ]
    },
    {
      "cell_type": "markdown",
      "metadata": {
        "id": "XD_y7Rk9NbrP"
      },
      "source": [
        "Возьмем данные с соревнования [Dialog Evaluation 2016](http://www.dialog-21.ru/evaluation/2016/spelling_correction/) по исправлению опечаток. Данные представляют собой набор предложений (правильное - ошибочное). Задача найти слова с ошибками и заменить их на правильный вариант.\n",
        "\n",
        "(Сейчас из данных удалены случаи, когда в словах пропущен или вставлен пробел, чтобы было проще сопоставить слова в предложении.)"
      ]
    },
    {
      "cell_type": "code",
      "source": [
        "! wget https://raw.githubusercontent.com/Whereamiactually/lyceumcompling11/main/Spellchecking/sents_with_mistakes.txt"
      ],
      "metadata": {
        "colab": {
          "base_uri": "https://localhost:8080/"
        },
        "id": "NTpTYAvgQePF",
        "outputId": "e773324d-06b5-4a99-db61-d02050a0038a"
      },
      "execution_count": 4,
      "outputs": [
        {
          "output_type": "stream",
          "name": "stdout",
          "text": [
            "--2023-10-13 11:05:19--  https://raw.githubusercontent.com/Whereamiactually/lyceumcompling11/main/Spellchecking/sents_with_mistakes.txt\n",
            "Resolving raw.githubusercontent.com (raw.githubusercontent.com)... 185.199.108.133, 185.199.109.133, 185.199.110.133, ...\n",
            "Connecting to raw.githubusercontent.com (raw.githubusercontent.com)|185.199.108.133|:443... connected.\n",
            "HTTP request sent, awaiting response... 200 OK\n",
            "Length: 122030 (119K) [text/plain]\n",
            "Saving to: ‘sents_with_mistakes.txt’\n",
            "\n",
            "\rsents_with_mistakes   0%[                    ]       0  --.-KB/s               \rsents_with_mistakes 100%[===================>] 119.17K  --.-KB/s    in 0.003s  \n",
            "\n",
            "2023-10-13 11:05:19 (41.6 MB/s) - ‘sents_with_mistakes.txt’ saved [122030/122030]\n",
            "\n"
          ]
        }
      ]
    },
    {
      "cell_type": "code",
      "source": [
        "! wget https://raw.githubusercontent.com/Whereamiactually/lyceumcompling11/main/Spellchecking/correct_sents.txt"
      ],
      "metadata": {
        "colab": {
          "base_uri": "https://localhost:8080/"
        },
        "id": "8Ic9LZUkQzk6",
        "outputId": "a4eecdac-1502-47b4-948c-381525af38df"
      },
      "execution_count": 5,
      "outputs": [
        {
          "output_type": "stream",
          "name": "stdout",
          "text": [
            "--2023-10-13 11:05:19--  https://raw.githubusercontent.com/Whereamiactually/lyceumcompling11/main/Spellchecking/correct_sents.txt\n",
            "Resolving raw.githubusercontent.com (raw.githubusercontent.com)... 185.199.110.133, 185.199.109.133, 185.199.108.133, ...\n",
            "Connecting to raw.githubusercontent.com (raw.githubusercontent.com)|185.199.110.133|:443... connected.\n",
            "HTTP request sent, awaiting response... 200 OK\n",
            "Length: 119546 (117K) [text/plain]\n",
            "Saving to: ‘correct_sents.txt’\n",
            "\n",
            "\rcorrect_sents.txt     0%[                    ]       0  --.-KB/s               \rcorrect_sents.txt   100%[===================>] 116.74K  --.-KB/s    in 0.007s  \n",
            "\n",
            "2023-10-13 11:05:19 (16.4 MB/s) - ‘correct_sents.txt’ saved [119546/119546]\n",
            "\n"
          ]
        }
      ]
    },
    {
      "cell_type": "code",
      "source": [
        "! wget https://raw.githubusercontent.com/Whereamiactually/lyceumcompling11/main/Spellchecking/test_sample_testset.txt"
      ],
      "metadata": {
        "colab": {
          "base_uri": "https://localhost:8080/"
        },
        "id": "Q6pEO_ODg5uU",
        "outputId": "fbedf3fd-536c-47d1-9cb4-9e2af8803dc7"
      },
      "execution_count": 6,
      "outputs": [
        {
          "output_type": "stream",
          "name": "stdout",
          "text": [
            "--2023-10-13 11:05:19--  https://raw.githubusercontent.com/Whereamiactually/lyceumcompling11/main/Spellchecking/test_sample_testset.txt\n",
            "Resolving raw.githubusercontent.com (raw.githubusercontent.com)... 185.199.108.133, 185.199.109.133, 185.199.110.133, ...\n",
            "Connecting to raw.githubusercontent.com (raw.githubusercontent.com)|185.199.108.133|:443... connected.\n",
            "HTTP request sent, awaiting response... 200 OK\n",
            "Length: 325681 (318K) [text/plain]\n",
            "Saving to: ‘test_sample_testset.txt’\n",
            "\n",
            "\rtest_sample_testset   0%[                    ]       0  --.-KB/s               \rtest_sample_testset 100%[===================>] 318.05K  --.-KB/s    in 0.006s  \n",
            "\n",
            "2023-10-13 11:05:20 (48.4 MB/s) - ‘test_sample_testset.txt’ saved [325681/325681]\n",
            "\n"
          ]
        }
      ]
    },
    {
      "cell_type": "code",
      "source": [
        "! wget https://raw.githubusercontent.com/Whereamiactually/lyceumcompling11/main/Spellchecking/corr_sample_testset.txt"
      ],
      "metadata": {
        "colab": {
          "base_uri": "https://localhost:8080/"
        },
        "id": "LyeFtzZPhJGy",
        "outputId": "65750b07-834b-4d83-a0c5-b40bf4afbd6a"
      },
      "execution_count": 7,
      "outputs": [
        {
          "output_type": "stream",
          "name": "stdout",
          "text": [
            "--2023-10-13 11:05:20--  https://raw.githubusercontent.com/Whereamiactually/lyceumcompling11/main/Spellchecking/corr_sample_testset.txt\n",
            "Resolving raw.githubusercontent.com (raw.githubusercontent.com)... 185.199.109.133, 185.199.108.133, 185.199.111.133, ...\n",
            "Connecting to raw.githubusercontent.com (raw.githubusercontent.com)|185.199.109.133|:443... connected.\n",
            "HTTP request sent, awaiting response... 200 OK\n",
            "Length: 326620 (319K) [text/plain]\n",
            "Saving to: ‘corr_sample_testset.txt’\n",
            "\n",
            "\rcorr_sample_testset   0%[                    ]       0  --.-KB/s               \rcorr_sample_testset 100%[===================>] 318.96K  --.-KB/s    in 0.007s  \n",
            "\n",
            "2023-10-13 11:05:20 (41.9 MB/s) - ‘corr_sample_testset.txt’ saved [326620/326620]\n",
            "\n"
          ]
        }
      ]
    },
    {
      "cell_type": "code",
      "execution_count": 8,
      "metadata": {
        "id": "NnDyLyeeNbrQ"
      },
      "outputs": [],
      "source": [
        "bad = open('sents_with_mistakes.txt', encoding = 'utf8').read().splitlines()\n",
        "good = open('correct_sents.txt', encoding = 'utf8').read().splitlines()"
      ]
    },
    {
      "cell_type": "code",
      "execution_count": 9,
      "metadata": {
        "colab": {
          "base_uri": "https://localhost:8080/"
        },
        "id": "ZdEDifEhNbrR",
        "outputId": "ab42a691-3836-44a5-8398-027559dd6456"
      },
      "outputs": [
        {
          "output_type": "execute_result",
          "data": {
            "text/plain": [
              "915"
            ]
          },
          "metadata": {},
          "execution_count": 9
        }
      ],
      "source": [
        "len(good)"
      ]
    },
    {
      "cell_type": "code",
      "execution_count": 10,
      "metadata": {
        "colab": {
          "base_uri": "https://localhost:8080/"
        },
        "id": "DyZqnj5lNbrV",
        "outputId": "587db159-14cf-4880-df68-ab19482336d1"
      },
      "outputs": [
        {
          "output_type": "stream",
          "name": "stdout",
          "text": [
            "хороше что на выходгых не было стен, только деревья да ручьи...\n",
            "хорошо что на выходных не было стен только деревья да ручьи\n"
          ]
        }
      ],
      "source": [
        "# Посмотрим на пары предложений\n",
        "print(bad[12])\n",
        "print(good[12])"
      ]
    },
    {
      "cell_type": "code",
      "execution_count": 13,
      "metadata": {
        "id": "s7yL6J_4NbrW"
      },
      "outputs": [],
      "source": [
        "# напишем функцию, которая будет сопоставлять слова в правильном и ошибочном варианте\n",
        "# разобьем предложение по пробелам и удалим пунктуацию на границах слов\n",
        "def align_words(sent_1, sent_2):\n",
        "    tokens_1 = sent_1.lower().split()\n",
        "    tokens_2 = sent_2.lower().split()\n",
        "\n",
        "    tokens_1 = [token.strip(punctuation) for token in tokens_1]\n",
        "    tokens_2 = [token.strip(punctuation) for token in tokens_2]\n",
        "\n",
        "    tokens_1 = [token for token in tokens_1 if token]\n",
        "    tokens_2 = [token for token in tokens_2 if token]\n",
        "\n",
        "    assert len(tokens_1) == len(tokens_2)\n",
        "\n",
        "    return list(zip(tokens_1, tokens_2))"
      ]
    },
    {
      "cell_type": "code",
      "execution_count": 14,
      "metadata": {
        "colab": {
          "base_uri": "https://localhost:8080/"
        },
        "id": "yI-OnZGENbrX",
        "outputId": "9db4eeea-16de-406b-efa2-1dfabede60e6"
      },
      "outputs": [
        {
          "output_type": "stream",
          "name": "stdout",
          "text": [
            "[('апофеозом', 'опофеозом'),\n",
            " ('дня', 'дня'),\n",
            " ('для', 'для'),\n",
            " ('меня', 'меня'),\n",
            " ('сегодня', 'сегодня'),\n",
            " ('стала', 'стала'),\n",
            " ('фраза', 'фраза'),\n",
            " ('услышанная', 'услышанная'),\n",
            " ('в', 'в'),\n",
            " ('новостях', 'новостях')]\n"
          ]
        }
      ],
      "source": [
        "pprint(align_words(good[1], bad[1]))"
      ]
    },
    {
      "cell_type": "markdown",
      "metadata": {
        "id": "C16J2hwlNbrY"
      },
      "source": [
        "Вытащим только неправильные варианты и заодно посчитаем процент ошибок."
      ]
    },
    {
      "cell_type": "code",
      "execution_count": 15,
      "metadata": {
        "id": "stnufWA2NbrY"
      },
      "outputs": [],
      "source": [
        "mistakes = []\n",
        "total = 0\n",
        "for i in range(len(good)):\n",
        "    word_pairs = align_words(good[i], bad[i])\n",
        "\n",
        "\n",
        "    for pair in word_pairs:\n",
        "        if pair[0] != pair[1]:\n",
        "            mistakes.append(pair)\n",
        "        total += 1"
      ]
    },
    {
      "cell_type": "code",
      "source": [
        "mistakes[:10]"
      ],
      "metadata": {
        "colab": {
          "base_uri": "https://localhost:8080/"
        },
        "id": "pO_1qtGoX3PH",
        "outputId": "dcf99b2d-bbf9-4510-cd81-ef97dd4ac194"
      },
      "execution_count": 16,
      "outputs": [
        {
          "output_type": "execute_result",
          "data": {
            "text/plain": [
              "[('симпатичнейшее', 'симпатичнейшое'),\n",
              " ('апофеозом', 'опофеозом'),\n",
              " ('поясним', 'пояним'),\n",
              " ('получатся', 'полчатся'),\n",
              " ('очень', 'оччччень'),\n",
              " ('насчет', 'нащщот'),\n",
              " ('отсутствие', 'отсуствие'),\n",
              " ('основная', 'основая'),\n",
              " ('напрасно', 'нарасно'),\n",
              " ('в', 'вобщем')]"
            ]
          },
          "metadata": {},
          "execution_count": 16
        }
      ]
    },
    {
      "cell_type": "code",
      "execution_count": 17,
      "metadata": {
        "colab": {
          "base_uri": "https://localhost:8080/"
        },
        "id": "HZ8D_QL5NbrZ",
        "outputId": "2af39462-f964-4ced-8076-73e6ef3cc944"
      },
      "outputs": [
        {
          "output_type": "stream",
          "name": "stdout",
          "text": [
            "Доля ошибок -  0.12886443221610805\n"
          ]
        }
      ],
      "source": [
        "print('Доля ошибок - ', len(mistakes) / total)"
      ]
    },
    {
      "cell_type": "markdown",
      "metadata": {
        "id": "7FcNDXBUNbrZ"
      },
      "source": [
        "Обернем в Counter, чтобы сразу увидеть частотные ошибки."
      ]
    },
    {
      "cell_type": "code",
      "execution_count": 18,
      "metadata": {
        "colab": {
          "base_uri": "https://localhost:8080/"
        },
        "id": "-oibEBSaNbra",
        "outputId": "1085770e-b94a-453f-af6a-799c8d13b108"
      },
      "outputs": [
        {
          "output_type": "execute_result",
          "data": {
            "text/plain": [
              "[(('сегодня', 'седня'), 24),\n",
              " (('вообще', 'вобще'), 18),\n",
              " (('вообще', 'ваще'), 17),\n",
              " (('естественно', 'естесственно'), 17),\n",
              " (('хочется', 'хочеться'), 16),\n",
              " (('кстати', 'кстате'), 16),\n",
              " (('очень', 'ооочень'), 14),\n",
              " (('как-то', 'както'), 9),\n",
              " (('очень', 'оооочень'), 9),\n",
              " (('это', 'ето'), 9)]"
            ]
          },
          "metadata": {},
          "execution_count": 18
        }
      ],
      "source": [
        "Counter(mistakes).most_common(10)"
      ]
    },
    {
      "cell_type": "markdown",
      "metadata": {
        "id": "7sjGNcn0Nbra"
      },
      "source": [
        "Из-за того, что процент ошибок довольно низкий, не очень выгодно будет находить исправление для каждого слова. Нужен какой-то более простой классификатор, который выделит ошибочные слова, чтобы потом только их и редактировать."
      ]
    },
    {
      "cell_type": "markdown",
      "metadata": {
        "id": "G5J5Rr9sNbrb"
      },
      "source": [
        "Самый простой способ это сделать - составить словарь правильных слов и потом сравнивать с ним. Чтобы не делать этого вручную, можно взять какой-нибудь корпус текстов, прошедщих редактуру. Тексты из Википедии для этого хорошо подходят."
      ]
    },
    {
      "cell_type": "code",
      "execution_count": 20,
      "metadata": {
        "id": "aOam_LyXNbrb"
      },
      "outputs": [],
      "source": [
        "corpus = open('wiki_data.txt', encoding = 'utf8').read()"
      ]
    },
    {
      "cell_type": "markdown",
      "metadata": {
        "id": "FicsAztLNbrc"
      },
      "source": [
        "Попробуем предсказать ошибку простым заглядыванием в словарь. Если слово не в словаре - оно неправильное."
      ]
    },
    {
      "cell_type": "code",
      "execution_count": 23,
      "metadata": {
        "id": "Sj2Fd9RRNbrc"
      },
      "outputs": [],
      "source": [
        "# создаем словарь\n",
        "vocab = Counter(re.findall('\\w+', corpus.lower()))"
      ]
    },
    {
      "cell_type": "code",
      "execution_count": 25,
      "metadata": {
        "id": "nkvLKJW3Nbrc"
      },
      "outputs": [],
      "source": [
        "def predict_mistaken(word, vocab):\n",
        "    return 0 if word in vocab else 1"
      ]
    },
    {
      "cell_type": "code",
      "execution_count": 27,
      "metadata": {
        "id": "405dyZGRNbre"
      },
      "outputs": [],
      "source": [
        "# для оценки создаем два списка y_true и y_pred\n",
        "# проходимся по предложениям\n",
        "# сопоставляем слова с помощью функции align_words\n",
        "# проходимся по парам слов и\n",
        "# если слова одинаковые добавляем в y_true 0\n",
        "# если слова разные добавляем в y_true 1\n",
        "# предказываем ошибочность слова из bad списка\n",
        "# добавляем предсказание в список y_pred\n",
        "\n",
        "y_true = []\n",
        "y_pred = []\n",
        "\n",
        "for i in range(len(good)):\n",
        "    word_pairs = align_words(good[i], bad[i])\n",
        "    for pair in word_pairs:\n",
        "        if pair[0] == pair[1]:\n",
        "            y_true.append(0)\n",
        "        else:\n",
        "            y_true.append(1)\n",
        "\n",
        "        y_pred.append(predict_mistaken(pair[1], vocab))\n"
      ]
    },
    {
      "cell_type": "code",
      "source": [
        "from sklearn import metrics\n",
        "import matplotlib.pyplot as plt"
      ],
      "metadata": {
        "id": "7DEiw9RCyaAH"
      },
      "execution_count": 32,
      "outputs": []
    },
    {
      "cell_type": "code",
      "execution_count": 30,
      "metadata": {
        "colab": {
          "base_uri": "https://localhost:8080/"
        },
        "id": "GTVuk7-DNbre",
        "outputId": "83baab4a-af8d-45f6-d32c-5acd1daaa171"
      },
      "outputs": [
        {
          "output_type": "stream",
          "name": "stdout",
          "text": [
            "              precision    recall  f1-score   support\n",
            "\n",
            "           0       0.98      0.91      0.94      8707\n",
            "           1       0.59      0.88      0.71      1288\n",
            "\n",
            "    accuracy                           0.91      9995\n",
            "   macro avg       0.79      0.90      0.83      9995\n",
            "weighted avg       0.93      0.91      0.91      9995\n",
            "\n"
          ]
        }
      ],
      "source": [
        "# оцените качество с помощью classification_report\n",
        "print(metrics.classification_report(y_true, y_pred, ))"
      ]
    },
    {
      "cell_type": "code",
      "source": [
        "disp = metrics.ConfusionMatrixDisplay.from_predictions(y_true, y_pred)\n",
        "disp.figure_.suptitle(\"Confusion Matrix\")\n",
        "print(f\"Confusion matrix:\\n{disp.confusion_matrix}\")\n",
        "\n",
        "plt.show()"
      ],
      "metadata": {
        "colab": {
          "base_uri": "https://localhost:8080/",
          "height": 549
        },
        "id": "AkSALmGNyo_m",
        "outputId": "a3a70a0f-60de-4bf9-8445-d21a5f47da5f"
      },
      "execution_count": 33,
      "outputs": [
        {
          "output_type": "stream",
          "name": "stdout",
          "text": [
            "Confusion matrix:\n",
            "[[7923  784]\n",
            " [ 149 1139]]\n"
          ]
        },
        {
          "output_type": "display_data",
          "data": {
            "text/plain": [
              "<Figure size 640x480 with 2 Axes>"
            ],
            "image/png": "[encoded data removed]"
          },
          "metadata": {}
        }
      ]
    },
    {
      "cell_type": "markdown",
      "metadata": {
        "id": "o58_wq0VNbre"
      },
      "source": [
        "### Генерация исправлений"
      ]
    },
    {
      "cell_type": "markdown",
      "metadata": {
        "id": "AkWITawUNbrf"
      },
      "source": [
        "Теперь нужно думать о том, как исправить неправильные слова. Посмотрим, как это можно делать на примере известного **алгоритма Питера Норвига**. Идея алгоритма очень простая - для каждого неправильного слова нужно сгенерировать варианты исправлений и выбрать из них тот, что есть в словаре, а если таких несколько, то выбрать наиболее вероятный.\n",
        "\n",
        "Неправильными считаются слова, которых нет в словаре (так же как в функции выше). А вероятность слова расчитывается по формуле - абсолютная частота слова в корпусе разделить на количество слов в корпусе."
      ]
    },
    {
      "cell_type": "markdown",
      "metadata": {
        "id": "TcdjIPqtNbrg"
      },
      "source": [
        "Абсолютные частоты лежат в счетчике по текстам из Википедии."
      ]
    },
    {
      "cell_type": "code",
      "execution_count": null,
      "metadata": {
        "colab": {
          "base_uri": "https://localhost:8080/"
        },
        "id": "Q8W1ohneNbrg",
        "outputId": "543800d5-6ade-40b5-e8f9-39af8ecc7868"
      },
      "outputs": [
        {
          "output_type": "execute_result",
          "data": {
            "text/plain": [
              "[('в', 267296),\n",
              " ('и', 147115),\n",
              " ('на', 81926),\n",
              " ('с', 61681),\n",
              " ('года', 43894),\n",
              " ('по', 37235),\n",
              " ('году', 32197),\n",
              " ('из', 29150),\n",
              " ('был', 23293),\n",
              " ('не', 23228)]"
            ]
          },
          "metadata": {},
          "execution_count": 53
        }
      ],
      "source": [
        "vocab.most_common(10)"
      ]
    },
    {
      "cell_type": "markdown",
      "metadata": {
        "id": "9ewGW9A4Nbrg"
      },
      "source": [
        "В вероятности они преобразуются вот такой функцией."
      ]
    },
    {
      "cell_type": "code",
      "execution_count": 34,
      "metadata": {
        "id": "H2etDtaCNbrh"
      },
      "outputs": [],
      "source": [
        "N = sum(vocab.values())\n",
        "\n",
        "def P(word, N = N):\n",
        "    return vocab[word] / N"
      ]
    },
    {
      "cell_type": "code",
      "execution_count": 36,
      "metadata": {
        "colab": {
          "base_uri": "https://localhost:8080/"
        },
        "id": "DSyCn4zJNbrh",
        "outputId": "24b7046a-e4b7-44ca-df61-9acd79a0f2d7"
      },
      "outputs": [
        {
          "output_type": "stream",
          "name": "stdout",
          "text": [
            "Введите cлово, вероятность которого хотите посмотреть в словаре: солнце\n",
            "2.4440966240624417e-05\n"
          ]
        }
      ],
      "source": [
        "word = input('Введите cлово, вероятность которого хотите посмотреть в словаре: ')\n",
        "print(P(word)) # вероятность слова по нашему словарю"
      ]
    },
    {
      "cell_type": "markdown",
      "metadata": {
        "id": "SuiIUHYNNbri"
      },
      "source": [
        "(Для того, чтобы вывести привычную десятичную дробь, можно воспользоваться строковым методом `.format` с указанием количества знаков после запятой.)"
      ]
    },
    {
      "cell_type": "code",
      "execution_count": 38,
      "metadata": {
        "colab": {
          "base_uri": "https://localhost:8080/"
        },
        "id": "9gHUwvfkNbri",
        "outputId": "ff8bf9bd-97b2-4e2e-f2f5-fad12e335549"
      },
      "outputs": [
        {
          "output_type": "stream",
          "name": "stdout",
          "text": [
            "0.000024440966241\n"
          ]
        }
      ],
      "source": [
        "print('{0:.15f}'.format(P(word)))"
      ]
    },
    {
      "cell_type": "markdown",
      "metadata": {
        "id": "MXcEY8ofNbrv"
      },
      "source": [
        "Теперь самое интересное - способ генерации вариантов исправлений. Они генерируются с помощью: **удаления, перестановки, замены, вставки**.\n",
        "\n",
        "1) **Удаление** - по очереди выбрасываем из слова 1 букву (слово - лово, сово, слво, слоо, слов);  \n",
        "2) **Перестановка** - по очереди меняем соседние буквы (слово - лсово, солво, слвоо, слоов);  \n",
        "3) **Замена** - по очереди заменям каждую букву на другую букву алфавита (слово - алово, блово, влово, глово...);  \n",
        "4) **Вставка** - по очереди вставляем между соседними буквами букву алфавита (слово - салово, сблово, свлово, сглово...).  \n",
        "\n",
        "В алгоритме два уровня генерации - сначала генерируются варианты для оригинального слова, а потом варианты для каждого варианта. Таким образом, максимальное допустимое отличие для ошибки и предсказания - 2 буквы.\n",
        "\n",
        "Оригинальный код [тут](https://norvig.com/spell-correct.html)."
      ]
    },
    {
      "cell_type": "code",
      "execution_count": 61,
      "metadata": {
        "id": "5GNz3Rg4Nbrv"
      },
      "outputs": [],
      "source": [
        "def correction(word):\n",
        "    \"Находим наиболее вероятное похожее слово\"\n",
        "    return max(candidates(word), key = P)\n",
        "\n",
        "def candidates(word):\n",
        "    \"Генерируем кандидатов на исправление\"\n",
        "    return (known([word]) or known(edits1(word)) or known(edits2(word)) or [word])\n",
        "\n",
        "def known(words):\n",
        "    \"Выбираем слова, которые есть в корпусе\"\n",
        "    return set(w for w in words if w in vocab)\n",
        "\n",
        "def edits1(word):\n",
        "    \"Создаем кандидатов, которые отличаются на одну букву\"\n",
        "    letters    = 'йцукенгшщзхъфывапролджэячсмитьбюё'\n",
        "    splits     = [(word[:i], word[i:])    for i in range(len(word) + 1)]\n",
        "    deletes    = [L + R[1:]               for L, R in splits if R]\n",
        "    transposes = [L + R[1] + R[0] + R[2:] for L, R in splits if len(R)>1]\n",
        "    replaces   = [L + c + R[1:]           for L, R in splits if R for c in letters]\n",
        "    inserts    = [L + c + R               for L, R in splits for c in letters]\n",
        "    #print(splits, deletes, transposes, replaces, inserts, sep = '\\n')\n",
        "    return set(deletes + transposes + replaces + inserts)\n",
        "\n",
        "def edits2(word):\n",
        "    \"Создаем кандидатов, которые отличаются на две буквы\"\n",
        "    #print(e2 for e1 in edits1(word) for e2 in edits1(e1))\n",
        "    return (e2 for e1 in edits1(word) for e2 in edits1(e1))"
      ]
    },
    {
      "cell_type": "markdown",
      "metadata": {
        "id": "AbDTQBSvNbrw"
      },
      "source": [
        "Попробуем исправить."
      ]
    },
    {
      "cell_type": "code",
      "source": [
        "word = input('Введите cлово, которое хотите исправить: ')"
      ],
      "metadata": {
        "colab": {
          "base_uri": "https://localhost:8080/"
        },
        "id": "TMrcOXRr4zLK",
        "outputId": "26018cb5-7232-41e7-a737-5660d1743334"
      },
      "execution_count": 58,
      "outputs": [
        {
          "name": "stdout",
          "output_type": "stream",
          "text": [
            "Введите cлово, которое хотите исправить: яблако\n"
          ]
        }
      ]
    },
    {
      "cell_type": "code",
      "execution_count": 59,
      "metadata": {
        "colab": {
          "base_uri": "https://localhost:8080/",
          "height": 177
        },
        "id": "JpZf7rIYNbrw",
        "outputId": "17a62070-b6db-4f7e-e294-b0d66f7e26c9"
      },
      "outputs": [
        {
          "output_type": "stream",
          "name": "stdout",
          "text": [
            "[('', 'яблако'), ('я', 'блако'), ('яб', 'лако'), ('ябл', 'ако'), ('ябла', 'ко'), ('яблак', 'о'), ('яблако', '')]\n",
            "['блако', 'ялако', 'ябако', 'яблко', 'яблао', 'яблак']\n",
            "['бялако', 'ялбако', 'ябалко', 'яблкао', 'яблаок']\n",
            "['йблако', 'цблако', 'ублако', 'кблако', 'еблако', 'нблако', 'гблако', 'шблако', 'щблако', 'зблако', 'хблако', 'ъблако', 'фблако', 'ыблако', 'вблако', 'аблако', 'пблако', 'рблако', 'облако', 'лблако', 'дблако', 'жблако', 'эблако', 'яблако', 'чблако', 'сблако', 'мблако', 'иблако', 'тблако', 'ьблако', 'бблако', 'юблако', 'ёблако', 'яйлако', 'яцлако', 'яулако', 'яклако', 'яелако', 'янлако', 'яглако', 'яшлако', 'ящлако', 'язлако', 'яхлако', 'яълако', 'яфлако', 'яылако', 'явлако', 'яалако', 'яплако', 'ярлако', 'яолако', 'яллако', 'ядлако', 'яжлако', 'яэлако', 'яялако', 'ячлако', 'яслако', 'ямлако', 'яилако', 'ятлако', 'яьлако', 'яблако', 'яюлако', 'яёлако', 'ябйако', 'ябцако', 'ябуако', 'ябкако', 'ябеако', 'ябнако', 'ябгако', 'ябшако', 'ябщако', 'ябзако', 'ябхако', 'ябъако', 'ябфако', 'ябыако', 'ябвако', 'ябаако', 'ябпако', 'ябрако', 'ябоако', 'яблако', 'ябдако', 'ябжако', 'ябэако', 'ябяако', 'ябчако', 'ябсако', 'ябмако', 'ябиако', 'ябтако', 'ябьако', 'яббако', 'ябюако', 'ябёако', 'яблйко', 'яблцко', 'яблуко', 'яблкко', 'яблеко', 'яблнко', 'яблгко', 'яблшко', 'яблщко', 'яблзко', 'яблхко', 'яблъко', 'яблфко', 'яблыко', 'яблвко', 'яблако', 'яблпко', 'яблрко', 'яблоко', 'ябллко', 'яблдко', 'яблжко', 'яблэко', 'ябляко', 'яблчко', 'яблско', 'яблмко', 'яблико', 'яблтко', 'яблько', 'яблбко', 'яблюко', 'яблёко', 'яблайо', 'яблацо', 'яблауо', 'яблако', 'яблаео', 'яблано', 'яблаго', 'яблашо', 'яблащо', 'яблазо', 'яблахо', 'яблаъо', 'яблафо', 'яблаыо', 'яблаво', 'яблаао', 'яблапо', 'ябларо', 'яблаоо', 'яблало', 'ябладо', 'яблажо', 'яблаэо', 'яблаяо', 'яблачо', 'ябласо', 'ябламо', 'яблаио', 'яблато', 'яблаьо', 'яблабо', 'яблаюо', 'яблаёо', 'яблакй', 'яблакц', 'яблаку', 'яблакк', 'яблаке', 'яблакн', 'яблакг', 'яблакш', 'яблакщ', 'яблакз', 'яблакх', 'яблакъ', 'яблакф', 'яблакы', 'яблакв', 'яблака', 'яблакп', 'яблакр', 'яблако', 'яблакл', 'яблакд', 'яблакж', 'яблакэ', 'яблакя', 'яблакч', 'яблакс', 'яблакм', 'яблаки', 'яблакт', 'яблакь', 'яблакб', 'яблакю', 'яблакё']\n",
            "['йяблако', 'цяблако', 'уяблако', 'кяблако', 'еяблако', 'няблако', 'гяблако', 'шяблако', 'щяблако', 'зяблако', 'хяблако', 'ъяблако', 'фяблако', 'ыяблако', 'вяблако', 'аяблако', 'пяблако', 'ряблако', 'ояблако', 'ляблако', 'дяблако', 'жяблако', 'эяблако', 'яяблако', 'чяблако', 'сяблако', 'мяблако', 'ияблако', 'тяблако', 'ьяблако', 'бяблако', 'юяблако', 'ёяблако', 'яйблако', 'яцблако', 'яублако', 'якблако', 'яеблако', 'янблако', 'ягблако', 'яшблако', 'ящблако', 'язблако', 'яхблако', 'яъблако', 'яфблако', 'яыблако', 'явблако', 'яаблако', 'япблако', 'ярблако', 'яоблако', 'ялблако', 'ядблако', 'яжблако', 'яэблако', 'яяблако', 'ячблако', 'ясблако', 'ямблако', 'яиблако', 'ятблако', 'яьблако', 'ябблако', 'яюблако', 'яёблако', 'ябйлако', 'ябцлако', 'ябулако', 'ябклако', 'ябелако', 'ябнлако', 'ябглако', 'ябшлако', 'ябщлако', 'ябзлако', 'ябхлако', 'ябълако', 'ябфлако', 'ябылако', 'ябвлако', 'ябалако', 'ябплако', 'ябрлако', 'яболако', 'ябллако', 'ябдлако', 'ябжлако', 'ябэлако', 'ябялако', 'ябчлако', 'ябслако', 'ябмлако', 'ябилако', 'ябтлако', 'ябьлако', 'ябблако', 'ябюлако', 'ябёлако', 'яблйако', 'яблцако', 'яблуако', 'яблкако', 'яблеако', 'яблнако', 'яблгако', 'яблшако', 'яблщако', 'яблзако', 'яблхако', 'яблъако', 'яблфако', 'яблыако', 'яблвако', 'яблаако', 'яблпако', 'яблрако', 'яблоако', 'ябллако', 'яблдако', 'яблжако', 'яблэако', 'ябляако', 'яблчако', 'яблсако', 'яблмако', 'яблиако', 'яблтако', 'ябльако', 'яблбако', 'яблюако', 'яблёако', 'яблайко', 'яблацко', 'яблауко', 'яблакко', 'яблаеко', 'ябланко', 'яблагко', 'яблашко', 'яблащко', 'яблазко', 'яблахко', 'яблаъко', 'яблафко', 'яблаыко', 'яблавко', 'яблаако', 'яблапко', 'ябларко', 'яблаоко', 'яблалко', 'ябладко', 'яблажко', 'яблаэко', 'яблаяко', 'яблачко', 'ябласко', 'ябламко', 'яблаико', 'яблатко', 'яблаько', 'яблабко', 'яблаюко', 'яблаёко', 'яблакйо', 'яблакцо', 'яблакуо', 'яблакко', 'яблакео', 'яблакно', 'яблакго', 'яблакшо', 'яблакщо', 'яблакзо', 'яблакхо', 'яблакъо', 'яблакфо', 'яблакыо', 'яблакво', 'яблакао', 'яблакпо', 'яблакро', 'яблакоо', 'яблакло', 'яблакдо', 'яблакжо', 'яблакэо', 'яблакяо', 'яблакчо', 'яблаксо', 'яблакмо', 'яблакио', 'яблакто', 'яблакьо', 'яблакбо', 'яблакюо', 'яблакёо', 'яблакой', 'яблакоц', 'яблакоу', 'яблакок', 'яблакое', 'яблакон', 'яблаког', 'яблакош', 'яблакощ', 'яблакоз', 'яблакох', 'яблакоъ', 'яблакоф', 'яблакоы', 'яблаков', 'яблакоа', 'яблакоп', 'яблакор', 'яблакоо', 'яблакол', 'яблакод', 'яблакож', 'яблакоэ', 'яблакоя', 'яблакоч', 'яблакос', 'яблаком', 'яблакои', 'яблакот', 'яблакоь', 'яблакоб', 'яблакою', 'яблакоё']\n",
            "CPU times: user 637 µs, sys: 1.99 ms, total: 2.63 ms\n",
            "Wall time: 2.66 ms\n"
          ]
        },
        {
          "output_type": "execute_result",
          "data": {
            "text/plain": [
              "'яблоко'"
            ],
            "application/vnd.google.colaboratory.intrinsic+json": {
              "type": "string"
            }
          },
          "metadata": {},
          "execution_count": 59
        }
      ],
      "source": [
        "%%time\n",
        "correction(word)"
      ]
    },
    {
      "cell_type": "markdown",
      "metadata": {
        "id": "dv2gFtsvNbrx"
      },
      "source": [
        "Выводов по единичным примерам не сделаешь, поэтому давайте запустим на всем нашем корпусе."
      ]
    },
    {
      "cell_type": "markdown",
      "metadata": {
        "id": "tncUTeR1Nbrx"
      },
      "source": [
        "Для оценки будем использовать три метрики:  \n",
        "1) процент правильных слов;  \n",
        "2) процент исправленных ошибок;  \n",
        "3) процент ошибочно исправленных правильных слов."
      ]
    },
    {
      "cell_type": "code",
      "execution_count": 62,
      "metadata": {
        "colab": {
          "base_uri": "https://localhost:8080/",
          "height": 49,
          "referenced_widgets": [
            "aab5f7e5430b4a7caeb33af21b4adf29",
            "bf9aa409fb894819a7c4a86a946bb2ea",
            "752401e02a914a3fa818dc9b7e71e77b",
            "3e3f9bd4f602452cb164ba70a0a1ac04",
            "dbb9572d34424aad872f7104a375de91",
            "9c72851daec04056b379ee79e7708667",
            "2b33c72d576a46ab8607aad135a71369",
            "af094b6771ed414abc5e35ef3a44c1ed",
            "1f84ec93d56b42db8a5e93a7d6865765",
            "46a9ff48e319401babc3daed07643ee1",
            "15bbae12e9d249e8a03a3b2cc1271606"
          ]
        },
        "id": "qp898XOUNbry",
        "outputId": "ee2408a2-9292-4f40-c7f8-07d81fe0e610"
      },
      "outputs": [
        {
          "output_type": "display_data",
          "data": {
            "text/plain": [
              "  0%|          | 0/915 [00:00<?, ?it/s]"
            ],
            "application/vnd.jupyter.widget-view+json": {
              "version_major": 2,
              "version_minor": 0,
              "model_id": "aab5f7e5430b4a7caeb33af21b4adf29"
            }
          },
          "metadata": {}
        }
      ],
      "source": [
        "correct = 0\n",
        "total = 0\n",
        "\n",
        "total_mistaken = 0\n",
        "mistaken_fixed = 0\n",
        "\n",
        "total_correct = 0\n",
        "correct_broken = 0\n",
        "\n",
        "cashed = {}\n",
        "for i in tqdm(range(len(good))):\n",
        "    word_pairs = align_words(good[i], bad[i])\n",
        "    for pair in word_pairs:\n",
        "        # чтобы два раза не исправлять одно и тоже слово - закешируем его\n",
        "        # перед тем как считать исправление, проверим, нет ли его в кеше\n",
        "\n",
        "        predicted = cashed.get(pair[1], correction(pair[1]))\n",
        "        cashed[pair[1]] = predicted\n",
        "\n",
        "\n",
        "        if predicted == pair[0]:\n",
        "            correct += 1\n",
        "        total += 1\n",
        "\n",
        "        if pair[0] == pair[1]:\n",
        "            total_correct += 1\n",
        "            if pair[0] !=  predicted:\n",
        "                correct_broken += 1\n",
        "        else:\n",
        "            total_mistaken += 1\n",
        "            if pair[0] == predicted:\n",
        "                mistaken_fixed += 1\n"
      ]
    },
    {
      "cell_type": "markdown",
      "metadata": {
        "id": "PVPVqmZ1Nbrz"
      },
      "source": [
        "Получается, что в целом не стало лучше. Хотя 50% опечаток исправляются корректно"
      ]
    },
    {
      "cell_type": "code",
      "execution_count": 63,
      "metadata": {
        "colab": {
          "base_uri": "https://localhost:8080/"
        },
        "id": "eg4O6JsPNbrz",
        "outputId": "571a4162-3660-4698-939b-a4d17b58d99b"
      },
      "outputs": [
        {
          "output_type": "stream",
          "name": "stdout",
          "text": [
            "0.8706353176588294\n",
            "0.5100931677018633\n",
            "0.07603077983231882\n"
          ]
        }
      ],
      "source": [
        "print(correct/total)\n",
        "print(mistaken_fixed/total_mistaken)\n",
        "print(correct_broken/total_correct)"
      ]
    },
    {
      "cell_type": "markdown",
      "metadata": {
        "id": "Iboul6rRNbr0"
      },
      "source": [
        "Ещё проблема тут в том, что алгоритм медленно работает для длинных слов."
      ]
    },
    {
      "cell_type": "code",
      "source": [
        "word = input('Введите cлово, которое хотите исправить: ')"
      ],
      "metadata": {
        "id": "rAvcNk5V9jfj"
      },
      "execution_count": null,
      "outputs": []
    },
    {
      "cell_type": "code",
      "execution_count": null,
      "metadata": {
        "colab": {
          "base_uri": "https://localhost:8080/",
          "height": 70
        },
        "id": "Y80UrLvJNbr0",
        "outputId": "50ef3d4a-e544-4846-bc4a-185ee5bbc5f7"
      },
      "outputs": [
        {
          "output_type": "stream",
          "name": "stdout",
          "text": [
            "CPU times: user 722 µs, sys: 0 ns, total: 722 µs\n",
            "Wall time: 892 µs\n"
          ]
        },
        {
          "output_type": "execute_result",
          "data": {
            "text/plain": [
              "'солнце'"
            ],
            "application/vnd.google.colaboratory.intrinsic+json": {
              "type": "string"
            }
          },
          "metadata": {},
          "execution_count": 63
        }
      ],
      "source": [
        "%%time\n",
        "correction(word)"
      ]
    },
    {
      "cell_type": "markdown",
      "metadata": {
        "id": "qUoh0Z45Nbr0"
      },
      "source": [
        "Посмотрим, как исправляются самые частотные ошибки."
      ]
    },
    {
      "cell_type": "code",
      "execution_count": null,
      "metadata": {
        "colab": {
          "base_uri": "https://localhost:8080/"
        },
        "id": "EZlXciOCNbr1",
        "outputId": "a7089800-6a74-4397-ac31-bfba8e909ce3"
      },
      "outputs": [
        {
          "output_type": "execute_result",
          "data": {
            "text/plain": [
              "[('сегодня', 'седня', 'седая'),\n",
              " ('вообще', 'вобще', 'вообще'),\n",
              " ('вообще', 'ваще', 'чаще'),\n",
              " ('естественно', 'естесственно', 'естественно'),\n",
              " ('хочется', 'хочеться', 'хочется'),\n",
              " ('кстати', 'кстате', 'кстати'),\n",
              " ('очень', 'ооочень', 'очень'),\n",
              " ('как-то', 'както', 'факто'),\n",
              " ('очень', 'оооочень', 'сорочень'),\n",
              " ('это', 'ето', 'что')]"
            ]
          },
          "metadata": {},
          "execution_count": 65
        }
      ],
      "source": [
        "[(wt[0], wt[1], correction(wt[1])) for wt, _ in Counter(mistakes).most_common(10)]"
      ]
    },
    {
      "cell_type": "markdown",
      "metadata": {
        "id": "85WL_NxWNbr1"
      },
      "source": [
        "### Метрики близости слов."
      ]
    },
    {
      "cell_type": "markdown",
      "metadata": {
        "id": "Hb_mwoXsNbr1"
      },
      "source": [
        "Вместо того, чтобы генерировать все варианты, можно искать похожие слова в словаре. Для этого нужно задать метрику похожести. Для исправления опечаток часто используются расстояния редактирования."
      ]
    },
    {
      "cell_type": "markdown",
      "metadata": {
        "id": "WfK0L8eWNbr2"
      },
      "source": [
        "Самое известное расстояние редактирования - **расстояние Левенштейна**. Тут мы не будет подробно разбирать алгоритм, можете почитать [тут](https://ru.wikipedia.org/wiki/%D0%A0%D0%B0%D1%81%D1%81%D1%82%D0%BE%D1%8F%D0%BD%D0%B8%D0%B5_%D0%9B%D0%B5%D0%B2%D0%B5%D0%BD%D1%88%D1%82%D0%B5%D0%B9%D0%BD%D0%B0), посмотреть более понятный разбор [тут](https://www.youtube.com/watch?v=MiqoA-yF-0M), а код на Python'e есть [тут](https://ru.wikibooks.org/wiki/%D0%A0%D0%B5%D0%B0%D0%BB%D0%B8%D0%B7%D0%B0%D1%86%D0%B8%D0%B8_%D0%B0%D0%BB%D0%B3%D0%BE%D1%80%D0%B8%D1%82%D0%BC%D0%BE%D0%B2/%D0%A0%D0%B0%D1%81%D1%81%D1%82%D0%BE%D1%8F%D0%BD%D0%B8%D0%B5_%D0%9B%D0%B5%D0%B2%D0%B5%D0%BD%D1%88%D1%82%D0%B5%D0%B9%D0%BD%D0%B0).\n",
        "Про самого Левенштейна можно почитать вот [тут](https://nplus1.ru/material/2017/09/25/vladimir-levenshtein).\n",
        "\n",
        "Основная идея - найти минимальное число исправлений, которое нужно сделать в слове А, чтобы получить слово Б. Причем допустимы только три вида исправлений - **удаление, вставка, замена**.\n",
        "\n",
        "Ещё есть расстояние **Дамерау-Левенштейна** - почти то же самое, только разрешена ещё **операция перестановки**."
      ]
    },
    {
      "cell_type": "markdown",
      "metadata": {
        "id": "SlNyfC4-Nbr2"
      },
      "source": [
        "Есть библиотека **textdistance**, в которой реализованы многие методы нахождения расстояний."
      ]
    },
    {
      "cell_type": "code",
      "execution_count": 64,
      "metadata": {
        "colab": {
          "base_uri": "https://localhost:8080/"
        },
        "id": "JxAyXHEoNbr2",
        "outputId": "14ea7501-3ce4-4ef1-b19d-772e1da24f90"
      },
      "outputs": [
        {
          "output_type": "stream",
          "name": "stdout",
          "text": [
            "Collecting textdistance\n",
            "  Downloading textdistance-4.6.0-py3-none-any.whl (31 kB)\n",
            "Installing collected packages: textdistance\n",
            "Successfully installed textdistance-4.6.0\n"
          ]
        }
      ],
      "source": [
        "!pip install textdistance"
      ]
    },
    {
      "cell_type": "code",
      "execution_count": 65,
      "metadata": {
        "id": "pzmIUPeyNbr2"
      },
      "outputs": [],
      "source": [
        "import textdistance"
      ]
    },
    {
      "cell_type": "code",
      "execution_count": 66,
      "metadata": {
        "id": "DsNlFSlVNbr3"
      },
      "outputs": [],
      "source": [
        "def get_closest_match_with_metric(text, lookup,topn=20, metric=textdistance.levenshtein):\n",
        "    # Counter можно использовать и с не целыми числами\n",
        "    similarities = Counter()\n",
        "\n",
        "    for word in lookup:\n",
        "        similarities[word] = metric.normalized_similarity(text, word)\n",
        "\n",
        "    return similarities.most_common(topn)"
      ]
    },
    {
      "cell_type": "code",
      "source": [
        "word = input('Введите cлово, которое хотите исправить: ')"
      ],
      "metadata": {
        "id": "Yoep47n3-2iN"
      },
      "execution_count": null,
      "outputs": []
    },
    {
      "cell_type": "code",
      "execution_count": 67,
      "metadata": {
        "scrolled": true,
        "colab": {
          "base_uri": "https://localhost:8080/"
        },
        "id": "2JDH1ZUSNbr3",
        "outputId": "7b2b94d2-faab-4448-cf09-587b52b216f2"
      },
      "outputs": [
        {
          "output_type": "stream",
          "name": "stdout",
          "text": [
            "CPU times: user 30.9 s, sys: 98.8 ms, total: 31 s\n",
            "Wall time: 34.2 s\n"
          ]
        },
        {
          "output_type": "execute_result",
          "data": {
            "text/plain": [
              "[('апофеоз', 0.8571428571428572),\n",
              " ('апофеоза', 0.75),\n",
              " ('апофеозом', 0.6666666666666667),\n",
              " ('апофеты', 0.5714285714285714),\n",
              " ('опорной', 0.5714285714285714)]"
            ]
          },
          "metadata": {},
          "execution_count": 67
        }
      ],
      "source": [
        "%%time\n",
        "get_closest_match_with_metric('опофеоз', vocab, 5, textdistance.damerau_levenshtein)"
      ]
    },
    {
      "cell_type": "markdown",
      "metadata": {
        "id": "HOtcFNU9NbsA"
      },
      "source": [
        "Спойлер: не сильно лучше работает."
      ]
    },
    {
      "cell_type": "markdown",
      "metadata": {
        "id": "q8XCAaa8NbsB"
      },
      "source": [
        "## Готовые инструменты"
      ]
    },
    {
      "cell_type": "markdown",
      "metadata": {
        "id": "yuzy-8D_NbsB"
      },
      "source": [
        "Есть несколько готовых опечаточников:  \n",
        "1) Hunspell - https://pypi.org/project/hunspell/  \n",
        "2) Jamspell - https://github.com/bakwc/JamSpell#python  \n",
        "3) Яндекс.Спеллер - https://yandex.ru/dev/speller/\n",
        "\n",
        "Если вам понадобится в серьезной задаче исправлять опечатки, то начните с них, а не с алгоритма Норвига."
      ]
    },
    {
      "cell_type": "markdown",
      "metadata": {
        "id": "j1SEH0yyNbsB"
      },
      "source": [
        "Для Яндекс Спеллера есть питоновская библиотека, которая упрощает его использование. У него есть некоторые ограничения (10 к запросов в день), но для небольших проектов этого вполне достаточно."
      ]
    },
    {
      "cell_type": "code",
      "execution_count": 69,
      "metadata": {
        "scrolled": true,
        "colab": {
          "base_uri": "https://localhost:8080/"
        },
        "id": "V6R0jfi2NbsB",
        "outputId": "a96d538b-ac81-442c-dcb4-a54af6ddeef0"
      },
      "outputs": [
        {
          "output_type": "stream",
          "name": "stdout",
          "text": [
            "Collecting pyaspeller\n",
            "  Downloading pyaspeller-1.2.0-py3-none-any.whl (12 kB)\n",
            "Requirement already satisfied: requests<3.0.0,>=2.27.1 in /usr/local/lib/python3.10/dist-packages (from pyaspeller) (2.31.0)\n",
            "Requirement already satisfied: charset-normalizer<4,>=2 in /usr/local/lib/python3.10/dist-packages (from requests<3.0.0,>=2.27.1->pyaspeller) (3.3.0)\n",
            "Requirement already satisfied: idna<4,>=2.5 in /usr/local/lib/python3.10/dist-packages (from requests<3.0.0,>=2.27.1->pyaspeller) (3.4)\n",
            "Requirement already satisfied: urllib3<3,>=1.21.1 in /usr/local/lib/python3.10/dist-packages (from requests<3.0.0,>=2.27.1->pyaspeller) (2.0.6)\n",
            "Requirement already satisfied: certifi>=2017.4.17 in /usr/local/lib/python3.10/dist-packages (from requests<3.0.0,>=2.27.1->pyaspeller) (2023.7.22)\n",
            "Installing collected packages: pyaspeller\n",
            "Successfully installed pyaspeller-1.2.0\n"
          ]
        }
      ],
      "source": [
        "!pip install pyaspeller"
      ]
    },
    {
      "cell_type": "code",
      "source": [
        "from pyaspeller import YandexSpeller\n",
        "speller = YandexSpeller()"
      ],
      "metadata": {
        "id": "OQxVyx5ETnbr"
      },
      "execution_count": 70,
      "outputs": []
    },
    {
      "cell_type": "code",
      "execution_count": null,
      "metadata": {
        "colab": {
          "base_uri": "https://localhost:8080/",
          "height": 36
        },
        "id": "xhM_ko2aNbsB",
        "outputId": "340f506b-077d-40dc-94b9-9f6e53e3afe9"
      },
      "outputs": [
        {
          "output_type": "execute_result",
          "data": {
            "text/plain": [
              "'Неправильное предложение.'"
            ],
            "application/vnd.google.colaboratory.intrinsic+json": {
              "type": "string"
            }
          },
          "metadata": {},
          "execution_count": 11
        }
      ],
      "source": [
        "# Так можно исправить предложение целиком\n",
        "fixed = speller.spelled('Нипрвильное приджлажение.')\n",
        "fixed"
      ]
    },
    {
      "cell_type": "code",
      "execution_count": null,
      "metadata": {
        "colab": {
          "base_uri": "https://localhost:8080/"
        },
        "id": "hKBgi9NzNbsB",
        "outputId": "a484fb5f-8b69-4d21-801f-e0a433f9ee69"
      },
      "outputs": [
        {
          "output_type": "stream",
          "name": "stderr",
          "text": [
            "/usr/local/lib/python3.10/dist-packages/pyaspeller/word.py:17: UserWarning: Class Word is deprecated. Use YandexSpeller().spelled(text) instead\n",
            "  warnings.warn(\"Class Word is deprecated. Use YandexSpeller().spelled(text) instead\")\n"
          ]
        },
        {
          "output_type": "stream",
          "name": "stdout",
          "text": [
            "приджлажение False предложение ['предложение', 'придлажение', 'приджложение']\n"
          ]
        }
      ],
      "source": [
        "# А так проверить и исправить отдельное слово\n",
        "from pyaspeller import Word\n",
        "check = Word('приджлажение')\n",
        "print(check.text, check.correct, check.spellsafe, check.variants)"
      ]
    },
    {
      "cell_type": "code",
      "source": [
        "fixed = speller.spelled(\"Я ничего не понимаю.\")\n",
        "fixed"
      ],
      "metadata": {
        "colab": {
          "base_uri": "https://localhost:8080/",
          "height": 35
        },
        "id": "g60kIxw8U2Us",
        "outputId": "4ced31bd-1660-4ccf-f2df-53164f10daca"
      },
      "execution_count": 71,
      "outputs": [
        {
          "output_type": "execute_result",
          "data": {
            "text/plain": [
              "'Я ничего не понимаю.'"
            ],
            "application/vnd.google.colaboratory.intrinsic+json": {
              "type": "string"
            }
          },
          "metadata": {},
          "execution_count": 71
        }
      ]
    },
    {
      "cell_type": "markdown",
      "source": [
        "И ещё один посмотрим."
      ],
      "metadata": {
        "id": "uAU25nYxT2xe"
      }
    },
    {
      "cell_type": "code",
      "source": [
        "! pip install autocorrect"
      ],
      "metadata": {
        "colab": {
          "base_uri": "https://localhost:8080/"
        },
        "id": "_6mh3cBtUTmz",
        "outputId": "4525490d-b021-47d6-ee5a-23e70b11a9da"
      },
      "execution_count": null,
      "outputs": [
        {
          "output_type": "stream",
          "name": "stdout",
          "text": [
            "Collecting autocorrect\n",
            "  Downloading autocorrect-2.6.1.tar.gz (622 kB)\n",
            "\u001b[2K     \u001b[90m━━━━━━━━━━━━━━━━━━━━━━━━━━━━━━━━━━━━━━━\u001b[0m \u001b[32m622.8/622.8 kB\u001b[0m \u001b[31m9.0 MB/s\u001b[0m eta \u001b[36m0:00:00\u001b[0m\n",
            "\u001b[?25h  Preparing metadata (setup.py) ... \u001b[?25l\u001b[?25hdone\n",
            "Building wheels for collected packages: autocorrect\n",
            "  Building wheel for autocorrect (setup.py) ... \u001b[?25l\u001b[?25hdone\n",
            "  Created wheel for autocorrect: filename=autocorrect-2.6.1-py3-none-any.whl size=622363 sha256=1716a03fed2e1e3ea9a457c2cc2b080e887a06e1f06023e32667ee8d0e030387\n",
            "  Stored in directory: /root/.cache/pip/wheels/b5/7b/6d/b76b29ce11ff8e2521c8c7dd0e5bfee4fb1789d76193124343\n",
            "Successfully built autocorrect\n",
            "Installing collected packages: autocorrect\n",
            "Successfully installed autocorrect-2.6.1\n"
          ]
        }
      ]
    },
    {
      "cell_type": "code",
      "execution_count": null,
      "metadata": {
        "id": "F1vs87BrNbsC"
      },
      "outputs": [],
      "source": [
        "from autocorrect import Speller"
      ]
    },
    {
      "cell_type": "code",
      "source": [
        "spell = Speller(lang='en')"
      ],
      "metadata": {
        "id": "OA1WWQqOT6Y9"
      },
      "execution_count": null,
      "outputs": []
    },
    {
      "cell_type": "code",
      "source": [
        "spell(\"I'm not sleapy and tehre is no place I'm giong to.\")"
      ],
      "metadata": {
        "colab": {
          "base_uri": "https://localhost:8080/",
          "height": 36
        },
        "id": "9ZlcqPnWT9Ze",
        "outputId": "c8582a37-c403-4112-cd88-f609e7fabf9e"
      },
      "execution_count": null,
      "outputs": [
        {
          "output_type": "execute_result",
          "data": {
            "text/plain": [
              "\"I'm not sleepy and there is no place I'm going to.\""
            ],
            "application/vnd.google.colaboratory.intrinsic+json": {
              "type": "string"
            }
          },
          "metadata": {},
          "execution_count": 18
        }
      ]
    },
    {
      "cell_type": "code",
      "source": [
        "%timeit spell(\"I'm not sleapy and tehre is no place I'm giong to.\")"
      ],
      "metadata": {
        "colab": {
          "base_uri": "https://localhost:8080/"
        },
        "id": "-PHlfiznT_qy",
        "outputId": "79789360-552a-4f2c-dbd7-d7f954df8559"
      },
      "execution_count": null,
      "outputs": [
        {
          "output_type": "stream",
          "name": "stdout",
          "text": [
            "521 µs ± 174 µs per loop (mean ± std. dev. of 7 runs, 1000 loops each)\n"
          ]
        }
      ]
    },
    {
      "cell_type": "code",
      "source": [
        "# Можно ускорить\n",
        "spell = Speller(fast=True)"
      ],
      "metadata": {
        "id": "il-hIWbAUCYc"
      },
      "execution_count": null,
      "outputs": []
    },
    {
      "cell_type": "code",
      "source": [
        "%timeit spell(\"I'm not sleapy and tehre is no place I'm giong to.\")"
      ],
      "metadata": {
        "colab": {
          "base_uri": "https://localhost:8080/"
        },
        "id": "ae_6jMTyUEg6",
        "outputId": "b2a29e8e-0c72-40fe-e507-3fb63271a726"
      },
      "execution_count": null,
      "outputs": [
        {
          "output_type": "stream",
          "name": "stdout",
          "text": [
            "390 µs ± 10.2 µs per loop (mean ± std. dev. of 7 runs, 1000 loops each)\n"
          ]
        }
      ]
    },
    {
      "cell_type": "markdown",
      "source": [
        "А для русского?"
      ],
      "metadata": {
        "id": "zZhkBaYMV-wC"
      }
    },
    {
      "cell_type": "code",
      "source": [
        "spell = Speller(lang='ru')"
      ],
      "metadata": {
        "id": "Lb2dzu64VCl7"
      },
      "execution_count": null,
      "outputs": []
    },
    {
      "cell_type": "code",
      "source": [
        "spell('Нипрвильное приджлажение.')"
      ],
      "metadata": {
        "colab": {
          "base_uri": "https://localhost:8080/",
          "height": 36
        },
        "id": "nggpWaV6VEkK",
        "outputId": "ebb6cfd5-9816-43eb-eb7c-cd80a2f03c1f"
      },
      "execution_count": null,
      "outputs": [
        {
          "output_type": "execute_result",
          "data": {
            "text/plain": [
              "'Првильное приджлажение.'"
            ],
            "application/vnd.google.colaboratory.intrinsic+json": {
              "type": "string"
            }
          },
          "metadata": {},
          "execution_count": 24
        }
      ]
    },
    {
      "cell_type": "markdown",
      "source": [
        "Ну вот, было неправильное, стало правильное.\n",
        "\n",
        "(в общем, используйте YandexSpeller для русского)"
      ],
      "metadata": {
        "id": "8eYb3RABVXyM"
      }
    }
  ],
  "metadata": {
    "anaconda-cloud": {},
    "kernelspec": {
      "display_name": "Python 3 (ipykernel)",
      "language": "python",
      "name": "python3"
    },
    "language_info": {
      "codemirror_mode": {
        "name": "ipython",
        "version": 3
      },
      "file_extension": ".py",
      "mimetype": "text/x-python",
      "name": "python",
      "nbconvert_exporter": "python",
      "pygments_lexer": "ipython3",
      "version": "3.10.5"
    },
    "colab": {
      "provenance": [],
      "include_colab_link": true
    },
    "widgets": {
      "application/vnd.jupyter.widget-state+json": {
        "aab5f7e5430b4a7caeb33af21b4adf29": {
          "model_module": "@jupyter-widgets/controls",
          "model_name": "HBoxModel",
          "model_module_version": "1.5.0",
          "state": {
            "_dom_classes": [],
            "_model_module": "@jupyter-widgets/controls",
            "_model_module_version": "1.5.0",
            "_model_name": "HBoxModel",
            "_view_count": null,
            "_view_module": "@jupyter-widgets/controls",
            "_view_module_version": "1.5.0",
            "_view_name": "HBoxView",
            "box_style": "",
            "children": [
              "IPY_MODEL_bf9aa409fb894819a7c4a86a946bb2ea",
              "IPY_MODEL_752401e02a914a3fa818dc9b7e71e77b",
              "IPY_MODEL_3e3f9bd4f602452cb164ba70a0a1ac04"
            ],
            "layout": "IPY_MODEL_dbb9572d34424aad872f7104a375de91"
          }
        },
        "bf9aa409fb894819a7c4a86a946bb2ea": {
          "model_module": "@jupyter-widgets/controls",
          "model_name": "HTMLModel",
          "model_module_version": "1.5.0",
          "state": {
            "_dom_classes": [],
            "_model_module": "@jupyter-widgets/controls",
            "_model_module_version": "1.5.0",
            "_model_name": "HTMLModel",
            "_view_count": null,
            "_view_module": "@jupyter-widgets/controls",
            "_view_module_version": "1.5.0",
            "_view_name": "HTMLView",
            "description": "",
            "description_tooltip": null,
            "layout": "IPY_MODEL_9c72851daec04056b379ee79e7708667",
            "placeholder": "​",
            "style": "IPY_MODEL_2b33c72d576a46ab8607aad135a71369",
            "value": "100%"
          }
        },
        "752401e02a914a3fa818dc9b7e71e77b": {
          "model_module": "@jupyter-widgets/controls",
          "model_name": "FloatProgressModel",
          "model_module_version": "1.5.0",
          "state": {
            "_dom_classes": [],
            "_model_module": "@jupyter-widgets/controls",
            "_model_module_version": "1.5.0",
            "_model_name": "FloatProgressModel",
            "_view_count": null,
            "_view_module": "@jupyter-widgets/controls",
            "_view_module_version": "1.5.0",
            "_view_name": "ProgressView",
            "bar_style": "success",
            "description": "",
            "description_tooltip": null,
            "layout": "IPY_MODEL_af094b6771ed414abc5e35ef3a44c1ed",
            "max": 915,
            "min": 0,
            "orientation": "horizontal",
            "style": "IPY_MODEL_1f84ec93d56b42db8a5e93a7d6865765",
            "value": 915
          }
        },
        "3e3f9bd4f602452cb164ba70a0a1ac04": {
          "model_module": "@jupyter-widgets/controls",
          "model_name": "HTMLModel",
          "model_module_version": "1.5.0",
          "state": {
            "_dom_classes": [],
            "_model_module": "@jupyter-widgets/controls",
            "_model_module_version": "1.5.0",
            "_model_name": "HTMLModel",
            "_view_count": null,
            "_view_module": "@jupyter-widgets/controls",
            "_view_module_version": "1.5.0",
            "_view_name": "HTMLView",
            "description": "",
            "description_tooltip": null,
            "layout": "IPY_MODEL_46a9ff48e319401babc3daed07643ee1",
            "placeholder": "​",
            "style": "IPY_MODEL_15bbae12e9d249e8a03a3b2cc1271606",
            "value": " 915/915 [02:42&lt;00:00,  5.48it/s]"
          }
        },
        "dbb9572d34424aad872f7104a375de91": {
          "model_module": "@jupyter-widgets/base",
          "model_name": "LayoutModel",
          "model_module_version": "1.2.0",
          "state": {
            "_model_module": "@jupyter-widgets/base",
            "_model_module_version": "1.2.0",
            "_model_name": "LayoutModel",
            "_view_count": null,
            "_view_module": "@jupyter-widgets/base",
            "_view_module_version": "1.2.0",
            "_view_name": "LayoutView",
            "align_content": null,
            "align_items": null,
            "align_self": null,
            "border": null,
            "bottom": null,
            "display": null,
            "flex": null,
            "flex_flow": null,
            "grid_area": null,
            "grid_auto_columns": null,
            "grid_auto_flow": null,
            "grid_auto_rows": null,
            "grid_column": null,
            "grid_gap": null,
            "grid_row": null,
            "grid_template_areas": null,
            "grid_template_columns": null,
            "grid_template_rows": null,
            "height": null,
            "justify_content": null,
            "justify_items": null,
            "left": null,
            "margin": null,
            "max_height": null,
            "max_width": null,
            "min_height": null,
            "min_width": null,
            "object_fit": null,
            "object_position": null,
            "order": null,
            "overflow": null,
            "overflow_x": null,
            "overflow_y": null,
            "padding": null,
            "right": null,
            "top": null,
            "visibility": null,
            "width": null
          }
        },
        "9c72851daec04056b379ee79e7708667": {
          "model_module": "@jupyter-widgets/base",
          "model_name": "LayoutModel",
          "model_module_version": "1.2.0",
          "state": {
            "_model_module": "@jupyter-widgets/base",
            "_model_module_version": "1.2.0",
            "_model_name": "LayoutModel",
            "_view_count": null,
            "_view_module": "@jupyter-widgets/base",
            "_view_module_version": "1.2.0",
            "_view_name": "LayoutView",
            "align_content": null,
            "align_items": null,
            "align_self": null,
            "border": null,
            "bottom": null,
            "display": null,
            "flex": null,
            "flex_flow": null,
            "grid_area": null,
            "grid_auto_columns": null,
            "grid_auto_flow": null,
            "grid_auto_rows": null,
            "grid_column": null,
            "grid_gap": null,
            "grid_row": null,
            "grid_template_areas": null,
            "grid_template_columns": null,
            "grid_template_rows": null,
            "height": null,
            "justify_content": null,
            "justify_items": null,
            "left": null,
            "margin": null,
            "max_height": null,
            "max_width": null,
            "min_height": null,
            "min_width": null,
            "object_fit": null,
            "object_position": null,
            "order": null,
            "overflow": null,
            "overflow_x": null,
            "overflow_y": null,
            "padding": null,
            "right": null,
            "top": null,
            "visibility": null,
            "width": null
          }
        },
        "2b33c72d576a46ab8607aad135a71369": {
          "model_module": "@jupyter-widgets/controls",
          "model_name": "DescriptionStyleModel",
          "model_module_version": "1.5.0",
          "state": {
            "_model_module": "@jupyter-widgets/controls",
            "_model_module_version": "1.5.0",
            "_model_name": "DescriptionStyleModel",
            "_view_count": null,
            "_view_module": "@jupyter-widgets/base",
            "_view_module_version": "1.2.0",
            "_view_name": "StyleView",
            "description_width": ""
          }
        },
        "af094b6771ed414abc5e35ef3a44c1ed": {
          "model_module": "@jupyter-widgets/base",
          "model_name": "LayoutModel",
          "model_module_version": "1.2.0",
          "state": {
            "_model_module": "@jupyter-widgets/base",
            "_model_module_version": "1.2.0",
            "_model_name": "LayoutModel",
            "_view_count": null,
            "_view_module": "@jupyter-widgets/base",
            "_view_module_version": "1.2.0",
            "_view_name": "LayoutView",
            "align_content": null,
            "align_items": null,
            "align_self": null,
            "border": null,
            "bottom": null,
            "display": null,
            "flex": null,
            "flex_flow": null,
            "grid_area": null,
            "grid_auto_columns": null,
            "grid_auto_flow": null,
            "grid_auto_rows": null,
            "grid_column": null,
            "grid_gap": null,
            "grid_row": null,
            "grid_template_areas": null,
            "grid_template_columns": null,
            "grid_template_rows": null,
            "height": null,
            "justify_content": null,
            "justify_items": null,
            "left": null,
            "margin": null,
            "max_height": null,
            "max_width": null,
            "min_height": null,
            "min_width": null,
            "object_fit": null,
            "object_position": null,
            "order": null,
            "overflow": null,
            "overflow_x": null,
            "overflow_y": null,
            "padding": null,
            "right": null,
            "top": null,
            "visibility": null,
            "width": null
          }
        },
        "1f84ec93d56b42db8a5e93a7d6865765": {
          "model_module": "@jupyter-widgets/controls",
          "model_name": "ProgressStyleModel",
          "model_module_version": "1.5.0",
          "state": {
            "_model_module": "@jupyter-widgets/controls",
            "_model_module_version": "1.5.0",
            "_model_name": "ProgressStyleModel",
            "_view_count": null,
            "_view_module": "@jupyter-widgets/base",
            "_view_module_version": "1.2.0",
            "_view_name": "StyleView",
            "bar_color": null,
            "description_width": ""
          }
        },
        "46a9ff48e319401babc3daed07643ee1": {
          "model_module": "@jupyter-widgets/base",
          "model_name": "LayoutModel",
          "model_module_version": "1.2.0",
          "state": {
            "_model_module": "@jupyter-widgets/base",
            "_model_module_version": "1.2.0",
            "_model_name": "LayoutModel",
            "_view_count": null,
            "_view_module": "@jupyter-widgets/base",
            "_view_module_version": "1.2.0",
            "_view_name": "LayoutView",
            "align_content": null,
            "align_items": null,
            "align_self": null,
            "border": null,
            "bottom": null,
            "display": null,
            "flex": null,
            "flex_flow": null,
            "grid_area": null,
            "grid_auto_columns": null,
            "grid_auto_flow": null,
            "grid_auto_rows": null,
            "grid_column": null,
            "grid_gap": null,
            "grid_row": null,
            "grid_template_areas": null,
            "grid_template_columns": null,
            "grid_template_rows": null,
            "height": null,
            "justify_content": null,
            "justify_items": null,
            "left": null,
            "margin": null,
            "max_height": null,
            "max_width": null,
            "min_height": null,
            "min_width": null,
            "object_fit": null,
            "object_position": null,
            "order": null,
            "overflow": null,
            "overflow_x": null,
            "overflow_y": null,
            "padding": null,
            "right": null,
            "top": null,
            "visibility": null,
            "width": null
          }
        },
        "15bbae12e9d249e8a03a3b2cc1271606": {
          "model_module": "@jupyter-widgets/controls",
          "model_name": "DescriptionStyleModel",
          "model_module_version": "1.5.0",
          "state": {
            "_model_module": "@jupyter-widgets/controls",
            "_model_module_version": "1.5.0",
            "_model_name": "DescriptionStyleModel",
            "_view_count": null,
            "_view_module": "@jupyter-widgets/base",
            "_view_module_version": "1.2.0",
            "_view_name": "StyleView",
            "description_width": ""
          }
        }
      }
    }
  },
  "nbformat": 4,
  "nbformat_minor": 0
}